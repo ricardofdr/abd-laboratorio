{
 "cells": [
  {
   "cell_type": "markdown",
   "id": "aac89911",
   "metadata": {},
   "source": [
    "# PARTE 3 - Treino do modelo, alternativa B"
   ]
  },
  {
   "cell_type": "markdown",
   "id": "9341c11e",
   "metadata": {},
   "source": [
    "Para este modelo, vai ser usado o dataset criado na parte 2 designado **df_offers_and_trainHistory_with_count.csv.gz** que resulta do join das tabelas trainHistory.csv.gz com offers.csv.gz para cada offer."
   ]
  },
  {
   "cell_type": "code",
   "execution_count": 103,
   "id": "8cc59a45",
   "metadata": {},
   "outputs": [],
   "source": [
    "\n",
    "# Basic imports\n",
    "\n",
    "from pyspark.sql import SparkSession\n",
    "from dotenv import load_dotenv\n",
    "load_dotenv('.env')\n",
    "import os\n",
    "from pyspark.ml.feature import VectorAssembler\n",
    "from pyspark.ml.feature import VectorAssembler, OneHotEncoder\n",
    "from pyspark.ml.classification import LinearSVC, RandomForestClassifier, GBTClassifier\n",
    "from pyspark.ml import Pipeline\n",
    "from pyspark.ml.evaluation import BinaryClassificationEvaluator\n",
    "import pyspark.sql.functions as F\n"
   ]
  },
  {
   "cell_type": "code",
   "execution_count": 104,
   "id": "20280322",
   "metadata": {},
   "outputs": [],
   "source": [
    "# Build SparkSession\n",
    "spark = SparkSession.builder.appName(\"DataPreparation\").getOrCreate()\n",
    "base_path = os.getenv('BASE_PATH')"
   ]
  },
  {
   "cell_type": "code",
   "execution_count": 105,
   "id": "5e5dea3b",
   "metadata": {},
   "outputs": [],
   "source": [
    "\n",
    "df_dataset = spark.read.csv(\n",
    "    f\"{base_path}-ml/df_offers_and_trainHistory.csv\",\n",
    "    header=True,\n",
    "    inferSchema=True\n",
    ")\n",
    "\n",
    "df_dataset = df_dataset.withColumn(\"repeater\", F.when(F.col(\"repeater\") == \"t\", 1).otherwise(0))"
   ]
  },
  {
   "cell_type": "code",
   "execution_count": 106,
   "id": "888eb704",
   "metadata": {},
   "outputs": [
    {
     "name": "stdout",
     "output_type": "stream",
     "text": [
      "root\n",
      " |-- offer: integer (nullable = true)\n",
      " |-- id: long (nullable = true)\n",
      " |-- chain: integer (nullable = true)\n",
      " |-- market: integer (nullable = true)\n",
      " |-- repeattrips: integer (nullable = true)\n",
      " |-- repeater: integer (nullable = false)\n",
      " |-- offerdate: date (nullable = true)\n",
      " |-- category: integer (nullable = true)\n",
      " |-- quantity: integer (nullable = true)\n",
      " |-- company: integer (nullable = true)\n",
      " |-- offervalue: double (nullable = true)\n",
      " |-- brand: integer (nullable = true)\n",
      "\n",
      "+-------+--------+-----+------+-----------+--------+----------+--------+--------+---------+----------+------+\n",
      "|  offer|      id|chain|market|repeattrips|repeater| offerdate|category|quantity|  company|offervalue| brand|\n",
      "+-------+--------+-----+------+-----------+--------+----------+--------+--------+---------+----------+------+\n",
      "|1208251|   86246|  205|    34|          5|       1|2013-04-24|    2202|       1|104460040|       2.0|  3718|\n",
      "|1197502|   86252|  205|    34|         16|       1|2013-03-27|    3203|       1|106414464|      0.75| 13474|\n",
      "|1197502|12682470|   18|    11|          0|       0|2013-03-28|    3203|       1|106414464|      0.75| 13474|\n",
      "|1197502|12996040|   15|     9|          0|       0|2013-03-25|    3203|       1|106414464|      0.75| 13474|\n",
      "|1204821|13089312|   15|     9|          0|       0|2013-04-01|    5619|       1|107717272|       1.5|102504|\n",
      "+-------+--------+-----+------+-----------+--------+----------+--------+--------+---------+----------+------+\n",
      "only showing top 5 rows\n",
      "\n"
     ]
    }
   ],
   "source": [
    "df_dataset.printSchema()\n",
    "df_dataset.show(5)"
   ]
  },
  {
   "cell_type": "markdown",
   "id": "185a2c99",
   "metadata": {},
   "source": [
    "Tendo em conta o schema acima do dataset, as features escolhidas foram as:\n",
    "- **offervalue** -> valor binário com o valor da oferta.\n",
    "- **category** -> category of the made offer\n",
    "- **quantity** -> quantity of the made offer\n",
    "- **brand** -> brand of the made offer\n",
    "- **company** -> company that the offer originates from."
   ]
  },
  {
   "cell_type": "markdown",
   "id": "90941e5d",
   "metadata": {},
   "source": [
    "Bellow we exclude and identify the columns that were not chosen as features"
   ]
  },
  {
   "cell_type": "code",
   "execution_count": 107,
   "id": "3e4dc3aa",
   "metadata": {},
   "outputs": [],
   "source": [
    "cols_feature = ['offervalue', 'category', 'quantity', 'brand', 'company']\n",
    "\n",
    "# # As all the columns are numerical we won't need the StringIndexer\n",
    "# index_output_cols = [x + ' Index' for x in df_dataset.columns if x not in cols_not_feature]\n",
    "# one_output_cols = [x + ' OHE' for x in df_dataset.columns if x not in cols_not_feature]\n",
    "\n",
    "# ohe_encoder = OneHotEncoder(inputCols=one_output_cols, outputCols=one_output_cols)\n",
    "vec_assembler = VectorAssembler(\n",
    "    inputCols=cols_feature,\n",
    "    outputCol='features'\n",
    ")"
   ]
  },
  {
   "cell_type": "markdown",
   "id": "c16cc8b4",
   "metadata": {},
   "source": [
    "**Treino do modelo**"
   ]
  },
  {
   "cell_type": "code",
   "execution_count": 108,
   "id": "7ff23afd",
   "metadata": {},
   "outputs": [
    {
     "name": "stdout",
     "output_type": "stream",
     "text": [
      "There are 127878 rows in the training set and 32179 rows in the validation set.\n"
     ]
    }
   ],
   "source": [
    "df_train, df_validation = df_dataset.randomSplit([0.8, 0.2], seed=42)\n",
    "\n",
    "df_train.write.mode('overwrite').option('header', 'true').option('compression', 'gzip').csv(f\"{base_path}-ml/model-B/df_train.csv.gz\")\n",
    "\n",
    "print(f'There are {df_train.count()} rows in the training set and {df_validation.count()} rows in the validation set.')"
   ]
  },
  {
   "cell_type": "code",
   "execution_count": 109,
   "id": "f103ab47",
   "metadata": {},
   "outputs": [],
   "source": [
    "df_train.write.mode('overwrite').parquet(f\"{base_path}-ml/model-B/parquet/df_train.parquet\")\n",
    "df_validation.write.mode('overwrite').parquet(f\"{base_path}-ml/model-B/parquet/df_validation.parquet\")"
   ]
  },
  {
   "cell_type": "code",
   "execution_count": 110,
   "id": "52dc4468",
   "metadata": {},
   "outputs": [],
   "source": [
    "# Linear SVC algorithm\n",
    "lsvc = LinearSVC(maxIter=100, regParam=0.05, labelCol='repeater')\n",
    "# Random Forest algorithm\n",
    "rf = RandomForestClassifier(    \n",
    "    labelCol='repeater', \n",
    "    featuresCol='features', \n",
    "    numTrees=100,           # Good number of trees\n",
    "    maxDepth=10,            # Add max depth to prevent overfitting\n",
    "    minInstancesPerNode=5,  # Minimum instances per leaf node\n",
    "    maxBins=32,             # Number of bins for discretizing continuous features\n",
    "    subsamplingRate=0.8,    # Bootstrap sampling rate\n",
    "    featureSubsetStrategy='sqrt',  # Number of features to consider at each split\n",
    "    seed=42\n",
    ")\n",
    "\n",
    "# Gradient Boosted Trees algorithm\n",
    "gbt = GBTClassifier(\n",
    "    labelCol='repeater',\n",
    "    featuresCol='features',\n",
    "    maxIter=100,\n",
    "    maxDepth=10,\n",
    "    minInstancesPerNode=5,\n",
    "    maxBins=32,\n",
    "    subsamplingRate=0.8,\n",
    "    featureSubsetStrategy='sqrt',\n",
    "    seed=42\n",
    ")"
   ]
  },
  {
   "cell_type": "code",
   "execution_count": 111,
   "id": "ed2afcfd",
   "metadata": {},
   "outputs": [],
   "source": [
    "pipeline_lsvc = Pipeline(stages=[vec_assembler, lsvc])\n",
    "pipeline_lsvc.save('data-ml/model-B/lsvc/pipeline_model_lsvc')\n",
    "\n",
    "pipeline_rf = Pipeline(stages=[vec_assembler, rf])\n",
    "pipeline_rf.save('data-ml/model-B/rf/pipeline_model_rf')\n",
    "\n",
    "pipeline_gbt = Pipeline(stages=[vec_assembler, gbt])\n",
    "pipeline_gbt.save('data-ml/model-B/gbt/pipeline_model_gbt')"
   ]
  },
  {
   "cell_type": "code",
   "execution_count": 112,
   "id": "3ab79327",
   "metadata": {},
   "outputs": [],
   "source": [
    "model_lsvc = pipeline_lsvc.fit(df_train)\n",
    "model_lsvc.save('data-ml/model-B/lsvc/model_lsvc')\n",
    "\n",
    "model_rf = pipeline_rf.fit(df_train)\n",
    "model_rf.save('data-ml/model-B/rf/model_rf')\n",
    "\n",
    "model_gbt = pipeline_gbt.fit(df_train)\n",
    "model_gbt.save('data-ml/model-B/gbt/model_gbt')"
   ]
  },
  {
   "cell_type": "markdown",
   "id": "0b19f892",
   "metadata": {},
   "source": [
    "**Model evaluation**"
   ]
  },
  {
   "cell_type": "code",
   "execution_count": 113,
   "id": "29860179",
   "metadata": {},
   "outputs": [
    {
     "name": "stdout",
     "output_type": "stream",
     "text": [
      "root\n",
      " |-- offer: integer (nullable = true)\n",
      " |-- id: long (nullable = true)\n",
      " |-- chain: integer (nullable = true)\n",
      " |-- market: integer (nullable = true)\n",
      " |-- repeattrips: integer (nullable = true)\n",
      " |-- repeater: integer (nullable = false)\n",
      " |-- offerdate: date (nullable = true)\n",
      " |-- category: integer (nullable = true)\n",
      " |-- quantity: integer (nullable = true)\n",
      " |-- company: integer (nullable = true)\n",
      " |-- offervalue: double (nullable = true)\n",
      " |-- brand: integer (nullable = true)\n",
      " |-- features: vector (nullable = true)\n",
      " |-- rawPrediction: vector (nullable = true)\n",
      " |-- prediction: double (nullable = false)\n",
      "\n",
      "+-------+---------+-----+------+-----------+--------+----------+--------+--------+---------+----------+-----+--------------------+--------------------+----------+\n",
      "|  offer|       id|chain|market|repeattrips|repeater| offerdate|category|quantity|  company|offervalue|brand|            features|       rawPrediction|prediction|\n",
      "+-------+---------+-----+------+-----------+--------+----------+--------+--------+---------+----------+-----+--------------------+--------------------+----------+\n",
      "|1194044|242248454|   64|    21|          0|       0|2013-03-06|    9909|       1|107127979|       1.0| 6732|[1.0,9909.0,1.0,6...|[1.00000002300872...|       0.0|\n",
      "|1194044|245124554|   64|    21|          0|       0|2013-03-17|    9909|       1|107127979|       1.0| 6732|[1.0,9909.0,1.0,6...|[1.00000002300872...|       0.0|\n",
      "|1194044|245179183|   70|    34|          3|       1|2013-04-02|    9909|       1|107127979|       1.0| 6732|[1.0,9909.0,1.0,6...|[1.00000002300872...|       0.0|\n",
      "+-------+---------+-----+------+-----------+--------+----------+--------+--------+---------+----------+-----+--------------------+--------------------+----------+\n",
      "only showing top 3 rows\n",
      "\n"
     ]
    }
   ],
   "source": [
    "df_predictions_lsvc = model_lsvc.transform(df_validation)\n",
    "df_predictions_lsvc.printSchema()\n",
    "df_predictions_lsvc.show(3)"
   ]
  },
  {
   "cell_type": "code",
   "execution_count": 114,
   "id": "6e0a8f91",
   "metadata": {},
   "outputs": [
    {
     "name": "stdout",
     "output_type": "stream",
     "text": [
      "root\n",
      " |-- offer: integer (nullable = true)\n",
      " |-- id: long (nullable = true)\n",
      " |-- chain: integer (nullable = true)\n",
      " |-- market: integer (nullable = true)\n",
      " |-- repeattrips: integer (nullable = true)\n",
      " |-- repeater: integer (nullable = false)\n",
      " |-- offerdate: date (nullable = true)\n",
      " |-- category: integer (nullable = true)\n",
      " |-- quantity: integer (nullable = true)\n",
      " |-- company: integer (nullable = true)\n",
      " |-- offervalue: double (nullable = true)\n",
      " |-- brand: integer (nullable = true)\n",
      " |-- features: vector (nullable = true)\n",
      " |-- rawPrediction: vector (nullable = true)\n",
      " |-- probability: vector (nullable = true)\n",
      " |-- prediction: double (nullable = false)\n",
      "\n",
      "+-------+---------+-----+------+-----------+--------+----------+--------+--------+---------+----------+-----+--------------------+--------------------+--------------------+----------+\n",
      "|  offer|       id|chain|market|repeattrips|repeater| offerdate|category|quantity|  company|offervalue|brand|            features|       rawPrediction|         probability|prediction|\n",
      "+-------+---------+-----+------+-----------+--------+----------+--------+--------+---------+----------+-----+--------------------+--------------------+--------------------+----------+\n",
      "|1194044|242248454|   64|    21|          0|       0|2013-03-06|    9909|       1|107127979|       1.0| 6732|[1.0,9909.0,1.0,6...|[58.2442487915977...|[0.58244248791597...|       0.0|\n",
      "|1194044|245124554|   64|    21|          0|       0|2013-03-17|    9909|       1|107127979|       1.0| 6732|[1.0,9909.0,1.0,6...|[58.2442487915977...|[0.58244248791597...|       0.0|\n",
      "|1194044|245179183|   70|    34|          3|       1|2013-04-02|    9909|       1|107127979|       1.0| 6732|[1.0,9909.0,1.0,6...|[58.2442487915977...|[0.58244248791597...|       0.0|\n",
      "+-------+---------+-----+------+-----------+--------+----------+--------+--------+---------+----------+-----+--------------------+--------------------+--------------------+----------+\n",
      "only showing top 3 rows\n",
      "\n"
     ]
    }
   ],
   "source": [
    "df_predictions_rf = model_rf.transform(df_validation)\n",
    "df_predictions_rf.printSchema()\n",
    "df_predictions_rf.show(3)"
   ]
  },
  {
   "cell_type": "code",
   "execution_count": 115,
   "id": "a36af3b6",
   "metadata": {},
   "outputs": [
    {
     "name": "stdout",
     "output_type": "stream",
     "text": [
      "root\n",
      " |-- offer: integer (nullable = true)\n",
      " |-- id: long (nullable = true)\n",
      " |-- chain: integer (nullable = true)\n",
      " |-- market: integer (nullable = true)\n",
      " |-- repeattrips: integer (nullable = true)\n",
      " |-- repeater: integer (nullable = false)\n",
      " |-- offerdate: date (nullable = true)\n",
      " |-- category: integer (nullable = true)\n",
      " |-- quantity: integer (nullable = true)\n",
      " |-- company: integer (nullable = true)\n",
      " |-- offervalue: double (nullable = true)\n",
      " |-- brand: integer (nullable = true)\n",
      " |-- features: vector (nullable = true)\n",
      " |-- rawPrediction: vector (nullable = true)\n",
      " |-- probability: vector (nullable = true)\n",
      " |-- prediction: double (nullable = false)\n",
      "\n",
      "+-------+---------+-----+------+-----------+--------+----------+--------+--------+---------+----------+-----+--------------------+--------------------+--------------------+----------+\n",
      "|  offer|       id|chain|market|repeattrips|repeater| offerdate|category|quantity|  company|offervalue|brand|            features|       rawPrediction|         probability|prediction|\n",
      "+-------+---------+-----+------+-----------+--------+----------+--------+--------+---------+----------+-----+--------------------+--------------------+--------------------+----------+\n",
      "|1194044|242248454|   64|    21|          0|       0|2013-03-06|    9909|       1|107127979|       1.0| 6732|[1.0,9909.0,1.0,6...|[-0.0124973983775...|[0.49375162610854...|       1.0|\n",
      "|1194044|245124554|   64|    21|          0|       0|2013-03-17|    9909|       1|107127979|       1.0| 6732|[1.0,9909.0,1.0,6...|[-0.0124973983775...|[0.49375162610854...|       1.0|\n",
      "|1194044|245179183|   70|    34|          3|       1|2013-04-02|    9909|       1|107127979|       1.0| 6732|[1.0,9909.0,1.0,6...|[-0.0124973983775...|[0.49375162610854...|       1.0|\n",
      "+-------+---------+-----+------+-----------+--------+----------+--------+--------+---------+----------+-----+--------------------+--------------------+--------------------+----------+\n",
      "only showing top 3 rows\n",
      "\n"
     ]
    }
   ],
   "source": [
    "df_predictions_gbt = model_gbt.transform(df_validation)\n",
    "df_predictions_gbt.printSchema()\n",
    "df_predictions_gbt.show(3)"
   ]
  },
  {
   "cell_type": "code",
   "execution_count": 116,
   "id": "5c1d6cc0",
   "metadata": {},
   "outputs": [
    {
     "name": "stdout",
     "output_type": "stream",
     "text": [
      "Area Under ROC (LSVC): 0.566224110451648 with 32179 rows\n",
      "Area Under ROC (RF): 0.6472421197329993 with 32179 rows\n",
      "Area Under ROC (GBT): 0.6759872730209203 with 32179 rows\n"
     ]
    }
   ],
   "source": [
    "df_predictions_eval_lsvc = df_predictions_lsvc.select('features', 'rawPrediction', 'prediction', 'repeater')\n",
    "df_predictions_eval_rf = df_predictions_rf.select('features', 'rawPrediction', 'prediction', 'repeater')\n",
    "df_predictions_eval_gbt = df_predictions_gbt.select('features', 'rawPrediction', 'prediction', 'repeater')\n",
    "\n",
    "binary_evaluator = BinaryClassificationEvaluator(\n",
    "    labelCol='repeater',\n",
    "    rawPredictionCol='rawPrediction',\n",
    "    metricName='areaUnderROC'\n",
    ")\n",
    "\n",
    "area_under_roc_lsvc = binary_evaluator.evaluate(df_predictions_eval_lsvc)\n",
    "area_under_roc_rf = binary_evaluator.evaluate(df_predictions_eval_rf)\n",
    "area_under_roc_gbt = binary_evaluator.evaluate(df_predictions_eval_gbt)\n",
    "\n",
    "print(f\"Area Under ROC (LSVC): {area_under_roc_lsvc} with {df_predictions_eval_lsvc.count()} rows\")\n",
    "print(f\"Area Under ROC (RF): {area_under_roc_rf} with {df_predictions_eval_rf.count()} rows\")\n",
    "print(f\"Area Under ROC (GBT): {area_under_roc_gbt} with {df_predictions_eval_gbt.count()} rows\")"
   ]
  },
  {
   "cell_type": "code",
   "execution_count": 117,
   "id": "f3ae9c33",
   "metadata": {},
   "outputs": [
    {
     "name": "stdout",
     "output_type": "stream",
     "text": [
      "Confusion Matrix for LSVC:\n",
      "+--------+----------+-----+\n",
      "|repeater|prediction|count|\n",
      "+--------+----------+-----+\n",
      "|       1|       0.0| 8725|\n",
      "|       0|       0.0|23454|\n",
      "+--------+----------+-----+\n",
      "\n",
      "Confusion Matrix for RF:\n",
      "+--------+----------+-----+\n",
      "|repeater|prediction|count|\n",
      "+--------+----------+-----+\n",
      "|       1|       0.0| 8725|\n",
      "|       0|       0.0|23454|\n",
      "+--------+----------+-----+\n",
      "\n",
      "Confusion Matrix for GBT:\n",
      "+--------+----------+-----+\n",
      "|repeater|prediction|count|\n",
      "+--------+----------+-----+\n",
      "|       1|       0.0| 8059|\n",
      "|       0|       0.0|22820|\n",
      "|       1|       1.0|  666|\n",
      "|       0|       1.0|  634|\n",
      "+--------+----------+-----+\n",
      "\n"
     ]
    }
   ],
   "source": [
    "print(\"Confusion Matrix for LSVC:\")\n",
    "df_confusion_matrix_lsvc = df_predictions_eval_lsvc.groupBy('repeater', 'prediction').count()\n",
    "df_confusion_matrix_lsvc.show()\n",
    "\n",
    "print(\"Confusion Matrix for RF:\")\n",
    "df_confusion_matrix_rf = df_predictions_eval_rf.groupBy('repeater', 'prediction').count()\n",
    "df_confusion_matrix_rf.show()\n",
    "\n",
    "print(\"Confusion Matrix for GBT:\")\n",
    "df_confusion_matrix_gbt = df_predictions_eval_gbt.groupBy('repeater', 'prediction').count()\n",
    "df_confusion_matrix_gbt.show()"
   ]
  },
  {
   "cell_type": "code",
   "execution_count": 118,
   "id": "a3ee9ca0",
   "metadata": {},
   "outputs": [
    {
     "name": "stdout",
     "output_type": "stream",
     "text": [
      "Confusion Matrix (LSVC): {'TP': 0, 'TN': 23454, 'FP': 0, 'FN': 8725}\n",
      "Confusion Matrix (RF): {'TP': 0, 'TN': 23454, 'FP': 0, 'FN': 8725}\n",
      "Confusion Matrix (GBT): {'TP': 666, 'TN': 22820, 'FP': 634, 'FN': 8059}\n"
     ]
    }
   ],
   "source": [
    "# Compute the confusion matrix for LSVC\n",
    "tp = df_confusion_matrix_lsvc.filter((df_confusion_matrix_lsvc.repeater == 1) & (df_confusion_matrix_lsvc.prediction == 1)).select('count').first()\n",
    "tn = df_confusion_matrix_lsvc.filter((df_confusion_matrix_lsvc.repeater == 0) & (df_confusion_matrix_lsvc.prediction == 0)).select('count').first()\n",
    "fp = df_confusion_matrix_lsvc.filter((df_confusion_matrix_lsvc.repeater == 0) & (df_confusion_matrix_lsvc.prediction == 1)).select('count').first()\n",
    "fn = df_confusion_matrix_lsvc.filter((df_confusion_matrix_lsvc.repeater == 1) & (df_confusion_matrix_lsvc.prediction == 0)).select('count').first()\n",
    "confmat = {'TP': 0, 'TN': 0, 'FP': 0, 'FN': 0}\n",
    "if (tp):\n",
    "    confmat['TP'] = tp['count'] * 1\n",
    "if (tn):\n",
    "    confmat['TN'] = tn['count'] * 1\n",
    "if (fp):    \n",
    "    confmat['FP'] = fp['count'] * 1\n",
    "if (fn):\n",
    "    confmat['FN'] = fn['count'] * 1\n",
    "\n",
    "# Compute the confusion matrix for RF\n",
    "tp_rf = df_confusion_matrix_rf.filter((df_confusion_matrix_rf.repeater == 1) & (df_confusion_matrix_rf.prediction == 1)).select('count').first()\n",
    "tn_rf = df_confusion_matrix_rf.filter((df_confusion_matrix_rf.repeater == 0) & (df_confusion_matrix_rf.prediction == 0)).select('count').first()\n",
    "fp_rf = df_confusion_matrix_rf.filter((df_confusion_matrix_rf.repeater == 0) & (df_confusion_matrix_rf.prediction == 1)).select('count').first()\n",
    "fn_rf = df_confusion_matrix_rf.filter((df_confusion_matrix_rf.repeater == 1) & (df_confusion_matrix_rf.prediction == 0)).select('count').first()\n",
    "confmat_rf = {'TP': 0, 'TN': 0, 'FP': 0, 'FN': 0}\n",
    "if (tp_rf):\n",
    "    confmat_rf['TP'] = tp_rf['count'] * 1\n",
    "if (tn_rf):\n",
    "    confmat_rf['TN'] = tn_rf['count'] * 1\n",
    "if (fp_rf):\n",
    "    confmat_rf['FP'] = fp_rf['count'] * 1\n",
    "if (fn_rf):\n",
    "    confmat_rf['FN'] = fn_rf['count'] * 1\n",
    "\n",
    "# Compute the confusion matrix for GBT\n",
    "tp_gbt = df_confusion_matrix_gbt.filter((df_confusion_matrix_gbt.repeater == 1) & (df_confusion_matrix_gbt.prediction == 1)).select('count').first()\n",
    "tn_gbt = df_confusion_matrix_gbt.filter((df_confusion_matrix_gbt.repeater == 0) & (df_confusion_matrix_gbt.prediction == 0)).select('count').first()\n",
    "fp_gbt = df_confusion_matrix_gbt.filter((df_confusion_matrix_gbt.repeater == 0) & (df_confusion_matrix_gbt.prediction == 1)).select('count').first()\n",
    "fn_gbt = df_confusion_matrix_gbt.filter((df_confusion_matrix_gbt.repeater == 1) & (df_confusion_matrix_gbt.prediction == 0)).select('count').first()\n",
    "confmat_gbt = {'TP': 0, 'TN': 0, 'FP': 0, 'FN': 0}\n",
    "if (tp_gbt):\n",
    "    confmat_gbt['TP'] = tp_gbt['count'] * 1\n",
    "if (tn_gbt):\n",
    "    confmat_gbt['TN'] = tn_gbt['count'] * 1\n",
    "if (fp_gbt):\n",
    "    confmat_gbt['FP'] = fp_gbt['count'] * 1\n",
    "if (fn_gbt):\n",
    "    confmat_gbt['FN'] = fn_gbt['count'] * 1\n",
    "    \n",
    "print(f\"Confusion Matrix (LSVC): {confmat}\")\n",
    "print(f\"Confusion Matrix (RF): {confmat_rf}\")\n",
    "print(f\"Confusion Matrix (GBT): {confmat_gbt}\")"
   ]
  },
  {
   "cell_type": "code",
   "execution_count": 120,
   "id": "f7d3978a",
   "metadata": {},
   "outputs": [
    {
     "name": "stdout",
     "output_type": "stream",
     "text": [
      "Evaluation Metrics for LSVC:\n",
      "Accuracy: 0.7288604369309177\n",
      "Precision: 0\n",
      "Recall: 0.0\n",
      "Specificity: 1.0\n",
      "F1 Score: 0\n",
      "\n",
      "\n",
      "Evaluation Metrics for RF:\n",
      "Accuracy: 0.7288604369309177\n",
      "Precision: 0\n",
      "Recall: 0.0\n",
      "Specificity: 1.0\n",
      "F1 Score: 0\n",
      "\n",
      "\n",
      "Evaluation Metrics for GBT:\n",
      "Accuracy: 0.7298548742969017\n",
      "Precision: 0.5123076923076924\n",
      "Recall: 0.0763323782234957\n",
      "Specificity: 0.9729683636053552\n",
      "F1 Score: 0.13286783042394015\n"
     ]
    }
   ],
   "source": [
    "\n",
    "accuracy = (confmat['TP'] + confmat['TN']) / (confmat['TP'] + confmat['TN'] + confmat['FP'] + confmat['FN'])\n",
    "precision = (confmat['TP']) / (confmat['TP'] + confmat['FP']) if (confmat['TP'] + confmat['FP']) > 0 else 0\n",
    "recall = confmat['TP'] / (confmat['TP'] + confmat['FN']) if (confmat['TP'] + confmat['FN']) > 0 else 0\n",
    "specificity = confmat['TN'] / (confmat['TN'] + confmat['FP']) if (confmat['TN'] + confmat['FP']) > 0 else 0\n",
    "fiscore = 2 * (precision * recall) / (precision + recall) if (precision + recall) > 0 else 0\n",
    "\n",
    "print(\"Evaluation Metrics for LSVC:\")\n",
    "print(f\"Accuracy: {accuracy}\")\n",
    "print(f\"Precision: {precision}\")\n",
    "print(f\"Recall: {recall}\")\n",
    "print(f\"Specificity: {specificity}\")\n",
    "print(f\"F1 Score: {fiscore}\")\n",
    "\n",
    "accuracy_rf = (confmat_rf['TP'] + confmat_rf['TN']) / (confmat_rf['TP'] + confmat_rf['TN'] + confmat_rf['FP'] + confmat_rf['FN'])\n",
    "precision_rf = (confmat_rf['TP']) / (confmat_rf['TP'] + confmat_rf['FP']) if (confmat_rf['TP'] + confmat_rf['FP']) > 0 else 0\n",
    "recall_rf = confmat_rf['TP'] / (confmat_rf['TP'] + confmat_rf['FN']) if (confmat_rf['TP'] + confmat_rf['FN']) > 0 else 0\n",
    "specificity_rf = confmat_rf['TN'] / (confmat_rf['TN'] + confmat_rf['FP']) if (confmat_rf['TN'] + confmat_rf['FP']) > 0 else 0\n",
    "fiscore_rf = 2 * (precision_rf * recall_rf) / (precision_rf + recall_rf) if (precision_rf + recall_rf) > 0 else 0\n",
    "print(\"\\n\\nEvaluation Metrics for RF:\")\n",
    "print(f\"Accuracy: {accuracy_rf}\")\n",
    "print(f\"Precision: {precision_rf}\")\n",
    "print(f\"Recall: {recall_rf}\")\n",
    "print(f\"Specificity: {specificity_rf}\")\n",
    "print(f\"F1 Score: {fiscore_rf}\")\n",
    "\n",
    "\n",
    "accuracy_gbt = (confmat_gbt['TP'] + confmat_gbt['TN']) / (confmat_gbt['TP'] + confmat_gbt['TN'] + confmat_gbt['FP'] + confmat_gbt['FN'])\n",
    "precision_gbt = (confmat_gbt['TP']) / (confmat_gbt['TP'] + confmat_gbt['FP']) if (confmat_gbt['TP'] + confmat_gbt['FP']) > 0 else 0\n",
    "recall_gbt = confmat_gbt['TP'] / (confmat_gbt['TP'] + confmat_gbt['FN']) if (confmat_gbt['TP'] + confmat_gbt['FN']) > 0 else 0\n",
    "specificity_gbt = confmat_gbt['TN'] / (confmat_gbt['TN'] + confmat_gbt['FP']) if (confmat_gbt['TN'] + confmat_gbt['FP']) > 0 else 0\n",
    "fiscore_gbt = 2 * (precision_gbt * recall_gbt) / (precision_gbt + recall_gbt) if (precision_gbt + recall_gbt) > 0 else 0\n",
    "print(\"\\n\\nEvaluation Metrics for GBT:\")\n",
    "print(f\"Accuracy: {accuracy_gbt}\")\n",
    "print(f\"Precision: {precision_gbt}\")\n",
    "print(f\"Recall: {recall_gbt}\")\n",
    "print(f\"Specificity: {specificity_gbt}\")\n",
    "print(f\"F1 Score: {fiscore_gbt}\")\n",
    "  "
   ]
  },
  {
   "cell_type": "markdown",
   "id": "59dd32fa",
   "metadata": {},
   "source": [
    "What These Results Mean:\n",
    "Precision = 1.0 & Specificity = 1.0\n",
    "Your model is extremely conservative - when it predicts someone is a repeater, it's always right\n",
    "It correctly identifies 100% of non-repeaters\n",
    "BUT this suggests the model rarely predicts positive cases\n",
    "Recall = 0.013 (1.3%)\n",
    "Your model is missing 98.7% of actual repeaters\n",
    "It's only catching about 1 in 77 real repeat customers\n",
    "F1 Score = 0.026 (2.6%)\n",
    "This very low score confirms the model is practically useless for finding repeaters\n",
    "Root Cause Analysis:\n",
    "This pattern typically indicates:\n",
    "\n",
    "Severe Class Imbalance: You likely have very few repeaters (positive cases) in your dataset\n",
    "Conservative Model: The model learned to almost always predict \"not a repeater\" to maximize accuracy\n",
    "Feature Issues: The features may not be discriminative enough"
   ]
  },
  {
   "cell_type": "markdown",
   "id": "fa545f04",
   "metadata": {},
   "source": [
    "LSVC and Random Forest Results:\n",
    "Precision = 0, Recall = 0, F1 = 0: These models predict ZERO repeaters - they classify everyone as non-repeaters\n",
    "Specificity = 1.0: Perfect at identifying non-repeaters (because they never predict repeaters)\n",
    "Accuracy ≈ 0.729: This just reflects your class distribution - about 73% of your data are non-repeaters\n",
    "GBT (Gradient Boosted Trees) Results:\n",
    "Precision = 0.512: When it predicts someone is a repeater, it's right about 51% of the time\n",
    "Recall = 0.076: It only catches 7.6% of actual repeaters\n",
    "F1 = 0.133: Still poor overall performance, but at least it's trying to predict some repeaters"
   ]
  },
  {
   "cell_type": "markdown",
   "id": "a4ff942a",
   "metadata": {},
   "source": [
    "Acho que o problema é que estamos a tentar prever compradores apenas com base no historico de ofertas e ofertas que levaram a comprar novamente e as\n",
    "suas caracteristicas o que pode nao ser suficiente."
   ]
  }
 ],
 "metadata": {
  "kernelspec": {
   "display_name": "vscode_pyspark",
   "language": "python",
   "name": "vscode_pyspark"
  },
  "language_info": {
   "codemirror_mode": {
    "name": "ipython",
    "version": 3
   },
   "file_extension": ".py",
   "mimetype": "text/x-python",
   "name": "python",
   "nbconvert_exporter": "python",
   "pygments_lexer": "ipython3",
   "version": "3.11.11"
  }
 },
 "nbformat": 4,
 "nbformat_minor": 5
}
