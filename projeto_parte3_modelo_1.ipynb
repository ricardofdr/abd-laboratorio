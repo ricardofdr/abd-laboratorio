{
 "cells": [
  {
   "cell_type": "markdown",
   "id": "aac89911",
   "metadata": {},
   "source": [
    "#Construção de um modelo 1"
   ]
  },
  {
   "cell_type": "markdown",
   "id": "9341c11e",
   "metadata": {},
   "source": [
    "Para este modelo, vai ser usado o dataset criado na parte 2 designado **df_offers_and_trainHistory_with_count.csv.gz** que resulta do join das tabelas trainHistory.csv.gz com offers.csv.gz para cada offer."
   ]
  },
  {
   "cell_type": "code",
   "execution_count": 3,
   "id": "8cc59a45",
   "metadata": {},
   "outputs": [],
   "source": [
    "# Basic imports\n",
    "\n",
    "\n",
    "# Basic imports\n",
    "\n",
    "import json\n",
    "from pathlib import Path\n",
    "import pyspark\n",
    "from pyspark.sql import SparkSession\n",
    "import pyspark.sql.functions as F\n",
    "from dotenv import load_dotenv\n",
    "load_dotenv('.env')\n",
    "import os\n",
    "import plotly.graph_objects as go\n",
    "\n",
    "from dotenv import load_dotenv\n",
    "import os\n",
    "import csv\n",
    "import os\n",
    "import datetime\n",
    "from pyspark.sql.types import StructType, StructField, StringType, IntegerType, DoubleType\n",
    "from pyspark.sql.functions import col, when, lit, to_date, datediff\n",
    "from pyspark.ml.feature import VectorAssembler\n",
    "from pyspark.ml.classification import LogisticRegression, RandomForestClassifier, GBTClassifier, LinearSVC, DecisionTreeClassifier\n",
    "from pyspark.ml.evaluation import BinaryClassificationEvaluator\n",
    "from pyspark.ml.tuning import CrossValidator, ParamGridBuilder\n",
    "from pyspark.ml.stat import Correlation\n",
    "from pyspark.ml.feature import VectorAssembler\n",
    "import plotly.express as px\n",
    "import plotly.express as px\n",
    "import pandas as pd\n"
   ]
  },
  {
   "cell_type": "code",
   "execution_count": 4,
   "id": "20280322",
   "metadata": {},
   "outputs": [],
   "source": [
    "# Build SparkSession\n",
    "spark = SparkSession.builder.appName(\"DataPreparation\").getOrCreate()\n",
    "base_path = os.getenv('BASE_PATH')"
   ]
  },
  {
   "cell_type": "code",
   "execution_count": 10,
   "id": "5e5dea3b",
   "metadata": {},
   "outputs": [],
   "source": [
    "df_dataset = spark.read.csv(\n",
    "    f\"{base_path}/improved/df_offers_and_trainHistory.csv\",\n",
    "    header=True,\n",
    "    inferSchema=True\n",
    ")\n",
    "\n",
    "df_dataset = df_dataset.withColumn(\"repeater\", F.when(F.col(\"repeater\") == \"t\", 1).otherwise(0))"
   ]
  },
  {
   "cell_type": "code",
   "execution_count": null,
   "id": "888eb704",
   "metadata": {},
   "outputs": [
    {
     "name": "stdout",
     "output_type": "stream",
     "text": [
      "root\n",
      " |-- offer: integer (nullable = true)\n",
      " |-- id: long (nullable = true)\n",
      " |-- chain: integer (nullable = true)\n",
      " |-- market: integer (nullable = true)\n",
      " |-- repeattrips: integer (nullable = true)\n",
      " |-- repeater: integer (nullable = false)\n",
      " |-- offerdate: date (nullable = true)\n",
      " |-- category: integer (nullable = true)\n",
      " |-- quantity: integer (nullable = true)\n",
      " |-- company: integer (nullable = true)\n",
      " |-- offervalue: double (nullable = true)\n",
      " |-- brand: integer (nullable = true)\n",
      "\n",
      "+-------+--------+-----+------+-----------+--------+----------+--------+--------+---------+----------+------+\n",
      "|  offer|      id|chain|market|repeattrips|repeater| offerdate|category|quantity|  company|offervalue| brand|\n",
      "+-------+--------+-----+------+-----------+--------+----------+--------+--------+---------+----------+------+\n",
      "|1208251|   86246|  205|    34|          5|       1|2013-04-24|    2202|       1|104460040|       2.0|  3718|\n",
      "|1197502|   86252|  205|    34|         16|       1|2013-03-27|    3203|       1|106414464|      0.75| 13474|\n",
      "|1197502|12682470|   18|    11|          0|       0|2013-03-28|    3203|       1|106414464|      0.75| 13474|\n",
      "|1197502|12996040|   15|     9|          0|       0|2013-03-25|    3203|       1|106414464|      0.75| 13474|\n",
      "|1204821|13089312|   15|     9|          0|       0|2013-04-01|    5619|       1|107717272|       1.5|102504|\n",
      "+-------+--------+-----+------+-----------+--------+----------+--------+--------+---------+----------+------+\n",
      "only showing top 5 rows\n",
      "\n"
     ]
    }
   ],
   "source": [
    "df_dataset.printSchema()\n",
    "df_dataset.show(5)"
   ]
  },
  {
   "cell_type": "markdown",
   "id": "185a2c99",
   "metadata": {},
   "source": [
    "Tendo em conta o schema acima do dataset, as features escolhidas foram as:\n",
    "- **offervalue** -> valor binário com o valor da oferta.\n",
    "- **category** -> category of the made offer\n",
    "- **quantity** -> quantity of the made offer\n",
    "- **brand** -> brand of the made offer\n",
    "- **company** -> company that the offer originates from."
   ]
  },
  {
   "cell_type": "code",
   "execution_count": 11,
   "id": "adc523c7",
   "metadata": {},
   "outputs": [
    {
     "name": "stdout",
     "output_type": "stream",
     "text": [
      "There are 127878 rows in the training set and 32179 rows in the validation set.\n"
     ]
    }
   ],
   "source": [
    "df_train, df_validation = df_dataset.randomSplit([0.8, 0.2], seed=42)\n",
    "\n",
    "print(f'There are {df_train.count()} rows in the training set and {df_validation.count()} rows in the validation set.')"
   ]
  },
  {
   "cell_type": "markdown",
   "id": "6effb22f",
   "metadata": {},
   "source": [
    "# Preparação de Dados e Configuração Inicial"
   ]
  },
  {
   "cell_type": "code",
   "execution_count": null,
   "id": "3e4dc3aa",
   "metadata": {},
   "outputs": [],
   "source": [
    "cols_feature = ['offervalue', 'category', 'quantity', 'brand', 'company']\n",
    "\n",
    "vec_assembler = VectorAssembler(\n",
    "    inputCols=cols_feature,\n",
    "    outputCol='features'\n",
    ")\n",
    "\n",
    "train_assembled = vec_assembler.transform(df_train)\n",
    "validation_assembled = vec_assembler.transform(df_validation)\n",
    "\n",
    "modelos = {\n",
    "    \"LogisticRegression\": LogisticRegression(labelCol=\"repeater\", featuresCol=\"features\"),\n",
    "    \"RandomForest\":  RandomForestClassifier(labelCol=\"repeater\", featuresCol=\"features\"),\n",
    "    \"GradientBoosting\": GBTClassifier(labelCol=\"repeater\", featuresCol=\"features\"),\n",
    "    \"LinearSVC\": LinearSVC(labelCol=\"repeater\", featuresCol=\"features\"),\n",
    "    \"DecisionTree\": DecisionTreeClassifier(labelCol=\"repeater\", featuresCol=\"features\")\n",
    "}\n",
    "evaluator = BinaryClassificationEvaluator(labelCol=\"repeater\", metricName=\"areaUnderROC\")\n",
    "results = {}\n",
    "detailed_results = {}\n",
    "\n",
    "def calculate_metrics(predictions):\n",
    "    \"\"\"Calculate detailed classification metrics from predictions\"\"\"\n",
    "    # Get confusion matrix components\n",
    "    confusion_matrix = predictions.groupBy('repeater', 'prediction').count()\n",
    "\n",
    "    tp = confusion_matrix.filter((confusion_matrix.repeater == 1) & (confusion_matrix.prediction == 1)).select('count').first()\n",
    "    tn = confusion_matrix.filter((confusion_matrix.repeater == 0) & (confusion_matrix.prediction == 0)).select('count').first()\n",
    "    fp = confusion_matrix.filter((confusion_matrix.repeater == 0) & (confusion_matrix.prediction == 1)).select('count').first()\n",
    "    fn = confusion_matrix.filter((confusion_matrix.repeater == 1) & (confusion_matrix.prediction == 0)).select('count').first()\n",
    "\n",
    " \n",
    "    tp_val = tp['count'] if tp else 0\n",
    "    tn_val = tn['count'] if tn else 0\n",
    "    fp_val = fp['count'] if fp else 0\n",
    "    fn_val = fn['count'] if fn else 0\n",
    "    \n",
    "\n",
    "    accuracy = (tp_val + tn_val) / (tp_val + tn_val + fp_val + fn_val) if (tp_val + tn_val + fp_val + fn_val) > 0 else 0\n",
    "    precision = tp_val / (tp_val + fp_val) if (tp_val + fp_val) > 0 else 0\n",
    "    recall = tp_val / (tp_val + fn_val) if (tp_val + fn_val) > 0 else 0\n",
    "    specificity = tn_val / (tn_val + fp_val) if (tn_val + fp_val) > 0 else 0\n",
    "    f1_score = 2 * (precision * recall) / (precision + recall) if (precision + recall) > 0 else 0\n",
    "    \n",
    "    return {\n",
    "        'accuracy': accuracy,\n",
    "        'precision': precision,\n",
    "        'recall': recall,\n",
    "        'specificity': specificity,\n",
    "        'f1_score': f1_score,\n",
    "        'confusion_matrix': {'TP': tp_val, 'TN': tn_val, 'FP': fp_val, 'FN': fn_val}\n",
    "    }"
   ]
  },
  {
   "cell_type": "markdown",
   "id": "55cc9b9b",
   "metadata": {},
   "source": [
    "## Treino e Avaliação de Modelos de Classificação com Validação Cruzada\n"
   ]
  },
  {
   "cell_type": "code",
   "execution_count": 13,
   "id": "e0c03c3c",
   "metadata": {},
   "outputs": [
    {
     "name": "stdout",
     "output_type": "stream",
     "text": [
      "\n",
      "==================================================\n",
      "Training LogisticRegression...\n",
      "==================================================\n",
      "LogisticRegression AUC-ROC: 0.5730\n",
      "LogisticRegression Accuracy: 0.7289\n",
      "LogisticRegression Precision: 0.0000\n",
      "LogisticRegression Recall: 0.0000\n",
      "LogisticRegression Specificity: 1.0000\n",
      "LogisticRegression F1 Score: 0.0000\n",
      "\n",
      "==================================================\n",
      "Training RandomForest...\n",
      "==================================================\n",
      "RandomForest AUC-ROC: 0.6472\n",
      "RandomForest Accuracy: 0.7289\n",
      "RandomForest Precision: 0.0000\n",
      "RandomForest Recall: 0.0000\n",
      "RandomForest Specificity: 1.0000\n",
      "RandomForest F1 Score: 0.0000\n",
      "\n",
      "==================================================\n",
      "Training GradientBoosting...\n",
      "==================================================\n",
      "GradientBoosting AUC-ROC: 0.6760\n",
      "GradientBoosting Accuracy: 0.7299\n",
      "GradientBoosting Precision: 0.5123\n",
      "GradientBoosting Recall: 0.0763\n",
      "GradientBoosting Specificity: 0.9730\n",
      "GradientBoosting F1 Score: 0.1329\n",
      "\n",
      "==================================================\n",
      "Training LinearSVC...\n",
      "==================================================\n",
      "LinearSVC AUC-ROC: 0.5190\n",
      "LinearSVC Accuracy: 0.7289\n",
      "LinearSVC Precision: 0.0000\n",
      "LinearSVC Recall: 0.0000\n",
      "LinearSVC Specificity: 1.0000\n",
      "LinearSVC F1 Score: 0.0000\n",
      "\n",
      "==================================================\n",
      "Training DecisionTree...\n",
      "==================================================\n",
      "DecisionTree AUC-ROC: 0.3829\n",
      "DecisionTree Accuracy: 0.7299\n",
      "DecisionTree Precision: 0.5123\n",
      "DecisionTree Recall: 0.0763\n",
      "DecisionTree Specificity: 0.9730\n",
      "DecisionTree F1 Score: 0.1329\n",
      "Melhor modelo: GradientBoosting com AUC-ROC 0.6759872730209203\n"
     ]
    }
   ],
   "source": [
    "for nome, modelo in modelos.items():\n",
    "    print(f\"\\n{'='*50}\")\n",
    "    print(f\"Training {nome}...\")\n",
    "    print(f\"{'='*50}\")\n",
    "    \n",
    "\n",
    "    paramGrid = ParamGridBuilder().build()\n",
    "    if nome == \"RandomForest\":\n",
    "        paramGrid = ParamGridBuilder() \\\n",
    "            .addGrid(modelo.numTrees, [50]) \\\n",
    "            .addGrid(modelo.maxDepth, [10]) \\\n",
    "            .addGrid(modelo.seed, [42]) \\\n",
    "            .build()\n",
    "    elif nome == \"GradientBoosting\":\n",
    "        paramGrid = ParamGridBuilder() \\\n",
    "            .addGrid(modelo.maxIter, [50]) \\\n",
    "            .addGrid(modelo.maxDepth, [5]) \\\n",
    "            .addGrid(modelo.seed, [42]) \\\n",
    "            .build()\n",
    "    elif nome == \"LinearSVC\":\n",
    "        paramGrid = ParamGridBuilder() \\\n",
    "            .addGrid(modelo.maxIter, [100]) \\\n",
    "            .addGrid(modelo.regParam, [0.1]) \\\n",
    "            .build()\n",
    "    elif nome == \"DecisionTree\":\n",
    "        paramGrid = ParamGridBuilder() \\\n",
    "            .addGrid(modelo.maxDepth, [10]) \\\n",
    "            .addGrid(modelo.seed, [42]) \\\n",
    "            .build()\n",
    "    elif nome == \"LogisticRegression\":\n",
    "        paramGrid = ParamGridBuilder() \\\n",
    "            .addGrid(modelo.maxIter, [100]) \\\n",
    "            .addGrid(modelo.regParam, [0.1]) \\\n",
    "            .build()\n",
    "\n",
    "    crossval = CrossValidator(\n",
    "        estimator=modelo,\n",
    "        estimatorParamMaps=paramGrid,\n",
    "        evaluator=evaluator,\n",
    "        numFolds=3\n",
    "    )\n",
    "    \n",
    " \n",
    "    cv_model = crossval.fit(train_assembled)\n",
    "    cv_model.save(f\"modelos/{nome}\")\n",
    "\n",
    "    predictions = cv_model.transform(validation_assembled)\n",
    "    auc = evaluator.evaluate(predictions)\n",
    "    results[nome] = auc\n",
    "    \n",
    "    metrics = calculate_metrics(predictions)\n",
    "    detailed_results[nome] = {**metrics, 'auc_roc': auc}\n",
    "\n",
    "\n",
    "    print(f\"{nome} AUC-ROC: {auc:.4f}\")\n",
    "    print(f\"{nome} Accuracy: {metrics['accuracy']:.4f}\")\n",
    "    print(f\"{nome} Precision: {metrics['precision']:.4f}\")\n",
    "    print(f\"{nome} Recall: {metrics['recall']:.4f}\")\n",
    "    print(f\"{nome} Specificity: {metrics['specificity']:.4f}\")\n",
    "    print(f\"{nome} F1 Score: {metrics['f1_score']:.4f}\")\n",
    "\n",
    "melhor_modelo_nome = max(results, key=results.get)\n",
    "print(f\"Melhor modelo: {melhor_modelo_nome} com AUC-ROC {results[melhor_modelo_nome]}\")"
   ]
  },
  {
   "cell_type": "markdown",
   "id": "c095c77f",
   "metadata": {},
   "source": [
    "# Representação gráfica dos resultados obtidos"
   ]
  },
  {
   "cell_type": "code",
   "execution_count": 15,
   "id": "eca9a000",
   "metadata": {},
   "outputs": [
    {
     "data": {
      "application/vnd.plotly.v1+json": {
       "config": {
        "plotlyServerURL": "https://plot.ly"
       },
       "data": [
        {
         "hovertemplate": "Model Name=%{x}<br>AUC-ROC Score=%{y}<extra></extra>",
         "legendgroup": "RandomForest",
         "marker": {
          "color": "#636EFA",
          "pattern": {
           "shape": ""
          }
         },
         "name": "RandomForest",
         "orientation": "v",
         "showlegend": true,
         "textposition": "auto",
         "type": "bar",
         "x": [
          "RandomForest"
         ],
         "xaxis": "x",
         "y": {
          "bdata": "EhQ/xty15D8=",
          "dtype": "f8"
         },
         "yaxis": "y"
        },
        {
         "hovertemplate": "Model Name=%{x}<br>AUC-ROC Score=%{y}<extra></extra>",
         "legendgroup": "LogisticRegression",
         "marker": {
          "color": "#EF553B",
          "pattern": {
           "shape": ""
          }
         },
         "name": "LogisticRegression",
         "orientation": "v",
         "showlegend": true,
         "textposition": "auto",
         "type": "bar",
         "x": [
          "LogisticRegression"
         ],
         "xaxis": "x",
         "y": {
          "bdata": "vHSTGARW4j8=",
          "dtype": "f8"
         },
         "yaxis": "y"
        },
        {
         "hovertemplate": "Model Name=%{x}<br>AUC-ROC Score=%{y}<extra></extra>",
         "legendgroup": "DecisionTree",
         "marker": {
          "color": "#00CC96",
          "pattern": {
           "shape": ""
          }
         },
         "name": "DecisionTree",
         "orientation": "v",
         "showlegend": true,
         "textposition": "auto",
         "type": "bar",
         "x": [
          "DecisionTree"
         ],
         "xaxis": "x",
         "y": {
          "bdata": "jNtoAG+B2D8=",
          "dtype": "f8"
         },
         "yaxis": "y"
        },
        {
         "hovertemplate": "Model Name=%{x}<br>AUC-ROC Score=%{y}<extra></extra>",
         "legendgroup": "GradientBoostedTrees",
         "marker": {
          "color": "#AB63FA",
          "pattern": {
           "shape": ""
          }
         },
         "name": "GradientBoostedTrees",
         "orientation": "v",
         "showlegend": true,
         "textposition": "auto",
         "type": "bar",
         "x": [
          "GradientBoostedTrees"
         ],
         "xaxis": "x",
         "y": {
          "bdata": "bxKDwMqh5T8=",
          "dtype": "f8"
         },
         "yaxis": "y"
        },
        {
         "hovertemplate": "Model Name=%{x}<br>AUC-ROC Score=%{y}<extra></extra>",
         "legendgroup": "LinearSVC",
         "marker": {
          "color": "#FFA15A",
          "pattern": {
           "shape": ""
          }
         },
         "name": "LinearSVC",
         "orientation": "v",
         "showlegend": true,
         "textposition": "auto",
         "type": "bar",
         "x": [
          "LinearSVC"
         ],
         "xaxis": "x",
         "y": {
          "bdata": "z/dT46Wb4D8=",
          "dtype": "f8"
         },
         "yaxis": "y"
        }
       ],
       "layout": {
        "barmode": "relative",
        "legend": {
         "title": {
          "text": "Model Name"
         },
         "tracegroupgap": 0
        },
        "showlegend": false,
        "template": {
         "data": {
          "bar": [
           {
            "error_x": {
             "color": "#2a3f5f"
            },
            "error_y": {
             "color": "#2a3f5f"
            },
            "marker": {
             "line": {
              "color": "#E5ECF6",
              "width": 0.5
             },
             "pattern": {
              "fillmode": "overlay",
              "size": 10,
              "solidity": 0.2
             }
            },
            "type": "bar"
           }
          ],
          "barpolar": [
           {
            "marker": {
             "line": {
              "color": "#E5ECF6",
              "width": 0.5
             },
             "pattern": {
              "fillmode": "overlay",
              "size": 10,
              "solidity": 0.2
             }
            },
            "type": "barpolar"
           }
          ],
          "carpet": [
           {
            "aaxis": {
             "endlinecolor": "#2a3f5f",
             "gridcolor": "white",
             "linecolor": "white",
             "minorgridcolor": "white",
             "startlinecolor": "#2a3f5f"
            },
            "baxis": {
             "endlinecolor": "#2a3f5f",
             "gridcolor": "white",
             "linecolor": "white",
             "minorgridcolor": "white",
             "startlinecolor": "#2a3f5f"
            },
            "type": "carpet"
           }
          ],
          "choropleth": [
           {
            "colorbar": {
             "outlinewidth": 0,
             "ticks": ""
            },
            "type": "choropleth"
           }
          ],
          "contour": [
           {
            "colorbar": {
             "outlinewidth": 0,
             "ticks": ""
            },
            "colorscale": [
             [
              0,
              "#0d0887"
             ],
             [
              0.1111111111111111,
              "#46039f"
             ],
             [
              0.2222222222222222,
              "#7201a8"
             ],
             [
              0.3333333333333333,
              "#9c179e"
             ],
             [
              0.4444444444444444,
              "#bd3786"
             ],
             [
              0.5555555555555556,
              "#d8576b"
             ],
             [
              0.6666666666666666,
              "#ed7953"
             ],
             [
              0.7777777777777778,
              "#fb9f3a"
             ],
             [
              0.8888888888888888,
              "#fdca26"
             ],
             [
              1,
              "#f0f921"
             ]
            ],
            "type": "contour"
           }
          ],
          "contourcarpet": [
           {
            "colorbar": {
             "outlinewidth": 0,
             "ticks": ""
            },
            "type": "contourcarpet"
           }
          ],
          "heatmap": [
           {
            "colorbar": {
             "outlinewidth": 0,
             "ticks": ""
            },
            "colorscale": [
             [
              0,
              "#0d0887"
             ],
             [
              0.1111111111111111,
              "#46039f"
             ],
             [
              0.2222222222222222,
              "#7201a8"
             ],
             [
              0.3333333333333333,
              "#9c179e"
             ],
             [
              0.4444444444444444,
              "#bd3786"
             ],
             [
              0.5555555555555556,
              "#d8576b"
             ],
             [
              0.6666666666666666,
              "#ed7953"
             ],
             [
              0.7777777777777778,
              "#fb9f3a"
             ],
             [
              0.8888888888888888,
              "#fdca26"
             ],
             [
              1,
              "#f0f921"
             ]
            ],
            "type": "heatmap"
           }
          ],
          "histogram": [
           {
            "marker": {
             "pattern": {
              "fillmode": "overlay",
              "size": 10,
              "solidity": 0.2
             }
            },
            "type": "histogram"
           }
          ],
          "histogram2d": [
           {
            "colorbar": {
             "outlinewidth": 0,
             "ticks": ""
            },
            "colorscale": [
             [
              0,
              "#0d0887"
             ],
             [
              0.1111111111111111,
              "#46039f"
             ],
             [
              0.2222222222222222,
              "#7201a8"
             ],
             [
              0.3333333333333333,
              "#9c179e"
             ],
             [
              0.4444444444444444,
              "#bd3786"
             ],
             [
              0.5555555555555556,
              "#d8576b"
             ],
             [
              0.6666666666666666,
              "#ed7953"
             ],
             [
              0.7777777777777778,
              "#fb9f3a"
             ],
             [
              0.8888888888888888,
              "#fdca26"
             ],
             [
              1,
              "#f0f921"
             ]
            ],
            "type": "histogram2d"
           }
          ],
          "histogram2dcontour": [
           {
            "colorbar": {
             "outlinewidth": 0,
             "ticks": ""
            },
            "colorscale": [
             [
              0,
              "#0d0887"
             ],
             [
              0.1111111111111111,
              "#46039f"
             ],
             [
              0.2222222222222222,
              "#7201a8"
             ],
             [
              0.3333333333333333,
              "#9c179e"
             ],
             [
              0.4444444444444444,
              "#bd3786"
             ],
             [
              0.5555555555555556,
              "#d8576b"
             ],
             [
              0.6666666666666666,
              "#ed7953"
             ],
             [
              0.7777777777777778,
              "#fb9f3a"
             ],
             [
              0.8888888888888888,
              "#fdca26"
             ],
             [
              1,
              "#f0f921"
             ]
            ],
            "type": "histogram2dcontour"
           }
          ],
          "mesh3d": [
           {
            "colorbar": {
             "outlinewidth": 0,
             "ticks": ""
            },
            "type": "mesh3d"
           }
          ],
          "parcoords": [
           {
            "line": {
             "colorbar": {
              "outlinewidth": 0,
              "ticks": ""
             }
            },
            "type": "parcoords"
           }
          ],
          "pie": [
           {
            "automargin": true,
            "type": "pie"
           }
          ],
          "scatter": [
           {
            "fillpattern": {
             "fillmode": "overlay",
             "size": 10,
             "solidity": 0.2
            },
            "type": "scatter"
           }
          ],
          "scatter3d": [
           {
            "line": {
             "colorbar": {
              "outlinewidth": 0,
              "ticks": ""
             }
            },
            "marker": {
             "colorbar": {
              "outlinewidth": 0,
              "ticks": ""
             }
            },
            "type": "scatter3d"
           }
          ],
          "scattercarpet": [
           {
            "marker": {
             "colorbar": {
              "outlinewidth": 0,
              "ticks": ""
             }
            },
            "type": "scattercarpet"
           }
          ],
          "scattergeo": [
           {
            "marker": {
             "colorbar": {
              "outlinewidth": 0,
              "ticks": ""
             }
            },
            "type": "scattergeo"
           }
          ],
          "scattergl": [
           {
            "marker": {
             "colorbar": {
              "outlinewidth": 0,
              "ticks": ""
             }
            },
            "type": "scattergl"
           }
          ],
          "scattermap": [
           {
            "marker": {
             "colorbar": {
              "outlinewidth": 0,
              "ticks": ""
             }
            },
            "type": "scattermap"
           }
          ],
          "scattermapbox": [
           {
            "marker": {
             "colorbar": {
              "outlinewidth": 0,
              "ticks": ""
             }
            },
            "type": "scattermapbox"
           }
          ],
          "scatterpolar": [
           {
            "marker": {
             "colorbar": {
              "outlinewidth": 0,
              "ticks": ""
             }
            },
            "type": "scatterpolar"
           }
          ],
          "scatterpolargl": [
           {
            "marker": {
             "colorbar": {
              "outlinewidth": 0,
              "ticks": ""
             }
            },
            "type": "scatterpolargl"
           }
          ],
          "scatterternary": [
           {
            "marker": {
             "colorbar": {
              "outlinewidth": 0,
              "ticks": ""
             }
            },
            "type": "scatterternary"
           }
          ],
          "surface": [
           {
            "colorbar": {
             "outlinewidth": 0,
             "ticks": ""
            },
            "colorscale": [
             [
              0,
              "#0d0887"
             ],
             [
              0.1111111111111111,
              "#46039f"
             ],
             [
              0.2222222222222222,
              "#7201a8"
             ],
             [
              0.3333333333333333,
              "#9c179e"
             ],
             [
              0.4444444444444444,
              "#bd3786"
             ],
             [
              0.5555555555555556,
              "#d8576b"
             ],
             [
              0.6666666666666666,
              "#ed7953"
             ],
             [
              0.7777777777777778,
              "#fb9f3a"
             ],
             [
              0.8888888888888888,
              "#fdca26"
             ],
             [
              1,
              "#f0f921"
             ]
            ],
            "type": "surface"
           }
          ],
          "table": [
           {
            "cells": {
             "fill": {
              "color": "#EBF0F8"
             },
             "line": {
              "color": "white"
             }
            },
            "header": {
             "fill": {
              "color": "#C8D4E3"
             },
             "line": {
              "color": "white"
             }
            },
            "type": "table"
           }
          ]
         },
         "layout": {
          "annotationdefaults": {
           "arrowcolor": "#2a3f5f",
           "arrowhead": 0,
           "arrowwidth": 1
          },
          "autotypenumbers": "strict",
          "coloraxis": {
           "colorbar": {
            "outlinewidth": 0,
            "ticks": ""
           }
          },
          "colorscale": {
           "diverging": [
            [
             0,
             "#8e0152"
            ],
            [
             0.1,
             "#c51b7d"
            ],
            [
             0.2,
             "#de77ae"
            ],
            [
             0.3,
             "#f1b6da"
            ],
            [
             0.4,
             "#fde0ef"
            ],
            [
             0.5,
             "#f7f7f7"
            ],
            [
             0.6,
             "#e6f5d0"
            ],
            [
             0.7,
             "#b8e186"
            ],
            [
             0.8,
             "#7fbc41"
            ],
            [
             0.9,
             "#4d9221"
            ],
            [
             1,
             "#276419"
            ]
           ],
           "sequential": [
            [
             0,
             "#0d0887"
            ],
            [
             0.1111111111111111,
             "#46039f"
            ],
            [
             0.2222222222222222,
             "#7201a8"
            ],
            [
             0.3333333333333333,
             "#9c179e"
            ],
            [
             0.4444444444444444,
             "#bd3786"
            ],
            [
             0.5555555555555556,
             "#d8576b"
            ],
            [
             0.6666666666666666,
             "#ed7953"
            ],
            [
             0.7777777777777778,
             "#fb9f3a"
            ],
            [
             0.8888888888888888,
             "#fdca26"
            ],
            [
             1,
             "#f0f921"
            ]
           ],
           "sequentialminus": [
            [
             0,
             "#0d0887"
            ],
            [
             0.1111111111111111,
             "#46039f"
            ],
            [
             0.2222222222222222,
             "#7201a8"
            ],
            [
             0.3333333333333333,
             "#9c179e"
            ],
            [
             0.4444444444444444,
             "#bd3786"
            ],
            [
             0.5555555555555556,
             "#d8576b"
            ],
            [
             0.6666666666666666,
             "#ed7953"
            ],
            [
             0.7777777777777778,
             "#fb9f3a"
            ],
            [
             0.8888888888888888,
             "#fdca26"
            ],
            [
             1,
             "#f0f921"
            ]
           ]
          },
          "colorway": [
           "#636efa",
           "#EF553B",
           "#00cc96",
           "#ab63fa",
           "#FFA15A",
           "#19d3f3",
           "#FF6692",
           "#B6E880",
           "#FF97FF",
           "#FECB52"
          ],
          "font": {
           "color": "#2a3f5f"
          },
          "geo": {
           "bgcolor": "white",
           "lakecolor": "white",
           "landcolor": "#E5ECF6",
           "showlakes": true,
           "showland": true,
           "subunitcolor": "white"
          },
          "hoverlabel": {
           "align": "left"
          },
          "hovermode": "closest",
          "mapbox": {
           "style": "light"
          },
          "paper_bgcolor": "white",
          "plot_bgcolor": "#E5ECF6",
          "polar": {
           "angularaxis": {
            "gridcolor": "white",
            "linecolor": "white",
            "ticks": ""
           },
           "bgcolor": "#E5ECF6",
           "radialaxis": {
            "gridcolor": "white",
            "linecolor": "white",
            "ticks": ""
           }
          },
          "scene": {
           "xaxis": {
            "backgroundcolor": "#E5ECF6",
            "gridcolor": "white",
            "gridwidth": 2,
            "linecolor": "white",
            "showbackground": true,
            "ticks": "",
            "zerolinecolor": "white"
           },
           "yaxis": {
            "backgroundcolor": "#E5ECF6",
            "gridcolor": "white",
            "gridwidth": 2,
            "linecolor": "white",
            "showbackground": true,
            "ticks": "",
            "zerolinecolor": "white"
           },
           "zaxis": {
            "backgroundcolor": "#E5ECF6",
            "gridcolor": "white",
            "gridwidth": 2,
            "linecolor": "white",
            "showbackground": true,
            "ticks": "",
            "zerolinecolor": "white"
           }
          },
          "shapedefaults": {
           "line": {
            "color": "#2a3f5f"
           }
          },
          "ternary": {
           "aaxis": {
            "gridcolor": "white",
            "linecolor": "white",
            "ticks": ""
           },
           "baxis": {
            "gridcolor": "white",
            "linecolor": "white",
            "ticks": ""
           },
           "bgcolor": "#E5ECF6",
           "caxis": {
            "gridcolor": "white",
            "linecolor": "white",
            "ticks": ""
           }
          },
          "title": {
           "x": 0.05
          },
          "xaxis": {
           "automargin": true,
           "gridcolor": "white",
           "linecolor": "white",
           "ticks": "",
           "title": {
            "standoff": 15
           },
           "zerolinecolor": "white",
           "zerolinewidth": 2
          },
          "yaxis": {
           "automargin": true,
           "gridcolor": "white",
           "linecolor": "white",
           "ticks": "",
           "title": {
            "standoff": 15
           },
           "zerolinecolor": "white",
           "zerolinewidth": 2
          }
         }
        },
        "title": {
         "text": "Comparação dos modelos (AUC-ROC)",
         "x": 0.5
        },
        "xaxis": {
         "anchor": "y",
         "categoryarray": [
          "RandomForest",
          "LogisticRegression",
          "DecisionTree",
          "GradientBoostedTrees",
          "LinearSVC"
         ],
         "categoryorder": "array",
         "domain": [
          0,
          1
         ],
         "title": {
          "text": "Modelo"
         }
        },
        "yaxis": {
         "anchor": "x",
         "domain": [
          0,
          1
         ],
         "range": [
          0,
          1
         ],
         "title": {
          "text": "Pontuação AUC-ROC"
         }
        }
       }
      }
     },
     "metadata": {},
     "output_type": "display_data"
    }
   ],
   "source": [
    "\n",
    "results_data = [\n",
    "    (\"RandomForest\", 0.6472, None),  \n",
    "    (\"LogisticRegression\", 0.5730, None),  \n",
    "    (\"DecisionTree\", 0.3829, None),  \n",
    "    (\"GradientBoostedTrees\", 0.6760, None),  \n",
    "    (\"LinearSVC\", 0.5190, None)  \n",
    "]\n",
    "\n",
    "\n",
    "data = {\n",
    "    \"Model\": [name for name, _, _ in results_data],\n",
    "    \"AUC-ROC\": [auc for _, auc, _ in results_data]\n",
    "}\n",
    "df = pd.DataFrame(data)\n",
    "\n",
    "\n",
    "fig = px.bar(\n",
    "    df,\n",
    "    x=\"Model\",\n",
    "    y=\"AUC-ROC\",\n",
    "    title=\"Comparação dos modelos (AUC-ROC)\",\n",
    "    labels={\"AUC-ROC\": \"AUC-ROC Score\", \"Model\": \"Model Name\"},\n",
    "    color=\"Model\",\n",
    "    color_discrete_sequence=px.colors.qualitative.Plotly\n",
    ")\n",
    "\n",
    "\n",
    "fig.update_layout(\n",
    "    xaxis_title=\"Modelo\",\n",
    "    yaxis_title=\"Pontuação AUC-ROC\",\n",
    "    yaxis_range=[0, 1],  \n",
    "    showlegend=False,\n",
    "    title_x=0.5\n",
    ")\n",
    "\n",
    "\n",
    "fig.show()"
   ]
  },
  {
   "cell_type": "code",
   "execution_count": 17,
   "id": "271e32f5",
   "metadata": {},
   "outputs": [
    {
     "data": {
      "application/vnd.plotly.v1+json": {
       "config": {
        "plotlyServerURL": "https://plot.ly"
       },
       "data": [
        {
         "alignmentgroup": "True",
         "hovertemplate": "Métrica=AUC-ROC<br>Modelos=%{x}<br>Valor da Métrica=%{y}<extra></extra>",
         "legendgroup": "AUC-ROC",
         "marker": {
          "color": "#636EFA",
          "pattern": {
           "shape": ""
          }
         },
         "name": "AUC-ROC",
         "offsetgroup": "AUC-ROC",
         "orientation": "v",
         "showlegend": true,
         "textposition": "auto",
         "type": "bar",
         "x": [
          "LogisticRegression",
          "RandomForest",
          "GradientBoosting",
          "LinearSVC",
          "DecisionTree"
         ],
         "xaxis": "x",
         "y": {
          "bdata": "vHSTGARW4j8SFD/G3LXkP28Sg8DKoeU/z/dT46Wb4D+M22gAb4HYPw==",
          "dtype": "f8"
         },
         "yaxis": "y"
        },
        {
         "alignmentgroup": "True",
         "hovertemplate": "Métrica=Accuracy<br>Modelos=%{x}<br>Valor da Métrica=%{y}<extra></extra>",
         "legendgroup": "Accuracy",
         "marker": {
          "color": "#EF553B",
          "pattern": {
           "shape": ""
          }
         },
         "name": "Accuracy",
         "offsetgroup": "Accuracy",
         "orientation": "v",
         "showlegend": true,
         "textposition": "auto",
         "type": "bar",
         "x": [
          "LogisticRegression",
          "RandomForest",
          "GradientBoosting",
          "LinearSVC",
          "DecisionTree"
         ],
         "xaxis": "x",
         "y": {
          "bdata": "pb3BFyZT5z+lvcEXJlPnP3o2qz5XW+c/pb3BFyZT5z96Nqs+V1vnPw==",
          "dtype": "f8"
         },
         "yaxis": "y"
        },
        {
         "alignmentgroup": "True",
         "hovertemplate": "Métrica=Precision<br>Modelos=%{x}<br>Valor da Métrica=%{y}<extra></extra>",
         "legendgroup": "Precision",
         "marker": {
          "color": "#00CC96",
          "pattern": {
           "shape": ""
          }
         },
         "name": "Precision",
         "offsetgroup": "Precision",
         "orientation": "v",
         "showlegend": true,
         "textposition": "auto",
         "type": "bar",
         "x": [
          "LogisticRegression",
          "RandomForest",
          "GradientBoosting",
          "LinearSVC",
          "DecisionTree"
         ],
         "xaxis": "x",
         "y": {
          "bdata": "AAAAAAAAAAAAAAAAAAAAAKK0N/jCZOA/AAAAAAAAAACitDf4wmTgPw==",
          "dtype": "f8"
         },
         "yaxis": "y"
        },
        {
         "alignmentgroup": "True",
         "hovertemplate": "Métrica=Recall<br>Modelos=%{x}<br>Valor da Métrica=%{y}<extra></extra>",
         "legendgroup": "Recall",
         "marker": {
          "color": "#AB63FA",
          "pattern": {
           "shape": ""
          }
         },
         "name": "Recall",
         "offsetgroup": "Recall",
         "orientation": "v",
         "showlegend": true,
         "textposition": "auto",
         "type": "bar",
         "x": [
          "LogisticRegression",
          "RandomForest",
          "GradientBoosting",
          "LinearSVC",
          "DecisionTree"
         ],
         "xaxis": "x",
         "y": {
          "bdata": "AAAAAAAAAAAAAAAAAAAAAA5Pr5RliLM/AAAAAAAAAAAOT6+UZYizPw==",
          "dtype": "f8"
         },
         "yaxis": "y"
        },
        {
         "alignmentgroup": "True",
         "hovertemplate": "Métrica=Specificity<br>Modelos=%{x}<br>Valor da Métrica=%{y}<extra></extra>",
         "legendgroup": "Specificity",
         "marker": {
          "color": "#FFA15A",
          "pattern": {
           "shape": ""
          }
         },
         "name": "Specificity",
         "offsetgroup": "Specificity",
         "orientation": "v",
         "showlegend": true,
         "textposition": "auto",
         "type": "bar",
         "x": [
          "LogisticRegression",
          "RandomForest",
          "GradientBoosting",
          "LinearSVC",
          "DecisionTree"
         ],
         "xaxis": "x",
         "y": {
          "bdata": "AAAAAAAA8D8AAAAAAADwP4lBYOXQIu8/AAAAAAAA8D+JQWDl0CLvPw==",
          "dtype": "f8"
         },
         "yaxis": "y"
        },
        {
         "alignmentgroup": "True",
         "hovertemplate": "Métrica=F1 Score<br>Modelos=%{x}<br>Valor da Métrica=%{y}<extra></extra>",
         "legendgroup": "F1 Score",
         "marker": {
          "color": "#19D3F3",
          "pattern": {
           "shape": ""
          }
         },
         "name": "F1 Score",
         "offsetgroup": "F1 Score",
         "orientation": "v",
         "showlegend": true,
         "textposition": "auto",
         "type": "bar",
         "x": [
          "LogisticRegression",
          "RandomForest",
          "GradientBoosting",
          "LinearSVC",
          "DecisionTree"
         ],
         "xaxis": "x",
         "y": {
          "bdata": "AAAAAAAAAAAAAAAAAAAAABe30QDeAsE/AAAAAAAAAAAXt9EA3gLBPw==",
          "dtype": "f8"
         },
         "yaxis": "y"
        }
       ],
       "layout": {
        "barmode": "group",
        "legend": {
         "title": {
          "text": "Métrica"
         },
         "tracegroupgap": 0
        },
        "template": {
         "data": {
          "bar": [
           {
            "error_x": {
             "color": "#2a3f5f"
            },
            "error_y": {
             "color": "#2a3f5f"
            },
            "marker": {
             "line": {
              "color": "#E5ECF6",
              "width": 0.5
             },
             "pattern": {
              "fillmode": "overlay",
              "size": 10,
              "solidity": 0.2
             }
            },
            "type": "bar"
           }
          ],
          "barpolar": [
           {
            "marker": {
             "line": {
              "color": "#E5ECF6",
              "width": 0.5
             },
             "pattern": {
              "fillmode": "overlay",
              "size": 10,
              "solidity": 0.2
             }
            },
            "type": "barpolar"
           }
          ],
          "carpet": [
           {
            "aaxis": {
             "endlinecolor": "#2a3f5f",
             "gridcolor": "white",
             "linecolor": "white",
             "minorgridcolor": "white",
             "startlinecolor": "#2a3f5f"
            },
            "baxis": {
             "endlinecolor": "#2a3f5f",
             "gridcolor": "white",
             "linecolor": "white",
             "minorgridcolor": "white",
             "startlinecolor": "#2a3f5f"
            },
            "type": "carpet"
           }
          ],
          "choropleth": [
           {
            "colorbar": {
             "outlinewidth": 0,
             "ticks": ""
            },
            "type": "choropleth"
           }
          ],
          "contour": [
           {
            "colorbar": {
             "outlinewidth": 0,
             "ticks": ""
            },
            "colorscale": [
             [
              0,
              "#0d0887"
             ],
             [
              0.1111111111111111,
              "#46039f"
             ],
             [
              0.2222222222222222,
              "#7201a8"
             ],
             [
              0.3333333333333333,
              "#9c179e"
             ],
             [
              0.4444444444444444,
              "#bd3786"
             ],
             [
              0.5555555555555556,
              "#d8576b"
             ],
             [
              0.6666666666666666,
              "#ed7953"
             ],
             [
              0.7777777777777778,
              "#fb9f3a"
             ],
             [
              0.8888888888888888,
              "#fdca26"
             ],
             [
              1,
              "#f0f921"
             ]
            ],
            "type": "contour"
           }
          ],
          "contourcarpet": [
           {
            "colorbar": {
             "outlinewidth": 0,
             "ticks": ""
            },
            "type": "contourcarpet"
           }
          ],
          "heatmap": [
           {
            "colorbar": {
             "outlinewidth": 0,
             "ticks": ""
            },
            "colorscale": [
             [
              0,
              "#0d0887"
             ],
             [
              0.1111111111111111,
              "#46039f"
             ],
             [
              0.2222222222222222,
              "#7201a8"
             ],
             [
              0.3333333333333333,
              "#9c179e"
             ],
             [
              0.4444444444444444,
              "#bd3786"
             ],
             [
              0.5555555555555556,
              "#d8576b"
             ],
             [
              0.6666666666666666,
              "#ed7953"
             ],
             [
              0.7777777777777778,
              "#fb9f3a"
             ],
             [
              0.8888888888888888,
              "#fdca26"
             ],
             [
              1,
              "#f0f921"
             ]
            ],
            "type": "heatmap"
           }
          ],
          "histogram": [
           {
            "marker": {
             "pattern": {
              "fillmode": "overlay",
              "size": 10,
              "solidity": 0.2
             }
            },
            "type": "histogram"
           }
          ],
          "histogram2d": [
           {
            "colorbar": {
             "outlinewidth": 0,
             "ticks": ""
            },
            "colorscale": [
             [
              0,
              "#0d0887"
             ],
             [
              0.1111111111111111,
              "#46039f"
             ],
             [
              0.2222222222222222,
              "#7201a8"
             ],
             [
              0.3333333333333333,
              "#9c179e"
             ],
             [
              0.4444444444444444,
              "#bd3786"
             ],
             [
              0.5555555555555556,
              "#d8576b"
             ],
             [
              0.6666666666666666,
              "#ed7953"
             ],
             [
              0.7777777777777778,
              "#fb9f3a"
             ],
             [
              0.8888888888888888,
              "#fdca26"
             ],
             [
              1,
              "#f0f921"
             ]
            ],
            "type": "histogram2d"
           }
          ],
          "histogram2dcontour": [
           {
            "colorbar": {
             "outlinewidth": 0,
             "ticks": ""
            },
            "colorscale": [
             [
              0,
              "#0d0887"
             ],
             [
              0.1111111111111111,
              "#46039f"
             ],
             [
              0.2222222222222222,
              "#7201a8"
             ],
             [
              0.3333333333333333,
              "#9c179e"
             ],
             [
              0.4444444444444444,
              "#bd3786"
             ],
             [
              0.5555555555555556,
              "#d8576b"
             ],
             [
              0.6666666666666666,
              "#ed7953"
             ],
             [
              0.7777777777777778,
              "#fb9f3a"
             ],
             [
              0.8888888888888888,
              "#fdca26"
             ],
             [
              1,
              "#f0f921"
             ]
            ],
            "type": "histogram2dcontour"
           }
          ],
          "mesh3d": [
           {
            "colorbar": {
             "outlinewidth": 0,
             "ticks": ""
            },
            "type": "mesh3d"
           }
          ],
          "parcoords": [
           {
            "line": {
             "colorbar": {
              "outlinewidth": 0,
              "ticks": ""
             }
            },
            "type": "parcoords"
           }
          ],
          "pie": [
           {
            "automargin": true,
            "type": "pie"
           }
          ],
          "scatter": [
           {
            "fillpattern": {
             "fillmode": "overlay",
             "size": 10,
             "solidity": 0.2
            },
            "type": "scatter"
           }
          ],
          "scatter3d": [
           {
            "line": {
             "colorbar": {
              "outlinewidth": 0,
              "ticks": ""
             }
            },
            "marker": {
             "colorbar": {
              "outlinewidth": 0,
              "ticks": ""
             }
            },
            "type": "scatter3d"
           }
          ],
          "scattercarpet": [
           {
            "marker": {
             "colorbar": {
              "outlinewidth": 0,
              "ticks": ""
             }
            },
            "type": "scattercarpet"
           }
          ],
          "scattergeo": [
           {
            "marker": {
             "colorbar": {
              "outlinewidth": 0,
              "ticks": ""
             }
            },
            "type": "scattergeo"
           }
          ],
          "scattergl": [
           {
            "marker": {
             "colorbar": {
              "outlinewidth": 0,
              "ticks": ""
             }
            },
            "type": "scattergl"
           }
          ],
          "scattermap": [
           {
            "marker": {
             "colorbar": {
              "outlinewidth": 0,
              "ticks": ""
             }
            },
            "type": "scattermap"
           }
          ],
          "scattermapbox": [
           {
            "marker": {
             "colorbar": {
              "outlinewidth": 0,
              "ticks": ""
             }
            },
            "type": "scattermapbox"
           }
          ],
          "scatterpolar": [
           {
            "marker": {
             "colorbar": {
              "outlinewidth": 0,
              "ticks": ""
             }
            },
            "type": "scatterpolar"
           }
          ],
          "scatterpolargl": [
           {
            "marker": {
             "colorbar": {
              "outlinewidth": 0,
              "ticks": ""
             }
            },
            "type": "scatterpolargl"
           }
          ],
          "scatterternary": [
           {
            "marker": {
             "colorbar": {
              "outlinewidth": 0,
              "ticks": ""
             }
            },
            "type": "scatterternary"
           }
          ],
          "surface": [
           {
            "colorbar": {
             "outlinewidth": 0,
             "ticks": ""
            },
            "colorscale": [
             [
              0,
              "#0d0887"
             ],
             [
              0.1111111111111111,
              "#46039f"
             ],
             [
              0.2222222222222222,
              "#7201a8"
             ],
             [
              0.3333333333333333,
              "#9c179e"
             ],
             [
              0.4444444444444444,
              "#bd3786"
             ],
             [
              0.5555555555555556,
              "#d8576b"
             ],
             [
              0.6666666666666666,
              "#ed7953"
             ],
             [
              0.7777777777777778,
              "#fb9f3a"
             ],
             [
              0.8888888888888888,
              "#fdca26"
             ],
             [
              1,
              "#f0f921"
             ]
            ],
            "type": "surface"
           }
          ],
          "table": [
           {
            "cells": {
             "fill": {
              "color": "#EBF0F8"
             },
             "line": {
              "color": "white"
             }
            },
            "header": {
             "fill": {
              "color": "#C8D4E3"
             },
             "line": {
              "color": "white"
             }
            },
            "type": "table"
           }
          ]
         },
         "layout": {
          "annotationdefaults": {
           "arrowcolor": "#2a3f5f",
           "arrowhead": 0,
           "arrowwidth": 1
          },
          "autotypenumbers": "strict",
          "coloraxis": {
           "colorbar": {
            "outlinewidth": 0,
            "ticks": ""
           }
          },
          "colorscale": {
           "diverging": [
            [
             0,
             "#8e0152"
            ],
            [
             0.1,
             "#c51b7d"
            ],
            [
             0.2,
             "#de77ae"
            ],
            [
             0.3,
             "#f1b6da"
            ],
            [
             0.4,
             "#fde0ef"
            ],
            [
             0.5,
             "#f7f7f7"
            ],
            [
             0.6,
             "#e6f5d0"
            ],
            [
             0.7,
             "#b8e186"
            ],
            [
             0.8,
             "#7fbc41"
            ],
            [
             0.9,
             "#4d9221"
            ],
            [
             1,
             "#276419"
            ]
           ],
           "sequential": [
            [
             0,
             "#0d0887"
            ],
            [
             0.1111111111111111,
             "#46039f"
            ],
            [
             0.2222222222222222,
             "#7201a8"
            ],
            [
             0.3333333333333333,
             "#9c179e"
            ],
            [
             0.4444444444444444,
             "#bd3786"
            ],
            [
             0.5555555555555556,
             "#d8576b"
            ],
            [
             0.6666666666666666,
             "#ed7953"
            ],
            [
             0.7777777777777778,
             "#fb9f3a"
            ],
            [
             0.8888888888888888,
             "#fdca26"
            ],
            [
             1,
             "#f0f921"
            ]
           ],
           "sequentialminus": [
            [
             0,
             "#0d0887"
            ],
            [
             0.1111111111111111,
             "#46039f"
            ],
            [
             0.2222222222222222,
             "#7201a8"
            ],
            [
             0.3333333333333333,
             "#9c179e"
            ],
            [
             0.4444444444444444,
             "#bd3786"
            ],
            [
             0.5555555555555556,
             "#d8576b"
            ],
            [
             0.6666666666666666,
             "#ed7953"
            ],
            [
             0.7777777777777778,
             "#fb9f3a"
            ],
            [
             0.8888888888888888,
             "#fdca26"
            ],
            [
             1,
             "#f0f921"
            ]
           ]
          },
          "colorway": [
           "#636efa",
           "#EF553B",
           "#00cc96",
           "#ab63fa",
           "#FFA15A",
           "#19d3f3",
           "#FF6692",
           "#B6E880",
           "#FF97FF",
           "#FECB52"
          ],
          "font": {
           "color": "#2a3f5f"
          },
          "geo": {
           "bgcolor": "white",
           "lakecolor": "white",
           "landcolor": "#E5ECF6",
           "showlakes": true,
           "showland": true,
           "subunitcolor": "white"
          },
          "hoverlabel": {
           "align": "left"
          },
          "hovermode": "closest",
          "mapbox": {
           "style": "light"
          },
          "paper_bgcolor": "white",
          "plot_bgcolor": "#E5ECF6",
          "polar": {
           "angularaxis": {
            "gridcolor": "white",
            "linecolor": "white",
            "ticks": ""
           },
           "bgcolor": "#E5ECF6",
           "radialaxis": {
            "gridcolor": "white",
            "linecolor": "white",
            "ticks": ""
           }
          },
          "scene": {
           "xaxis": {
            "backgroundcolor": "#E5ECF6",
            "gridcolor": "white",
            "gridwidth": 2,
            "linecolor": "white",
            "showbackground": true,
            "ticks": "",
            "zerolinecolor": "white"
           },
           "yaxis": {
            "backgroundcolor": "#E5ECF6",
            "gridcolor": "white",
            "gridwidth": 2,
            "linecolor": "white",
            "showbackground": true,
            "ticks": "",
            "zerolinecolor": "white"
           },
           "zaxis": {
            "backgroundcolor": "#E5ECF6",
            "gridcolor": "white",
            "gridwidth": 2,
            "linecolor": "white",
            "showbackground": true,
            "ticks": "",
            "zerolinecolor": "white"
           }
          },
          "shapedefaults": {
           "line": {
            "color": "#2a3f5f"
           }
          },
          "ternary": {
           "aaxis": {
            "gridcolor": "white",
            "linecolor": "white",
            "ticks": ""
           },
           "baxis": {
            "gridcolor": "white",
            "linecolor": "white",
            "ticks": ""
           },
           "bgcolor": "#E5ECF6",
           "caxis": {
            "gridcolor": "white",
            "linecolor": "white",
            "ticks": ""
           }
          },
          "title": {
           "x": 0.05
          },
          "xaxis": {
           "automargin": true,
           "gridcolor": "white",
           "linecolor": "white",
           "ticks": "",
           "title": {
            "standoff": 15
           },
           "zerolinecolor": "white",
           "zerolinewidth": 2
          },
          "yaxis": {
           "automargin": true,
           "gridcolor": "white",
           "linecolor": "white",
           "ticks": "",
           "title": {
            "standoff": 15
           },
           "zerolinecolor": "white",
           "zerolinewidth": 2
          }
         }
        },
        "title": {
         "text": "Desempenho dos Modelos por Métrica"
        },
        "xaxis": {
         "anchor": "y",
         "domain": [
          0,
          1
         ],
         "title": {
          "text": "Modelos"
         }
        },
        "yaxis": {
         "anchor": "x",
         "domain": [
          0,
          1
         ],
         "range": [
          0,
          1
         ],
         "title": {
          "text": "Valor da Métrica"
         }
        }
       }
      }
     },
     "metadata": {},
     "output_type": "display_data"
    }
   ],
   "source": [
    "import plotly.express as px\n",
    "import pandas as pd\n",
    "\n",
    "# Dados\n",
    "data = {\n",
    "    'Modelo': ['LogisticRegression']*6 + ['RandomForest']*6 + ['GradientBoosting']*6 + ['LinearSVC']*6 + ['DecisionTree']*6,\n",
    "    'Métrica': ['AUC-ROC', 'Accuracy', 'Precision', 'Recall', 'Specificity', 'F1 Score']*5,\n",
    "    'Valor': [0.5730, 0.7289, 0.0000, 0.0000, 1.0000, 0.0000,\n",
    "              0.6472, 0.7289, 0.0000, 0.0000, 1.0000, 0.0000,\n",
    "              0.6760, 0.7299, 0.5123, 0.0763, 0.9730, 0.1329,\n",
    "              0.5190, 0.7289, 0.0000, 0.0000, 1.0000, 0.0000,\n",
    "              0.3829, 0.7299, 0.5123, 0.0763, 0.9730, 0.1329]\n",
    "}\n",
    "df = pd.DataFrame(data)\n",
    "\n",
    "# Gráfico de barras agrupadas\n",
    "fig = px.bar(df, x='Modelo', y='Valor', color='Métrica', barmode='group',\n",
    "             title='Desempenho dos Modelos por Métrica',\n",
    "             labels={'Valor': 'Valor da Métrica', 'Modelo': 'Modelos'},\n",
    "             color_discrete_sequence=px.colors.qualitative.Plotly)\n",
    "fig.update_layout(yaxis_range=[0, 1])  # Ajusta escala para métricas entre 0 e 1\n",
    "fig.show()"
   ]
  }
 ],
 "metadata": {
  "kernelspec": {
   "display_name": "vscode_pyspark",
   "language": "python",
   "name": "python3"
  },
  "language_info": {
   "codemirror_mode": {
    "name": "ipython",
    "version": 3
   },
   "file_extension": ".py",
   "mimetype": "text/x-python",
   "name": "python",
   "nbconvert_exporter": "python",
   "pygments_lexer": "ipython3",
   "version": "3.11.11"
  }
 },
 "nbformat": 4,
 "nbformat_minor": 5
}
