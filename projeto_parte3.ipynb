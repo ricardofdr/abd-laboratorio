{
 "cells": [
  {
   "cell_type": "code",
   "execution_count": 1,
   "id": "fdfd79f1",
   "metadata": {},
   "outputs": [],
   "source": [
    "# Basic imports\n",
    "\n",
    "import json\n",
    "from pathlib import Path\n",
    "import pyspark\n",
    "from pyspark.sql import SparkSession\n",
    "import pyspark.sql.functions as F\n",
    "from dotenv import load_dotenv\n",
    "load_dotenv('.env')\n",
    "import os\n",
    "import plotly.graph_objects as go\n",
    "\n",
    "from dotenv import load_dotenv\n",
    "import os\n"
   ]
  },
  {
   "cell_type": "code",
   "execution_count": 2,
   "id": "9f21d185",
   "metadata": {},
   "outputs": [],
   "source": [
    "# Build SparkSession\n",
    "spark = SparkSession.builder.appName(\"DataPreparation\").getOrCreate()\n",
    "base_path = os.getenv('BASE_PATH')"
   ]
  },
  {
   "cell_type": "markdown",
   "id": "9a386ccc",
   "metadata": {},
   "source": [
    "## Data Ingestion"
   ]
  },
  {
   "cell_type": "code",
   "execution_count": 3,
   "id": "f62927cd",
   "metadata": {},
   "outputs": [
    {
     "name": "stdout",
     "output_type": "stream",
     "text": [
      "�}ES\u0002\u0003offers.csv\u0000���n�0\f\u0005��=\u000bQ�����u�0`K� \u001d�������\u0002��Y\u0012)�^__��|��|?�����p���\\������x���=�|{������\u0017�fW�\u0016q\u0012\u0012.g�brjm�\u0015\u0018�Q7�\u0000)��u\u001d�X�t\u0006)XG\u001e&fa�O�$j9�(���׶\u0007#A��䜘\u0002�Bw��\n",
      ",\u001a\u001ed�2�\u000b3;�b4[&�\u0007\u0000̞E��\u001ff�l<�Ȉ���D�\"\u0010\u001f\u0004�\u0011�\u0013#u�\u0007��V҃��Y�@���ʎ��W;XKU�C�6�\u0000��\u001c�5j�T���g��̛�ܮA�U=@AV0',%�W\u0011��M�=Sp!��^�����9�{�h�Ȭ��o�F#F�|l�W�Yխ�X���\u001d#\n",
      "fʥ�+}�p��<��\u0001�����B!�Q\u0011�E\"��p�2M�^�*0K�c�\u0002����\u0016��@@�4��e�I�Tb�����A�\u001e�Kˆ��ч�ˡɿl��PH�Υ���,�6\u001d�Yoe0�d�����\u000b4�}�\u0014��۰��c���\u0014�Z�2+�]�v�t���\u0001���l��\u0018��#9�^�\u0015G���H��2�,-\t��1{FGJ���\u0000�:�U.j)��?��\u00168z��2\u001d�:�`l�A��R\u000ez�t\u0015���>tXw��r:u�q��ݢq\fS�2�\u0000�9\u0004�,�\u0019�VF.�\u0019�RQ��Y�^6Ȟ\u000f\u0003f��Mf���\\�Y'����2\u001b�\u0002�\u001aud��#�����\"���0}B����Y��\n",
      "��%Q�Y*Չ\u000f���j�H\"����\u0011>s,w*�c�,e���+\u0000�=\u0016�<��X�b��I�\u001f�\u0007XV\u0016\u001e\u0019��Q�����:�5s��\u0016��P��exw�1ǕG����1�L����h;����êʗf�exG����V�5�\u0003X-%8�8�=�I/��@�!���\\��aK/Q86���4�&:�dt�,�ɹ�5��]�v�\tIX���l�.��b-C֭c{��L,+h��\u0000����9������\u0002;��\f;���c��\u001f۸w\u000b��Y�'3�\u0011�1����B\u001fm��\u001e�:N�Ē\t�/\u0005���\u0010�\u001e\u0015G�A-�0>ˁYƑ��\u000f�ٌK7�9f\u0013<V�-Is̲�:���\u001c��:���\n",
      "�\u0014�ޱ���1��c!|\u0003�YM\u001e\u00135X\u001a:��\u0016�:��ޚƼէ#c\u0019ff���\\����F��r��؆��Q�z$-�m��ģ�w=*�s���x��^R`ײ\u0005痍��E\u001c3lx$��X���\u0013q�T\u001ec&Z�Lw�c�-�\u0005��1�+\u001f9�%��yl��\u0005K\u001c�r��5�cu�2-�#�\u001d�}9��$Q˩\u0018�c\u0005ET.M]�e���(\u0002��*�-)\u0013�Q\u0013u�\u0010z�\u0014₞��!�.��YZ,�&���~�Rr�\u000fVˊL�1\u0001^��\t[���,g,\u001b\u001f[B�:S�m\u0003\u0010:�6Y�\fkD\u001e�t;�U\\P�8�*�ؕ�L.\u0005�r�d�8bI\u001f�q����<�\u0013\u0017T�\u0018˖��\u001c\"��-SL�2 p�>�\\f�Xˊn���V���P�q�v����X]�e \u001c�f6C�B�zIs�zL}ׂ\"�mف��$���>\u001440\u001e�y�,B�e��1�q�ײ,|�����F\f�h\u0015ԇ��n.�˙�=��\u001b�f\u0019逎��^f\u0014�Ga�X&�Z��C�̺`���¯\u001d+g�H��(7�2i1q�*���y+UJ[6���uq�\u0015\u0011\\N�����ҼM��*k\u001c�e�\u0018�YVT��\n",
      "i�#�\u0011K���c�e.ýQG��\u0006�\u001d�\u0013�$��R�\u0003�lc�,�\u0019�w\u001b%1����Ir�Bh�*&�\u001ck��LO|J�B���4\u001d\u0015��c�1�Π_0Y �5���\u0001�q\u001d\u0019l,�d/�\u0010dGeԭi��%}&�\u0018*��|��\u0002�vl������0𑕹4\fCKO�\\��m�,��\u001c�#,�c�eg�!�m\u001d\n",
      "D�\u0018͹6E�\u000b�eZpxl�`Y�d.\u0019>���n\u001b\u0018��\u001cKT\u001fg\u0010�L\u0012��\"�G�,�X>5G��e�ԗ\u001d�\u000bǇ\u000e1t�\u0018�\u001c�i�V���t������4n�\u0014C˶�c\u0017j\u0019H\u0015ri\u0019�X�ר�\u0011I��P>ת<UG\u0016�\t\u0011�0��YK�L��(\u000b�H����e�e͒�l\u001e���d��Aw�X1�\u001f\u0016\u001cB\u001e)�-to�\u001fC�Zf;e��t�h��K�G�ʽݏBg,�Ǻ�\n",
      "����9NF���C�jz�nV��.\u001dӻ�11xT�\u001f��c!��J�Q��[y�\u0019\"�X�9F��X>�GZב�=�a��`\u0019�\u0006��\u0000�ځ��B�u�dK\u0007f걺\u001fM��Ȫy$�\u001f\u001b��RQ��ţ\u001c�e�\u001f��\u001e'�}\u0019\u0018�����fzϱ��#���i�Q��G�cZz�Q�:z��\u0018�oP��l\u000f\u001c\u0019���h�r�G)\u0007�\u000e�\u000b�\u001d���\u0002ҾL��La��G�[?��ڀ����ǔ��5R|9�G��k�����VB�q�2�#��\u001a!�ǚ�c��H���tƣ��83s�E��2=��\u001e\u0019�cc��K!�8z\"��H\u001e�1��\u00158\u0012�x\f�:�\u0010��\u001e\u0019����\u001f=��F{���[���#������13�K\u0019�e\u000f��\u0013q�+xlO��\u0004#\u001eӈ�\t�r��/ɘ�e��΀\u001d�;�}��cY�\u001fS�ǎ/�1qT{��`�1L�8\u0004����RWV\u001f\u0003�9�%�Ht=����861/\u0018\u0001�:Z���6��(��V��8�9��#�8�j��/��X�|��>�lxd�_\n",
      "���/G��D��1�����cW�˞>\u0012��ʣ��S�8\u001d:�#��*�8Q��\u0000���i��\u0007MǴ`>��=N�ܭ\u001e��\u001f�ΣȎ�A�����\u001e;��+�i�~�j{,�\u0006U�z$�\u0005�\u001f{��\u0000��ppl�����q����ɥ\u0003n�c�(��\u0016�\u001d+���\u001f���#(\u0014�PtK�9����V\u0017ɫ�\u001d]\u0019!\u0001\u0012\fHY-[���\u001dK�����0�+��1\u0001��n��,�/�#��Y�ZZ\u0006͖��\u001f����\u0003��˩��\u0011��\u0019j[f�զqIe����KT�>v�|�\n",
      "\u0015��t�\u0019b�����\t���z\u0006|ְT���X�\u0018�9��s���a��ai]V\u001eg�q�]]�1 ��5kFZ�e����n�No�<�8���J�>#�6`�y�Yk�]�r�s�:�e\u0015�L�\u001a��uWe�9ٵV��ad��\u0004�a�s&��3�֌`�'<�(�>Q��l�s�n�h�zܔ�\u0011n�1�*��|���P��_\u0000���,|\u001d��3�s�l?��6�]��U���{�j�z�r�J���f�X{�}\u001d(�:\u0013�5����zZ�5s�=,\u0010\\g��3�g��3q�6�9x{�v�J�3\"k=j��i@�:]egzk]tκ-�������ۨ<�e����%�a�\\\u0017�Zw\t����\n",
      ">���s�u��Y;4�.�b�����g���3m=ɩ�*����t\u0004�\u000eˉ�S:���ɱ^��B��*;�p>�\n",
      "� �\u001c�my:V�&�i\u0005�3�� �NI��B�X�׊����\u0004�ˇ\u0002CFGˉ\u001e���\\ݍ3�\"�(y\u000bv�`�y6����=/b����aQ�e)���N��^��]��+\u0013�g�E�I���#rZޠ��<\\��=�պ�<Ì#c:��\u000b�YX���<�x^Rf��L�>owQ���O��Ξɑ��r�C��\u001c\u001ear9J^�\u0013\u001e�̔+ve�\"�lB\u0006Y�vߐ���^ʍjy< /PgƄ˕\u001c�`����ymdt�����ή�]u�h\u001b9�V���>v�l�\\H<O�<��9��@�k�}�[�Q����߾gr�S�{f�PF\fd��y#\u001cϴ�g��afir�A\u001e���]�𳔷�\u0007{=\u0015�3���S�9Ӕ8'��V�Y��,Cg�Uyݫ\u001b�A>���?�KY\u0019�\u0006�<Һ<��\"c��Ժ-��4�\u0015��d�sO̚��s7�VX�\u0019�s\u001e�gz|�2sw_�x�sۯ�\u0014��T��i��35gq��ar��ѹ�j=�:�:�,�Y\u0016�VD�\u0001>��\u001b`v&p�\n",
      "�.��\u0002\u0003testHistory.csv\u0000|�[�$5\f��YK!�r�c/\u0007q\u0001\u0012b�\"\u001e��\u000b�G�4��N������\u000f��?����\u001f?����o������\u001f����o�,M\u0012Wǥ����e�����!H��C�fԃ�C��������\t�C�!;/��\"\u000fxk�oԅH�K�Z�n@\u000f�E�.�\u001d D�\u0000#\u0017��k��V}�QT�4^@߀\n",
      "\u0019�+`��:\u0016�\u0007 \u0010\"׽E����B,��V��\n",
      "|\u00004���\u0014��\tPQ%�����\u0001�\u0015��^�ߧ��]Z�s��Kc\u0002h�/Ľě�\u001e�E\u001c_�p1���VG���Y9^\u001a�ᅐ\u0010�\u001b�z\u0007|\u0000��}\u0001�%\\�NJ�\u0000�\u0010��(}�1T�=�\u0001�t��\u0001\u001b_\\\u0019�p�K�J\u000b��8\u0000�|~��\u001ax�K\n",
      "�\u000b�\u0013\u001a��i�@\u001f�T\u000b���مC���5PR�%\t�\u00004���^9DzF|�n�ЦQk��\u0010\u0010�ȯ\u001d\u001aԤ]���]L���\u0013�+���#\u001bQ^\u0019��TT�E�e����1����(���n�G:�Rp�u�8�IE�\u0012X~�0�����5��,���'䪷��#Ǚa\u001a���\u0002�ն��Gζ*Y�\u000f\u0007��\u0014|\f�ɾ\u0012m+���C{\u0014�\u0012��R���A!c- E\u0005Ċ\u0003T�4��;��(��\u00154}��ߖ�n�\"Ip9F;����R�u\u0000\u0007�?:I9�̞@��\u0017<;^[��V�0\u0000\u0019�\u0014s?rG�b-��\u0014|I��\u0002�\u0017\u0018 ����\u000eO9���\u000fRF�$��\u0006���Hi�3�ߧ\u0002c�����=�L�R��`�2����\u0010�j}\u0007�3aLa��ְ��\u0003TK�\u0012�r�lq���0; �RK�\u001f��\u0018[��\u0002Н\\4�\u001b3���-'�\u0010�.p��!�m���ҁ'a�^���/�+C���<��nsK���\u0011�@\u001f���EํHI�6��\u0010E8���!\u0012���[7�G�\u0018=���\u0010����s\u001d\u0002!^��CK�ƖdV%~]T]z�E\u000e�\n",
      "����0$�m4\u0007�j�-�q�@�l��\u001c =�y�K��!����\u0017~�\u0006�\u0000Tq�I�T�ݛ!\")jۑ}!Bh�F�\u0010���\u0011�C�\n",
      "b�d�.W�:\u0000+Y�\u0015o��\u0012��\u001bRV��7�\u0012N��6\u001f�V�-RC���f�\u0001�B-��\u0001��{\u001boBA�ccF\t��\u0000��Ϡ\u0001�\u0010�\fHǗ&\u001a\u0011�Ō\u001dBՍ�h�\u0003��c\u0019�e�E~��k\t>̴(h��\u001fl�\u0016�Xf�QA�\t���\u0000\u001dV�F�5l\n",
      "\t�m/�v\u0014��.P\u0015�\\\u0003\\\u0006�B�ҎM\u000f�&%���p\u000b&wG\fQR��x��C��=y<���B3*�+�\u001b1�А-��\u0012^l\n",
      "שa�\n",
      "�~��a�ݞ\\��\u0002\"J�s�\u001eB��V�|�R�=���\u0007\u0003\"ck.8�S��=\u001b�\u0010e��qa�N@6bt����5\u001e\u0003g\u000f��e�\u001be?�T��\u00127\u001c�\u0011Q��1Du�>�\u0006(Y��\u0019\u000fQ�jK��\u0001���rf:@Q���\u001c�4s\u001f�#$ �\u001b�C�!��}�\u000b��[9�>�\u000b�t}\u0007\u001d�(�t�\u001c@���%C�ڰ܎9�\u000ek�|��#O��mO�\u0011\u0014���~�*���=������\u001f��\u0012{=�Ri믴�hQ��*��Wn\u001byB���<r~����4���7�G\u0003*%���2�.]�\u001f SMz�0K��J|ރ�\u0000�br�����V��w�\u0018�(�\u001f��l��]�����\u001c\u0010�n%\u0015D-�15r���;GвŗG\u0004�\u0001h\u001e[ۈ\u0003�FJ/�\u000e\u0000I���Te��&�]�!`\u0019�細#\u000f�N,S�\u000fp䔏�_��\u0011n��g.\u001f9�­x�\u0010�4�J9g��}kn��\u001c�}���$���}�)!}\n",
      ":��U�u@\u000f��.z��\u0017��$ʜ��8��x�^�*\f�\\J1\u0007�r�4\fP\n",
      "Y��`�h�\u00022^��\u0004��+�\u0014�쓎\u0019�]��|�2s���\u000e�\tZ�+���~M\u0015�s\u0003S^L� dH��N{���\u0002XT��b�p\u0001�g�M\u000e���F��\u0012�:U&��1ǐ�Ր3�Ҕ�\tVN=�\u0001�o&BQ��QuA��MMq��\u0010�}7���C��%��E���dA�l�������[6\u0014Tc�eR�\u0014ܱ(\u0003S�-Ov(\t��Rɒ�[��\u0011��37\u0005V��T�P.�8*����I%��7�fM5\u0016\u0014�V�0�-sWɛI������\u0000�\u0018����\u0018U\u0015塧>M]>�\\�\u0016��\u001c[��\f��]�S�bw�29�'��(Ƣ�<����R+�\u000e�\u0013�\n",
      "\u0011�i�V^TQ�\u000fJI3��5�SC(�!���L\u0000�\u0016\u0002;�ŰH���hS�8��O�F�qe�i\u0014ȗ��BtX,���B׸3P�v�8J��3Ӧ��\n",
      "����\u0002U�Oc:^�D\"4Y�\u001b\u0012�[-��\u000eWՔ�\u0011�m��P�\u0001�H�L\u0016�\u000f\\�����8!io�����]Ɖ�Մ�ƺ�\n",
      "�7��j�|��}Q�V9�p4\u0015�*srf�T���]�bJsuv\u0017� ���M9�m^P�\t�wC]L��֦��x��\\�6�\u000b\u0016��\u0013�M�!�hޔ\"4�2��[0%U\u0010\u0006��\u0016�*��\n",
      "�-���\u0001\u001b��\"Ru�wo�V8����*n�9\u0010��b�\\\\�R�[��ޘjLBsGKu�H\u001d\u001aC�/(����C��dD��\u000ff�w�+ti\u000b:%�]�\u000f{/�Ϝ�\u001dJ5c\u001e�����k�(�[}jQ %�۳�\u0016*\u0010Հ�cF@��y�\u0014D\u0004���t�/g��\u0004�Qu��n�\u001cEb�yh\u000b��\u0012\u0013��$\u000e��0�ւ��K�u��\u0005)I\tO�]C,�q\u0006N2bļR,*D�|��\u001b��֜\u000b��j�����X��x�����\u0002c�HN��\n",
      "�4��&K\u001f\u0014:�k*c;(��ԟ\u000f=��i��p7�\u001cl�xW�\u0014�05\u001b�\u000b ��w�q\u001b̴u��\u000fîu\u0019\u000ep\u0014�q�����G�u�{������\u0011�,o�5��Q��9*mS�K�;�\u00199!�y�\u0007c\u0017���\u001d\u0004�ko�]�)��(.�!&\"�\u0001\u001a��X\u0001�{���y��,��;������w(Ӳ!\u0015ѣе�����`!v΃�b��漟��6��4�<�(N?u��7\u0007k�Z\u001b\u0003hᵩ=\u000b=�Cy�\u000e��0�[(�n.&�yP��v>\u0007�W�6\u0007�\u0006�۱�d�\u0011ҳ\u001e�\u001a��\u0017Z���\\�V��V��AMz�Ҍ�a@K�<��W�}�����+����l���<�fd�\u0016�1U��1�\u0006,���8\u0003�i�P\u0005�����X��·�\u0019�\u0014��c�\f���_����%�Q3aiO���ƮlA�I��U���r\fCn��\u0003w'\u0019Κ����N\u0014\u001a�o\u0000cs���\u0013r\u0006�*�W�=e{��\n",
      "�\u0002꠰��\u0007\f\u001e\u0003�h��6#A�����H\u001d��\t[�ր\u001d��T2�\u001c��55������wZ��\u000em8*��\u001a4�~r�&�p��1�\n",
      "9e�m�Ku\u0010�����65�e�p\f+�j���&�\tb\u0007\u001f�ZZ��8��n��\u001e�\u0002Gu��zF0Gaˠ-a�P8�\u0018�T�x\u0010��'�\tx�N\u0000�n����.S�_?(:7�e\u0019\u0016�u�:�ۧD��_�浵���AiS�\u0010�i����k2\u00071զ�\u000e��m�\u0013�A�&dۈ��\u0005%v\u001f��V���Q��ߏk�\u000e\u001c\u0016\u0007���2��ٵr5�q\u0010fPG��Cm�ǖL�\u000e�a�\u000e?( �\n",
      "vLV��>�\u001c��9�I�\u00135�ٰYQ��A\u0018�x��0�\u0011�\u0018��䈫tP:�JM��V�V�\u0015�Q\u0005\u000fY�\u001e4���ߣ\u00109+��Al|�Q�z��=�\\�'\u001c\u0014�&_F\u001fT��3�4\u0002��� 2G��\u000e��*)�\u001e�-\u0013��1[h�7�A� ��~\u0007�O�a��\u0005�yA�y\u0004c�����A�Y#���\u0010\u001c\u0013a\n",
      "���!�[���a�\u0017%:�\u0006�XTY*�Y�/\u0003A���m.�v�G\u0016��U��H���\u001a�LZܾ�����b0$.�gIED:�I�Y\u001c���~QO'��X�n�|c�eᑼ�kUj\u0018kѺȑF\u0002&������Am�;N�<Of�Ud��E9�C*r��h���\u001a\u0017sk\u001e��{f\u0019���AcV|�\u0007\u000fUڷ{\u0011|��n�L\u0005�MmU��~�\u0004�=�\u000f\u0014���C����Rsk��IDS\u0016Y�����\"���R�J�=kQw\u0019Od�\u001aՉ�� ES�UD�Q�a�^X��E��W����S\u0017y�)mOZ\u0004�&\u001d�k\"��O�oƛ���J�0�龨M�xR\t926���GE��%J�BY�٢���-\u0007E6_.,*s���E%t��j\u0017�{���-g�v\u0019���>*\u001b��+�\u0000�X~�����M�K<�F�)�l2ّ�*H�s����0�j���\"\n",
      "b\u0018Pv\u0000x|%&�#�\u0016S�V�z�~��zRhܖ�����\u0007��׻�����\th7���\u0007�Γ�<dd�.\u0015I\u0017B�8\u001f\u0015\u0001�G��@}�<�(GH\\�,ǓR�t�>h��:\u0000��u\u0016�w��H8`�\u0014�2>A�ar��t7=\u000f\u0012\u00190\u000b\u0014BË�Bw`�i\u000b��\t\u000e��\u0014D\u0006��� kT���B�>� ��U\u0004\u0000\u001dX\u000f��p�\u001d\u0019W�\f\u001c�L�`hd����8�h`�\u0000 \u0006ώ����N\u0016�`j\u0016��\u0006\u000f���J\u0019�vh�֣��M�<\u0000\u0005\u0001\u0010�\u0001���ĥ�fWe&>�j��]�A�V\u0005���\\ڍ��s�\u0019�\n",
      "a��p�4Ьge�UѪ�Q�\u001d�}\u0010�*�e��\u0018D2�a.\u001az���\tɍN6t\"]1UL�\n",
      "Q\u0000�0CGM\f�\u0016mrL��z/X��˜%��\u0018�L\u0006M�\u0005�A�%г��,$J��4h�\u0004\u0001q�PH��22�b����\u001bG�1\f���p��\u001eq�Q�\u0017WPH\u000e6�)�\u001c�\t�2F�~\u0012\u0010s\u0018&\u001e\u0004��k�EM�N� �a\u0006\u000fJ}[7�9R\u001fD�\t�\u0003����&�Wu>\u0018:\u001f\f4�\u0011�i!){\u000e㠩\u001f�\u001b�\u001d{�O�t\u0013����t\u0001��)Ԝ�\n",
      "8�?&\u0003vC�\tA�\\,ʅ(Q��8��� �y�aʩ\u0004�{)�\u0017$�@J���1��\u0005�t?:\u001e~��'$==��r1)W5Ǒ��ȹ�������� �*\u0012\f�.Cy�z�\u0014f���BP���[�v�\u0017!��\u0003\u0002����i9f�� ���e9�+�\u0011��\f\u0006a��;��o��\u000f3��GWo*\u001b�|\u0010�\u0003ȸ��\t��\u0007�\n",
      "&��V\u0006���70+E�;e��5�\"2M�r\u001dg+����\u001fk\u0006_�\u0017)$ \u001d{E��x\u0015�\u0010�\u000f���d�T�T�\u0011Dc�+��xΎ��\u0011\u0002�Q>��E<�o���< \tw?\u000b)��\u001b0�\u0019�4)�on�GI?y�T��� �7�\u001f}0\u0018F)��^\tH�4�̹$��*��O�zq�Kԥ_l�\u001b,����1\u001d.V�%�tt�~v��\u0016v\u0019���n^\u001e%u]e\u000b#�\\+\fyG\"-�p�8\u0016<�\u001c,3���#M�i\u001aڠu�\t�\u0007�<�Ի�8��}v\u0004\u0010�qX\"AH�\u0019[�Bn�o\u0006�\u001dI@-��fS:\fZ\u000e\u000b��<p����.�ubj\\/t�Ev$J��B�p[)\u000e/[���y��rwi��3�<�Ҧ��\u0016\u0001Ɣ\u0015@�u�5�JV�R���a�\u0017\u001c\u0003�+l,/���\u001f�r�����\u0015�5:\u000b��3a�\\/� ཥ\u0011\u0004͟�z��g^�}��KB/�b��dƮ�\u001fxXb��\u0018n�\u0006Mo`��(8\u0001��9��ASJA3\u0011�\u001c��s>�Rߢ�\u000eHO�Z�\u001a�T\n",
      "�#�g�/=�~+O�\u001e�*B`������\u001f�C�\u001a�\u00013��q����\u000f����&�(7\u0005T�����'��C�C\u0019\u0004����\u0010@�k��e\u0015��ϔ\t#\u001b%[��\u001a\u0019�l\u000b�\u0013�I72h\"1��Q�z>g�-٪Y�\u0013k����r�Nَ`[&ڍʣS��\u0005�cg�Ð�]��<\u0010\u001a\u001e� \fZ��\u0000���B\u0000��a�#��#6=�\u001f��oy�B>isKeo�\u0010�\u001e:�H4�rT���YF�>գ��9�Qz�3�x��\n",
      "4�\u0016P�\n",
      "\u0013��i��7sR������Y��Y�q�\u0013��#�Ih%\u0005Ԡ��}�L��^�\"�M�����#�\u001aL�$\u0006Mw�S��0�+\u0007*\u000b��w�v�ښ^��\u0003�zPnx^ءN�$�\t��i��\"Q��\u0012&:\u00019\u0001��{��=��-���\u0018#�л�\u0019���>h�-\u0010_\u001d\u0015�\u0004�2_=&\u0007!��\u000e]�)3�^'�c�z�����9o^���5�\fhG��c�^��f���qC�\u001bm���׎/ɪ��a����Ø�V<HH�g�2nsdb��!Sbi���J�u��<��8�\u001et�\u001a=�R\u0010\u00039%9�j��j�9=���wčgs�3�(�\u0019��\u0005�Z\n",
      "\u0006ݑ��RO\u001a�_\u0012A�S��#���r��qOH�_�\u001a�t�^\u0010���\u001e\u0019H�.�$[����\u001d��s&�U��n�N\u0006�Y��\u0007/��\u0005u�AP\u001dd��&e���F\u001e�jo#�~Դ�\u001c�իm�\u001d��z]Ku\u0013@q�\u00182OZ@�\u001d��<p�ke�\u001b?n�[\\52�>k\u0005>H�T�\u001bPO����\u001a�?m^_�{J`a}C�E��\u000b�;���\u000by����o�[۵�Â�\u0001B\u0007I`��vڢÍ�h���ɬ����O�󽮅w\u0018ɱ\u0016\u0016\u001e�ʃ�\u001f3.\u00194y�\n",
      "9���MN<��\n"
     ]
    }
   ],
   "source": [
    "# Data to read - offers.csv\n",
    "data_dir_offers = f'{base_path}/offers.csv.gz'\n",
    "data_file_offers = data_dir_offers\n",
    "\n",
    "! head $data_file_offers\n",
    "\n",
    "# Data to read - sampleSubmission.csv\n",
    "data_dir_sampleSubmission = f'{base_path}/sampleSubmission.csv.gz'\n",
    "data_file_sampleSubmission = data_dir_sampleSubmission\n",
    "\n",
    "! head $data_file_sampleSubmission\n",
    "\n",
    "# Data to read - testHistory.csv\n",
    "data_dir_testHistory = f'{base_path}/testHistory.csv.gz'\n",
    "data_file_testHistory = data_dir_testHistory\n",
    "\n",
    "! head $data_file_testHistory\n",
    "\n",
    "# Data to read - trainHistory.csv\n",
    "data_dir_trainHistory = f'{base_path}/trainHistory.csv.gz'\n",
    "data_file_trainHistory = data_dir_trainHistory\n",
    "\n",
    "! head $data_file_trainHistory\n",
    "\n",
    "# Data to read - transactions.csv\n",
    "data_dir_transactions = f'{base_path}/transactions.csv.gz'\n",
    "data_file_transactions = data_dir_transactions\n",
    "\n",
    "! head $data_file_transactions;"
   ]
  },
  {
   "cell_type": "markdown",
   "id": "8a43edd2",
   "metadata": {},
   "source": [
    "**Offers**"
   ]
  },
  {
   "cell_type": "code",
   "execution_count": 4,
   "id": "6250d4e2",
   "metadata": {},
   "outputs": [],
   "source": [
    "# Reading data - offers.csv\n",
    "df_offers = spark.read.csv(\n",
    "        data_file_offers, \n",
    "        header=True, sep=',', inferSchema=True\n",
    "    )"
   ]
  },
  {
   "cell_type": "markdown",
   "id": "84ab166c",
   "metadata": {},
   "source": [
    "**TESTHISTORY**"
   ]
  },
  {
   "cell_type": "code",
   "execution_count": 5,
   "id": "f86dde9b",
   "metadata": {},
   "outputs": [],
   "source": [
    "# Reading data - testHistory.csv\n",
    "df_testHistory = spark.read.csv(\n",
    "        data_file_testHistory, \n",
    "        header=True, sep=',', inferSchema=True\n",
    "    )"
   ]
  },
  {
   "cell_type": "markdown",
   "id": "1cfbc10a",
   "metadata": {},
   "source": [
    "**TRAINHISTORY**"
   ]
  },
  {
   "cell_type": "code",
   "execution_count": 6,
   "id": "7a9cd66d",
   "metadata": {},
   "outputs": [],
   "source": [
    "# Reading data - trainHistory.csv\n",
    "df_trainHistory = spark.read.csv(\n",
    "        data_file_trainHistory, \n",
    "        header=True, sep=',', inferSchema=True\n",
    "    )"
   ]
  },
  {
   "cell_type": "markdown",
   "id": "c47ae2ce",
   "metadata": {},
   "source": [
    "**TRANSACTIONS**"
   ]
  },
  {
   "cell_type": "code",
   "execution_count": 7,
   "id": "896ed043",
   "metadata": {},
   "outputs": [],
   "source": [
    "df_transactions = spark.read.csv(\n",
    "    data_file_transactions, \n",
    "    header=True, sep=',', inferSchema=False\n",
    ").sample(fraction=0.001, seed=42).limit(1000000)"
   ]
  },
  {
   "cell_type": "code",
   "execution_count": 9,
   "id": "9a32b414",
   "metadata": {},
   "outputs": [
    {
     "name": "stdout",
     "output_type": "stream",
     "text": [
      "Features saved to /home/jovyan/code/data/customer_features.csv\n"
     ]
    }
   ],
   "source": [
    "import csv\n",
    "import os\n",
    "import datetime\n",
    "\n",
    "# Input and output paths\n",
    "input_dir = \"/home/jovyan/code/data/output_files\"\n",
    "output_file = \"/home/jovyan/code/data/customer_features.csv\"\n",
    "\n",
    "# Dictionary to store features for all customers\n",
    "features = {}\n",
    "\n",
    "# Process each customer file\n",
    "for filename in os.listdir(input_dir):\n",
    "    if filename.endswith(\".csv\"):\n",
    "        customer_id = filename.split(\".\")[0]\n",
    "        file_path = os.path.join(input_dir, filename)\n",
    "\n",
    "        total_transactions = 0\n",
    "        total_spent = 0.0\n",
    "        first_purchase = None\n",
    "        last_purchase = None\n",
    "        unique_categories = set()\n",
    "        unique_products = set()\n",
    "\n",
    "        # Open and read the file\n",
    "        with open(file_path, 'r', newline='') as infile:\n",
    "            reader = csv.reader(infile)\n",
    "            next(reader)  # Skip header\n",
    "\n",
    "            for row in reader:\n",
    "                total_transactions += 1\n",
    "                amount = float(row[10])  # purchaseamount is the 11th column (index 10)\n",
    "                total_spent += amount\n",
    "\n",
    "                # Parse date for temporal features\n",
    "                date_str = row[6]  # date is the 7th column (index 6)\n",
    "                date = datetime.datetime.strptime(date_str, '%Y-%m-%d')\n",
    "                if first_purchase is None or date < first_purchase:\n",
    "                    first_purchase = date\n",
    "                if last_purchase is None or date > last_purchase:\n",
    "                    last_purchase = date\n",
    "\n",
    "                # Track unique categories and products (using company as proxy for product)\n",
    "                unique_categories.add(row[3])  # category is the 4th column (index 3)\n",
    "                unique_products.add(row[4])    # company is the 5th column (index 4)\n",
    "\n",
    "        # Calculate average spent\n",
    "        avg_spent = total_spent / total_transactions if total_transactions > 0 else 0.0\n",
    "\n",
    "        # Store features\n",
    "        features[customer_id] = {\n",
    "            \"total_transactions\": total_transactions,\n",
    "            \"total_spent\": round(total_spent, 2),\n",
    "            \"avg_spent\": round(avg_spent, 2),\n",
    "            \"first_purchase\": first_purchase.strftime('%Y-%m-%d') if first_purchase else \"\",\n",
    "            \"last_purchase\": last_purchase.strftime('%Y-%m-%d') if last_purchase else \"\",\n",
    "            \"unique_categories\": len(unique_categories),\n",
    "            \"unique_products\": len(unique_products)\n",
    "        }\n",
    "\n",
    "# Write features to output CSV\n",
    "with open(output_file, 'w', newline='') as outfile:\n",
    "    writer = csv.writer(outfile)\n",
    "    # Write header\n",
    "    writer.writerow([\n",
    "        \"id\",\n",
    "        \"total_transactions\",\n",
    "        \"total_spent\",\n",
    "        \"avg_spent\",\n",
    "        \"first_purchase\",\n",
    "        \"last_purchase\",\n",
    "        \"unique_categories\",\n",
    "        \"unique_products\"\n",
    "    ])\n",
    "    # Write data for each customer\n",
    "    for customer_id, feature_dict in features.items():\n",
    "        writer.writerow([\n",
    "            customer_id,\n",
    "            feature_dict[\"total_transactions\"],\n",
    "            feature_dict[\"total_spent\"],\n",
    "            feature_dict[\"avg_spent\"],\n",
    "            feature_dict[\"first_purchase\"],\n",
    "            feature_dict[\"last_purchase\"],\n",
    "            feature_dict[\"unique_categories\"],\n",
    "            feature_dict[\"unique_products\"]\n",
    "        ])\n",
    "\n",
    "print(f\"Features saved to {output_file}\")"
   ]
  },
  {
   "cell_type": "code",
   "execution_count": 8,
   "id": "d3f6b7b8",
   "metadata": {},
   "outputs": [
    {
     "name": "stdout",
     "output_type": "stream",
     "text": [
      "id,total_transactions,total_spent,avg_spent,first_purchase,last_purchase,unique_categories,unique_products\n",
      "100007447,1096,6644.88,6.06,2012-03-06,2013-04-21,235,226\n",
      "100010021,349,1419.96,4.07,2012-03-12,2013-05-12,123,109\n",
      "100012115,118,553.02,4.69,2012-03-12,2013-04-17,62,54\n",
      "100017875,348,992.29,2.85,2012-03-04,2013-03-16,109,113\n",
      "100022923,617,3771.86,6.11,2012-03-02,2013-05-14,202,170\n",
      "100025687,367,2091.19,5.7,2012-03-04,2013-06-11,120,114\n",
      "100027361,696,3767.32,5.41,2012-03-09,2013-06-16,191,212\n",
      "100029473,1644,7003.57,4.26,2012-03-04,2013-06-18,346,284\n",
      "100033247,1596,6834.73,4.28,2012-03-04,2013-03-28,265,237\n",
      "df_customer_features - number of rows: 311541\n",
      "root\n",
      " |-- id: long (nullable = true)\n",
      " |-- total_transactions: integer (nullable = true)\n",
      " |-- total_spent: double (nullable = true)\n",
      " |-- avg_spent: double (nullable = true)\n",
      " |-- first_purchase: date (nullable = true)\n",
      " |-- last_purchase: date (nullable = true)\n",
      " |-- unique_categories: integer (nullable = true)\n",
      " |-- unique_products: integer (nullable = true)\n",
      "\n",
      "+---------+------------------+-----------+---------+--------------+-------------+-----------------+---------------+\n",
      "|id       |total_transactions|total_spent|avg_spent|first_purchase|last_purchase|unique_categories|unique_products|\n",
      "+---------+------------------+-----------+---------+--------------+-------------+-----------------+---------------+\n",
      "|100007447|1096              |6644.88    |6.06     |2012-03-06    |2013-04-21   |235              |226            |\n",
      "|100010021|349               |1419.96    |4.07     |2012-03-12    |2013-05-12   |123              |109            |\n",
      "|100012115|118               |553.02     |4.69     |2012-03-12    |2013-04-17   |62               |54             |\n",
      "|100017875|348               |992.29     |2.85     |2012-03-04    |2013-03-16   |109              |113            |\n",
      "|100022923|617               |3771.86    |6.11     |2012-03-02    |2013-05-14   |202              |170            |\n",
      "|100025687|367               |2091.19    |5.7      |2012-03-04    |2013-06-11   |120              |114            |\n",
      "|100027361|696               |3767.32    |5.41     |2012-03-09    |2013-06-16   |191              |212            |\n",
      "|100029473|1644              |7003.57    |4.26     |2012-03-04    |2013-06-18   |346              |284            |\n",
      "|100033247|1596              |6834.73    |4.28     |2012-03-04    |2013-03-28   |265              |237            |\n",
      "|100033640|166               |683.87     |4.12     |2012-11-11    |2013-05-16   |63               |48             |\n",
      "+---------+------------------+-----------+---------+--------------+-------------+-----------------+---------------+\n",
      "only showing top 10 rows\n",
      "\n"
     ]
    }
   ],
   "source": [
    "# Data to read - transactions.csv\n",
    "data_dir_customer_features = '/home/jovyan/code/data/customer_features.csv'\n",
    "data_file_customer_features= data_dir_customer_features\n",
    "\n",
    "! head $data_file_customer_features;\n",
    "# Reading data - offers.csv\n",
    "df_customer_features = spark.read.csv(\n",
    "        data_file_customer_features, \n",
    "        header=True, sep=',', inferSchema=True\n",
    "    )\n",
    "\n",
    "# Checking data that has been read - testHistory.csv\n",
    "print(f'df_customer_features - number of rows: {df_customer_features.count()}')\n",
    "df_customer_features.printSchema()\n",
    "df_customer_features.show(10, truncate=False)\n"
   ]
  },
  {
   "cell_type": "code",
   "execution_count": 10,
   "id": "d81864e0",
   "metadata": {},
   "outputs": [
    {
     "ename": "NameError",
     "evalue": "name 'train_data' is not defined",
     "output_type": "error",
     "traceback": [
      "\u001b[0;31m---------------------------------------------------------------------------\u001b[0m",
      "\u001b[0;31mNameError\u001b[0m                                 Traceback (most recent call last)",
      "Cell \u001b[0;32mIn[10], line 2\u001b[0m\n\u001b[1;32m      1\u001b[0m \u001b[38;5;66;03m# Dividir em treino e validação\u001b[39;00m\n\u001b[0;32m----> 2\u001b[0m train, validation \u001b[38;5;241m=\u001b[39m \u001b[43mtrain_data\u001b[49m\u001b[38;5;241m.\u001b[39mrandomSplit([\u001b[38;5;241m0.8\u001b[39m, \u001b[38;5;241m0.2\u001b[39m], seed\u001b[38;5;241m=\u001b[39m\u001b[38;5;241m42\u001b[39m)\n",
      "\u001b[0;31mNameError\u001b[0m: name 'train_data' is not defined"
     ]
    }
   ],
   "source": [
    "# Dividir em treino e validação\n",
    "train, validation = train_data.randomSplit([0.8, 0.2], seed=42)"
   ]
  },
  {
   "cell_type": "code",
   "execution_count": 16,
   "id": "7338069f",
   "metadata": {},
   "outputs": [],
   "source": [
    "from pyspark.sql import SparkSession\n",
    "from pyspark.sql.types import StructType, StructField, StringType, IntegerType, DoubleType\n",
    "from pyspark.sql.functions import col, when, lit, to_date, datediff\n",
    "\n",
    "# Configurar sessão Spark\n",
    "spark = SparkSession.builder \\\n",
    "    .appName(\"ShoppersChallenge\") \\\n",
    "    .config(\"spark.executor.memory\", \"4g\") \\\n",
    "    .config(\"spark.driver.memory\", \"2g\") \\\n",
    "    .getOrCreate()\n",
    "\n",
    "# Definir esquema para customer_features.csv\n",
    "schema_features = StructType([\n",
    "    StructField(\"id\", StringType(), True),\n",
    "    StructField(\"total_transactions\", IntegerType(), True),\n",
    "    StructField(\"total_spent\", DoubleType(), True),\n",
    "    StructField(\"avg_spent\", DoubleType(), True),\n",
    "    StructField(\"first_purchase\", StringType(), True),\n",
    "    StructField(\"last_purchase\", StringType(), True),\n",
    "    StructField(\"unique_categories\", IntegerType(), True),\n",
    "    StructField(\"unique_products\", IntegerType(), True)\n",
    "])\n",
    "\n",
    "# Carregar customer_features.csv\n",
    "features_df = spark.read.csv(\"/home/jovyan/code/data/customer_features.csv\", header=True, schema=schema_features)\n",
    "\n",
    "# Converter first_purchase e last_purchase para features numéricas\n",
    "reference_date = to_date(lit(\"2025-05-29\"))\n",
    "features_df = features_df.withColumn(\"days_since_first\", datediff(reference_date, to_date(\"first_purchase\"))) \\\n",
    "                        .withColumn(\"days_since_last\", datediff(reference_date, to_date(\"last_purchase\")))\n",
    "\n",
    "# Definir esquema para trainHistory.csv\n",
    "schema_history = StructType([\n",
    "    StructField(\"id\", StringType(), True),\n",
    "    StructField(\"chain\", StringType(), True),\n",
    "    StructField(\"offer\", StringType(), True),\n",
    "    StructField(\"market\", StringType(), True),\n",
    "    StructField(\"repeattrips\", IntegerType(), True),\n",
    "    StructField(\"repeater\", StringType(), True),\n",
    "    StructField(\"offerdate\", StringType(), True)\n",
    "])\n",
    "\n",
    "\n",
    "# Juntar features com a variável alvo\n",
    "train_data = features_df.join(\n",
    "    df_trainHistory.select(\"id\", \"repeater\"),\n",
    "    features_df.id == df_trainHistory.id,\n",
    "    \"inner\"\n",
    ").withColumn(\"target\", when(col(\"repeater\") == \"t\", 1).otherwise(0)).drop(\"repeater\", \"first_purchase\", \"last_purchase\")"
   ]
  },
  {
   "cell_type": "code",
   "execution_count": 17,
   "id": "d5a47129",
   "metadata": {},
   "outputs": [],
   "source": [
    "# Dividir em treino e validação\n",
    "train, validation = train_data.randomSplit([0.8, 0.2], seed=42)"
   ]
  },
  {
   "cell_type": "code",
   "execution_count": 18,
   "id": "486465a7",
   "metadata": {},
   "outputs": [
    {
     "name": "stdout",
     "output_type": "stream",
     "text": [
      "LogisticRegression AUC-ROC: 0.5927542816089806\n",
      "RandomForest AUC-ROC: 0.6365021366961058\n",
      "GradientBoosting AUC-ROC: 0.6333764174816299\n",
      "Melhor modelo: RandomForest com AUC-ROC 0.6365021366961058\n"
     ]
    }
   ],
   "source": [
    "from pyspark.ml.feature import VectorAssembler\n",
    "from pyspark.ml.classification import LogisticRegression, RandomForestClassifier, GBTClassifier\n",
    "from pyspark.ml.evaluation import BinaryClassificationEvaluator\n",
    "from pyspark.ml.tuning import CrossValidator, ParamGridBuilder\n",
    "\n",
    "# Combinar features em um vetor\n",
    "feature_cols = [\n",
    "    \"total_transactions\",\n",
    "    \"total_spent\",\n",
    "    \"avg_spent\",\n",
    "    \"unique_categories\",\n",
    "    \"unique_products\",\n",
    "    \"days_since_first\",\n",
    "    \"days_since_last\"\n",
    "]\n",
    "assembler = VectorAssembler(inputCols=feature_cols, outputCol=\"features\")\n",
    "train_assembled = assembler.transform(train)\n",
    "validation_assembled = assembler.transform(validation)\n",
    "\n",
    "# Inicializar modelos\n",
    "models = {\n",
    "    \"LogisticRegression\": LogisticRegression(labelCol=\"target\", featuresCol=\"features\"),\n",
    "    \"RandomForest\": RandomForestClassifier(labelCol=\"target\", featuresCol=\"features\"),\n",
    "    \"GradientBoosting\": GBTClassifier(labelCol=\"target\", featuresCol=\"features\")\n",
    "}\n",
    "\n",
    "# Avaliar modelos\n",
    "evaluator = BinaryClassificationEvaluator(labelCol=\"target\", metricName=\"areaUnderROC\")\n",
    "results = {}\n",
    "\n",
    "for name, model in models.items():\n",
    "    # Configurar validação cruzada\n",
    "    paramGrid = ParamGridBuilder().build()\n",
    "    if name == \"RandomForest\":\n",
    "        paramGrid = ParamGridBuilder() \\\n",
    "            .addGrid(model.numTrees, [50, 100]) \\\n",
    "            .addGrid(model.maxDepth, [5, 10]) \\\n",
    "            .build()\n",
    "    elif name == \"GradientBoosting\":\n",
    "        paramGrid = ParamGridBuilder() \\\n",
    "            .addGrid(model.maxIter, [10, 20]) \\\n",
    "            .addGrid(model.maxDepth, [5, 7]) \\\n",
    "            .build()\n",
    "    \n",
    "    crossval = CrossValidator(\n",
    "        estimator=model,\n",
    "        estimatorParamMaps=paramGrid,\n",
    "        evaluator=evaluator,\n",
    "        numFolds=3\n",
    "    )\n",
    "    \n",
    "    # Treinar modelo\n",
    "    cv_model = crossval.fit(train_assembled)\n",
    "    \n",
    "    # Avaliar na validação\n",
    "    predictions = cv_model.transform(validation_assembled)\n",
    "    auc = evaluator.evaluate(predictions)\n",
    "    results[name] = auc\n",
    "    print(f\"{name} AUC-ROC: {auc}\")\n",
    "\n",
    "# Selecionar o melhor modelo\n",
    "best_model_name = max(results, key=results.get)\n",
    "print(f\"Melhor modelo: {best_model_name} com AUC-ROC {results[best_model_name]}\")"
   ]
  },
  {
   "cell_type": "code",
   "execution_count": 9,
   "id": "5ecf8de9",
   "metadata": {},
   "outputs": [],
   "source": [
    "from pyspark.sql.functions import col, count, sum, avg, min, datediff, to_date\n",
    "\n",
    "# Step 1: Join transactions with offers to identify relevant transactions\n",
    "df_transactions = df_transactions.withColumnRenamed(\"category\", \"trans_category\") \\\n",
    "                                .withColumnRenamed(\"company\", \"trans_company\") \\\n",
    "                                .withColumnRenamed(\"brand\", \"trans_brand\")\n",
    "\n",
    "df_offer_transactions = df_transactions.join(\n",
    "    df_offers.select(\"offer\", \"category\", \"company\", \"brand\"),\n",
    "    (df_transactions.trans_category == df_offers.category) &\n",
    "    (df_transactions.trans_company == df_offers.company) &\n",
    "    (df_transactions.trans_brand == df_offers.brand),\n",
    "    \"inner\"\n",
    ")"
   ]
  },
  {
   "cell_type": "code",
   "execution_count": 10,
   "id": "cf0fc7f8",
   "metadata": {},
   "outputs": [],
   "source": [
    "# Step 2: Join with trainHistory to associate transactions with customers and offerdates\n",
    "# Include 'id' and 'chain' in the join to ensure correct matching\n",
    "df_offer_transactions = df_offer_transactions.join(\n",
    "    df_trainHistory.select(\"id\", \"chain\", \"offer\", \"offerdate\"),\n",
    "    [\"id\", \"offer\", \"chain\"],  # Join on id, offer, and chain to avoid ambiguity\n",
    "    \"inner\"\n",
    ")"
   ]
  },
  {
   "cell_type": "code",
   "execution_count": 11,
   "id": "9b5520d1",
   "metadata": {},
   "outputs": [],
   "source": [
    "# Step 3: Filter transactions before offerdate\n",
    "df_offer_transactions = df_offer_transactions.filter(\n",
    "    to_date(df_offer_transactions.date) <= to_date(df_offer_transactions.offerdate)\n",
    ")"
   ]
  },
  {
   "cell_type": "code",
   "execution_count": 12,
   "id": "69bf8497",
   "metadata": {},
   "outputs": [],
   "source": [
    "# Step 4: Aggregate offer-specific features\n",
    "offer_features = df_offer_transactions.groupBy(\"id\").agg(\n",
    "    count(\"*\").alias(\"offer_purchase_count\"),\n",
    "    sum(\"purchaseamount\").alias(\"offer_total_spent\"),\n",
    "    avg(\"purchaseamount\").alias(\"offer_avg_spent\"),\n",
    "    min(datediff(to_date(\"offerdate\"), to_date(\"date\"))).alias(\"days_since_last_offer_purchase\")\n",
    ")"
   ]
  },
  {
   "cell_type": "code",
   "execution_count": 13,
   "id": "3fd1d9a1",
   "metadata": {},
   "outputs": [],
   "source": [
    "# Step 5: Join with existing customer features\n",
    "df_customer_features = df_customer_features.join(\n",
    "    offer_features,\n",
    "    \"id\",\n",
    "    \"left\"\n",
    ").na.fill(0)  # Fill nulls for customers with no offer-related transactions"
   ]
  },
  {
   "cell_type": "code",
   "execution_count": null,
   "id": "ba1a3651",
   "metadata": {},
   "outputs": [
    {
     "name": "stdout",
     "output_type": "stream",
     "text": [
      "root\n",
      " |-- id: long (nullable = true)\n",
      " |-- total_transactions: integer (nullable = true)\n",
      " |-- total_spent: double (nullable = false)\n",
      " |-- avg_spent: double (nullable = false)\n",
      " |-- first_purchase: date (nullable = true)\n",
      " |-- last_purchase: date (nullable = true)\n",
      " |-- unique_categories: integer (nullable = true)\n",
      " |-- unique_products: integer (nullable = true)\n",
      " |-- offer_purchase_count: long (nullable = true)\n",
      " |-- offer_total_spent: double (nullable = false)\n",
      " |-- offer_avg_spent: double (nullable = false)\n",
      " |-- days_since_last_offer_purchase: integer (nullable = true)\n",
      "\n"
     ]
    }
   ],
   "source": [
    "# Drop date columns to avoid issues\n",
    "# df_customer_features = df_customer_features.drop(\"first_purchase\", \"last_purchase\")\n",
    "\n",
    "# Verify updated schema\n",
    "df_customer_features.printSchema()\n",
    "# df_customer_features.show(2, truncate=False)"
   ]
  },
  {
   "cell_type": "code",
   "execution_count": 19,
   "id": "4d915a8e",
   "metadata": {},
   "outputs": [
    {
     "name": "stdout",
     "output_type": "stream",
     "text": [
      "+-------+------------------+------------------+------------------+-----------------+------------------+--------------------+---------------------+---------------------+------------------------------+\n",
      "|summary|total_transactions|total_spent       |avg_spent         |unique_categories|unique_products   |offer_purchase_count|offer_total_spent    |offer_avg_spent      |days_since_last_offer_purchase|\n",
      "+-------+------------------+------------------+------------------+-----------------+------------------+--------------------+---------------------+---------------------+------------------------------+\n",
      "|count  |311541            |311541            |311541            |311541           |311541            |311541              |311541               |311541               |311541                        |\n",
      "|mean   |1122.3427702934766|5038.425828478443 |4.359585672511802 |192.4385297601279|198.97684734914506|3.306145900539576E-4|0.0023614548325902535|0.0020724238543241504|0.03375799653978128           |\n",
      "|stddev |8730.683040560669 |138000.87400248708|1.7295477768345946|82.53397401130027|105.20084707638428|0.019704919116290392|0.1861404643196361   |0.15437716818290947  |2.659714924447684             |\n",
      "|min    |1                 |-3.225059109E7    |-295.82           |1                |1                 |0                   |0.0                  |0.0                  |0                             |\n",
      "|25%    |453               |1908.29           |3.41              |133              |129               |0                   |0.0                  |0.0                  |0                             |\n",
      "|50%    |878               |3554.86           |4.06              |194              |192               |0                   |0.0                  |0.0                  |0                             |\n",
      "|75%    |1430              |5758.79           |4.89              |250              |258               |0                   |0.0                  |0.0                  |0                             |\n",
      "|max    |2647164           |4.832166359E7     |156.07            |784              |6748              |2                   |39.49                |32.94                |413                           |\n",
      "+-------+------------------+------------------+------------------+-----------------+------------------+--------------------+---------------------+---------------------+------------------------------+\n",
      "\n"
     ]
    },
    {
     "data": {
      "text/plain": [
       "DataFrame[id: bigint, total_transactions: int, total_spent: double, avg_spent: double, first_purchase: date, last_purchase: date, unique_categories: int, unique_products: int, offer_purchase_count: bigint, offer_total_spent: double, offer_avg_spent: double, days_since_last_offer_purchase: int]"
      ]
     },
     "execution_count": 19,
     "metadata": {},
     "output_type": "execute_result"
    }
   ],
   "source": [
    "feature_cols = [\n",
    "    \"total_transactions\", \"total_spent\",\"avg_spent\", \"unique_categories\", \"unique_products\",\n",
    "    \"offer_purchase_count\", \"offer_total_spent\", \"offer_avg_spent\",\"days_since_last_offer_purchase\"\n",
    "]\n",
    "# Cache df_customer_features\n",
    "df_customer_features.cache()\n",
    "\n",
    "# Compute summary statistics\n",
    "df_customer_features.select(feature_cols).summary().show(truncate=False)\n",
    "\n",
    "# Unpersist when done to free memory\n",
    "df_customer_features.unpersist()"
   ]
  },
  {
   "cell_type": "markdown",
   "id": "17aad12a",
   "metadata": {},
   "source": [
    "As funcionalidades específicas de oferta, como offer_purchase_count, são muito escassas. As estatísticas mostram uma média de ~0.00033 e 75% dos clientes com valor 0, indica que poucos clientes têm transações relacionadas com as ofertas.\n",
    "Esta escassez deve-se à junção restritiva entre transactions.csv e offers.csv, que exige correspondência exata em três colunas: category, company e brand. Por exemplo, uma oferta para \"Bebidas, Coca-Cola, Sprite\" só inclui transações de Sprite da Coca-Cola na categoria Bebidas.\n",
    "A restrição date <= offerdate e o número limitado de combinações em offers.csv reduzem ainda mais as transações válidas, tornando estas funcionalidades pouco informativas para prever o estado de repeater."
   ]
  },
  {
   "cell_type": "code",
   "execution_count": 14,
   "id": "3b566d07",
   "metadata": {},
   "outputs": [
    {
     "name": "stdout",
     "output_type": "stream",
     "text": [
      "+-------+------------------------+---------------------+--------------------+\n",
      "|summary|offer_purchase_count_cat|offer_total_spent_cat|offer_avg_spent_cat |\n",
      "+-------+------------------------+---------------------+--------------------+\n",
      "|count  |311541                  |311541               |311541              |\n",
      "|mean   |0.0029017047515415306   |0.014571918302887791 |0.013192694082457313|\n",
      "|stddev |0.06058118879316296     |0.47635459796674195  |0.3207507011622313  |\n",
      "|min    |0                       |-1.09                |-1.09               |\n",
      "|25%    |0                       |0.0                  |0.0                 |\n",
      "|50%    |0                       |0.0                  |0.0                 |\n",
      "|75%    |0                       |0.0                  |0.0                 |\n",
      "|max    |8                       |167.03999999999996   |32.94               |\n",
      "+-------+------------------------+---------------------+--------------------+\n",
      "\n"
     ]
    }
   ],
   "source": [
    "from pyspark.sql.functions import count, sum, avg, min, datediff, to_date\n",
    "\n",
    "# Looser join on category only\n",
    "df_offer_transactions = df_transactions.join(\n",
    "    df_offers.select(\"offer\", \"category\"),\n",
    "    df_transactions.trans_category == df_offers.category,\n",
    "    \"inner\"\n",
    ").join(\n",
    "    df_trainHistory.select(\"id\", \"chain\", \"offer\", \"offerdate\"),\n",
    "    [\"id\", \"offer\", \"chain\"],\n",
    "    \"inner\"\n",
    ").filter(to_date(\"date\") <= to_date(\"offerdate\"))\n",
    "\n",
    "# Aggregate category-based offer features\n",
    "offer_features = df_offer_transactions.groupBy(\"id\").agg(\n",
    "    count(\"*\").alias(\"offer_purchase_count_cat\"),\n",
    "    sum(\"purchaseamount\").alias(\"offer_total_spent_cat\"),\n",
    "    avg(\"purchaseamount\").alias(\"offer_avg_spent_cat\"),\n",
    "    min(datediff(to_date(\"offerdate\"), to_date(\"date\"))).alias(\"days_since_last_offer_purchase_cat\")\n",
    ")\n",
    "\n",
    "# Join with df_customer_features\n",
    "df_customer_features = df_customer_features.join(offer_features, \"id\", \"left\").na.fill(0)\n",
    "\n",
    "# Check summary of new features\n",
    "df_customer_features.select(\n",
    "    \"offer_purchase_count_cat\", \"offer_total_spent_cat\", \"offer_avg_spent_cat\"\n",
    ").summary().show(truncate=False)"
   ]
  },
  {
   "cell_type": "code",
   "execution_count": 17,
   "id": "62bdcb83",
   "metadata": {},
   "outputs": [
    {
     "name": "stdout",
     "output_type": "stream",
     "text": [
      "+-------+--------------------------+\n",
      "|summary|avg_days_between_purchases|\n",
      "+-------+--------------------------+\n",
      "|count  |311541                    |\n",
      "|mean   |762.6616668467402         |\n",
      "|stddev |392.6921829827085         |\n",
      "|min    |0.0                       |\n",
      "|25%    |274.0                     |\n",
      "|50%    |999.0                     |\n",
      "|75%    |999.0                     |\n",
      "|max    |999.0                     |\n",
      "+-------+--------------------------+\n",
      "\n"
     ]
    }
   ],
   "source": [
    "from pyspark.sql.functions import lag, datediff, avg\n",
    "from pyspark.sql.window import Window\n",
    "\n",
    "window_spec = Window.partitionBy(\"id\").orderBy(\"date\")\n",
    "trans_with_diff = df_transactions.withColumn(\n",
    "    \"prev_date\",\n",
    "    lag(\"date\").over(window_spec)\n",
    ").withColumn(\n",
    "    \"days_diff\",\n",
    "    datediff(to_date(col(\"date\")), to_date(col(\"prev_date\")))\n",
    ")\n",
    "\n",
    "freq_features = trans_with_diff.groupBy(\"id\").agg(\n",
    "    avg(\"days_diff\").alias(\"avg_days_between_purchases\")\n",
    ")\n",
    "df_customer_features = df_customer_features.join(\n",
    "    freq_features,\n",
    "    \"id\",\n",
    "    \"left\"\n",
    ").na.fill(999)\n",
    "\n",
    "df_customer_features.select(\"avg_days_between_purchases\").summary().show(truncate=False)"
   ]
  },
  {
   "cell_type": "code",
   "execution_count": 16,
   "id": "b07b7b8b",
   "metadata": {},
   "outputs": [
    {
     "name": "stdout",
     "output_type": "stream",
     "text": [
      "+-------+---------------------------+\n",
      "|summary|offer_value_per_transaction|\n",
      "+-------+---------------------------+\n",
      "|count  |311541                     |\n",
      "|mean   |0.0029271714752518246      |\n",
      "|stddev |0.05757790593524346        |\n",
      "|min    |0.0                        |\n",
      "|25%    |0.0                        |\n",
      "|50%    |0.0                        |\n",
      "|75%    |0.0                        |\n",
      "|max    |3.0                        |\n",
      "+-------+---------------------------+\n",
      "\n"
     ]
    }
   ],
   "source": [
    "offer_value = df_trainHistory.select(\"id\", \"offer\").join(\n",
    "    df_offers.select(\"offer\", \"offervalue\"),\n",
    "    \"offer\"\n",
    ")\n",
    "df_customer_features = df_customer_features.join(\n",
    "    offer_value.select(\"id\", \"offervalue\"),\n",
    "    \"id\",\n",
    "    \"left\"\n",
    ").withColumn(\n",
    "    \"offer_value_per_transaction\",\n",
    "    col(\"offervalue\") / col(\"offer_purchase_count_cat\")\n",
    ").na.fill(0)\n",
    "\n",
    "df_customer_features.select(\"offer_value_per_transaction\").summary().show(truncate=False)"
   ]
  },
  {
   "cell_type": "code",
   "execution_count": 15,
   "id": "4cae2c78",
   "metadata": {},
   "outputs": [
    {
     "name": "stdout",
     "output_type": "stream",
     "text": [
      "+-------+------------------+\n",
      "|summary|unique_chains     |\n",
      "+-------+------------------+\n",
      "|count  |311541            |\n",
      "|mean   |0.5538693141512674|\n",
      "|stddev |0.4970968817692563|\n",
      "|min    |0                 |\n",
      "|25%    |0                 |\n",
      "|50%    |1                 |\n",
      "|75%    |1                 |\n",
      "|max    |2                 |\n",
      "+-------+------------------+\n",
      "\n"
     ]
    }
   ],
   "source": [
    "from pyspark.sql.functions import countDistinct\n",
    "\n",
    "chain_features = df_transactions.groupBy(\"id\").agg(\n",
    "    countDistinct(\"chain\").alias(\"unique_chains\")\n",
    ")\n",
    "df_customer_features = df_customer_features.join(\n",
    "    chain_features,\n",
    "    \"id\",\n",
    "    \"left\"\n",
    ").na.fill(0)\n",
    "\n",
    "df_customer_features.select(\"unique_chains\").summary().show(truncate=False)"
   ]
  },
  {
   "cell_type": "code",
   "execution_count": 19,
   "id": "a86f8b32",
   "metadata": {},
   "outputs": [
    {
     "name": "stdout",
     "output_type": "stream",
     "text": [
      "root\n",
      " |-- id: long (nullable = true)\n",
      " |-- total_transactions: integer (nullable = true)\n",
      " |-- total_spent: double (nullable = false)\n",
      " |-- avg_spent: double (nullable = false)\n",
      " |-- first_purchase: date (nullable = true)\n",
      " |-- last_purchase: date (nullable = true)\n",
      " |-- unique_categories: integer (nullable = true)\n",
      " |-- unique_products: integer (nullable = true)\n",
      " |-- offer_purchase_count: long (nullable = true)\n",
      " |-- offer_total_spent: double (nullable = false)\n",
      " |-- offer_avg_spent: double (nullable = false)\n",
      " |-- days_since_last_offer_purchase: integer (nullable = true)\n",
      " |-- offer_purchase_count_cat: long (nullable = true)\n",
      " |-- offer_total_spent_cat: double (nullable = false)\n",
      " |-- offer_avg_spent_cat: double (nullable = false)\n",
      " |-- days_since_last_offer_purchase_cat: integer (nullable = true)\n",
      " |-- unique_chains: long (nullable = true)\n",
      " |-- offervalue: double (nullable = false)\n",
      " |-- offer_value_per_transaction: double (nullable = false)\n",
      " |-- avg_days_between_purchases: double (nullable = false)\n",
      "\n"
     ]
    }
   ],
   "source": [
    "df_customer_features.printSchema()"
   ]
  },
  {
   "cell_type": "markdown",
   "id": "1c0baa41",
   "metadata": {},
   "source": [
    "**valiar Funcionalidades - Verificar Correlações**"
   ]
  },
  {
   "cell_type": "code",
   "execution_count": 21,
   "id": "a451ccf0",
   "metadata": {},
   "outputs": [],
   "source": [
    "feature_cols = [\n",
    "    \"total_transactions\", \"total_spent\", \"avg_spent\",\n",
    "    \"unique_categories\", \"unique_products\",\n",
    "    \"offer_purchase_count\", \"offer_total_spent\", \"offer_avg_spent\",\n",
    "    \"days_since_last_offer_purchase\",\n",
    "    \"offer_purchase_count_cat\", \"offer_total_spent_cat\", \"offer_avg_spent_cat\",\n",
    "    \"days_since_last_offer_purchase_cat\",\n",
    "    \"unique_chains\", \"offervalue\", \"offer_value_per_transaction\",\n",
    "    \"avg_days_between_purchases\"\n",
    "]"
   ]
  },
  {
   "cell_type": "code",
   "execution_count": 22,
   "id": "9c32b6dc",
   "metadata": {},
   "outputs": [
    {
     "name": "stdout",
     "output_type": "stream",
     "text": [
      "Matriz de Correlação:\n",
      "total_transactions: [ 1.          0.98660498  0.02908827  0.13359913  0.40951923  0.19240689\n",
      "  0.30405577  0.28483415  0.02215508  0.69727804  0.54578781  0.31086169\n",
      "  0.04812621  0.04185929  0.01323587  0.04020481 -0.05566961]\n",
      "total_spent: [ 0.98660498  1.          0.04480806  0.08016611  0.33660929  0.16225113\n",
      "  0.25658141  0.24029869  0.01850099  0.69602142  0.50597579  0.27159314\n",
      "  0.04418412  0.01796431  0.00886273  0.02877265 -0.02782393]\n",
      "avg_spent: [ 2.90882733e-02  4.48080598e-02  1.00000000e+00 -2.51785504e-01\n",
      " -9.45975817e-02  1.35204929e-02  2.15331053e-02  1.98103669e-02\n",
      "  8.45101578e-04  2.72097217e-02  2.98551227e-02  1.39704380e-02\n",
      " -5.60719144e-03 -1.32031014e-01 -6.70670098e-02 -5.34870401e-03\n",
      "  1.22979856e-01]\n",
      "unique_categories: [ 0.13359913  0.08016611 -0.2517855   1.          0.8653264   0.02822381\n",
      "  0.03826858  0.03739519  0.0111758   0.06362297  0.05483902  0.05309871\n",
      "  0.02937216  0.45540342  0.08290755  0.03161104 -0.44742767]\n",
      "unique_products: [ 0.40951923  0.33660929 -0.09459758  0.8653264   1.          0.18728052\n",
      "  0.28984305  0.27316896  0.02764706  0.31102809  0.36221045  0.23944947\n",
      "  0.04696348  0.38297559  0.10450968  0.05796619 -0.38917237]\n",
      "offer_purchase_count: [ 0.19240689  0.16225113  0.01352049  0.02822381  0.18728052  1.\n",
      "  0.84920694  0.90990051  0.54310578  0.46305294  0.6048563   0.45902169\n",
      "  0.08229927  0.01178511  0.01027493  0.1670914  -0.01991667]\n",
      "offer_total_spent: [ 0.30405577  0.25658141  0.02153311  0.03826858  0.28984305  0.84920694\n",
      "  1.          0.98027432  0.24919582  0.54753928  0.88988043  0.54483513\n",
      "  0.03761824  0.00858733  0.01150447  0.09035521 -0.01688326]\n",
      "offer_avg_spent: [ 0.28483415  0.24029869  0.01981037  0.03739519  0.27316896  0.90990051\n",
      "  0.98027432  1.          0.34342139  0.54168324  0.84189113  0.54259528\n",
      "  0.05192212  0.01006815  0.01168045  0.1252046  -0.01873118]\n",
      "days_since_last_offer_purchase: [ 2.21550840e-02  1.85009863e-02  8.45101578e-04  1.11758022e-02\n",
      "  2.76470641e-02  5.43105778e-01  2.49195819e-01  3.43421389e-01\n",
      "  1.00000000e+00  1.60997207e-01  9.84909146e-02  1.46881354e-01\n",
      "  1.52143440e-01  8.20811076e-03  4.85265059e-03  1.57474516e-01\n",
      " -4.11972179e-03]\n",
      "offer_purchase_count_cat: [ 0.69727804  0.69602142  0.02720972  0.06362297  0.31102809  0.46305294\n",
      "  0.54753928  0.54168324  0.16099721  1.          0.7582704   0.80894631\n",
      "  0.56471817  0.03360478  0.02447591  0.63564576 -0.03736352]\n",
      "offer_total_spent_cat: [ 0.54578781  0.50597579  0.02985512  0.05483902  0.36221045  0.6048563\n",
      "  0.88988043  0.84189113  0.09849091  0.7582704   1.          0.70480091\n",
      "  0.18754785  0.01565836  0.01633542  0.23103361 -0.02114368]\n",
      "offer_avg_spent_cat: [ 0.31086169  0.27159314  0.01397044  0.05309871  0.23944947  0.45902169\n",
      "  0.54483513  0.54259528  0.14688135  0.80894631  0.70480091  1.\n",
      "  0.64553266  0.03898681  0.02732347  0.76620195 -0.03603052]\n",
      "days_since_last_offer_purchase_cat: [ 0.04812621  0.04418412 -0.00560719  0.02937216  0.04696348  0.08229927\n",
      "  0.03761824  0.05192212  0.15214344  0.56471817  0.18754785  0.64553266\n",
      "  1.          0.03812928  0.02467387  0.85755098 -0.03348369]\n",
      "unique_chains: [ 0.04185929  0.01796431 -0.13203101  0.45540342  0.38297559  0.01178511\n",
      "  0.00858733  0.01006815  0.00820811  0.03360478  0.01565836  0.03898681\n",
      "  0.03812928  1.          0.05258976  0.04409087 -0.54083161]\n",
      "offervalue: [ 0.01323587  0.00886273 -0.06706701  0.08290755  0.10450968  0.01027493\n",
      "  0.01150447  0.01168045  0.00485265  0.02447591  0.01633542  0.02732347\n",
      "  0.02467387  0.05258976  1.          0.02992678 -0.03209609]\n",
      "offer_value_per_transaction: [ 0.04020481  0.02877265 -0.0053487   0.03161104  0.05796619  0.1670914\n",
      "  0.09035521  0.1252046   0.15747452  0.63564576  0.23103361  0.76620195\n",
      "  0.85755098  0.04409087  0.02992678  1.         -0.03884551]\n",
      "avg_days_between_purchases: [-0.05566961 -0.02782393  0.12297986 -0.44742767 -0.38917237 -0.01991667\n",
      " -0.01688326 -0.01873118 -0.00411972 -0.03736352 -0.02114368 -0.03603052\n",
      " -0.03348369 -0.54083161 -0.03209609 -0.03884551  1.        ]\n"
     ]
    }
   ],
   "source": [
    "from pyspark.ml.stat import Correlation\n",
    "from pyspark.ml.feature import VectorAssembler\n",
    "\n",
    "\n",
    "\n",
    "# Amostrar 10% para eficiência (opcional, remover se o dataset for gerível)\n",
    "sample_df = df_customer_features.sample(fraction=0.1, seed=42)\n",
    "\n",
    "# Combinar funcionalidades num vetor\n",
    "assembler = VectorAssembler(inputCols=feature_cols, outputCol=\"features_for_corr\")\n",
    "corr_df = assembler.transform(sample_df).select(\"features_for_corr\")\n",
    "\n",
    "# Calcular matriz de correlação\n",
    "correlation_matrix = Correlation.corr(corr_df, \"features_for_corr\").head()[0]\n",
    "print(\"Matriz de Correlação:\")\n",
    "for i, row in enumerate(correlation_matrix.toArray()):\n",
    "    print(f\"{feature_cols[i]}: {row}\")"
   ]
  },
  {
   "cell_type": "code",
   "execution_count": 24,
   "id": "4c149cc9",
   "metadata": {},
   "outputs": [
    {
     "name": "stdout",
     "output_type": "stream",
     "text": [
      "Correlações calculadas entre ['total_transactions', 'total_spent', 'avg_spent', 'unique_categories', 'unique_products', 'offer_purchase_count', 'offer_total_spent', 'offer_avg_spent', 'days_since_last_offer_purchase', 'offer_purchase_count_cat', 'offer_total_spent_cat', 'offer_avg_spent_cat', 'days_since_last_offer_purchase_cat', 'unique_chains', 'offervalue', 'offer_value_per_transaction', 'avg_days_between_purchases']:\n"
     ]
    },
    {
     "data": {
      "application/vnd.plotly.v1+json": {
       "config": {
        "plotlyServerURL": "https://plot.ly"
       },
       "data": [
        {
         "coloraxis": "coloraxis",
         "hovertemplate": "x: %{x}<br>y: %{y}<br>color: %{z}<extra></extra>",
         "name": "0",
         "texttemplate": "%{z:.2f}",
         "type": "heatmap",
         "x": [
          "total_transactions",
          "total_spent",
          "avg_spent",
          "unique_categories",
          "unique_products",
          "offer_purchase_count",
          "offer_total_spent",
          "offer_avg_spent",
          "days_since_last_offer_purchase",
          "offer_purchase_count_cat",
          "offer_total_spent_cat",
          "offer_avg_spent_cat",
          "days_since_last_offer_purchase_cat",
          "unique_chains",
          "offervalue",
          "offer_value_per_transaction",
          "avg_days_between_purchases"
         ],
         "xaxis": "x",
         "y": [
          "total_transactions",
          "total_spent",
          "avg_spent",
          "unique_categories",
          "unique_products",
          "offer_purchase_count",
          "offer_total_spent",
          "offer_avg_spent",
          "days_since_last_offer_purchase",
          "offer_purchase_count_cat",
          "offer_total_spent_cat",
          "offer_avg_spent_cat",
          "days_since_last_offer_purchase_cat",
          "unique_chains",
          "offervalue",
          "offer_value_per_transaction",
          "avg_days_between_purchases"
         ],
         "yaxis": "y",
         "z": {
          "bdata": "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",
          "dtype": "f8",
          "shape": "17, 17"
         }
        }
       ],
       "layout": {
        "coloraxis": {
         "cmax": 1,
         "cmin": -1,
         "colorscale": [
          [
           0,
           "rgb(252, 222, 156)"
          ],
          [
           0.16666666666666666,
           "rgb(250, 164, 118)"
          ],
          [
           0.3333333333333333,
           "rgb(240, 116, 110)"
          ],
          [
           0.5,
           "rgb(227, 79, 111)"
          ],
          [
           0.6666666666666666,
           "rgb(220, 57, 119)"
          ],
          [
           0.8333333333333334,
           "rgb(185, 37, 122)"
          ],
          [
           1,
           "rgb(124, 29, 111)"
          ]
         ]
        },
        "height": 800,
        "template": {
         "data": {
          "bar": [
           {
            "error_x": {
             "color": "#2a3f5f"
            },
            "error_y": {
             "color": "#2a3f5f"
            },
            "marker": {
             "line": {
              "color": "#E5ECF6",
              "width": 0.5
             },
             "pattern": {
              "fillmode": "overlay",
              "size": 10,
              "solidity": 0.2
             }
            },
            "type": "bar"
           }
          ],
          "barpolar": [
           {
            "marker": {
             "line": {
              "color": "#E5ECF6",
              "width": 0.5
             },
             "pattern": {
              "fillmode": "overlay",
              "size": 10,
              "solidity": 0.2
             }
            },
            "type": "barpolar"
           }
          ],
          "carpet": [
           {
            "aaxis": {
             "endlinecolor": "#2a3f5f",
             "gridcolor": "white",
             "linecolor": "white",
             "minorgridcolor": "white",
             "startlinecolor": "#2a3f5f"
            },
            "baxis": {
             "endlinecolor": "#2a3f5f",
             "gridcolor": "white",
             "linecolor": "white",
             "minorgridcolor": "white",
             "startlinecolor": "#2a3f5f"
            },
            "type": "carpet"
           }
          ],
          "choropleth": [
           {
            "colorbar": {
             "outlinewidth": 0,
             "ticks": ""
            },
            "type": "choropleth"
           }
          ],
          "contour": [
           {
            "colorbar": {
             "outlinewidth": 0,
             "ticks": ""
            },
            "colorscale": [
             [
              0,
              "#0d0887"
             ],
             [
              0.1111111111111111,
              "#46039f"
             ],
             [
              0.2222222222222222,
              "#7201a8"
             ],
             [
              0.3333333333333333,
              "#9c179e"
             ],
             [
              0.4444444444444444,
              "#bd3786"
             ],
             [
              0.5555555555555556,
              "#d8576b"
             ],
             [
              0.6666666666666666,
              "#ed7953"
             ],
             [
              0.7777777777777778,
              "#fb9f3a"
             ],
             [
              0.8888888888888888,
              "#fdca26"
             ],
             [
              1,
              "#f0f921"
             ]
            ],
            "type": "contour"
           }
          ],
          "contourcarpet": [
           {
            "colorbar": {
             "outlinewidth": 0,
             "ticks": ""
            },
            "type": "contourcarpet"
           }
          ],
          "heatmap": [
           {
            "colorbar": {
             "outlinewidth": 0,
             "ticks": ""
            },
            "colorscale": [
             [
              0,
              "#0d0887"
             ],
             [
              0.1111111111111111,
              "#46039f"
             ],
             [
              0.2222222222222222,
              "#7201a8"
             ],
             [
              0.3333333333333333,
              "#9c179e"
             ],
             [
              0.4444444444444444,
              "#bd3786"
             ],
             [
              0.5555555555555556,
              "#d8576b"
             ],
             [
              0.6666666666666666,
              "#ed7953"
             ],
             [
              0.7777777777777778,
              "#fb9f3a"
             ],
             [
              0.8888888888888888,
              "#fdca26"
             ],
             [
              1,
              "#f0f921"
             ]
            ],
            "type": "heatmap"
           }
          ],
          "histogram": [
           {
            "marker": {
             "pattern": {
              "fillmode": "overlay",
              "size": 10,
              "solidity": 0.2
             }
            },
            "type": "histogram"
           }
          ],
          "histogram2d": [
           {
            "colorbar": {
             "outlinewidth": 0,
             "ticks": ""
            },
            "colorscale": [
             [
              0,
              "#0d0887"
             ],
             [
              0.1111111111111111,
              "#46039f"
             ],
             [
              0.2222222222222222,
              "#7201a8"
             ],
             [
              0.3333333333333333,
              "#9c179e"
             ],
             [
              0.4444444444444444,
              "#bd3786"
             ],
             [
              0.5555555555555556,
              "#d8576b"
             ],
             [
              0.6666666666666666,
              "#ed7953"
             ],
             [
              0.7777777777777778,
              "#fb9f3a"
             ],
             [
              0.8888888888888888,
              "#fdca26"
             ],
             [
              1,
              "#f0f921"
             ]
            ],
            "type": "histogram2d"
           }
          ],
          "histogram2dcontour": [
           {
            "colorbar": {
             "outlinewidth": 0,
             "ticks": ""
            },
            "colorscale": [
             [
              0,
              "#0d0887"
             ],
             [
              0.1111111111111111,
              "#46039f"
             ],
             [
              0.2222222222222222,
              "#7201a8"
             ],
             [
              0.3333333333333333,
              "#9c179e"
             ],
             [
              0.4444444444444444,
              "#bd3786"
             ],
             [
              0.5555555555555556,
              "#d8576b"
             ],
             [
              0.6666666666666666,
              "#ed7953"
             ],
             [
              0.7777777777777778,
              "#fb9f3a"
             ],
             [
              0.8888888888888888,
              "#fdca26"
             ],
             [
              1,
              "#f0f921"
             ]
            ],
            "type": "histogram2dcontour"
           }
          ],
          "mesh3d": [
           {
            "colorbar": {
             "outlinewidth": 0,
             "ticks": ""
            },
            "type": "mesh3d"
           }
          ],
          "parcoords": [
           {
            "line": {
             "colorbar": {
              "outlinewidth": 0,
              "ticks": ""
             }
            },
            "type": "parcoords"
           }
          ],
          "pie": [
           {
            "automargin": true,
            "type": "pie"
           }
          ],
          "scatter": [
           {
            "fillpattern": {
             "fillmode": "overlay",
             "size": 10,
             "solidity": 0.2
            },
            "type": "scatter"
           }
          ],
          "scatter3d": [
           {
            "line": {
             "colorbar": {
              "outlinewidth": 0,
              "ticks": ""
             }
            },
            "marker": {
             "colorbar": {
              "outlinewidth": 0,
              "ticks": ""
             }
            },
            "type": "scatter3d"
           }
          ],
          "scattercarpet": [
           {
            "marker": {
             "colorbar": {
              "outlinewidth": 0,
              "ticks": ""
             }
            },
            "type": "scattercarpet"
           }
          ],
          "scattergeo": [
           {
            "marker": {
             "colorbar": {
              "outlinewidth": 0,
              "ticks": ""
             }
            },
            "type": "scattergeo"
           }
          ],
          "scattergl": [
           {
            "marker": {
             "colorbar": {
              "outlinewidth": 0,
              "ticks": ""
             }
            },
            "type": "scattergl"
           }
          ],
          "scattermap": [
           {
            "marker": {
             "colorbar": {
              "outlinewidth": 0,
              "ticks": ""
             }
            },
            "type": "scattermap"
           }
          ],
          "scattermapbox": [
           {
            "marker": {
             "colorbar": {
              "outlinewidth": 0,
              "ticks": ""
             }
            },
            "type": "scattermapbox"
           }
          ],
          "scatterpolar": [
           {
            "marker": {
             "colorbar": {
              "outlinewidth": 0,
              "ticks": ""
             }
            },
            "type": "scatterpolar"
           }
          ],
          "scatterpolargl": [
           {
            "marker": {
             "colorbar": {
              "outlinewidth": 0,
              "ticks": ""
             }
            },
            "type": "scatterpolargl"
           }
          ],
          "scatterternary": [
           {
            "marker": {
             "colorbar": {
              "outlinewidth": 0,
              "ticks": ""
             }
            },
            "type": "scatterternary"
           }
          ],
          "surface": [
           {
            "colorbar": {
             "outlinewidth": 0,
             "ticks": ""
            },
            "colorscale": [
             [
              0,
              "#0d0887"
             ],
             [
              0.1111111111111111,
              "#46039f"
             ],
             [
              0.2222222222222222,
              "#7201a8"
             ],
             [
              0.3333333333333333,
              "#9c179e"
             ],
             [
              0.4444444444444444,
              "#bd3786"
             ],
             [
              0.5555555555555556,
              "#d8576b"
             ],
             [
              0.6666666666666666,
              "#ed7953"
             ],
             [
              0.7777777777777778,
              "#fb9f3a"
             ],
             [
              0.8888888888888888,
              "#fdca26"
             ],
             [
              1,
              "#f0f921"
             ]
            ],
            "type": "surface"
           }
          ],
          "table": [
           {
            "cells": {
             "fill": {
              "color": "#EBF0F8"
             },
             "line": {
              "color": "white"
             }
            },
            "header": {
             "fill": {
              "color": "#C8D4E3"
             },
             "line": {
              "color": "white"
             }
            },
            "type": "table"
           }
          ]
         },
         "layout": {
          "annotationdefaults": {
           "arrowcolor": "#2a3f5f",
           "arrowhead": 0,
           "arrowwidth": 1
          },
          "autotypenumbers": "strict",
          "coloraxis": {
           "colorbar": {
            "outlinewidth": 0,
            "ticks": ""
           }
          },
          "colorscale": {
           "diverging": [
            [
             0,
             "#8e0152"
            ],
            [
             0.1,
             "#c51b7d"
            ],
            [
             0.2,
             "#de77ae"
            ],
            [
             0.3,
             "#f1b6da"
            ],
            [
             0.4,
             "#fde0ef"
            ],
            [
             0.5,
             "#f7f7f7"
            ],
            [
             0.6,
             "#e6f5d0"
            ],
            [
             0.7,
             "#b8e186"
            ],
            [
             0.8,
             "#7fbc41"
            ],
            [
             0.9,
             "#4d9221"
            ],
            [
             1,
             "#276419"
            ]
           ],
           "sequential": [
            [
             0,
             "#0d0887"
            ],
            [
             0.1111111111111111,
             "#46039f"
            ],
            [
             0.2222222222222222,
             "#7201a8"
            ],
            [
             0.3333333333333333,
             "#9c179e"
            ],
            [
             0.4444444444444444,
             "#bd3786"
            ],
            [
             0.5555555555555556,
             "#d8576b"
            ],
            [
             0.6666666666666666,
             "#ed7953"
            ],
            [
             0.7777777777777778,
             "#fb9f3a"
            ],
            [
             0.8888888888888888,
             "#fdca26"
            ],
            [
             1,
             "#f0f921"
            ]
           ],
           "sequentialminus": [
            [
             0,
             "#0d0887"
            ],
            [
             0.1111111111111111,
             "#46039f"
            ],
            [
             0.2222222222222222,
             "#7201a8"
            ],
            [
             0.3333333333333333,
             "#9c179e"
            ],
            [
             0.4444444444444444,
             "#bd3786"
            ],
            [
             0.5555555555555556,
             "#d8576b"
            ],
            [
             0.6666666666666666,
             "#ed7953"
            ],
            [
             0.7777777777777778,
             "#fb9f3a"
            ],
            [
             0.8888888888888888,
             "#fdca26"
            ],
            [
             1,
             "#f0f921"
            ]
           ]
          },
          "colorway": [
           "#636efa",
           "#EF553B",
           "#00cc96",
           "#ab63fa",
           "#FFA15A",
           "#19d3f3",
           "#FF6692",
           "#B6E880",
           "#FF97FF",
           "#FECB52"
          ],
          "font": {
           "color": "#2a3f5f"
          },
          "geo": {
           "bgcolor": "white",
           "lakecolor": "white",
           "landcolor": "#E5ECF6",
           "showlakes": true,
           "showland": true,
           "subunitcolor": "white"
          },
          "hoverlabel": {
           "align": "left"
          },
          "hovermode": "closest",
          "mapbox": {
           "style": "light"
          },
          "paper_bgcolor": "white",
          "plot_bgcolor": "#E5ECF6",
          "polar": {
           "angularaxis": {
            "gridcolor": "white",
            "linecolor": "white",
            "ticks": ""
           },
           "bgcolor": "#E5ECF6",
           "radialaxis": {
            "gridcolor": "white",
            "linecolor": "white",
            "ticks": ""
           }
          },
          "scene": {
           "xaxis": {
            "backgroundcolor": "#E5ECF6",
            "gridcolor": "white",
            "gridwidth": 2,
            "linecolor": "white",
            "showbackground": true,
            "ticks": "",
            "zerolinecolor": "white"
           },
           "yaxis": {
            "backgroundcolor": "#E5ECF6",
            "gridcolor": "white",
            "gridwidth": 2,
            "linecolor": "white",
            "showbackground": true,
            "ticks": "",
            "zerolinecolor": "white"
           },
           "zaxis": {
            "backgroundcolor": "#E5ECF6",
            "gridcolor": "white",
            "gridwidth": 2,
            "linecolor": "white",
            "showbackground": true,
            "ticks": "",
            "zerolinecolor": "white"
           }
          },
          "shapedefaults": {
           "line": {
            "color": "#2a3f5f"
           }
          },
          "ternary": {
           "aaxis": {
            "gridcolor": "white",
            "linecolor": "white",
            "ticks": ""
           },
           "baxis": {
            "gridcolor": "white",
            "linecolor": "white",
            "ticks": ""
           },
           "bgcolor": "#E5ECF6",
           "caxis": {
            "gridcolor": "white",
            "linecolor": "white",
            "ticks": ""
           }
          },
          "title": {
           "x": 0.05
          },
          "xaxis": {
           "automargin": true,
           "gridcolor": "white",
           "linecolor": "white",
           "ticks": "",
           "title": {
            "standoff": 15
           },
           "zerolinecolor": "white",
           "zerolinewidth": 2
          },
          "yaxis": {
           "automargin": true,
           "gridcolor": "white",
           "linecolor": "white",
           "ticks": "",
           "title": {
            "standoff": 15
           },
           "zerolinecolor": "white",
           "zerolinewidth": 2
          }
         }
        },
        "title": {
         "text": "Correlações entre Funcionalidades"
        },
        "width": 800,
        "xaxis": {
         "anchor": "y",
         "constrain": "domain",
         "domain": [
          0,
          1
         ],
         "scaleanchor": "y",
         "title": {
          "text": "Funcionalidades"
         }
        },
        "yaxis": {
         "anchor": "x",
         "autorange": "reversed",
         "constrain": "domain",
         "domain": [
          0,
          1
         ],
         "title": {
          "text": "Funcionalidades"
         }
        }
       }
      }
     },
     "metadata": {},
     "output_type": "display_data"
    }
   ],
   "source": [
    "import plotly.express as px\n",
    "import numpy as np\n",
    "from pyspark.ml.feature import VectorAssembler\n",
    "from pyspark.ml.stat import Correlation\n",
    "\n",
    "# Definir feature_cols\n",
    "feature_cols = [\n",
    "    \"total_transactions\", \"total_spent\", \"avg_spent\",\n",
    "    \"unique_categories\", \"unique_products\",\n",
    "    \"offer_purchase_count\", \"offer_total_spent\", \"offer_avg_spent\",\n",
    "    \"days_since_last_offer_purchase\",\n",
    "    \"offer_purchase_count_cat\", \"offer_total_spent_cat\", \"offer_avg_spent_cat\",\n",
    "    \"days_since_last_offer_purchase_cat\",\n",
    "    \"unique_chains\", \"offervalue\", \"offer_value_per_transaction\",\n",
    "    \"avg_days_between_purchases\"\n",
    "]\n",
    "\n",
    "# Verificar se todas as colunas existem\n",
    "missing_cols = [col for col in feature_cols if col not in df_customer_features.columns]\n",
    "if missing_cols:\n",
    "    print(f\"Colunas ausentes: {missing_cols}\")\n",
    "    feature_cols = [col for col in feature_cols if col not in missing_cols]\n",
    "\n",
    "# Combinar funcionalidades num vetor\n",
    "assembler = VectorAssembler(inputCols=feature_cols, outputCol=\"features_for_corr\")\n",
    "corr_df = assembler.transform(df_customer_features.sample(fraction=0.1, seed=42)).select(\"features_for_corr\")\n",
    "\n",
    "# Calcular matriz de correlação\n",
    "correlation_matrix = Correlation.corr(corr_df, \"features_for_corr\").head()[0].toArray()\n",
    "\n",
    "# Plotar correlações\n",
    "print(f'Correlações calculadas entre {feature_cols}:')\n",
    "fig = px.imshow(\n",
    "    correlation_matrix,\n",
    "    title='Correlações entre Funcionalidades',\n",
    "    x=feature_cols,\n",
    "    y=feature_cols,\n",
    "    color_continuous_scale='Sunsetdark',\n",
    "    text_auto='.2f',\n",
    "    zmin=-1, zmax=1\n",
    ")\n",
    "fig.update_layout(\n",
    "    xaxis_title=\"Funcionalidades\",\n",
    "    yaxis_title=\"Funcionalidades\",\n",
    "    width=800,\n",
    "    height=800\n",
    ")\n",
    "fig.show()"
   ]
  },
  {
   "cell_type": "markdown",
   "id": "9a21a454",
   "metadata": {},
   "source": [
    "Redundâncias Eliminadas: Excluímos total_spent, unique_categories, offer_total_spent, offer_avg_spent, offer_avg_spent_cat.\n",
    "\n",
    "Importância Mantida: total_transactions, avg_spent, unique_products, offer_total_spent_cat.\n",
    "\n",
    "Informações Únicas: days_since_last_offer_purchase, days_since_last_offer_purchase_cat, offervalue, offer_value_per_transaction, unique_chains, avg_days_between_purchases.\n",
    "\n",
    "Relevância: Foco em volume (total_transactions), gasto médio (avg_spent), recência (days_since_last_offer_purchase_cat), e oferta (offervalue)."
   ]
  },
  {
   "cell_type": "code",
   "execution_count": 26,
   "id": "93f69ef9",
   "metadata": {},
   "outputs": [],
   "source": [
    "feature_cols = [\n",
    "    \"total_transactions\",           # Alta importância (0.3538)\n",
    "    \"avg_spent\",                    # Alta importância (0.2218)\n",
    "    \"unique_products\",              # Moderada importância (0.1271)\n",
    "    \"offer_purchase_count\",         # Comportamento na oferta\n",
    "    \"days_since_last_offer_purchase\", # Recência\n",
    "    \"offer_purchase_count_cat\",     # Comportamento na categoria\n",
    "    \"offer_total_spent_cat\",        # Moderada importância (0.0999)\n",
    "    \"days_since_last_offer_purchase_cat\", # Recência na categoria\n",
    "    \"unique_chains\",                # Diversidade de lojas\n",
    "    \"offervalue\",                   # Valor da oferta\n",
    "    \"offer_value_per_transaction\",  # Incentivo por transação\n",
    "    \"avg_days_between_purchases\"    # Frequência\n",
    "]"
   ]
  },
  {
   "cell_type": "code",
   "execution_count": null,
   "id": "18cc7769",
   "metadata": {},
   "outputs": [],
   "source": [
    "# Preparar dados de treino (já criado anteriormente)\n",
    "from pyspark.sql.functions import when\n",
    "\n",
    "train_df = df_customer_features.join(\n",
    "    df_trainHistory.select(\"id\", \"repeater\"),\n",
    "    \"id\",\n",
    "    \"inner\"\n",
    ").withColumn(\"target\", when(col(\"repeater\") == \"t\", 1).otherwise(0))\n",
    "\n",
    "# Dividir em treino (70%) e validação (30%)\n",
    "train_split, val_split = train_df.randomSplit([0.7, 0.3], seed=42)\n",
    "\n",
    "# Cache para eficiência\n",
    "train_split.cache()\n",
    "val_split.cache()\n",
    "\n",
    "# Verificar tamanhos\n",
    "print(f\"Treino: {train_split.count()} linhas\")\n",
    "print(f\"Validação: {val_split.count()} linhas\")"
   ]
  },
  {
   "cell_type": "code",
   "execution_count": 27,
   "id": "cf9a7b42",
   "metadata": {},
   "outputs": [
    {
     "name": "stdout",
     "output_type": "stream",
     "text": [
      "Treino: 112283 linhas\n",
      "Validação: 47774 linhas\n"
     ]
    }
   ],
   "source": [
    "# Preparar dados de treino (já criado anteriormente)\n",
    "from pyspark.sql.functions import when\n",
    "\n",
    "train_df = df_customer_features.join(\n",
    "    df_trainHistory.select(\"id\", \"repeater\"),\n",
    "    \"id\",\n",
    "    \"inner\"\n",
    ").withColumn(\"target\", when(col(\"repeater\") == \"t\", 1).otherwise(0))\n",
    "\n",
    "# Dividir em treino (70%) e validação (30%)\n",
    "train_split, val_split = train_df.randomSplit([0.7, 0.3], seed=42)\n",
    "\n",
    "# Cache para eficiência\n",
    "train_split.cache()\n",
    "val_split.cache()\n",
    "\n",
    "# Verificar tamanhos\n",
    "print(f\"Treino: {train_split.count()} linhas\")\n",
    "print(f\"Validação: {val_split.count()} linhas\")"
   ]
  },
  {
   "cell_type": "code",
   "execution_count": 32,
   "id": "3d481b91",
   "metadata": {},
   "outputs": [
    {
     "name": "stdout",
     "output_type": "stream",
     "text": [
      "Treino: 112283 linhas\n",
      "Validação: 47774 linhas\n"
     ]
    }
   ],
   "source": [
    "from pyspark.sql.functions import when\n",
    "from pyspark.ml import Pipeline\n",
    "from pyspark.ml.feature import StringIndexer, OneHotEncoder, VectorAssembler\n",
    "from pyspark.ml.classification import LinearSVC\n",
    "\n",
    "# 1. Dividir em treino (70%) e validação (30%)\n",
    "train_df = df_customer_features.join(\n",
    "    df_trainHistory.select(\"id\", \"repeater\"),\n",
    "    \"id\",\n",
    "    \"inner\"\n",
    ").withColumn(\"target\", when(col(\"repeater\") == \"t\", 1).otherwise(0))\n",
    "\n",
    "train_split, val_split = train_df.randomSplit([0.7, 0.3], seed=42)\n",
    "\n",
    "# Cache para eficiência\n",
    "train_split.cache()\n",
    "val_split.cache()\n",
    "\n",
    "# Verificar tamanhos\n",
    "print(f\"Treino: {train_split.count()} linhas\")\n",
    "print(f\"Validação: {val_split.count()} linhas\")\n",
    "\n",
    "# 2. Liberar memória do train_df\n",
    "train_df.unpersist()\n",
    "\n",
    "# 3. Definir feature_cols\n",
    "feature_cols = [\n",
    "    \"total_transactions\", \"avg_spent\",\n",
    "    \"unique_products\",\n",
    "    \"offer_purchase_count\",\n",
    "    \"days_since_last_offer_purchase\",\n",
    "    \"offer_purchase_count_cat\", \"offer_total_spent_cat\",\n",
    "    \"days_since_last_offer_purchase_cat\",\n",
    "    \"unique_chains\", \"offervalue\", \"offer_value_per_transaction\",\n",
    "    \"avg_days_between_purchases\"\n",
    "]\n",
    "\n",
    "# 4. Configurar pipeline\n",
    "# Definir colunas categóricas (vazia, pois todas são numéricas)\n",
    "categorical_cols = []\n",
    "\n",
    "# StringIndexer\n",
    "indexers = [\n",
    "    StringIndexer(inputCol=col, outputCol=f\"{col}_index\", handleInvalid=\"skip\")\n",
    "    for col in categorical_cols\n",
    "]\n",
    "\n",
    "# OneHotEncoder\n",
    "encoders = [\n",
    "    OneHotEncoder(inputCols=[f\"{col}_index\"], outputCols=[f\"{col}_ohe\"])\n",
    "    for col in categorical_cols\n",
    "]\n",
    "\n",
    "# VectorAssembler\n",
    "assembler = VectorAssembler(inputCols=feature_cols, outputCol=\"features\")\n",
    "\n",
    "# LinearSVC\n",
    "svc = LinearSVC(labelCol=\"target\", featuresCol=\"features\", maxIter=100, regParam=0.1)\n",
    "\n",
    "# Criar pipeline\n",
    "pipeline = Pipeline(stages=indexers + encoders + [assembler, svc])\n",
    "\n",
    "# 5. Treinar modelo\n",
    "model = pipeline.fit(train_split)"
   ]
  },
  {
   "cell_type": "code",
   "execution_count": 33,
   "id": "93462f77",
   "metadata": {},
   "outputs": [
    {
     "name": "stdout",
     "output_type": "stream",
     "text": [
      "Esquema do DataFrame de previsões:\n",
      "root\n",
      " |-- id: long (nullable = true)\n",
      " |-- total_transactions: integer (nullable = true)\n",
      " |-- total_spent: double (nullable = false)\n",
      " |-- avg_spent: double (nullable = false)\n",
      " |-- first_purchase: date (nullable = true)\n",
      " |-- last_purchase: date (nullable = true)\n",
      " |-- unique_categories: integer (nullable = true)\n",
      " |-- unique_products: integer (nullable = true)\n",
      " |-- offer_purchase_count: long (nullable = true)\n",
      " |-- offer_total_spent: double (nullable = false)\n",
      " |-- offer_avg_spent: double (nullable = false)\n",
      " |-- days_since_last_offer_purchase: integer (nullable = true)\n",
      " |-- offer_purchase_count_cat: long (nullable = true)\n",
      " |-- offer_total_spent_cat: double (nullable = false)\n",
      " |-- offer_avg_spent_cat: double (nullable = false)\n",
      " |-- days_since_last_offer_purchase_cat: integer (nullable = true)\n",
      " |-- unique_chains: long (nullable = true)\n",
      " |-- offervalue: double (nullable = false)\n",
      " |-- offer_value_per_transaction: double (nullable = false)\n",
      " |-- avg_days_between_purchases: double (nullable = false)\n",
      " |-- repeater: string (nullable = true)\n",
      " |-- target: integer (nullable = false)\n",
      " |-- features: vector (nullable = true)\n",
      " |-- rawPrediction: vector (nullable = true)\n",
      " |-- prediction: double (nullable = false)\n",
      "\n",
      "Amostra das colunas features, rawPrediction, prediction, target:\n",
      "+-----------------------------------------------------+----------------------------------------+----------+------+\n",
      "|features                                             |rawPrediction                           |prediction|target|\n",
      "+-----------------------------------------------------+----------------------------------------+----------+------+\n",
      "|(12,[0,1,2,8,9,11],[2391.0,5.23,380.0,1.0,1.25,56.2])|[0.9999396654256902,-0.9999396654256902]|0.0       |0     |\n",
      "|(12,[0,1,2,9,11],[39.0,4.78,31.0,0.75,999.0])        |[0.9999690885881901,-0.9999690885881901]|0.0       |0     |\n",
      "|(12,[0,1,2,9,11],[608.0,5.47,168.0,0.75,999.0])      |[1.0000217319625881,-1.0000217319625881]|0.0       |1     |\n",
      "|(12,[0,1,2,8,9,11],[1952.0,6.6,314.0,1.0,3.0,999.0]) |[0.9999103881345323,-0.9999103881345323]|0.0       |0     |\n",
      "|(12,[0,1,2,8,9,11],[1152.0,4.62,227.0,1.0,1.0,999.0])|[0.9999961261753398,-0.9999961261753398]|0.0       |0     |\n",
      "|(12,[0,1,2,8,9],[1557.0,4.14,270.0,1.0,0.75])        |[1.0000086282544014,-1.0000086282544014]|0.0       |1     |\n",
      "|(12,[0,1,2,8,9,11],[1054.0,4.94,213.0,1.0,1.0,999.0])|[0.999996942043777,-0.999996942043777]  |0.0       |0     |\n",
      "|(12,[0,1,2,9,11],[2034.0,3.75,326.0,2.0,999.0])      |[0.999912644033399,-0.999912644033399]  |0.0       |1     |\n",
      "|(12,[0,1,2,9,11],[992.0,3.96,216.0,0.75,999.0])      |[1.000010710091279,-1.000010710091279]  |0.0       |0     |\n",
      "|(12,[0,1,2,9,11],[394.0,2.89,121.0,0.75,999.0])      |[1.00004013893293,-1.00004013893293]    |0.0       |0     |\n",
      "+-----------------------------------------------------+----------------------------------------+----------+------+\n",
      "only showing top 10 rows\n",
      "\n",
      "AUC-ROC (Validação): 0.5546\n",
      "Matriz de Confusão:\n",
      "            Predicted 0  Predicted 1\n",
      "  Actual 0        34823            2\n",
      "  Actual 1        12947            2\n",
      "Métricas de Avaliação:\n",
      "Accuracy: 0.7290\n",
      "Precision: 0.5000\n",
      "Recall: 0.0002\n",
      "Specificity: 0.9999\n",
      "F1 Score: 0.0003\n"
     ]
    }
   ],
   "source": [
    "from pyspark.sql.functions import col\n",
    "from pyspark.ml.evaluation import BinaryClassificationEvaluator\n",
    "\n",
    "# Fazer previsões\n",
    "val_predictions = model.transform(val_split)\n",
    "\n",
    "# Mostrar esquema e colunas\n",
    "print(\"Esquema do DataFrame de previsões:\")\n",
    "val_predictions.printSchema()\n",
    "print(\"Amostra das colunas features, rawPrediction, prediction, target:\")\n",
    "val_predictions.select(\"features\", \"rawPrediction\", \"prediction\", \"target\").show(10, truncate=False)\n",
    "\n",
    "# Calcular AUC-ROC\n",
    "evaluator = BinaryClassificationEvaluator(labelCol=\"target\", metricName=\"areaUnderROC\")\n",
    "auc_roc = evaluator.evaluate(val_predictions)\n",
    "print(f\"AUC-ROC (Validação): {auc_roc:.4f}\")\n",
    "\n",
    "# Computar matriz de confusão\n",
    "confusion_matrix = val_predictions.groupBy(\"target\", \"prediction\").count().collect()\n",
    "TP = TN = FP = FN = 0\n",
    "for row in confusion_matrix:\n",
    "    actual = row[\"target\"]\n",
    "    predicted = row[\"prediction\"]\n",
    "    count = row[\"count\"]\n",
    "    if actual == 1 and predicted == 1:\n",
    "        TP = count\n",
    "    elif actual == 0 and predicted == 0:\n",
    "        TN = count\n",
    "    elif actual == 0 and predicted == 1:\n",
    "        FP = count\n",
    "    elif actual == 1 and predicted == 0:\n",
    "        FN = count\n",
    "\n",
    "print(\"Matriz de Confusão:\")\n",
    "print(f\"{'':>10} {'Predicted 0':>12} {'Predicted 1':>12}\")\n",
    "print(f\"{'Actual 0':>10} {TN:>12} {FP:>12}\")\n",
    "print(f\"{'Actual 1':>10} {FN:>12} {TP:>12}\")\n",
    "\n",
    "# Calcular métricas\n",
    "total = TP + TN + FP + FN\n",
    "accuracy = (TP + TN) / total if total > 0 else 0.0\n",
    "precision = TP / (TP + FP) if (TP + FP) > 0 else 0.0\n",
    "recall = TP / (TP + FN) if (TP + FN) > 0 else 0.0\n",
    "specificity = TN / (TN + FP) if (TN + FP) > 0 else 0.0\n",
    "f1_score = 2 * (precision * recall) / (precision + recall) if (precision + recall) > 0 else 0.0\n",
    "\n",
    "print(\"Métricas de Avaliação:\")\n",
    "print(f\"Accuracy: {accuracy:.4f}\")\n",
    "print(f\"Precision: {precision:.4f}\")\n",
    "print(f\"Recall: {recall:.4f}\")\n",
    "print(f\"Specificity: {specificity:.4f}\")\n",
    "print(f\"F1 Score: {f1_score:.4f}\")"
   ]
  },
  {
   "cell_type": "code",
   "execution_count": 37,
   "id": "a148ebee",
   "metadata": {},
   "outputs": [],
   "source": [
    "from pyspark.ml import Pipeline\n",
    "from pyspark.ml.feature import StringIndexer, OneHotEncoder, VectorAssembler\n",
    "\n",
    "# Definir colunas categóricas (vazia)\n",
    "categorical_cols = []\n",
    "\n",
    "# StringIndexer\n",
    "indexers = [\n",
    "    StringIndexer(inputCol=col, outputCol=f\"{col}_index\", handleInvalid=\"skip\")\n",
    "    for col in categorical_cols\n",
    "]\n",
    "\n",
    "# OneHotEncoder\n",
    "encoders = [\n",
    "    OneHotEncoder(inputCols=[f\"{col}_index\"], outputCols=[f\"{col}_ohe\"])\n",
    "    for col in categorical_cols\n",
    "]\n",
    "\n",
    "# VectorAssembler\n",
    "assembler = VectorAssembler(inputCols=feature_cols, outputCol=\"features\")"
   ]
  },
  {
   "cell_type": "code",
   "execution_count": 38,
   "id": "4661786b",
   "metadata": {},
   "outputs": [
    {
     "name": "stdout",
     "output_type": "stream",
     "text": [
      "\n",
      "Esquema do DataFrame de previsões (RandomForest):\n",
      "root\n",
      " |-- id: long (nullable = true)\n",
      " |-- total_transactions: integer (nullable = true)\n",
      " |-- total_spent: double (nullable = false)\n",
      " |-- avg_spent: double (nullable = false)\n",
      " |-- first_purchase: date (nullable = true)\n",
      " |-- last_purchase: date (nullable = true)\n",
      " |-- unique_categories: integer (nullable = true)\n",
      " |-- unique_products: integer (nullable = true)\n",
      " |-- offer_purchase_count: long (nullable = true)\n",
      " |-- offer_total_spent: double (nullable = false)\n",
      " |-- offer_avg_spent: double (nullable = false)\n",
      " |-- days_since_last_offer_purchase: integer (nullable = true)\n",
      " |-- offer_purchase_count_cat: long (nullable = true)\n",
      " |-- offer_total_spent_cat: double (nullable = false)\n",
      " |-- offer_avg_spent_cat: double (nullable = false)\n",
      " |-- days_since_last_offer_purchase_cat: integer (nullable = true)\n",
      " |-- unique_chains: long (nullable = true)\n",
      " |-- offervalue: double (nullable = false)\n",
      " |-- offer_value_per_transaction: double (nullable = false)\n",
      " |-- avg_days_between_purchases: double (nullable = false)\n",
      " |-- repeater: string (nullable = true)\n",
      " |-- target: integer (nullable = false)\n",
      " |-- features: vector (nullable = true)\n",
      " |-- rawPrediction: vector (nullable = true)\n",
      " |-- probability: vector (nullable = true)\n",
      " |-- prediction: double (nullable = false)\n",
      "\n",
      "Amostra das colunas features, rawPrediction, prediction, target (RandomForest):\n",
      "+-----------------------------------------------------+---------------------------------------+----------+------+\n",
      "|features                                             |rawPrediction                          |prediction|target|\n",
      "+-----------------------------------------------------+---------------------------------------+----------+------+\n",
      "|(12,[0,1,2,8,9,11],[2391.0,5.23,380.0,1.0,1.25,56.2])|[37.96354733716793,12.036452662832069] |0.0       |0     |\n",
      "|(12,[0,1,2,9,11],[39.0,4.78,31.0,0.75,999.0])        |[42.8849294007966,7.115070599203405]   |0.0       |0     |\n",
      "|(12,[0,1,2,9,11],[608.0,5.47,168.0,0.75,999.0])      |[39.39949579317464,10.600504206825367] |0.0       |1     |\n",
      "|(12,[0,1,2,8,9,11],[1952.0,6.6,314.0,1.0,3.0,999.0]) |[33.15250157965536,16.847498420344632] |0.0       |0     |\n",
      "|(12,[0,1,2,8,9,11],[1152.0,4.62,227.0,1.0,1.0,999.0])|[30.919639156503585,19.080360843496415]|0.0       |0     |\n",
      "|(12,[0,1,2,8,9],[1557.0,4.14,270.0,1.0,0.75])        |[37.380111952660315,12.619888047339687]|0.0       |1     |\n",
      "|(12,[0,1,2,8,9,11],[1054.0,4.94,213.0,1.0,1.0,999.0])|[31.054263213880922,18.945736786119078]|0.0       |0     |\n",
      "|(12,[0,1,2,9,11],[2034.0,3.75,326.0,2.0,999.0])      |[37.24871970096166,12.751280299038333] |0.0       |1     |\n",
      "|(12,[0,1,2,9,11],[992.0,3.96,216.0,0.75,999.0])      |[38.67377922100767,11.326220778992322] |0.0       |0     |\n",
      "|(12,[0,1,2,9,11],[394.0,2.89,121.0,0.75,999.0])      |[40.87689751342212,9.123102486577872]  |0.0       |0     |\n",
      "+-----------------------------------------------------+---------------------------------------+----------+------+\n",
      "only showing top 10 rows\n",
      "\n",
      "AUC-ROC (Validação, RandomForest): 0.6559\n",
      "Matriz de Confusão (RandomForest):\n",
      "            Predicted 0  Predicted 1\n",
      "  Actual 0        34756           69\n",
      "  Actual 1        12847          102\n",
      "Métricas de Avaliação (RandomForest):\n",
      "Accuracy: 0.7296\n",
      "Precision: 0.5965\n",
      "Recall: 0.0079\n",
      "Specificity: 0.9980\n",
      "F1 Score: 0.0155\n",
      "\n",
      "Esquema do DataFrame de previsões (LogisticRegression):\n",
      "root\n",
      " |-- id: long (nullable = true)\n",
      " |-- total_transactions: integer (nullable = true)\n",
      " |-- total_spent: double (nullable = false)\n",
      " |-- avg_spent: double (nullable = false)\n",
      " |-- first_purchase: date (nullable = true)\n",
      " |-- last_purchase: date (nullable = true)\n",
      " |-- unique_categories: integer (nullable = true)\n",
      " |-- unique_products: integer (nullable = true)\n",
      " |-- offer_purchase_count: long (nullable = true)\n",
      " |-- offer_total_spent: double (nullable = false)\n",
      " |-- offer_avg_spent: double (nullable = false)\n",
      " |-- days_since_last_offer_purchase: integer (nullable = true)\n",
      " |-- offer_purchase_count_cat: long (nullable = true)\n",
      " |-- offer_total_spent_cat: double (nullable = false)\n",
      " |-- offer_avg_spent_cat: double (nullable = false)\n",
      " |-- days_since_last_offer_purchase_cat: integer (nullable = true)\n",
      " |-- unique_chains: long (nullable = true)\n",
      " |-- offervalue: double (nullable = false)\n",
      " |-- offer_value_per_transaction: double (nullable = false)\n",
      " |-- avg_days_between_purchases: double (nullable = false)\n",
      " |-- repeater: string (nullable = true)\n",
      " |-- target: integer (nullable = false)\n",
      " |-- features: vector (nullable = true)\n",
      " |-- rawPrediction: vector (nullable = true)\n",
      " |-- probability: vector (nullable = true)\n",
      " |-- prediction: double (nullable = false)\n",
      "\n",
      "Amostra das colunas features, rawPrediction, prediction, target (LogisticRegression):\n",
      "+-----------------------------------------------------+----------------------------------------+----------+------+\n",
      "|features                                             |rawPrediction                           |prediction|target|\n",
      "+-----------------------------------------------------+----------------------------------------+----------+------+\n",
      "|(12,[0,1,2,8,9,11],[2391.0,5.23,380.0,1.0,1.25,56.2])|[0.8616856036968141,-0.8616856036968141]|0.0       |0     |\n",
      "|(12,[0,1,2,9,11],[39.0,4.78,31.0,0.75,999.0])        |[0.9886886169280026,-0.9886886169280026]|0.0       |0     |\n",
      "|(12,[0,1,2,9,11],[608.0,5.47,168.0,0.75,999.0])      |[0.9359947943314401,-0.9359947943314401]|0.0       |1     |\n",
      "|(12,[0,1,2,8,9,11],[1952.0,6.6,314.0,1.0,3.0,999.0]) |[1.1430955106819707,-1.1430955106819707]|0.0       |0     |\n",
      "|(12,[0,1,2,8,9,11],[1152.0,4.62,227.0,1.0,1.0,999.0])|[0.9442493663449669,-0.9442493663449669]|0.0       |0     |\n",
      "|(12,[0,1,2,8,9],[1557.0,4.14,270.0,1.0,0.75])        |[0.8465169187456625,-0.8465169187456625]|0.0       |1     |\n",
      "|(12,[0,1,2,8,9,11],[1054.0,4.94,213.0,1.0,1.0,999.0])|[0.9401652569061042,-0.9401652569061042]|0.0       |0     |\n",
      "|(12,[0,1,2,9,11],[2034.0,3.75,326.0,2.0,999.0])      |[1.1045120701635964,-1.1045120701635964]|0.0       |1     |\n",
      "|(12,[0,1,2,9,11],[992.0,3.96,216.0,0.75,999.0])      |[0.9599968497131729,-0.9599968497131729]|0.0       |0     |\n",
      "|(12,[0,1,2,9,11],[394.0,2.89,121.0,0.75,999.0])      |[1.0113887529437455,-1.0113887529437455]|0.0       |0     |\n",
      "+-----------------------------------------------------+----------------------------------------+----------+------+\n",
      "only showing top 10 rows\n",
      "\n",
      "AUC-ROC (Validação, LogisticRegression): 0.5397\n",
      "Matriz de Confusão (LogisticRegression):\n",
      "            Predicted 0  Predicted 1\n",
      "  Actual 0        34820            5\n",
      "  Actual 1        12935           14\n",
      "Métricas de Avaliação (LogisticRegression):\n",
      "Accuracy: 0.7291\n",
      "Precision: 0.7368\n",
      "Recall: 0.0011\n",
      "Specificity: 0.9999\n",
      "F1 Score: 0.0022\n",
      "\n",
      "Esquema do DataFrame de previsões (DecisionTree):\n",
      "root\n",
      " |-- id: long (nullable = true)\n",
      " |-- total_transactions: integer (nullable = true)\n",
      " |-- total_spent: double (nullable = false)\n",
      " |-- avg_spent: double (nullable = false)\n",
      " |-- first_purchase: date (nullable = true)\n",
      " |-- last_purchase: date (nullable = true)\n",
      " |-- unique_categories: integer (nullable = true)\n",
      " |-- unique_products: integer (nullable = true)\n",
      " |-- offer_purchase_count: long (nullable = true)\n",
      " |-- offer_total_spent: double (nullable = false)\n",
      " |-- offer_avg_spent: double (nullable = false)\n",
      " |-- days_since_last_offer_purchase: integer (nullable = true)\n",
      " |-- offer_purchase_count_cat: long (nullable = true)\n",
      " |-- offer_total_spent_cat: double (nullable = false)\n",
      " |-- offer_avg_spent_cat: double (nullable = false)\n",
      " |-- days_since_last_offer_purchase_cat: integer (nullable = true)\n",
      " |-- unique_chains: long (nullable = true)\n",
      " |-- offervalue: double (nullable = false)\n",
      " |-- offer_value_per_transaction: double (nullable = false)\n",
      " |-- avg_days_between_purchases: double (nullable = false)\n",
      " |-- repeater: string (nullable = true)\n",
      " |-- target: integer (nullable = false)\n",
      " |-- features: vector (nullable = true)\n",
      " |-- rawPrediction: vector (nullable = true)\n",
      " |-- probability: vector (nullable = true)\n",
      " |-- prediction: double (nullable = false)\n",
      "\n",
      "Amostra das colunas features, rawPrediction, prediction, target (DecisionTree):\n",
      "+-----------------------------------------------------+----------------+----------+------+\n",
      "|features                                             |rawPrediction   |prediction|target|\n",
      "+-----------------------------------------------------+----------------+----------+------+\n",
      "|(12,[0,1,2,8,9,11],[2391.0,5.23,380.0,1.0,1.25,56.2])|[38.0,4.0]      |0.0       |0     |\n",
      "|(12,[0,1,2,9,11],[39.0,4.78,31.0,0.75,999.0])        |[996.0,129.0]   |0.0       |0     |\n",
      "|(12,[0,1,2,9,11],[608.0,5.47,168.0,0.75,999.0])      |[1294.0,386.0]  |0.0       |1     |\n",
      "|(12,[0,1,2,8,9,11],[1952.0,6.6,314.0,1.0,3.0,999.0]) |[198.0,145.0]   |0.0       |0     |\n",
      "|(12,[0,1,2,8,9,11],[1152.0,4.62,227.0,1.0,1.0,999.0])|[1201.0,732.0]  |0.0       |0     |\n",
      "|(12,[0,1,2,8,9],[1557.0,4.14,270.0,1.0,0.75])        |[546.0,174.0]   |0.0       |1     |\n",
      "|(12,[0,1,2,8,9,11],[1054.0,4.94,213.0,1.0,1.0,999.0])|[1201.0,732.0]  |0.0       |0     |\n",
      "|(12,[0,1,2,9,11],[2034.0,3.75,326.0,2.0,999.0])      |[11325.0,3120.0]|0.0       |1     |\n",
      "|(12,[0,1,2,9,11],[992.0,3.96,216.0,0.75,999.0])      |[2467.0,635.0]  |0.0       |0     |\n",
      "|(12,[0,1,2,9,11],[394.0,2.89,121.0,0.75,999.0])      |[470.0,83.0]    |0.0       |0     |\n",
      "+-----------------------------------------------------+----------------+----------+------+\n",
      "only showing top 10 rows\n",
      "\n",
      "AUC-ROC (Validação, DecisionTree): 0.5245\n",
      "Matriz de Confusão (DecisionTree):\n",
      "            Predicted 0  Predicted 1\n",
      "  Actual 0        33821         1004\n",
      "  Actual 1        12007          942\n",
      "Métricas de Avaliação (DecisionTree):\n",
      "Accuracy: 0.7277\n",
      "Precision: 0.4841\n",
      "Recall: 0.0727\n",
      "Specificity: 0.9712\n",
      "F1 Score: 0.1265\n",
      "\n",
      "Esquema do DataFrame de previsões (GradientBoostedTrees):\n",
      "root\n",
      " |-- id: long (nullable = true)\n",
      " |-- total_transactions: integer (nullable = true)\n",
      " |-- total_spent: double (nullable = false)\n",
      " |-- avg_spent: double (nullable = false)\n",
      " |-- first_purchase: date (nullable = true)\n",
      " |-- last_purchase: date (nullable = true)\n",
      " |-- unique_categories: integer (nullable = true)\n",
      " |-- unique_products: integer (nullable = true)\n",
      " |-- offer_purchase_count: long (nullable = true)\n",
      " |-- offer_total_spent: double (nullable = false)\n",
      " |-- offer_avg_spent: double (nullable = false)\n",
      " |-- days_since_last_offer_purchase: integer (nullable = true)\n",
      " |-- offer_purchase_count_cat: long (nullable = true)\n",
      " |-- offer_total_spent_cat: double (nullable = false)\n",
      " |-- offer_avg_spent_cat: double (nullable = false)\n",
      " |-- days_since_last_offer_purchase_cat: integer (nullable = true)\n",
      " |-- unique_chains: long (nullable = true)\n",
      " |-- offervalue: double (nullable = false)\n",
      " |-- offer_value_per_transaction: double (nullable = false)\n",
      " |-- avg_days_between_purchases: double (nullable = false)\n",
      " |-- repeater: string (nullable = true)\n",
      " |-- target: integer (nullable = false)\n",
      " |-- features: vector (nullable = true)\n",
      " |-- rawPrediction: vector (nullable = true)\n",
      " |-- probability: vector (nullable = true)\n",
      " |-- prediction: double (nullable = false)\n",
      "\n",
      "Amostra das colunas features, rawPrediction, prediction, target (GradientBoostedTrees):\n",
      "+-----------------------------------------------------+------------------------------------------+----------+------+\n",
      "|features                                             |rawPrediction                             |prediction|target|\n",
      "+-----------------------------------------------------+------------------------------------------+----------+------+\n",
      "|(12,[0,1,2,8,9,11],[2391.0,5.23,380.0,1.0,1.25,56.2])|[0.7568800586742175,-0.7568800586742175]  |0.0       |0     |\n",
      "|(12,[0,1,2,9,11],[39.0,4.78,31.0,0.75,999.0])        |[0.9808930333251271,-0.9808930333251271]  |0.0       |0     |\n",
      "|(12,[0,1,2,9,11],[608.0,5.47,168.0,0.75,999.0])      |[0.6763165926039555,-0.6763165926039555]  |0.0       |1     |\n",
      "|(12,[0,1,2,8,9,11],[1952.0,6.6,314.0,1.0,3.0,999.0]) |[0.1856646078519872,-0.1856646078519872]  |0.0       |0     |\n",
      "|(12,[0,1,2,8,9,11],[1152.0,4.62,227.0,1.0,1.0,999.0])|[0.18641777123002964,-0.18641777123002964]|0.0       |0     |\n",
      "|(12,[0,1,2,8,9],[1557.0,4.14,270.0,1.0,0.75])        |[0.6319911216413778,-0.6319911216413778]  |0.0       |1     |\n",
      "|(12,[0,1,2,8,9,11],[1054.0,4.94,213.0,1.0,1.0,999.0])|[0.16856577754111987,-0.16856577754111987]|0.0       |0     |\n",
      "|(12,[0,1,2,9,11],[2034.0,3.75,326.0,2.0,999.0])      |[0.5535839727636028,-0.5535839727636028]  |0.0       |1     |\n",
      "|(12,[0,1,2,9,11],[992.0,3.96,216.0,0.75,999.0])      |[0.6695035618356902,-0.6695035618356902]  |0.0       |0     |\n",
      "|(12,[0,1,2,9,11],[394.0,2.89,121.0,0.75,999.0])      |[0.8789062112353846,-0.8789062112353846]  |0.0       |0     |\n",
      "+-----------------------------------------------------+------------------------------------------+----------+------+\n",
      "only showing top 10 rows\n",
      "\n",
      "AUC-ROC (Validação, GradientBoostedTrees): 0.6600\n",
      "Matriz de Confusão (GradientBoostedTrees):\n",
      "            Predicted 0  Predicted 1\n",
      "  Actual 0        34239          586\n",
      "  Actual 1        12300          649\n",
      "Métricas de Avaliação (GradientBoostedTrees):\n",
      "Accuracy: 0.7303\n",
      "Precision: 0.5255\n",
      "Recall: 0.0501\n",
      "Specificity: 0.9832\n",
      "F1 Score: 0.0915\n"
     ]
    }
   ],
   "source": [
    "from pyspark.ml.classification import RandomForestClassifier, LogisticRegression, DecisionTreeClassifier, GBTClassifier\n",
    "\n",
    "# Dicionário para armazenar resultados\n",
    "results = []\n",
    "\n",
    "# 1. RandomForestClassifier\n",
    "rf = RandomForestClassifier(labelCol=\"target\", featuresCol=\"features\", numTrees=50, maxDepth=10, seed=42)\n",
    "rf_pipeline = Pipeline(stages=indexers + encoders + [assembler, rf])\n",
    "rf_model = rf_pipeline.fit(train_split)\n",
    "rf_auc_roc, rf_val_predictions = evaluate_model(rf_model, val_split, \"RandomForest\")\n",
    "results.append((\"RandomForest\", rf_auc_roc, rf_model))\n",
    "\n",
    "# 2. LogisticRegression\n",
    "lr = LogisticRegression(labelCol=\"target\", featuresCol=\"features\", maxIter=100, regParam=0.1)\n",
    "lr_pipeline = Pipeline(stages=indexers + encoders + [assembler, lr])\n",
    "lr_model = lr_pipeline.fit(train_split)\n",
    "lr_auc_roc, lr_val_predictions = evaluate_model(lr_model, val_split, \"LogisticRegression\")\n",
    "results.append((\"LogisticRegression\", lr_auc_roc, lr_model))\n",
    "\n",
    "# 3. DecisionTreeClassifier\n",
    "dt = DecisionTreeClassifier(labelCol=\"target\", featuresCol=\"features\", maxDepth=10, seed=42)\n",
    "dt_pipeline = Pipeline(stages=indexers + encoders + [assembler, dt])\n",
    "dt_model = dt_pipeline.fit(train_split)\n",
    "dt_auc_roc, dt_val_predictions = evaluate_model(dt_model, val_split, \"DecisionTree\")\n",
    "results.append((\"DecisionTree\", dt_auc_roc, dt_model))\n",
    "\n",
    "# 4. GBTClassifier\n",
    "gbt = GBTClassifier(labelCol=\"target\", featuresCol=\"features\", maxIter=50, maxDepth=5, seed=42)\n",
    "gbt_pipeline = Pipeline(stages=indexers + encoders + [assembler, gbt])\n",
    "gbt_model = gbt_pipeline.fit(train_split)\n",
    "gbt_auc_roc, gbt_val_predictions = evaluate_model(gbt_model, val_split, \"GradientBoostedTrees\")\n",
    "results.append((\"GradientBoostedTrees\", gbt_auc_roc, gbt_model))"
   ]
  },
  {
   "cell_type": "code",
   "execution_count": 39,
   "id": "73e3104c",
   "metadata": {},
   "outputs": [
    {
     "name": "stdout",
     "output_type": "stream",
     "text": [
      "\n",
      "Comparação de Modelos (AUC-ROC):\n",
      "RandomForest: 0.6559\n",
      "LogisticRegression: 0.5397\n",
      "DecisionTree: 0.5245\n",
      "GradientBoostedTrees: 0.6600\n",
      "LinearSVC: 0.5546\n",
      "\n",
      "Melhor modelo: GradientBoostedTrees com AUC-ROC: 0.6600\n"
     ]
    }
   ],
   "source": [
    "# Adicionar LinearSVC (assumindo que você tem o auc_roc do resultado anterior)\n",
    "# Substitua linear_svc_auc_roc pelo valor real obtido\n",
    "linear_svc_auc_roc = auc_roc  # Use o valor do seu LinearSVC anterior\n",
    "results.append((\"LinearSVC\", linear_svc_auc_roc, model))\n",
    "\n",
    "# Comparar AUC-ROC\n",
    "print(\"\\nComparação de Modelos (AUC-ROC):\")\n",
    "for name, auc, _ in results:\n",
    "    print(f\"{name}: {auc:.4f}\")\n",
    "\n",
    "# Escolher o melhor modelo\n",
    "best_model = max(results, key=lambda x: x[1])\n",
    "print(f\"\\nMelhor modelo: {best_model[0]} com AUC-ROC: {best_model[1]:.4f}\")"
   ]
  },
  {
   "cell_type": "code",
   "execution_count": 54,
   "id": "547c693a",
   "metadata": {},
   "outputs": [
    {
     "data": {
      "application/vnd.plotly.v1+json": {
       "config": {
        "plotlyServerURL": "https://plot.ly"
       },
       "data": [
        {
         "hovertemplate": "Model Name=%{x}<br>AUC-ROC Score=%{y}<extra></extra>",
         "legendgroup": "RandomForest",
         "marker": {
          "color": "#636EFA",
          "pattern": {
           "shape": ""
          }
         },
         "name": "RandomForest",
         "orientation": "v",
         "showlegend": true,
         "textposition": "auto",
         "type": "bar",
         "x": [
          "RandomForest"
         ],
         "xaxis": "x",
         "y": {
          "bdata": "MzMzMzMz6z8=",
          "dtype": "f8"
         },
         "yaxis": "y"
        },
        {
         "hovertemplate": "Model Name=%{x}<br>AUC-ROC Score=%{y}<extra></extra>",
         "legendgroup": "LogisticRegression",
         "marker": {
          "color": "#EF553B",
          "pattern": {
           "shape": ""
          }
         },
         "name": "LogisticRegression",
         "orientation": "v",
         "showlegend": true,
         "textposition": "auto",
         "type": "bar",
         "x": [
          "LogisticRegression"
         ],
         "xaxis": "x",
         "y": {
          "bdata": "mpmZmZmZ6T8=",
          "dtype": "f8"
         },
         "yaxis": "y"
        },
        {
         "hovertemplate": "Model Name=%{x}<br>AUC-ROC Score=%{y}<extra></extra>",
         "legendgroup": "DecisionTree",
         "marker": {
          "color": "#00CC96",
          "pattern": {
           "shape": ""
          }
         },
         "name": "DecisionTree",
         "orientation": "v",
         "showlegend": true,
         "textposition": "auto",
         "type": "bar",
         "x": [
          "DecisionTree"
         ],
         "xaxis": "x",
         "y": {
          "bdata": "AAAAAAAA6D8=",
          "dtype": "f8"
         },
         "yaxis": "y"
        },
        {
         "hovertemplate": "Model Name=%{x}<br>AUC-ROC Score=%{y}<extra></extra>",
         "legendgroup": "GradientBoostedTrees",
         "marker": {
          "color": "#AB63FA",
          "pattern": {
           "shape": ""
          }
         },
         "name": "GradientBoostedTrees",
         "orientation": "v",
         "showlegend": true,
         "textposition": "auto",
         "type": "bar",
         "x": [
          "GradientBoostedTrees"
         ],
         "xaxis": "x",
         "y": {
          "bdata": "KVyPwvUo7D8=",
          "dtype": "f8"
         },
         "yaxis": "y"
        },
        {
         "hovertemplate": "Model Name=%{x}<br>AUC-ROC Score=%{y}<extra></extra>",
         "legendgroup": "LinearSVC",
         "marker": {
          "color": "#FFA15A",
          "pattern": {
           "shape": ""
          }
         },
         "name": "LinearSVC",
         "orientation": "v",
         "showlegend": true,
         "textposition": "auto",
         "type": "bar",
         "x": [
          "LinearSVC"
         ],
         "xaxis": "x",
         "y": {
          "bdata": "PQrXo3A96j8=",
          "dtype": "f8"
         },
         "yaxis": "y"
        }
       ],
       "layout": {
        "barmode": "relative",
        "legend": {
         "title": {
          "text": "Model Name"
         },
         "tracegroupgap": 0
        },
        "showlegend": false,
        "template": {
         "data": {
          "bar": [
           {
            "error_x": {
             "color": "#2a3f5f"
            },
            "error_y": {
             "color": "#2a3f5f"
            },
            "marker": {
             "line": {
              "color": "#E5ECF6",
              "width": 0.5
             },
             "pattern": {
              "fillmode": "overlay",
              "size": 10,
              "solidity": 0.2
             }
            },
            "type": "bar"
           }
          ],
          "barpolar": [
           {
            "marker": {
             "line": {
              "color": "#E5ECF6",
              "width": 0.5
             },
             "pattern": {
              "fillmode": "overlay",
              "size": 10,
              "solidity": 0.2
             }
            },
            "type": "barpolar"
           }
          ],
          "carpet": [
           {
            "aaxis": {
             "endlinecolor": "#2a3f5f",
             "gridcolor": "white",
             "linecolor": "white",
             "minorgridcolor": "white",
             "startlinecolor": "#2a3f5f"
            },
            "baxis": {
             "endlinecolor": "#2a3f5f",
             "gridcolor": "white",
             "linecolor": "white",
             "minorgridcolor": "white",
             "startlinecolor": "#2a3f5f"
            },
            "type": "carpet"
           }
          ],
          "choropleth": [
           {
            "colorbar": {
             "outlinewidth": 0,
             "ticks": ""
            },
            "type": "choropleth"
           }
          ],
          "contour": [
           {
            "colorbar": {
             "outlinewidth": 0,
             "ticks": ""
            },
            "colorscale": [
             [
              0,
              "#0d0887"
             ],
             [
              0.1111111111111111,
              "#46039f"
             ],
             [
              0.2222222222222222,
              "#7201a8"
             ],
             [
              0.3333333333333333,
              "#9c179e"
             ],
             [
              0.4444444444444444,
              "#bd3786"
             ],
             [
              0.5555555555555556,
              "#d8576b"
             ],
             [
              0.6666666666666666,
              "#ed7953"
             ],
             [
              0.7777777777777778,
              "#fb9f3a"
             ],
             [
              0.8888888888888888,
              "#fdca26"
             ],
             [
              1,
              "#f0f921"
             ]
            ],
            "type": "contour"
           }
          ],
          "contourcarpet": [
           {
            "colorbar": {
             "outlinewidth": 0,
             "ticks": ""
            },
            "type": "contourcarpet"
           }
          ],
          "heatmap": [
           {
            "colorbar": {
             "outlinewidth": 0,
             "ticks": ""
            },
            "colorscale": [
             [
              0,
              "#0d0887"
             ],
             [
              0.1111111111111111,
              "#46039f"
             ],
             [
              0.2222222222222222,
              "#7201a8"
             ],
             [
              0.3333333333333333,
              "#9c179e"
             ],
             [
              0.4444444444444444,
              "#bd3786"
             ],
             [
              0.5555555555555556,
              "#d8576b"
             ],
             [
              0.6666666666666666,
              "#ed7953"
             ],
             [
              0.7777777777777778,
              "#fb9f3a"
             ],
             [
              0.8888888888888888,
              "#fdca26"
             ],
             [
              1,
              "#f0f921"
             ]
            ],
            "type": "heatmap"
           }
          ],
          "histogram": [
           {
            "marker": {
             "pattern": {
              "fillmode": "overlay",
              "size": 10,
              "solidity": 0.2
             }
            },
            "type": "histogram"
           }
          ],
          "histogram2d": [
           {
            "colorbar": {
             "outlinewidth": 0,
             "ticks": ""
            },
            "colorscale": [
             [
              0,
              "#0d0887"
             ],
             [
              0.1111111111111111,
              "#46039f"
             ],
             [
              0.2222222222222222,
              "#7201a8"
             ],
             [
              0.3333333333333333,
              "#9c179e"
             ],
             [
              0.4444444444444444,
              "#bd3786"
             ],
             [
              0.5555555555555556,
              "#d8576b"
             ],
             [
              0.6666666666666666,
              "#ed7953"
             ],
             [
              0.7777777777777778,
              "#fb9f3a"
             ],
             [
              0.8888888888888888,
              "#fdca26"
             ],
             [
              1,
              "#f0f921"
             ]
            ],
            "type": "histogram2d"
           }
          ],
          "histogram2dcontour": [
           {
            "colorbar": {
             "outlinewidth": 0,
             "ticks": ""
            },
            "colorscale": [
             [
              0,
              "#0d0887"
             ],
             [
              0.1111111111111111,
              "#46039f"
             ],
             [
              0.2222222222222222,
              "#7201a8"
             ],
             [
              0.3333333333333333,
              "#9c179e"
             ],
             [
              0.4444444444444444,
              "#bd3786"
             ],
             [
              0.5555555555555556,
              "#d8576b"
             ],
             [
              0.6666666666666666,
              "#ed7953"
             ],
             [
              0.7777777777777778,
              "#fb9f3a"
             ],
             [
              0.8888888888888888,
              "#fdca26"
             ],
             [
              1,
              "#f0f921"
             ]
            ],
            "type": "histogram2dcontour"
           }
          ],
          "mesh3d": [
           {
            "colorbar": {
             "outlinewidth": 0,
             "ticks": ""
            },
            "type": "mesh3d"
           }
          ],
          "parcoords": [
           {
            "line": {
             "colorbar": {
              "outlinewidth": 0,
              "ticks": ""
             }
            },
            "type": "parcoords"
           }
          ],
          "pie": [
           {
            "automargin": true,
            "type": "pie"
           }
          ],
          "scatter": [
           {
            "fillpattern": {
             "fillmode": "overlay",
             "size": 10,
             "solidity": 0.2
            },
            "type": "scatter"
           }
          ],
          "scatter3d": [
           {
            "line": {
             "colorbar": {
              "outlinewidth": 0,
              "ticks": ""
             }
            },
            "marker": {
             "colorbar": {
              "outlinewidth": 0,
              "ticks": ""
             }
            },
            "type": "scatter3d"
           }
          ],
          "scattercarpet": [
           {
            "marker": {
             "colorbar": {
              "outlinewidth": 0,
              "ticks": ""
             }
            },
            "type": "scattercarpet"
           }
          ],
          "scattergeo": [
           {
            "marker": {
             "colorbar": {
              "outlinewidth": 0,
              "ticks": ""
             }
            },
            "type": "scattergeo"
           }
          ],
          "scattergl": [
           {
            "marker": {
             "colorbar": {
              "outlinewidth": 0,
              "ticks": ""
             }
            },
            "type": "scattergl"
           }
          ],
          "scattermap": [
           {
            "marker": {
             "colorbar": {
              "outlinewidth": 0,
              "ticks": ""
             }
            },
            "type": "scattermap"
           }
          ],
          "scattermapbox": [
           {
            "marker": {
             "colorbar": {
              "outlinewidth": 0,
              "ticks": ""
             }
            },
            "type": "scattermapbox"
           }
          ],
          "scatterpolar": [
           {
            "marker": {
             "colorbar": {
              "outlinewidth": 0,
              "ticks": ""
             }
            },
            "type": "scatterpolar"
           }
          ],
          "scatterpolargl": [
           {
            "marker": {
             "colorbar": {
              "outlinewidth": 0,
              "ticks": ""
             }
            },
            "type": "scatterpolargl"
           }
          ],
          "scatterternary": [
           {
            "marker": {
             "colorbar": {
              "outlinewidth": 0,
              "ticks": ""
             }
            },
            "type": "scatterternary"
           }
          ],
          "surface": [
           {
            "colorbar": {
             "outlinewidth": 0,
             "ticks": ""
            },
            "colorscale": [
             [
              0,
              "#0d0887"
             ],
             [
              0.1111111111111111,
              "#46039f"
             ],
             [
              0.2222222222222222,
              "#7201a8"
             ],
             [
              0.3333333333333333,
              "#9c179e"
             ],
             [
              0.4444444444444444,
              "#bd3786"
             ],
             [
              0.5555555555555556,
              "#d8576b"
             ],
             [
              0.6666666666666666,
              "#ed7953"
             ],
             [
              0.7777777777777778,
              "#fb9f3a"
             ],
             [
              0.8888888888888888,
              "#fdca26"
             ],
             [
              1,
              "#f0f921"
             ]
            ],
            "type": "surface"
           }
          ],
          "table": [
           {
            "cells": {
             "fill": {
              "color": "#EBF0F8"
             },
             "line": {
              "color": "white"
             }
            },
            "header": {
             "fill": {
              "color": "#C8D4E3"
             },
             "line": {
              "color": "white"
             }
            },
            "type": "table"
           }
          ]
         },
         "layout": {
          "annotationdefaults": {
           "arrowcolor": "#2a3f5f",
           "arrowhead": 0,
           "arrowwidth": 1
          },
          "autotypenumbers": "strict",
          "coloraxis": {
           "colorbar": {
            "outlinewidth": 0,
            "ticks": ""
           }
          },
          "colorscale": {
           "diverging": [
            [
             0,
             "#8e0152"
            ],
            [
             0.1,
             "#c51b7d"
            ],
            [
             0.2,
             "#de77ae"
            ],
            [
             0.3,
             "#f1b6da"
            ],
            [
             0.4,
             "#fde0ef"
            ],
            [
             0.5,
             "#f7f7f7"
            ],
            [
             0.6,
             "#e6f5d0"
            ],
            [
             0.7,
             "#b8e186"
            ],
            [
             0.8,
             "#7fbc41"
            ],
            [
             0.9,
             "#4d9221"
            ],
            [
             1,
             "#276419"
            ]
           ],
           "sequential": [
            [
             0,
             "#0d0887"
            ],
            [
             0.1111111111111111,
             "#46039f"
            ],
            [
             0.2222222222222222,
             "#7201a8"
            ],
            [
             0.3333333333333333,
             "#9c179e"
            ],
            [
             0.4444444444444444,
             "#bd3786"
            ],
            [
             0.5555555555555556,
             "#d8576b"
            ],
            [
             0.6666666666666666,
             "#ed7953"
            ],
            [
             0.7777777777777778,
             "#fb9f3a"
            ],
            [
             0.8888888888888888,
             "#fdca26"
            ],
            [
             1,
             "#f0f921"
            ]
           ],
           "sequentialminus": [
            [
             0,
             "#0d0887"
            ],
            [
             0.1111111111111111,
             "#46039f"
            ],
            [
             0.2222222222222222,
             "#7201a8"
            ],
            [
             0.3333333333333333,
             "#9c179e"
            ],
            [
             0.4444444444444444,
             "#bd3786"
            ],
            [
             0.5555555555555556,
             "#d8576b"
            ],
            [
             0.6666666666666666,
             "#ed7953"
            ],
            [
             0.7777777777777778,
             "#fb9f3a"
            ],
            [
             0.8888888888888888,
             "#fdca26"
            ],
            [
             1,
             "#f0f921"
            ]
           ]
          },
          "colorway": [
           "#636efa",
           "#EF553B",
           "#00cc96",
           "#ab63fa",
           "#FFA15A",
           "#19d3f3",
           "#FF6692",
           "#B6E880",
           "#FF97FF",
           "#FECB52"
          ],
          "font": {
           "color": "#2a3f5f"
          },
          "geo": {
           "bgcolor": "white",
           "lakecolor": "white",
           "landcolor": "#E5ECF6",
           "showlakes": true,
           "showland": true,
           "subunitcolor": "white"
          },
          "hoverlabel": {
           "align": "left"
          },
          "hovermode": "closest",
          "mapbox": {
           "style": "light"
          },
          "paper_bgcolor": "white",
          "plot_bgcolor": "#E5ECF6",
          "polar": {
           "angularaxis": {
            "gridcolor": "white",
            "linecolor": "white",
            "ticks": ""
           },
           "bgcolor": "#E5ECF6",
           "radialaxis": {
            "gridcolor": "white",
            "linecolor": "white",
            "ticks": ""
           }
          },
          "scene": {
           "xaxis": {
            "backgroundcolor": "#E5ECF6",
            "gridcolor": "white",
            "gridwidth": 2,
            "linecolor": "white",
            "showbackground": true,
            "ticks": "",
            "zerolinecolor": "white"
           },
           "yaxis": {
            "backgroundcolor": "#E5ECF6",
            "gridcolor": "white",
            "gridwidth": 2,
            "linecolor": "white",
            "showbackground": true,
            "ticks": "",
            "zerolinecolor": "white"
           },
           "zaxis": {
            "backgroundcolor": "#E5ECF6",
            "gridcolor": "white",
            "gridwidth": 2,
            "linecolor": "white",
            "showbackground": true,
            "ticks": "",
            "zerolinecolor": "white"
           }
          },
          "shapedefaults": {
           "line": {
            "color": "#2a3f5f"
           }
          },
          "ternary": {
           "aaxis": {
            "gridcolor": "white",
            "linecolor": "white",
            "ticks": ""
           },
           "baxis": {
            "gridcolor": "white",
            "linecolor": "white",
            "ticks": ""
           },
           "bgcolor": "#E5ECF6",
           "caxis": {
            "gridcolor": "white",
            "linecolor": "white",
            "ticks": ""
           }
          },
          "title": {
           "x": 0.05
          },
          "xaxis": {
           "automargin": true,
           "gridcolor": "white",
           "linecolor": "white",
           "ticks": "",
           "title": {
            "standoff": 15
           },
           "zerolinecolor": "white",
           "zerolinewidth": 2
          },
          "yaxis": {
           "automargin": true,
           "gridcolor": "white",
           "linecolor": "white",
           "ticks": "",
           "title": {
            "standoff": 15
           },
           "zerolinecolor": "white",
           "zerolinewidth": 2
          }
         }
        },
        "title": {
         "text": "Comparison of Model Performance (AUC-ROC)",
         "x": 0.5
        },
        "xaxis": {
         "anchor": "y",
         "categoryarray": [
          "RandomForest",
          "LogisticRegression",
          "DecisionTree",
          "GradientBoostedTrees",
          "LinearSVC"
         ],
         "categoryorder": "array",
         "domain": [
          0,
          1
         ],
         "title": {
          "text": "Model"
         }
        },
        "yaxis": {
         "anchor": "x",
         "domain": [
          0,
          1
         ],
         "range": [
          0,
          1
         ],
         "title": {
          "text": "AUC-ROC Score"
         }
        }
       }
      }
     },
     "metadata": {},
     "output_type": "display_data"
    }
   ],
   "source": [
    "import plotly.express as px\n",
    "import pandas as pd\n",
    "\n",
    "# Extract model names and AUC-ROC scores from the results list\n",
    "# Replace these placeholder AUC-ROC values with actual values from your results\n",
    "results = [\n",
    "    (\"RandomForest\", 0.85, None),  # Example AUC-ROC value\n",
    "    (\"LogisticRegression\", 0.80, None),  # Example AUC-ROC value\n",
    "    (\"DecisionTree\", 0.75, None),  # Example AUC-ROC value\n",
    "    (\"GradientBoostedTrees\", 0.88, None),  # Example AUC-ROC value\n",
    "    (\"LinearSVC\", 0.82, None)  # Example AUC-ROC value (replace with your linear_svc_auc_roc)\n",
    "]\n",
    "\n",
    "# Create a DataFrame for Plotly\n",
    "data = {\n",
    "    \"Model\": [name for name, _, _ in results],\n",
    "    \"AUC-ROC\": [auc for _, auc, _ in results]\n",
    "}\n",
    "df = pd.DataFrame(data)\n",
    "\n",
    "# Create a bar chart using Plotly Express\n",
    "fig = px.bar(\n",
    "    df,\n",
    "    x=\"Model\",\n",
    "    y=\"AUC-ROC\",\n",
    "    title=\"Comparison of Model Performance (AUC-ROC)\",\n",
    "    labels={\"AUC-ROC\": \"AUC-ROC Score\", \"Model\": \"Model Name\"},\n",
    "    color=\"Model\",\n",
    "    color_discrete_sequence=px.colors.qualitative.Plotly\n",
    ")\n",
    "\n",
    "# Update layout for better readability\n",
    "fig.update_layout(\n",
    "    xaxis_title=\"Model\",\n",
    "    yaxis_title=\"AUC-ROC Score\",\n",
    "    yaxis_range=[0, 1],  # AUC-ROC scores are typically between 0 and 1\n",
    "    showlegend=False,\n",
    "    title_x=0.5\n",
    ")\n",
    "\n",
    "# Show the plot\n",
    "fig.show()"
   ]
  },
  {
   "cell_type": "code",
   "execution_count": 42,
   "id": "1d508724",
   "metadata": {},
   "outputs": [
    {
     "name": "stdout",
     "output_type": "stream",
     "text": [
      "GradientBoostedTrees Metrics: {'precisionByLabel': 0.7357055372913041, 'recallByLabel': 0.983173007896626, 'f1': 0.6383092038321906}\n"
     ]
    }
   ],
   "source": [
    "from pyspark.ml.evaluation import MulticlassClassificationEvaluator\n",
    "\n",
    "def evaluate_additional_metrics(predictions, model_name):\n",
    "    metrics = [\"precisionByLabel\", \"recallByLabel\", \"f1\"]\n",
    "    results = {}\n",
    "    for metric in metrics:\n",
    "        evaluator = MulticlassClassificationEvaluator(\n",
    "            labelCol=\"target\", predictionCol=\"prediction\", metricName=metric\n",
    "        )\n",
    "        score = evaluator.evaluate(predictions)\n",
    "        results[metric] = score\n",
    "    print(f\"{model_name} Metrics: {results}\")\n",
    "    return results\n",
    "\n",
    "# Evaluate GBT predictions\n",
    "gbt_metrics = evaluate_additional_metrics(gbt_val_predictions, \"GradientBoostedTrees\")"
   ]
  },
  {
   "cell_type": "code",
   "execution_count": 43,
   "id": "1e8ca3bd",
   "metadata": {},
   "outputs": [
    {
     "name": "stdout",
     "output_type": "stream",
     "text": [
      "Tuned GBT AUC-ROC: 0.6600\n"
     ]
    }
   ],
   "source": [
    "from pyspark.ml.tuning import CrossValidator, ParamGridBuilder\n",
    "\n",
    "gbt = GBTClassifier(labelCol=\"target\", featuresCol=\"features\", seed=42)\n",
    "pipeline = Pipeline(stages=indexers + encoders + [assembler, gbt])\n",
    "paramGrid = (ParamGridBuilder()\n",
    "             .addGrid(gbt.maxIter, [50, 100])\n",
    "             .addGrid(gbt.maxDepth, [5, 10])\n",
    "             .build())\n",
    "evaluator = BinaryClassificationEvaluator(labelCol=\"target\", metricName=\"areaUnderROC\")\n",
    "crossval = CrossValidator(estimator=pipeline, estimatorParamMaps=paramGrid, evaluator=evaluator, numFolds=3)\n",
    "cv_model = crossval.fit(train_split)\n",
    "best_gbt_auc_roc = evaluator.evaluate(cv_model.transform(val_split))\n",
    "print(f\"Tuned GBT AUC-ROC: {best_gbt_auc_roc:.4f}\")"
   ]
  },
  {
   "cell_type": "code",
   "execution_count": 44,
   "id": "c70eb6be",
   "metadata": {},
   "outputs": [
    {
     "name": "stdout",
     "output_type": "stream",
     "text": [
      "Feature Importances: (12,[0,1,2,3,4,5,6,7,8,9,10,11],[0.11992866560490009,0.08564657780440894,0.0871899084376784,0.001889119403551761,0.0017065875583536863,0.0034986972411792153,0.013662801247842717,0.011311968311518058,0.007449036622919843,0.6305072006354122,0.005764126570196182,0.0314453105620388])\n"
     ]
    }
   ],
   "source": [
    "feature_importance = rf_model.stages[-1].featureImportances\n",
    "print(\"Feature Importances:\", feature_importance)"
   ]
  },
  {
   "cell_type": "code",
   "execution_count": 49,
   "id": "7c215fa9",
   "metadata": {},
   "outputs": [],
   "source": [
    "test_split, val_split = train_df.randomSplit([0.7, 0.3], seed=42)"
   ]
  },
  {
   "cell_type": "code",
   "execution_count": 50,
   "id": "bd372f53",
   "metadata": {},
   "outputs": [
    {
     "name": "stdout",
     "output_type": "stream",
     "text": [
      "\n",
      "Esquema do DataFrame de previsões (GradientBoostedTrees):\n",
      "root\n",
      " |-- id: long (nullable = true)\n",
      " |-- total_transactions: integer (nullable = true)\n",
      " |-- total_spent: double (nullable = false)\n",
      " |-- avg_spent: double (nullable = false)\n",
      " |-- first_purchase: date (nullable = true)\n",
      " |-- last_purchase: date (nullable = true)\n",
      " |-- unique_categories: integer (nullable = true)\n",
      " |-- unique_products: integer (nullable = true)\n",
      " |-- offer_purchase_count: long (nullable = true)\n",
      " |-- offer_total_spent: double (nullable = false)\n",
      " |-- offer_avg_spent: double (nullable = false)\n",
      " |-- days_since_last_offer_purchase: integer (nullable = true)\n",
      " |-- offer_purchase_count_cat: long (nullable = true)\n",
      " |-- offer_total_spent_cat: double (nullable = false)\n",
      " |-- offer_avg_spent_cat: double (nullable = false)\n",
      " |-- days_since_last_offer_purchase_cat: integer (nullable = true)\n",
      " |-- unique_chains: long (nullable = true)\n",
      " |-- offervalue: double (nullable = false)\n",
      " |-- offer_value_per_transaction: double (nullable = false)\n",
      " |-- avg_days_between_purchases: double (nullable = false)\n",
      " |-- repeater: string (nullable = true)\n",
      " |-- target: integer (nullable = false)\n",
      " |-- features: vector (nullable = true)\n",
      " |-- rawPrediction: vector (nullable = true)\n",
      " |-- probability: vector (nullable = true)\n",
      " |-- prediction: double (nullable = false)\n",
      "\n",
      "Amostra das colunas features, rawPrediction, prediction, target (GradientBoostedTrees):\n",
      "+-----------------------------------------------------+----------------------------------------+----------+------+\n",
      "|features                                             |rawPrediction                           |prediction|target|\n",
      "+-----------------------------------------------------+----------------------------------------+----------+------+\n",
      "|(12,[0,1,2,9,11],[326.0,4.73,105.0,0.75,999.0])      |[0.8413778578663488,-0.8413778578663488]|0.0       |0     |\n",
      "|(12,[0,1,2,9,11],[1218.0,3.19,200.0,1.5,999.0])      |[0.6715600368301585,-0.6715600368301585]|0.0       |0     |\n",
      "|(12,[0,1,2,8,9,11],[680.0,4.17,188.0,1.0,1.25,999.0])|[0.8186323928049055,-0.8186323928049055]|0.0       |1     |\n",
      "|(12,[0,1,2,8,9,11],[817.0,3.62,206.0,1.0,0.75,253.0])|[0.7505781467086755,-0.7505781467086755]|0.0       |0     |\n",
      "|(12,[0,1,2,8,9,11],[431.0,5.15,161.0,1.0,0.75,999.0])|[0.7333068843387945,-0.7333068843387945]|0.0       |0     |\n",
      "|(12,[0,1,2,8,9,11],[678.0,5.63,167.0,1.0,3.0,999.0]) |[0.3445443557797504,-0.3445443557797504]|0.0       |0     |\n",
      "|(12,[0,1,2,9,11],[1526.0,5.29,284.0,0.75,999.0])     |[0.4492596985239502,-0.4492596985239502]|0.0       |1     |\n",
      "|(12,[0,1,2,9,11],[164.0,3.93,88.0,0.75,999.0])       |[1.036195200017691,-1.036195200017691]  |0.0       |0     |\n",
      "|(12,[0,1,2,9,11],[336.0,3.67,101.0,0.75,999.0])      |[0.879605301944482,-0.879605301944482]  |0.0       |0     |\n",
      "|(12,[0,1,2,9,11],[306.0,5.32,92.0,0.75,999.0])       |[0.8559781976062367,-0.8559781976062367]|0.0       |0     |\n",
      "+-----------------------------------------------------+----------------------------------------+----------+------+\n",
      "only showing top 10 rows\n",
      "\n",
      "AUC-ROC (Validação, GradientBoostedTrees): 0.6690\n",
      "Matriz de Confusão (GradientBoostedTrees):\n",
      "            Predicted 0  Predicted 1\n",
      "  Actual 0        80651         1143\n",
      "  Actual 1        28831         1658\n",
      "Métricas de Avaliação (GradientBoostedTrees):\n",
      "Accuracy: 0.7330\n",
      "Precision: 0.5919\n",
      "Recall: 0.0544\n",
      "Specificity: 0.9860\n",
      "F1 Score: 0.0996\n",
      "Test Set AUC-ROC for GBT: 0.6690\n"
     ]
    }
   ],
   "source": [
    "test_auc_roc = evaluate_model(gbt_model, test_split, \"GradientBoostedTrees\")[0]\n",
    "print(f\"Test Set AUC-ROC for GBT: {test_auc_roc:.4f}\")"
   ]
  },
  {
   "cell_type": "code",
   "execution_count": 52,
   "id": "e3db9b9d",
   "metadata": {},
   "outputs": [],
   "source": [
    "gbt_model.save(\"path/to/save/gbt_model\")"
   ]
  }
 ],
 "metadata": {
  "kernelspec": {
   "display_name": "vscode_pyspark",
   "language": "python",
   "name": "python3"
  },
  "language_info": {
   "codemirror_mode": {
    "name": "ipython",
    "version": 3
   },
   "file_extension": ".py",
   "mimetype": "text/x-python",
   "name": "python",
   "nbconvert_exporter": "python",
   "pygments_lexer": "ipython3",
   "version": "3.11.11"
  }
 },
 "nbformat": 4,
 "nbformat_minor": 5
}
