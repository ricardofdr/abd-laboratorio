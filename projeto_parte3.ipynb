{
 "cells": [
  {
   "cell_type": "code",
   "execution_count": 1,
   "id": "fdfd79f1",
   "metadata": {},
   "outputs": [],
   "source": [
    "# Basic imports\n",
    "\n",
    "import json\n",
    "from pathlib import Path\n",
    "import pyspark\n",
    "from pyspark.sql import SparkSession\n",
    "import pyspark.sql.functions as F\n",
    "from dotenv import load_dotenv\n",
    "load_dotenv('.env')\n",
    "import os\n",
    "import plotly.graph_objects as go\n",
    "\n",
    "from dotenv import load_dotenv\n",
    "import os\n"
   ]
  },
  {
   "cell_type": "code",
   "execution_count": 2,
   "id": "9f21d185",
   "metadata": {},
   "outputs": [],
   "source": [
    "# Build SparkSession\n",
    "spark = SparkSession.builder.appName(\"DataPreparation\").getOrCreate()\n",
    "base_path = os.getenv('BASE_PATH')"
   ]
  },
  {
   "cell_type": "markdown",
   "id": "9a386ccc",
   "metadata": {},
   "source": [
    "## Data Ingestion"
   ]
  },
  {
   "cell_type": "code",
   "execution_count": 3,
   "id": "f62927cd",
   "metadata": {},
   "outputs": [
    {
     "name": "stdout",
     "output_type": "stream",
     "text": [
      "�}ES\u0002\u0003offers.csv\u0000���n�0\f\u0005��=\u000bQ�����u�0`K� \u001d�������\u0002��Y\u0012)�^__��|��|?�����p���\\������x���=�|{������\u0017�fW�\u0016q\u0012\u0012.g�brjm�\u0015\u0018�Q7�\u0000)��u\u001d�X�t\u0006)XG\u001e&fa�O�$j9�(���׶\u0007#A��䜘\u0002�Bw��\n",
      ",\u001a\u001ed�2�\u000b3;�b4[&�\u0007\u0000̞E��\u001ff�l<�Ȉ���D�\"\u0010\u001f\u0004�\u0011�\u0013#u�\u0007��V҃��Y�@���ʎ��W;XKU�C�6�\u0000��\u001c�5j�T���g��̛�ܮA�U=@AV0',%�W\u0011��M�=Sp!��^�����9�{�h�Ȭ��o�F#F�|l�W�Yխ�X���\u001d#\n",
      "fʥ�+}�p��<��\u0001�����B!�Q\u0011�E\"��p�2M�^�*0K�c�\u0002����\u0016��@@�4��e�I�Tb�����A�\u001e�Kˆ��ч�ˡɿl��PH�Υ���,�6\u001d�Yoe0�d�����\u000b4�}�\u0014��۰��c���\u0014�Z�2+�]�v�t���\u0001���l��\u0018��#9�^�\u0015G���H��2�,-\t��1{FGJ���\u0000�:�U.j)��?��\u00168z��2\u001d�:�`l�A��R\u000ez�t\u0015���>tXw��r:u�q��ݢq\fS�2�\u0000�9\u0004�,�\u0019�VF.�\u0019�RQ��Y�^6Ȟ\u000f\u0003f��Mf���\\�Y'����2\u001b�\u0002�\u001aud��#�����\"���0}B����Y��\n",
      "��%Q�Y*Չ\u000f���j�H\"����\u0011>s,w*�c�,e���+\u0000�=\u0016�<��X�b��I�\u001f�\u0007XV\u0016\u001e\u0019��Q�����:�5s��\u0016��P��exw�1ǕG����1�L����h;����êʗf�exG����V�5�\u0003X-%8�8�=�I/��@�!���\\��aK/Q86���4�&:�dt�,�ɹ�5��]�v�\tIX���l�.��b-C֭c{��L,+h��\u0000����9������\u0002;��\f;���c��\u001f۸w\u000b��Y�'3�\u0011�1����B\u001fm��\u001e�:N�Ē\t�/\u0005���\u0010�\u001e\u0015G�A-�0>ˁYƑ��\u000f�ٌK7�9f\u0013<V�-Is̲�:���\u001c��:���\n",
      "�\u0014�ޱ���1��c!|\u0003�YM\u001e\u00135X\u001a:��\u0016�:��ޚƼէ#c\u0019ff���\\����F��r��؆��Q�z$-�m��ģ�w=*�s���x��^R`ײ\u0005痍��E\u001c3lx$��X���\u0013q�T\u001ec&Z�Lw�c�-�\u0005��1�+\u001f9�%��yl��\u0005K\u001c�r��5�cu�2-�#�\u001d�}9��$Q˩\u0018�c\u0005ET.M]�e���(\u0002��*�-)\u0013�Q\u0013u�\u0010z�\u0014₞��!�.��YZ,�&���~�Rr�\u000fVˊL�1\u0001^��\t[���,g,\u001b\u001f[B�:S�m\u0003\u0010:�6Y�\fkD\u001e�t;�U\\P�8�*�ؕ�L.\u0005�r�d�8bI\u001f�q����<�\u0013\u0017T�\u0018˖��\u001c\"��-SL�2 p�>�\\f�Xˊn���V���P�q�v����X]�e \u001c�f6C�B�zIs�zL}ׂ\"�mف��$���>\u001440\u001e�y�,B�e��1�q�ײ,|�����F\f�h\u0015ԇ��n.�˙�=��\u001b�f\u0019逎��^f\u0014�Ga�X&�Z��C�̺`���¯\u001d+g�H��(7�2i1q�*���y+UJ[6���uq�\u0015\u0011\\N�����ҼM��*k\u001c�e�\u0018�YVT��\n",
      "i�#�\u0011K���c�e.ýQG��\u0006�\u001d�\u0013�$��R�\u0003�lc�,�\u0019�w\u001b%1����Ir�Bh�*&�\u001ck��LO|J�B���4\u001d\u0015��c�1�Π_0Y �5���\u0001�q\u001d\u0019l,�d/�\u0010dGeԭi��%}&�\u0018*��|��\u0002�vl������0𑕹4\fCKO�\\��m�,��\u001c�#,�c�eg�!�m\u001d\n",
      "D�\u0018͹6E�\u000b�eZpxl�`Y�d.\u0019>���n\u001b\u0018��\u001cKT\u001fg\u0010�L\u0012��\"�G�,�X>5G��e�ԗ\u001d�\u000bǇ\u000e1t�\u0018�\u001c�i�V���t������4n�\u0014C˶�c\u0017j\u0019H\u0015ri\u0019�X�ר�\u0011I��P>ת<UG\u0016�\t\u0011�0��YK�L��(\u000b�H����e�e͒�l\u001e���d��Aw�X1�\u001f\u0016\u001cB\u001e)�-to�\u001fC�Zf;e��t�h��K�G�ʽݏBg,�Ǻ�\n",
      "����9NF���C�jz�nV��.\u001dӻ�11xT�\u001f��c!��J�Q��[y�\u0019\"�X�9F��X>�GZב�=�a��`\u0019�\u0006��\u0000�ځ��B�u�dK\u0007f걺\u001fM��Ȫy$�\u001f\u001b��RQ��ţ\u001c�e�\u001f��\u001e'�}\u0019\u0018�����fzϱ��#���i�Q��G�cZz�Q�:z��\u0018�oP��l\u000f\u001c\u0019���h�r�G)\u0007�\u000e�\u000b�\u001d���\u0002ҾL��La��G�[?��ڀ����ǔ��5R|9�G��k�����VB�q�2�#��\u001a!�ǚ�c��H���tƣ��83s�E��2=��\u001e\u0019�cc��K!�8z\"��H\u001e�1��\u00158\u0012�x\f�:�\u0010��\u001e\u0019����\u001f=��F{���[���#������13�K\u0019�e\u000f��\u0013q�+xlO��\u0004#\u001eӈ�\t�r��/ɘ�e��΀\u001d�;�}��cY�\u001fS�ǎ/�1qT{��`�1L�8\u0004����RWV\u001f\u0003�9�%�Ht=����861/\u0018\u0001�:Z���6��(��V��8�9��#�8�j��/��X�|��>�lxd�_\n",
      "���/G��D��1�����cW�˞>\u0012��ʣ��S�8\u001d:�#��*�8Q��\u0000���i��\u0007MǴ`>��=N�ܭ\u001e��\u001f�ΣȎ�A�����\u001e;��+�i�~�j{,�\u0006U�z$�\u0005�\u001f{��\u0000��ppl�����q����ɥ\u0003n�c�(��\u0016�\u001d+���\u001f���#(\u0014�PtK�9����V\u0017ɫ�\u001d]\u0019!\u0001\u0012\fHY-[���\u001dK�����0�+��1\u0001��n��,�/�#��Y�ZZ\u0006͖��\u001f����\u0003��˩��\u0011��\u0019j[f�զqIe����KT�>v�|�\n",
      "\u0015��t�\u0019b�����\t���z\u0006|ְT���X�\u0018�9��s���a��ai]V\u001eg�q�]]�1 ��5kFZ�e����n�No�<�8���J�>#�6`�y�Yk�]�r�s�:�e\u0015�L�\u001a��uWe�9ٵV��ad��\u0004�a�s&��3�֌`�'<�(�>Q��l�s�n�h�zܔ�\u0011n�1�*��|���P��_\u0000���,|\u001d��3�s�l?��6�]��U���{�j�z�r�J���f�X{�}\u001d(�:\u0013�5����zZ�5s�=,\u0010\\g��3�g��3q�6�9x{�v�J�3\"k=j��i@�:]egzk]tκ-�������ۨ<�e����%�a�\\\u0017�Zw\t����\n",
      ">���s�u��Y;4�.�b�����g���3m=ɩ�*����t\u0004�\u000eˉ�S:���ɱ^��B��*;�p>�\n",
      "� �\u001c�my:V�&�i\u0005�3�� �NI��B�X�׊����\u0004�ˇ\u0002CFGˉ\u001e���\\ݍ3�\"�(y\u000bv�`�y6����=/b����aQ�e)���N��^��]��+\u0013�g�E�I���#rZޠ��<\\��=�պ�<Ì#c:��\u000b�YX���<�x^Rf��L�>owQ���O��Ξɑ��r�C��\u001c\u001ear9J^�\u0013\u001e�̔+ve�\"�lB\u0006Y�vߐ���^ʍjy< /PgƄ˕\u001c�`����ymdt�����ή�]u�h\u001b9�V���>v�l�\\H<O�<��9��@�k�}�[�Q����߾gr�S�{f�PF\fd��y#\u001cϴ�g��afir�A\u001e���]�𳔷�\u0007{=\u0015�3���S�9Ӕ8'��V�Y��,Cg�Uyݫ\u001b�A>���?�KY\u0019�\u0006�<Һ<��\"c��Ժ-��4�\u0015��d�sO̚��s7�VX�\u0019�s\u001e�gz|�2sw_�x�sۯ�\u0014��T��i��35gq��ar��ѹ�j=�:�:�,�Y\u0016�VD�\u0001>��\u001b`v&p�\n",
      "�.��\u0002\u0003testHistory.csv\u0000|�[�$5\f��YK!�r�c/\u0007q\u0001\u0012b�\"\u001e��\u000b�G�4��N������\u000f��?����\u001f?����o������\u001f����o�,M\u0012Wǥ����e�����!H��C�fԃ�C��������\t�C�!;/��\"\u000fxk�oԅH�K�Z�n@\u000f�E�.�\u001d D�\u0000#\u0017��k��V}�QT�4^@߀\n",
      "\u0019�+`��:\u0016�\u0007 \u0010\"׽E����B,��V��\n",
      "|\u00004���\u0014��\tPQ%�����\u0001�\u0015��^�ߧ��]Z�s��Kc\u0002h�/Ľě�\u001e�E\u001c_�p1���VG���Y9^\u001a�ᅐ\u0010�\u001b�z\u0007|\u0000��}\u0001�%\\�NJ�\u0000�\u0010��(}�1T�=�\u0001�t��\u0001\u001b_\\\u0019�p�K�J\u000b��8\u0000�|~��\u001ax�K\n",
      "�\u000b�\u0013\u001a��i�@\u001f�T\u000b���مC���5PR�%\t�\u00004���^9DzF|�n�ЦQk��\u0010\u0010�ȯ\u001d\u001aԤ]���]L���\u0013�+���#\u001bQ^\u0019��TT�E�e����1����(���n�G:�Rp�u�8�IE�\u0012X~�0�����5��,���'䪷��#Ǚa\u001a���\u0002�ն��Gζ*Y�\u000f\u0007��\u0014|\f�ɾ\u0012m+���C{\u0014�\u0012��R���A!c- E\u0005Ċ\u0003T�4��;��(��\u00154}��ߖ�n�\"Ip9F;����R�u\u0000\u0007�?:I9�̞@��\u0017<;^[��V�0\u0000\u0019�\u0014s?rG�b-��\u0014|I��\u0002�\u0017\u0018 ����\u000eO9���\u000fRF�$��\u0006���Hi�3�ߧ\u0002c�����=�L�R��`�2����\u0010�j}\u0007�3aLa��ְ��\u0003TK�\u0012�r�lq���0; �RK�\u001f��\u0018[��\u0002Н\\4�\u001b3���-'�\u0010�.p��!�m���ҁ'a�^���/�+C���<��nsK���\u0011�@\u001f���EํHI�6��\u0010E8���!\u0012���[7�G�\u0018=���\u0010����s\u001d\u0002!^��CK�ƖdV%~]T]z�E\u000e�\n",
      "����0$�m4\u0007�j�-�q�@�l��\u001c =�y�K��!����\u0017~�\u0006�\u0000Tq�I�T�ݛ!\")jۑ}!Bh�F�\u0010���\u0011�C�\n",
      "b�d�.W�:\u0000+Y�\u0015o��\u0012��\u001bRV��7�\u0012N��6\u001f�V�-RC���f�\u0001�B-��\u0001��{\u001boBA�ccF\t��\u0000��Ϡ\u0001�\u0010�\fHǗ&\u001a\u0011�Ō\u001dBՍ�h�\u0003��c\u0019�e�E~��k\t>̴(h��\u001fl�\u0016�Xf�QA�\t���\u0000\u001dV�F�5l\n",
      "\t�m/�v\u0014��.P\u0015�\\\u0003\\\u0006�B�ҎM\u000f�&%���p\u000b&wG\fQR��x��C��=y<���B3*�+�\u001b1�А-��\u0012^l\n",
      "שa�\n",
      "�~��a�ݞ\\��\u0002\"J�s�\u001eB��V�|�R�=���\u0007\u0003\"ck.8�S��=\u001b�\u0010e��qa�N@6bt����5\u001e\u0003g\u000f��e�\u001be?�T��\u00127\u001c�\u0011Q��1Du�>�\u0006(Y��\u0019\u000fQ�jK��\u0001���rf:@Q���\u001c�4s\u001f�#$ �\u001b�C�!��}�\u000b��[9�>�\u000b�t}\u0007\u001d�(�t�\u001c@���%C�ڰ܎9�\u000ek�|��#O��mO�\u0011\u0014���~�*���=������\u001f��\u0012{=�Ri믴�hQ��*��Wn\u001byB���<r~����4���7�G\u0003*%���2�.]�\u001f SMz�0K��J|ރ�\u0000�br�����V��w�\u0018�(�\u001f��l��]�����\u001c\u0010�n%\u0015D-�15r���;GвŗG\u0004�\u0001h\u001e[ۈ\u0003�FJ/�\u000e\u0000I���Te��&�]�!`\u0019�細#\u000f�N,S�\u000fp䔏�_��\u0011n��g.\u001f9�­x�\u0010�4�J9g��}kn��\u001c�}���$���}�)!}\n",
      ":��U�u@\u000f��.z��\u0017��$ʜ��8��x�^�*\f�\\J1\u0007�r�4\fP\n",
      "Y��`�h�\u00022^��\u0004��+�\u0014�쓎\u0019�]��|�2s���\u000e�\tZ�+���~M\u0015�s\u0003S^L� dH��N{���\u0002XT��b�p\u0001�g�M\u000e���F��\u0012�:U&��1ǐ�Ր3�Ҕ�\tVN=�\u0001�o&BQ��QuA��MMq��\u0010�}7���C��%��E���dA�l�������[6\u0014Tc�eR�\u0014ܱ(\u0003S�-Ov(\t��Rɒ�[��\u0011��37\u0005V��T�P.�8*����I%��7�fM5\u0016\u0014�V�0�-sWɛI������\u0000�\u0018����\u0018U\u0015塧>M]>�\\�\u0016��\u001c[��\f��]�S�bw�29�'��(Ƣ�<����R+�\u000e�\u0013�\n",
      "\u0011�i�V^TQ�\u000fJI3��5�SC(�!���L\u0000�\u0016\u0002;�ŰH���hS�8��O�F�qe�i\u0014ȗ��BtX,���B׸3P�v�8J��3Ӧ��\n",
      "����\u0002U�Oc:^�D\"4Y�\u001b\u0012�[-��\u000eWՔ�\u0011�m��P�\u0001�H�L\u0016�\u000f\\�����8!io�����]Ɖ�Մ�ƺ�\n",
      "�7��j�|��}Q�V9�p4\u0015�*srf�T���]�bJsuv\u0017� ���M9�m^P�\t�wC]L��֦��x��\\�6�\u000b\u0016��\u0013�M�!�hޔ\"4�2��[0%U\u0010\u0006��\u0016�*��\n",
      "�-���\u0001\u001b��\"Ru�wo�V8����*n�9\u0010��b�\\\\�R�[��ޘjLBsGKu�H\u001d\u001aC�/(����C��dD��\u000ff�w�+ti\u000b:%�]�\u000f{/�Ϝ�\u001dJ5c\u001e�����k�(�[}jQ %�۳�\u0016*\u0010Հ�cF@��y�\u0014D\u0004���t�/g��\u0004�Qu��n�\u001cEb�yh\u000b��\u0012\u0013��$\u000e��0�ւ��K�u��\u0005)I\tO�]C,�q\u0006N2bļR,*D�|��\u001b��֜\u000b��j�����X��x�����\u0002c�HN��\n",
      "�4��&K\u001f\u0014:�k*c;(��ԟ\u000f=��i��p7�\u001cl�xW�\u0014�05\u001b�\u000b ��w�q\u001b̴u��\u000fîu\u0019\u000ep\u0014�q�����G�u�{������\u0011�,o�5��Q��9*mS�K�;�\u00199!�y�\u0007c\u0017���\u001d\u0004�ko�]�)��(.�!&\"�\u0001\u001a��X\u0001�{���y��,��;������w(Ӳ!\u0015ѣе�����`!v΃�b��漟��6��4�<�(N?u��7\u0007k�Z\u001b\u0003hᵩ=\u000b=�Cy�\u000e��0�[(�n.&�yP��v>\u0007�W�6\u0007�\u0006�۱�d�\u0011ҳ\u001e�\u001a��\u0017Z���\\�V��V��AMz�Ҍ�a@K�<��W�}�����+����l���<�fd�\u0016�1U��1�\u0006,���8\u0003�i�P\u0005�����X��·�\u0019�\u0014��c�\f���_����%�Q3aiO���ƮlA�I��U���r\fCn��\u0003w'\u0019Κ����N\u0014\u001a�o\u0000cs���\u0013r\u0006�*�W�=e{��\n",
      "�\u0002꠰��\u0007\f\u001e\u0003�h��6#A�����H\u001d��\t[�ր\u001d��T2�\u001c��55������wZ��\u000em8*��\u001a4�~r�&�p��1�\n",
      "9e�m�Ku\u0010�����65�e�p\f+�j���&�\tb\u0007\u001f�ZZ��8��n��\u001e�\u0002Gu��zF0Gaˠ-a�P8�\u0018�T�x\u0010��'�\tx�N\u0000�n����.S�_?(:7�e\u0019\u0016�u�:�ۧD��_�浵���AiS�\u0010�i����k2\u00071զ�\u000e��m�\u0013�A�&dۈ��\u0005%v\u001f��V���Q��ߏk�\u000e\u001c\u0016\u0007���2��ٵr5�q\u0010fPG��Cm�ǖL�\u000e�a�\u000e?( �\n",
      "vLV��>�\u001c��9�I�\u00135�ٰYQ��A\u0018�x��0�\u0011�\u0018��䈫tP:�JM��V�V�\u0015�Q\u0005\u000fY�\u001e4���ߣ\u00109+��Al|�Q�z��=�\\�'\u001c\u0014�&_F\u001fT��3�4\u0002��� 2G��\u000e��*)�\u001e�-\u0013��1[h�7�A� ��~\u0007�O�a��\u0005�yA�y\u0004c�����A�Y#���\u0010\u001c\u0013a\n",
      "���!�[���a�\u0017%:�\u0006�XTY*�Y�/\u0003A���m.�v�G\u0016��U��H���\u001a�LZܾ�����b0$.�gIED:�I�Y\u001c���~QO'��X�n�|c�eᑼ�kUj\u0018kѺȑF\u0002&������Am�;N�<Of�Ud��E9�C*r��h���\u001a\u0017sk\u001e��{f\u0019���AcV|�\u0007\u000fUڷ{\u0011|��n�L\u0005�MmU��~�\u0004�=�\u000f\u0014���C����Rsk��IDS\u0016Y�����\"���R�J�=kQw\u0019Od�\u001aՉ�� ES�UD�Q�a�^X��E��W����S\u0017y�)mOZ\u0004�&\u001d�k\"��O�oƛ���J�0�龨M�xR\t926���GE��%J�BY�٢���-\u0007E6_.,*s���E%t��j\u0017�{���-g�v\u0019���>*\u001b��+�\u0000�X~�����M�K<�F�)�l2ّ�*H�s����0�j���\"\n",
      "b\u0018Pv\u0000x|%&�#�\u0016S�V�z�~��zRhܖ�����\u0007��׻�����\th7���\u0007�Γ�<dd�.\u0015I\u0017B�8\u001f\u0015\u0001�G��@}�<�(GH\\�,ǓR�t�>h��:\u0000��u\u0016�w��H8`�\u0014�2>A�ar��t7=\u000f\u0012\u00190\u000b\u0014BË�Bw`�i\u000b��\t\u000e��\u0014D\u0006��� kT���B�>� ��U\u0004\u0000\u001dX\u000f��p�\u001d\u0019W�\f\u001c�L�`hd����8�h`�\u0000 \u0006ώ����N\u0016�`j\u0016��\u0006\u000f���J\u0019�vh�֣��M�<\u0000\u0005\u0001\u0010�\u0001���ĥ�fWe&>�j��]�A�V\u0005���\\ڍ��s�\u0019�\n",
      "a��p�4Ьge�UѪ�Q�\u001d�}\u0010�*�e��\u0018D2�a.\u001az���\tɍN6t\"]1UL�\n",
      "Q\u0000�0CGM\f�\u0016mrL��z/X��˜%��\u0018�L\u0006M�\u0005�A�%г��,$J��4h�\u0004\u0001q�PH��22�b����\u001bG�1\f���p��\u001eq�Q�\u0017WPH\u000e6�)�\u001c�\t�2F�~\u0012\u0010s\u0018&\u001e\u0004��k�EM�N� �a\u0006\u000fJ}[7�9R\u001fD�\t�\u0003����&�Wu>\u0018:\u001f\f4�\u0011�i!){\u000e㠩\u001f�\u001b�\u001d{�O�t\u0013����t\u0001��)Ԝ�\n",
      "8�?&\u0003vC�\tA�\\,ʅ(Q��8��� �y�aʩ\u0004�{)�\u0017$�@J���1��\u0005�t?:\u001e~��'$==��r1)W5Ǒ��ȹ�������� �*\u0012\f�.Cy�z�\u0014f���BP���[�v�\u0017!��\u0003\u0002����i9f�� ���e9�+�\u0011��\f\u0006a��;��o��\u000f3��GWo*\u001b�|\u0010�\u0003ȸ��\t��\u0007�\n",
      "&��V\u0006���70+E�;e��5�\"2M�r\u001dg+����\u001fk\u0006_�\u0017)$ \u001d{E��x\u0015�\u0010�\u000f���d�T�T�\u0011Dc�+��xΎ��\u0011\u0002�Q>��E<�o���< \tw?\u000b)��\u001b0�\u0019�4)�on�GI?y�T��� �7�\u001f}0\u0018F)��^\tH�4�̹$��*��O�zq�Kԥ_l�\u001b,����1\u001d.V�%�tt�~v��\u0016v\u0019���n^\u001e%u]e\u000b#�\\+\fyG\"-�p�8\u0016<�\u001c,3���#M�i\u001aڠu�\t�\u0007�<�Ի�8��}v\u0004\u0010�qX\"AH�\u0019[�Bn�o\u0006�\u001dI@-��fS:\fZ\u000e\u000b��<p����.�ubj\\/t�Ev$J��B�p[)\u000e/[���y��rwi��3�<�Ҧ��\u0016\u0001Ɣ\u0015@�u�5�JV�R���a�\u0017\u001c\u0003�+l,/���\u001f�r�����\u0015�5:\u000b��3a�\\/� ཥ\u0011\u0004͟�z��g^�}��KB/�b��dƮ�\u001fxXb��\u0018n�\u0006Mo`��(8\u0001��9��ASJA3\u0011�\u001c��s>�Rߢ�\u000eHO�Z�\u001a�T\n",
      "�#�g�/=�~+O�\u001e�*B`������\u001f�C�\u001a�\u00013��q����\u000f����&�(7\u0005T�����'��C�C\u0019\u0004����\u0010@�k��e\u0015��ϔ\t#\u001b%[��\u001a\u0019�l\u000b�\u0013�I72h\"1��Q�z>g�-٪Y�\u0013k����r�Nَ`[&ڍʣS��\u0005�cg�Ð�]��<\u0010\u001a\u001e� \fZ��\u0000���B\u0000��a�#��#6=�\u001f��oy�B>isKeo�\u0010�\u001e:�H4�rT���YF�>գ��9�Qz�3�x��\n",
      "4�\u0016P�\n",
      "\u0013��i��7sR������Y��Y�q�\u0013��#�Ih%\u0005Ԡ��}�L��^�\"�M�����#�\u001aL�$\u0006Mw�S��0�+\u0007*\u000b��w�v�ښ^��\u0003�zPnx^ءN�$�\t��i��\"Q��\u0012&:\u00019\u0001��{��=��-���\u0018#�л�\u0019���>h�-\u0010_\u001d\u0015�\u0004�2_=&\u0007!��\u000e]�)3�^'�c�z�����9o^���5�\fhG��c�^��f���qC�\u001bm���׎/ɪ��a����Ø�V<HH�g�2nsdb��!Sbi���J�u��<��8�\u001et�\u001a=�R\u0010\u00039%9�j��j�9=���wčgs�3�(�\u0019��\u0005�Z\n",
      "\u0006ݑ��RO\u001a�_\u0012A�S��#���r��qOH�_�\u001a�t�^\u0010���\u001e\u0019H�.�$[����\u001d��s&�U��n�N\u0006�Y��\u0007/��\u0005u�AP\u001dd��&e���F\u001e�jo#�~Դ�\u001c�իm�\u001d��z]Ku\u0013@q�\u00182OZ@�\u001d��<p�ke�\u001b?n�[\\52�>k\u0005>H�T�\u001bPO����\u001a�?m^_�{J`a}C�E��\u000b�;���\u000by����o�[۵�Â�\u0001B\u0007I`��vڢÍ�h���ɬ����O�󽮅w\u0018ɱ\u0016\u0016\u001e�ʃ�\u001f3.\u00194y�\n",
      "9���MN<��\n"
     ]
    }
   ],
   "source": [
    "# Data to read - offers.csv\n",
    "data_dir_offers = f'{base_path}/offers.csv.gz'\n",
    "data_file_offers = data_dir_offers\n",
    "\n",
    "! head $data_file_offers\n",
    "\n",
    "# Data to read - sampleSubmission.csv\n",
    "data_dir_sampleSubmission = f'{base_path}/sampleSubmission.csv.gz'\n",
    "data_file_sampleSubmission = data_dir_sampleSubmission\n",
    "\n",
    "! head $data_file_sampleSubmission\n",
    "\n",
    "# Data to read - testHistory.csv\n",
    "data_dir_testHistory = f'{base_path}/testHistory.csv.gz'\n",
    "data_file_testHistory = data_dir_testHistory\n",
    "\n",
    "! head $data_file_testHistory\n",
    "\n",
    "# Data to read - trainHistory.csv\n",
    "data_dir_trainHistory = f'{base_path}/trainHistory.csv.gz'\n",
    "data_file_trainHistory = data_dir_trainHistory\n",
    "\n",
    "! head $data_file_trainHistory\n",
    "\n",
    "# Data to read - transactions.csv\n",
    "data_dir_transactions = f'{base_path}/transactions.csv.gz'\n",
    "data_file_transactions = data_dir_transactions\n",
    "\n",
    "! head $data_file_transactions;"
   ]
  },
  {
   "cell_type": "markdown",
   "id": "8a43edd2",
   "metadata": {},
   "source": [
    "**Offers**"
   ]
  },
  {
   "cell_type": "code",
   "execution_count": 4,
   "id": "6250d4e2",
   "metadata": {},
   "outputs": [],
   "source": [
    "# Reading data - offers.csv\n",
    "df_offers = spark.read.csv(\n",
    "        data_file_offers, \n",
    "        header=True, sep=',', inferSchema=True\n",
    "    )"
   ]
  },
  {
   "cell_type": "markdown",
   "id": "84ab166c",
   "metadata": {},
   "source": [
    "**TESTHISTORY**"
   ]
  },
  {
   "cell_type": "code",
   "execution_count": 5,
   "id": "f86dde9b",
   "metadata": {},
   "outputs": [],
   "source": [
    "# Reading data - testHistory.csv\n",
    "df_testHistory = spark.read.csv(\n",
    "        data_file_testHistory, \n",
    "        header=True, sep=',', inferSchema=True\n",
    "    )"
   ]
  },
  {
   "cell_type": "markdown",
   "id": "1cfbc10a",
   "metadata": {},
   "source": [
    "**TRAINHISTORY**"
   ]
  },
  {
   "cell_type": "code",
   "execution_count": 6,
   "id": "7a9cd66d",
   "metadata": {},
   "outputs": [],
   "source": [
    "# Reading data - trainHistory.csv\n",
    "df_trainHistory = spark.read.csv(\n",
    "        data_file_trainHistory, \n",
    "        header=True, sep=',', inferSchema=True\n",
    "    )"
   ]
  },
  {
   "cell_type": "markdown",
   "id": "c47ae2ce",
   "metadata": {},
   "source": [
    "**TRANSACTIONS**"
   ]
  },
  {
   "cell_type": "code",
   "execution_count": 7,
   "id": "896ed043",
   "metadata": {},
   "outputs": [],
   "source": [
    "df_transactions = spark.read.csv(\n",
    "    data_file_transactions, \n",
    "    header=True, sep=',', inferSchema=False\n",
    ").sample(fraction=0.001, seed=42).limit(1000000)"
   ]
  },
  {
   "cell_type": "code",
   "execution_count": 9,
   "id": "9a32b414",
   "metadata": {},
   "outputs": [
    {
     "name": "stdout",
     "output_type": "stream",
     "text": [
      "Features saved to /home/jovyan/code/data/customer_features.csv\n"
     ]
    }
   ],
   "source": [
    "import csv\n",
    "import os\n",
    "import datetime\n",
    "\n",
    "# Input and output paths\n",
    "input_dir = \"/home/jovyan/code/data/output_files\"\n",
    "output_file = \"/home/jovyan/code/data/customer_features.csv\"\n",
    "\n",
    "# Dictionary to store features for all customers\n",
    "features = {}\n",
    "\n",
    "# Process each customer file\n",
    "for filename in os.listdir(input_dir):\n",
    "    if filename.endswith(\".csv\"):\n",
    "        customer_id = filename.split(\".\")[0]\n",
    "        file_path = os.path.join(input_dir, filename)\n",
    "\n",
    "        total_transactions = 0\n",
    "        total_spent = 0.0\n",
    "        first_purchase = None\n",
    "        last_purchase = None\n",
    "        unique_categories = set()\n",
    "        unique_products = set()\n",
    "\n",
    "        # Open and read the file\n",
    "        with open(file_path, 'r', newline='') as infile:\n",
    "            reader = csv.reader(infile)\n",
    "            next(reader)  # Skip header\n",
    "\n",
    "            for row in reader:\n",
    "                total_transactions += 1\n",
    "                amount = float(row[10])  # purchaseamount is the 11th column (index 10)\n",
    "                total_spent += amount\n",
    "\n",
    "                # Parse date for temporal features\n",
    "                date_str = row[6]  # date is the 7th column (index 6)\n",
    "                date = datetime.datetime.strptime(date_str, '%Y-%m-%d')\n",
    "                if first_purchase is None or date < first_purchase:\n",
    "                    first_purchase = date\n",
    "                if last_purchase is None or date > last_purchase:\n",
    "                    last_purchase = date\n",
    "\n",
    "                # Track unique categories and products (using company as proxy for product)\n",
    "                unique_categories.add(row[3])  # category is the 4th column (index 3)\n",
    "                unique_products.add(row[4])    # company is the 5th column (index 4)\n",
    "\n",
    "        # Calculate average spent\n",
    "        avg_spent = total_spent / total_transactions if total_transactions > 0 else 0.0\n",
    "\n",
    "        # Store features\n",
    "        features[customer_id] = {\n",
    "            \"total_transactions\": total_transactions,\n",
    "            \"total_spent\": round(total_spent, 2),\n",
    "            \"avg_spent\": round(avg_spent, 2),\n",
    "            \"first_purchase\": first_purchase.strftime('%Y-%m-%d') if first_purchase else \"\",\n",
    "            \"last_purchase\": last_purchase.strftime('%Y-%m-%d') if last_purchase else \"\",\n",
    "            \"unique_categories\": len(unique_categories),\n",
    "            \"unique_products\": len(unique_products)\n",
    "        }\n",
    "\n",
    "# Write features to output CSV\n",
    "with open(output_file, 'w', newline='') as outfile:\n",
    "    writer = csv.writer(outfile)\n",
    "    # Write header\n",
    "    writer.writerow([\n",
    "        \"id\",\n",
    "        \"total_transactions\",\n",
    "        \"total_spent\",\n",
    "        \"avg_spent\",\n",
    "        \"first_purchase\",\n",
    "        \"last_purchase\",\n",
    "        \"unique_categories\",\n",
    "        \"unique_products\"\n",
    "    ])\n",
    "    # Write data for each customer\n",
    "    for customer_id, feature_dict in features.items():\n",
    "        writer.writerow([\n",
    "            customer_id,\n",
    "            feature_dict[\"total_transactions\"],\n",
    "            feature_dict[\"total_spent\"],\n",
    "            feature_dict[\"avg_spent\"],\n",
    "            feature_dict[\"first_purchase\"],\n",
    "            feature_dict[\"last_purchase\"],\n",
    "            feature_dict[\"unique_categories\"],\n",
    "            feature_dict[\"unique_products\"]\n",
    "        ])\n",
    "\n",
    "print(f\"Features saved to {output_file}\")"
   ]
  },
  {
   "cell_type": "code",
   "execution_count": 10,
   "id": "d81864e0",
   "metadata": {},
   "outputs": [
    {
     "ename": "NameError",
     "evalue": "name 'train_data' is not defined",
     "output_type": "error",
     "traceback": [
      "\u001b[0;31m---------------------------------------------------------------------------\u001b[0m",
      "\u001b[0;31mNameError\u001b[0m                                 Traceback (most recent call last)",
      "Cell \u001b[0;32mIn[10], line 2\u001b[0m\n\u001b[1;32m      1\u001b[0m \u001b[38;5;66;03m# Dividir em treino e validação\u001b[39;00m\n\u001b[0;32m----> 2\u001b[0m train, validation \u001b[38;5;241m=\u001b[39m \u001b[43mtrain_data\u001b[49m\u001b[38;5;241m.\u001b[39mrandomSplit([\u001b[38;5;241m0.8\u001b[39m, \u001b[38;5;241m0.2\u001b[39m], seed\u001b[38;5;241m=\u001b[39m\u001b[38;5;241m42\u001b[39m)\n",
      "\u001b[0;31mNameError\u001b[0m: name 'train_data' is not defined"
     ]
    }
   ],
   "source": [
    "# Dividir em treino e validação\n",
    "train, validation = train_data.randomSplit([0.8, 0.2], seed=42)"
   ]
  },
  {
   "cell_type": "code",
   "execution_count": 16,
   "id": "7338069f",
   "metadata": {},
   "outputs": [],
   "source": [
    "from pyspark.sql import SparkSession\n",
    "from pyspark.sql.types import StructType, StructField, StringType, IntegerType, DoubleType\n",
    "from pyspark.sql.functions import col, when, lit, to_date, datediff\n",
    "\n",
    "# Configurar sessão Spark\n",
    "spark = SparkSession.builder \\\n",
    "    .appName(\"ShoppersChallenge\") \\\n",
    "    .config(\"spark.executor.memory\", \"4g\") \\\n",
    "    .config(\"spark.driver.memory\", \"2g\") \\\n",
    "    .getOrCreate()\n",
    "\n",
    "# Definir esquema para customer_features.csv\n",
    "schema_features = StructType([\n",
    "    StructField(\"id\", StringType(), True),\n",
    "    StructField(\"total_transactions\", IntegerType(), True),\n",
    "    StructField(\"total_spent\", DoubleType(), True),\n",
    "    StructField(\"avg_spent\", DoubleType(), True),\n",
    "    StructField(\"first_purchase\", StringType(), True),\n",
    "    StructField(\"last_purchase\", StringType(), True),\n",
    "    StructField(\"unique_categories\", IntegerType(), True),\n",
    "    StructField(\"unique_products\", IntegerType(), True)\n",
    "])\n",
    "\n",
    "# Carregar customer_features.csv\n",
    "features_df = spark.read.csv(\"/home/jovyan/code/data/customer_features.csv\", header=True, schema=schema_features)\n",
    "\n",
    "# Converter first_purchase e last_purchase para features numéricas\n",
    "reference_date = to_date(lit(\"2025-05-29\"))\n",
    "features_df = features_df.withColumn(\"days_since_first\", datediff(reference_date, to_date(\"first_purchase\"))) \\\n",
    "                        .withColumn(\"days_since_last\", datediff(reference_date, to_date(\"last_purchase\")))\n",
    "\n",
    "# Definir esquema para trainHistory.csv\n",
    "schema_history = StructType([\n",
    "    StructField(\"id\", StringType(), True),\n",
    "    StructField(\"chain\", StringType(), True),\n",
    "    StructField(\"offer\", StringType(), True),\n",
    "    StructField(\"market\", StringType(), True),\n",
    "    StructField(\"repeattrips\", IntegerType(), True),\n",
    "    StructField(\"repeater\", StringType(), True),\n",
    "    StructField(\"offerdate\", StringType(), True)\n",
    "])\n",
    "\n",
    "\n",
    "# Juntar features com a variável alvo\n",
    "train_data = features_df.join(\n",
    "    df_trainHistory.select(\"id\", \"repeater\"),\n",
    "    features_df.id == df_trainHistory.id,\n",
    "    \"inner\"\n",
    ").withColumn(\"target\", when(col(\"repeater\") == \"t\", 1).otherwise(0)).drop(\"repeater\", \"first_purchase\", \"last_purchase\")"
   ]
  },
  {
   "cell_type": "code",
   "execution_count": 17,
   "id": "d5a47129",
   "metadata": {},
   "outputs": [],
   "source": [
    "# Dividir em treino e validação\n",
    "train, validation = train_data.randomSplit([0.8, 0.2], seed=42)"
   ]
  },
  {
   "cell_type": "code",
   "execution_count": 18,
   "id": "486465a7",
   "metadata": {},
   "outputs": [
    {
     "name": "stdout",
     "output_type": "stream",
     "text": [
      "LogisticRegression AUC-ROC: 0.5927542816089806\n",
      "RandomForest AUC-ROC: 0.6365021366961058\n",
      "GradientBoosting AUC-ROC: 0.6333764174816299\n",
      "Melhor modelo: RandomForest com AUC-ROC 0.6365021366961058\n"
     ]
    }
   ],
   "source": [
    "from pyspark.ml.feature import VectorAssembler\n",
    "from pyspark.ml.classification import LogisticRegression, RandomForestClassifier, GBTClassifier\n",
    "from pyspark.ml.evaluation import BinaryClassificationEvaluator\n",
    "from pyspark.ml.tuning import CrossValidator, ParamGridBuilder\n",
    "\n",
    "# Combinar features em um vetor\n",
    "feature_cols = [\n",
    "    \"total_transactions\",\n",
    "    \"total_spent\",\n",
    "    \"avg_spent\",\n",
    "    \"unique_categories\",\n",
    "    \"unique_products\",\n",
    "    \"days_since_first\",\n",
    "    \"days_since_last\"\n",
    "]\n",
    "assembler = VectorAssembler(inputCols=feature_cols, outputCol=\"features\")\n",
    "train_assembled = assembler.transform(train)\n",
    "validation_assembled = assembler.transform(validation)\n",
    "\n",
    "# Inicializar modelos\n",
    "models = {\n",
    "    \"LogisticRegression\": LogisticRegression(labelCol=\"target\", featuresCol=\"features\"),\n",
    "    \"RandomForest\": RandomForestClassifier(labelCol=\"target\", featuresCol=\"features\"),\n",
    "    \"GradientBoosting\": GBTClassifier(labelCol=\"target\", featuresCol=\"features\")\n",
    "}\n",
    "\n",
    "# Avaliar modelos\n",
    "evaluator = BinaryClassificationEvaluator(labelCol=\"target\", metricName=\"areaUnderROC\")\n",
    "results = {}\n",
    "\n",
    "for name, model in models.items():\n",
    "    # Configurar validação cruzada\n",
    "    paramGrid = ParamGridBuilder().build()\n",
    "    if name == \"RandomForest\":\n",
    "        paramGrid = ParamGridBuilder() \\\n",
    "            .addGrid(model.numTrees, [50, 100]) \\\n",
    "            .addGrid(model.maxDepth, [5, 10]) \\\n",
    "            .build()\n",
    "    elif name == \"GradientBoosting\":\n",
    "        paramGrid = ParamGridBuilder() \\\n",
    "            .addGrid(model.maxIter, [10, 20]) \\\n",
    "            .addGrid(model.maxDepth, [5, 7]) \\\n",
    "            .build()\n",
    "    \n",
    "    crossval = CrossValidator(\n",
    "        estimator=model,\n",
    "        estimatorParamMaps=paramGrid,\n",
    "        evaluator=evaluator,\n",
    "        numFolds=3\n",
    "    )\n",
    "    \n",
    "    # Treinar modelo\n",
    "    cv_model = crossval.fit(train_assembled)\n",
    "    \n",
    "    # Avaliar na validação\n",
    "    predictions = cv_model.transform(validation_assembled)\n",
    "    auc = evaluator.evaluate(predictions)\n",
    "    results[name] = auc\n",
    "    print(f\"{name} AUC-ROC: {auc}\")\n",
    "\n",
    "# Selecionar o melhor modelo\n",
    "best_model_name = max(results, key=results.get)\n",
    "print(f\"Melhor modelo: {best_model_name} com AUC-ROC {results[best_model_name]}\")"
   ]
  }
 ],
 "metadata": {
  "kernelspec": {
   "display_name": "vscode_pyspark",
   "language": "python",
   "name": "python3"
  },
  "language_info": {
   "codemirror_mode": {
    "name": "ipython",
    "version": 3
   },
   "file_extension": ".py",
   "mimetype": "text/x-python",
   "name": "python",
   "nbconvert_exporter": "python",
   "pygments_lexer": "ipython3",
   "version": "3.11.11"
  }
 },
 "nbformat": 4,
 "nbformat_minor": 5
}
