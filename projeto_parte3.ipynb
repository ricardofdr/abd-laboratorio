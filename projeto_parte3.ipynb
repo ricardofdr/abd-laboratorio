{
 "cells": [
  {
   "cell_type": "markdown",
   "id": "4a785cb4",
   "metadata": {},
   "source": [
    "# 1. Inital setup"
   ]
  },
  {
   "cell_type": "code",
   "execution_count": 1,
   "id": "fb38a647",
   "metadata": {},
   "outputs": [],
   "source": [
    "# Basic imports\n",
    "\n",
    "import json\n",
    "from pathlib import Path\n",
    "import pyspark\n",
    "from pyspark.sql import SparkSession\n",
    "import pyspark.sql.functions as F\n",
    "from dotenv import load_dotenv\n",
    "load_dotenv('.env')\n",
    "import os\n",
    "import plotly.graph_objects as go\n",
    "from pyspark.sql.functions import col, to_date, date_format, corr, count, when, col, avg\n",
    "import plotly.express as px\n",
    "from pyspark.ml.stat import Correlation\n",
    "from pyspark.ml.feature import VectorAssembler"
   ]
  },
  {
   "cell_type": "code",
   "execution_count": 4,
   "id": "611111f7",
   "metadata": {},
   "outputs": [],
   "source": [
    "# Build SparkSession\n",
    "spark = SparkSession.builder.appName(\"DataPreparation\").getOrCreate()\n",
    "base_path = os.getenv('BASE_PATH')"
   ]
  },
  {
   "cell_type": "markdown",
   "id": "0d275dab",
   "metadata": {},
   "source": [
    "# Data ingestion"
   ]
  },
  {
   "cell_type": "code",
   "execution_count": 3,
   "id": "005de96f",
   "metadata": {},
   "outputs": [
    {
     "name": "stdout",
     "output_type": "stream",
     "text": [
      "�}ES\u0002\u0003offers.csv\u0000���n�0\f\u0005��=\u000bQ�����u�0`K� \u001d�������\u0002��Y\u0012)�^__��|��|?�����p���\\������x���=�|{������\u0017�fW�\u0016q\u0012\u0012.g�brjm�\u0015\u0018�Q7�\u0000)��u\u001d�X�t\u0006)XG\u001e&fa�O�$j9�(���׶\u0007#A��䜘\u0002�Bw��\n",
      ",\u001a\u001ed�2�\u000b3;�b4[&�\u0007\u0000̞E��\u001ff�l<�Ȉ���D�\"\u0010\u001f\u0004�\u0011�\u0013#u�\u0007��V҃��Y�@���ʎ��W;XKU�C�6�\u0000��\u001c�5j�T���g��̛�ܮA�U=@AV0',%�W\u0011��M�=Sp!��^�����9�{�h�Ȭ��o�F#F�|l�W�Yխ�X���\u001d#\n",
      "�H�l*j#����A�ø�8f\u0010\u0005���Br��Eh�\u000f%C�-\u000f��r��\u000e�\t�\u0015�+���+C���\tRL�5B�\u0001�\u0007�r�V\u0015\u0005\u0000\u0000head: cannot open '/home/jovyan/code/data/sampleSubmission.csv.gz' for reading: No such file or directory\n",
      "�.��\u0002\u0003testHistory.csv\u0000|�[�$5\f��YK!�r�c/\u0007q\u0001\u0012b�\"\u001e��\u000b�G�4��N������\u000f��?����\u001f?����o������\u001f����o�,M\u0012Wǥ����e�����!H��C�fԃ�C��������\t�C�!;/��\"\u000fxk�oԅH�K�Z�n@\u000f�E�.�\u001d D�\u0000#\u0017��k��V}�QT�4^@߀\n",
      "\u0019�+`��:\u0016�\u0007 \u0010\"׽E����B,��V��\n",
      "|\u00004���\u0014��\tPQ%�����\u0001�\u0015��^�ߧ��]Z�s��Kc\u0002h�/Ľě�\u001e�E\u001c_�p1���VG���Y9^\u001a�ᅐ\u0010�\u001b�z\u0007|\u0000��}\u0001�%\\�NJ�\u0000�\u0010��(}�1T�=�\u0001�t��\u0001\u001b_\\\u0019�p�K�J\u000b��8\u0000�|~��\u001ax�K\n",
      "�\u000b�\u0013\u001a��i�@\u001f�T\u000b���مC���5PR�%\t�\u00004���^9DzF|�n�ЦQk��\u0010\u0010�ȯ\u001d\u001aԤ]���]L���\u0013�+���#\u001bQ^\u0019��TT�E�e����1����(���n�G:�Rp�u�8�IE�\u0012X~�0�����5��,���'䪷��#Ǚa\u001a���\u0002�ն��Gζ*Y�\u000f\u0007��\u0014|\f�ɾ\u0012m+���C{\u0014�\u0012��R���A!c- E\u0005Ċ\u0003T�4��;��(��\u00154}��ߖ�n�\"Ip9F;����R�u\u0000\u0007�?:I9�̞@��\u0017<;^[��V�0\u0000\u0019�\u0014s?rG�b-��\u0014|I��\u0002�\u0017\u0018 ����\u000eO9���\u000fRF�$��\u0006���Hi�3�ߧ\u0002c�����=�L�R��`�2����\u0010�j}\u0007�3aLa��ְ��\u0003TK�\u0012�r�lq���0; �RK�\u001f��\u0018[��\u0002Н\\4�\u001b3���-'�\u0010�.p��!�m���ҁ'a�^���/�+C���<��nsK���\u0011�@\u001f���EํHI�6��\u0010E8���!\u0012���[7�G�\u0018=���\u0010����s\u001d\u0002!^��CK�ƖdV%~]T]z�E\u000e�\n",
      "����0$�m4\u0007�j�-�q�@�l��\u001c =�y�K��!����\u0017~�\u0006�\u0000Tq�I�T�ݛ!\")jۑ}!Bh�F�\u0010���\u0011�C�\n",
      "b�d�.W�:\u0000+Y�\u0015o��\u0012��\u001bRV��7�\u0012N��6\u001f�V�-RC���f�\u0001�B-��\u0001��{\u001boBA�ccF\t��\u0000��Ϡ\u0001�\u0010�\fHǗ&\u001a\u0011�Ō\u001dBՍ�h�\u0003��c\u0019�e�E~��k\t>̴(h��\u001fl�\u0016�Xf�QA�\t���\u0000\u001dV�F�5l\n",
      "\t�m/�v\u0014��.P\u0015�\\\u0003\\\u0006�B�ҎM\u000f�&%���p\u000b&wG\fQR��x��C��=y<���B3*�+�\u001b1�А-��\u0012^l\n",
      "שa�\n",
      "�~��a�ݞ\\��\u0002\"J�s�\u001eB��V�|�R�=���\u0007\u0003\"ck.8�S��=\u001b�\u0010e��qa�N@6bt����5\u001e\u0003g\u000f��e�\u001be?�T��\u00127\u001c�\u0011Q��1Du�>�\u0006(Y��\u0019\u000fQ�jK��\u0001���rf:@Q���\u001c�4s\u001f�#$ �\u001b�C�!��}�\u000b��[9�>�\u000b�t}\u0007\u001d�(�t�\u001c@���%C�ڰ܎9�\u000ek�|��#O��mO�\u0011\u0014���~�*���=������\u001f��\u0012{=�Ri믴�hQ��*��Wn\u001byB���<r~����4���7�G\u0003*%���2�.]�\u001f SMz�0K��J|ރ�\u0000�br�����V��w�\u0018�(�\u001f��l��]�����\u001c\u0010�n%\u0015D-�15r���;GвŗG\u0004�\u0001h\u001e[ۈ\u0003�FJ/�\u000e\u0000I���Te��&�]�!`\u0019�細#\u000f�N,S�\u000fp䔏�_��\u0011n��g.\u001f9�­x�\u0010�4�J9g��}kn��\u001c�}���$���}�)!}\n",
      ":��U�u@\u000f��.z��\u0017��$ʜ��8��x�^�*\f�\\J1\u0007�r�4\fP\n",
      "Y��`�h�\u00022^��\u0004��+�\u0014�쓎\u0019�]��|�2s���\u000e�\tZ�+���~M\u0015�s\u0003S^L� dH��N{���\u0002XT��b�p\u0001�g�M\u000e���F��\u0012�:U&��1ǐ�Ր3�Ҕ�\tVN=�\u0001�o&BQ��QuA��MMq��\u0010�}7���C��%��E���dA�l�������[6\u0014Tc�eR�\u0014ܱ(\u0003S�-Ov(\t��Rɒ�[��\u0011��37\u0005V��T�P.�8*����I%��7�fM5\u0016\u0014�V�0�-sWɛI������\u0000�\u0018����\u0018U\u0015塧>M]>�\\�\u0016��\u001c[��\f��]�S�bw�29�'��(Ƣ�<����R+�\u000e�\u0013�\n",
      "\u0011�i�V^TQ�\u000fJI3��5�SC(�!���L\u0000�\u0016\u0002;�ŰH���hS�8��O�F�qe�i\u0014ȗ��BtX,���B׸3P�v�8J��3Ӧ��\n",
      "����\u0002U�Oc:^�D\"4Y�\u001b\u0012�[-��\u000eWՔ�\u0011�m��P�\u0001�H�L\u0016�\u000f\\�����8!io�����]Ɖ�Մ�ƺ�\n",
      "�7��j�|��}Q�V9�p4\u0015�*srf�T���]�bJsuv\u0017� ���M9�m^P�\t�wC]L��֦��x��\\�6�\u000b\u0016��\u0013�M�!�hޔ\"4�2��[0%U\u0010\u0006��\u0016�*��\n",
      "�-���\u0001\u001b��\"Ru�wo�V8����*n�9\u0010��b�\\\\�R�[��ޘjLBsGKu�H\u001d\u001aC�/(����C��dD��\u000ff�w�+ti\u000b:%�]�\u000f{/�Ϝ�\u001dJ5c\u001e�����k�(�[}jQ %�۳�\u0016*\u0010Հ�cF@��y�\u0014D\u0004���t�/g��\u0004�Qu��n�\u001cEb�yh\u000b��\u0012\u0013��$\u000e��0�ւ��K�u��\u0005)I\tO�]C,�q\u0006N2bļR,*D�|��\u001b��֜\u000b��j�����X��x�����\u0002c�HN��\n",
      "�4��&K\u001f\u0014:�k*c;(��ԟ\u000f=��i��p7�\u001cl�xW�\u0014�05\u001b�\u000b ��w�q\u001b̴u��\u000fîu\u0019\u000ep\u0014�q�����G�u�{������\u0011�,o�5��Q��9*mS�K�;�\u00199!�y�\u0007c\u0017���\u001d\u0004�ko�]�)��(.�!&\"�\u0001\u001a��X\u0001�{���y��,��;������w(Ӳ!\u0015ѣе�����`!v΃�b��漟��6��4�<�(N?u��7\u0007k�Z\u001b\u0003hᵩ=\u000b=�Cy�\u000e��0�[(�n.&�yP��v>\u0007�W�6\u0007�\u0006�۱�d�\u0011ҳ\u001e�\u001a��\u0017Z���\\�V��V��AMz�Ҍ�a@K�<��W�}�����+����l���<�fd�\u0016�1U��1�\u0006,���8\u0003�i�P\u0005�����X��·�\u0019�\u0014��c�\f���_����%�Q3aiO���ƮlA�I��U���r\fCn��\u0003w'\u0019Κ����N\u0014\u001a�o\u0000cs���\u0013r\u0006�*�W�=e{��\n",
      "�\u0002꠰��\u0007\f\u001e\u0003�h��6#A�����H\u001d��\t[�ր\u001d��T2�\u001c��55������wZ��\u000em8*��\u001a4�~r�&�p��1�\n",
      "9e�m�Ku\u0010�����65�e�p\f+�j���&�\tb\u0007\u001f�ZZ��8��n��\u001e�\u0002Gu��zF0Gaˠ-a�P8�\u0018�T�x\u0010��'�\tx�N\u0000�n����.S�_?(:7�e\u0019\u0016�u�:�ۧD��_�浵���AiS�\u0010�i����k2\u00071զ�\u000e��m�\u0013�A�&dۈ��\u0005%v\u001f��V���Q��ߏk�\u000e\u001c\u0016\u0007���2��ٵr5�q\u0010fPG��Cm�ǖL�\u000e�a�\u000e?( �\n",
      "vLV��>�\u001c��9�I�\u00135�ٰYQ��A\u0018�x��0�\u0011�\u0018��䈫tP:�JM��V�V�\u0015�Q\u0005\u000fY�\u001e4���ߣ\u00109+��Al|�Q�z��=�\\�'\u001c\u0014�&_F\u001fT��3�4\u0002��� 2G��\u000e��*)�\u001e�-\u0013��1[h�7�A� ��~\u0007�O�a��\u0005�yA�y\u0004c�����A�Y#���\u0010\u001c\u0013a\n",
      "���!�[���a�\u0017%:�\u0006�XTY*�Y�/\u0003A���m.�v�G\u0016��U��H���\u001a�LZܾ�����b0$.�gIED:�I�Y\u001c���~QO'��X�n�|c�eᑼ�kUj\u0018kѺȑF\u0002&������Am�;N�<Of�Ud��E9�C*r��h���\u001a\u0017sk\u001e��{f\u0019���AcV|�\u0007\u000fUڷ{\u0011|��n�L\u0005�MmU��~�\u0004�=�\u000f\u0014���C����Rsk��IDS\u0016Y�����\"���R�J�=kQw\u0019Od�\u001aՉ�� ES�UD�Q�a�^X��E��W����S\u0017y�)mOZ\u0004�&\u001d�k\"��O�oƛ���J�0�龨M�xR\t926���GE��%J�BY�٢���-\u0007E6_.,*s���E%t��j\u0017�{���-g�v\u0019���>*\u001b��+�\u0000�X~�����M�K<�F�)�l2ّ�*H�s����0�j���\"\n",
      "b\u0018Pv\u0000x|%&�#�\u0016S�V�z�~��zRhܖ�����\u0007��׻�����\th7���\u0007�Γ�<dd�.\u0015I\u0017B�8\u001f\u0015\u0001�G��@}�<�(GH\\�,ǓR�t�>h��:\u0000��u\u0016�w��H8`�\u0014�2>A�ar��t7=\u000f\u0012\u00190\u000b\u0014BË�Bw`�i\u000b��\t\u000e��\u0014D\u0006��� kT���B�>� ��U\u0004\u0000\u001dX\u000f��p�\u001d\u0019W�\f\u001c�L�`hd����8�h`�\u0000 \u0006ώ����N\u0016�`j\u0016��\u0006\u000f���J\u0019�vh�֣��M�<\u0000\u0005\u0001\u0010�\u0001���ĥ�fWe&>�j��]�A�V\u0005���\\ڍ��s�\u0019�\n",
      "a��p�4Ьge�UѪ�Q�\u001d�}\u0010�*�e��\u0018D2�a.\u001az���\tɍN6t\"]1UL�\n",
      "Q\u0000�0CGM\f�\u0016mrL��z/X��˜%��\u0018�L\u0006M�\u0005�A�%г��,$J��4h�\u0004\u0001q�PH��22�b����\u001bG�1\f���p��\u001eq�Q�\u0017WPH\u000e6�)�\u001c�\t�2F�~\u0012\u0010s\u0018&\u001e\u0004��k�EM�N� �a\u0006\u000fJ}[7�9R\u001fD�\t�\u0003����&�Wu>\u0018:\u001f\f4�\u0011�i!){\u000e㠩\u001f�\u001b�\u001d{�O�t\u0013����t\u0001��)Ԝ�\n",
      "8�?&\u0003vC�\tA�\\,ʅ(Q��8��� �y�aʩ\u0004�{)�\u0017$�@J���1��\u0005�t?:\u001e~��'$==��r1)W5Ǒ��ȹ�������� �*\u0012\f�.Cy�z�\u0014f���BP���[�v�\u0017!��\u0003\u0002����i9f�� ���e9�+�\u0011��\f\u0006a��;��o��\u000f3��GWo*\u001b�|\u0010�\u0003ȸ��\t��\u0007�\n",
      "&��V\u0006���70+E�;e��5�\"2M�r\u001dg+����\u001fk\u0006_�\u0017)$ \u001d{E��x\u0015�\u0010�\u000f���d�T�T�\u0011Dc�+��xΎ��\u0011\u0002�Q>��E<�o���< \tw?\u000b)��\u001b0�\u0019�4)�on�GI?y�T��� �7�\u001f}0\u0018F)��^\tH�4�̹$��*��O�zq�Kԥ_l�\u001b,����1\u001d.V�%�tt�~v��\u0016v\u0019���n^\u001e%u]e\u000b#�\\+\fyG\"-�p�8\u0016<�\u001c,3���#M�i\u001aڠu�\t�\u0007�<�Ի�8��}v\u0004\u0010�qX\"AH�\u0019[�Bn�o\u0006�\u001dI@-��fS:\fZ\u000e\u000b��<p����.�ubj\\/t�Ev$J��B�p[)\u000e/[���y��rwi��3�<�Ҧ��\u0016\u0001Ɣ\u0015@�u�5�JV�R���a�\u0017\u001c\u0003�+l,/���\u001f�r�����\u0015�5:\u000b��3a�\\/� ཥ\u0011\u0004͟�z��g^�}��KB/�b��dƮ�\u001fxXb��\u0018n�\u0006Mo`��(8\u0001��9��ASJA3\u0011�\u001c��s>�Rߢ�\u000eHO�Z�\u001a�T\n",
      "�#�g�/=�~+O�\u001e�*B`������\u001f�C�\u001a�\u00013��q����\u000f����&�(7\u0005T�����'��C�C\u0019\u0004����\u0010@�k��e\u0015��ϔ\t#\u001b%[��\u001a\u0019�l\u000b�\u0013�I72h\"1��Q�z>g�-٪Y�\u0013k����r�Nَ`[&ڍʣS��\u0005�cg�Ð�]��<\u0010\u001a\u001e� \fZ��\u0000���B\u0000��a�#��#6=�\u001f��oy�B>isKeo�\u0010�\u001e:�H4�rT���YF�>գ��9�Qz�3�x��\n",
      "4�\u0016P�\n",
      "\u0013��i��7sR������Y��Y�q�\u0013��#�Ih%\u0005Ԡ��}�L��^�\"�M�����#�\u001aL�$\u0006Mw�S��0�+\u0007*\u000b��w�v�ښ^��\u0003�zPnx^ءN�$�\t��i��\"Q��\u0012&:\u00019\u0001��{��=��-���\u0018#�л�\u0019���>h�-\u0010_\u001d\u0015�\u0004�2_=&\u0007!��\u000e]�)3�^'�c�z�����9o^���5�\fhG��c�^��f���qC�\u001bm���׎/ɪ��a����Ø�V<HH�g�2nsdb��!Sbi���J�u��<��8�\u001et�\u001a=�R\u0010\u00039%9�j��j�9=���wčgs�3�(�\u0019��\u0005�Z\n",
      "\u0006ݑ��RO\u001a�_\u0012A�S��#���r��qOH�_�\u001a�t�^\u0010���\u001e\u0019H�.�$[����\u001d��s&�U��n�N\u0006�Y��\u0007/��\u0005u�AP\u001dd��&e���F\u001e�jo#�~Դ�\u001c�իm�\u001d��z]Ku\u0013@q�\u00182OZ@�\u001d��<p�ke�\u001b?n�[\\52�>k\u0005>H�T�\u001bPO����\u001a�?m^_�{J`a}C�E��\u000b�;���\u000by����o�[۵�Â�\u0001B\u0007I`��vڢÍ�h���ɬ����O�󽮅w\u0018ɱ\u0016\u0016\u001e�ʃ�\u001f3.\u00194y�\n",
      "9���MN<��\n"
     ]
    }
   ],
   "source": [
    "# Data to read - offers.csv\n",
    "data_dir_offers = f'{base_path}/offers.csv.gz'\n",
    "data_file_offers = data_dir_offers\n",
    "\n",
    "! head $data_file_offers\n",
    "\n",
    "# Data to read - sampleSubmission.csv\n",
    "data_dir_sampleSubmission = f'{base_path}/sampleSubmission.csv.gz'\n",
    "data_file_sampleSubmission = data_dir_sampleSubmission\n",
    "\n",
    "! head $data_file_sampleSubmission\n",
    "\n",
    "# Data to read - testHistory.csv\n",
    "data_dir_testHistory = f'{base_path}/testHistory.csv.gz'\n",
    "data_file_testHistory = data_dir_testHistory\n",
    "\n",
    "! head $data_file_testHistory\n",
    "\n",
    "# Data to read - trainHistory.csv\n",
    "data_dir_trainHistory = f'{base_path}/trainHistory.csv.gz'\n",
    "data_file_trainHistory = data_dir_trainHistory\n",
    "\n",
    "! head $data_file_trainHistory\n",
    "\n",
    "# Data to read - transactions.csv\n",
    "data_dir_transactions = f'{base_path}/transactions.csv.gz'\n",
    "data_file_transactions = data_dir_transactions\n",
    "\n",
    "! head $data_file_transactions;"
   ]
  },
  {
   "cell_type": "code",
   "execution_count": 5,
   "id": "eccdcc0e",
   "metadata": {},
   "outputs": [],
   "source": [
    "# Reading data - offers.csv\n",
    "df_offers = spark.read.csv(\n",
    "        data_file_offers, \n",
    "        header=True, sep=',', inferSchema=True\n",
    "    )"
   ]
  },
  {
   "cell_type": "code",
   "execution_count": 6,
   "id": "091b2565",
   "metadata": {},
   "outputs": [],
   "source": [
    "# Reading data - trainHistory.csv\n",
    "df_trainHistory = spark.read.csv(\n",
    "        data_file_trainHistory, \n",
    "        header=True, sep=',', inferSchema=True\n",
    "    )"
   ]
  },
  {
   "cell_type": "code",
   "execution_count": 7,
   "id": "6d4fa37b",
   "metadata": {},
   "outputs": [],
   "source": [
    "# Reading data - testHistory.csv\n",
    "df_testHistory = spark.read.csv(\n",
    "        data_file_testHistory, \n",
    "        header=True, sep=',', inferSchema=True\n",
    "    )"
   ]
  },
  {
   "cell_type": "code",
   "execution_count": null,
   "id": "78488d47",
   "metadata": {},
   "outputs": [],
   "source": [
    "df_transactions = spark.read.csv(\n",
    "    data_file_transactions, \n",
    "    header=True, sep=',', inferSchema=True\n",
    ").sample(fraction=0.001, seed=42).limit(1000000)"
   ]
  },
  {
   "cell_type": "code",
   "execution_count": 8,
   "id": "6a76535c",
   "metadata": {},
   "outputs": [],
   "source": [
    "# Dataframe with offers and trainHistory\n",
    "df_offers_and_trainHistory = df_trainHistory.join(\n",
    "    df_offers,\n",
    "    on=\"offer\",\n",
    "    how='left'\n",
    ")\n",
    "\n",
    "offers_count = df_offers_and_trainHistory.groupBy('offer').count().withColumnRenamed('count', 'offer_count')\n",
    "# Dataframe with offers and trainHistory with a column of how many times the offer was made column\n",
    "df_offers_and_trainHistory_with_count = df_offers_and_trainHistory.join(\n",
    "    offers_count,\n",
    "    on=\"offer\",\n",
    "    how='left'\n",
    ")\n",
    "\n",
    "# Dataframe with offers where the client is a repeater\n",
    "df_successful_offers = df_offers_and_trainHistory.filter(F.col('repeater') == 't')"
   ]
  },
  {
   "cell_type": "code",
   "execution_count": 9,
   "id": "a82f06bb",
   "metadata": {},
   "outputs": [
    {
     "name": "stdout",
     "output_type": "stream",
     "text": [
      "+-------+--------+-----+------+-----------+--------+----------+--------+--------+---------+----------+-----+\n",
      "|  offer|      id|chain|market|repeattrips|repeater| offerdate|category|quantity|  company|offervalue|brand|\n",
      "+-------+--------+-----+------+-----------+--------+----------+--------+--------+---------+----------+-----+\n",
      "|1208251|   86246|  205|    34|          5|       t|2013-04-24|    2202|       1|104460040|       2.0| 3718|\n",
      "|1197502|   86252|  205|    34|         16|       t|2013-03-27|    3203|       1|106414464|      0.75|13474|\n",
      "|1197502|12682470|   18|    11|          0|       f|2013-03-28|    3203|       1|106414464|      0.75|13474|\n",
      "+-------+--------+-----+------+-----------+--------+----------+--------+--------+---------+----------+-----+\n",
      "only showing top 3 rows\n",
      "\n",
      "df_offers_and_trainHistory - number of rows: 160057\n",
      "root\n",
      " |-- offer: integer (nullable = true)\n",
      " |-- id: long (nullable = true)\n",
      " |-- chain: integer (nullable = true)\n",
      " |-- market: integer (nullable = true)\n",
      " |-- repeattrips: integer (nullable = true)\n",
      " |-- repeater: string (nullable = true)\n",
      " |-- offerdate: date (nullable = true)\n",
      " |-- category: integer (nullable = true)\n",
      " |-- quantity: integer (nullable = true)\n",
      " |-- company: integer (nullable = true)\n",
      " |-- offervalue: double (nullable = true)\n",
      " |-- brand: integer (nullable = true)\n",
      "\n",
      "+-------+--------+-----+------+-----------+--------+----------+--------+--------+---------+----------+-----+-----------+\n",
      "|  offer|      id|chain|market|repeattrips|repeater| offerdate|category|quantity|  company|offervalue|brand|offer_count|\n",
      "+-------+--------+-----+------+-----------+--------+----------+--------+--------+---------+----------+-----+-----------+\n",
      "|1197502|   86252|  205|    34|         16|       t|2013-03-27|    3203|       1|106414464|      0.75|13474|      45652|\n",
      "|1197502|12682470|   18|    11|          0|       f|2013-03-28|    3203|       1|106414464|      0.75|13474|      45652|\n",
      "|1197502|12996040|   15|     9|          0|       f|2013-03-25|    3203|       1|106414464|      0.75|13474|      45652|\n",
      "+-------+--------+-----+------+-----------+--------+----------+--------+--------+---------+----------+-----+-----------+\n",
      "only showing top 3 rows\n",
      "\n",
      "+-------+--------+-----+------+-----------+--------+----------+--------+--------+---------+----------+-----+\n",
      "|  offer|      id|chain|market|repeattrips|repeater| offerdate|category|quantity|  company|offervalue|brand|\n",
      "+-------+--------+-----+------+-----------+--------+----------+--------+--------+---------+----------+-----+\n",
      "|1208251|   86246|  205|    34|          5|       t|2013-04-24|    2202|       1|104460040|       2.0| 3718|\n",
      "|1197502|   86252|  205|    34|         16|       t|2013-03-27|    3203|       1|106414464|      0.75|13474|\n",
      "|1200581|14088807|    3|     2|          1|       t|2013-04-17|    1726|       1|104460040|      1.25| 7668|\n",
      "+-------+--------+-----+------+-----------+--------+----------+--------+--------+---------+----------+-----+\n",
      "only showing top 3 rows\n",
      "\n",
      "df_successful_offers - number of rows: 43438\n"
     ]
    }
   ],
   "source": [
    "df_offers_and_trainHistory.show(3)\n",
    "print(f'df_offers_and_trainHistory - number of rows: {df_offers_and_trainHistory.count()}')\n",
    "df_offers_and_trainHistory.printSchema()\n",
    "\n",
    "df_offers_and_trainHistory_with_count.show(3)\n",
    "\n",
    "df_successful_offers.show(3)\n",
    "print(f'df_successful_offers - number of rows: {df_successful_offers.count()}')"
   ]
  },
  {
   "cell_type": "code",
   "execution_count": 10,
   "id": "06ecf420",
   "metadata": {},
   "outputs": [],
   "source": [
    "# Dataframe with the number of times each offer was successful\n",
    "successful_counts = df_successful_offers.groupBy('offer').count().withColumnRenamed('count', 'Number of Successfull Cases').orderBy(F.desc('offer'))\n",
    "\n",
    "# Get all distinct offers\n",
    "all_offers = df_offers_and_trainHistory.select('offer').distinct()\n",
    "\n",
    "# Left join to ensure all offers are included\n",
    "offer_success_counts = all_offers.join(\n",
    "    successful_counts,\n",
    "    on='offer',\n",
    "    how='left'\n",
    ")\n",
    "# Fill null values with 0 for offers without successful repeaters\n",
    "offer_success_counts = offer_success_counts.fillna(0, subset=['Number of Successfull Cases'])\n",
    "\n",
    "# Dataframe with the number of times each offer was successful with 0 for offers without successful repeaters\n",
    "df_number_of_times_each_offer_was_succeffull = offer_success_counts.orderBy(F.desc('offer'))\n",
    "\n",
    "\n",
    "# Dataframe with the number of times each offer was made\n",
    "df_number_of_times_each_offer_was_made = df_offers_and_trainHistory.groupBy('offer').count().withColumnRenamed('count', 'Number of Times Offer Was Made').orderBy(F.desc('offer'))\n",
    "\n",
    "# Dataframe with the number of times each offer was made and the number of times it was successful\n",
    "df_number_times_offer_made_and_successfull = df_number_of_times_each_offer_was_made.join(\n",
    "    df_number_of_times_each_offer_was_succeffull,\n",
    "    on='offer',\n",
    "    how='left'\n",
    ").orderBy(F.desc('offer'))\n",
    "\n",
    "# Dataframe with the number of times each offer was made and the number of times it was successful with percentage\n",
    "df_number_times_offer_made_and_successfull_with_percentage = (df_number_times_offer_made_and_successfull\n",
    "                                                              .withColumn('Percentage of Successfull Cases', (F.col('Number of Successfull Cases') / F.col('Number of Times Offer Was Made')))\n",
    "                                                              .orderBy(F.desc('offer'))\n",
    "                                                              )\n",
    "\n",
    "df_success_percentage_per_offer = (df_number_times_offer_made_and_successfull_with_percentage\n",
    "                                                    .select('offer', 'Percentage of Successfull Cases'))\n",
    "df_corr = df_offers_and_trainHistory_with_count.join(\n",
    "    df_success_percentage_per_offer,\n",
    "    on='offer',\n",
    "    how='left'\n",
    ")\n",
    "\n",
    "# Dataframe with the number of succefull clients returning per offer\n",
    "df_most_common_successful_offers = df_successful_offers.groupBy('offer').count().orderBy(F.desc('offer'))\n",
    "\n",
    "df_number_of_times_each_offer_was_made_pandas = df_number_of_times_each_offer_was_made.toPandas()\n"
   ]
  },
  {
   "cell_type": "code",
   "execution_count": 11,
   "id": "2780a187",
   "metadata": {},
   "outputs": [
    {
     "data": {
      "application/vnd.plotly.v1+json": {
       "config": {
        "plotlyServerURL": "https://plot.ly"
       },
       "data": [
        {
         "marker": {
          "color": {
           "bdata": "QQ0AAN56AADmYAAAkRkAAE+8AABUsgAA",
           "dtype": "i4"
          },
          "colorbar": {
           "title": {
            "text": "Número de vezes que uma oferta com este valor foi feita"
           }
          },
          "colorscale": [
           [
            0,
            "#440154"
           ],
           [
            0.1111111111111111,
            "#482878"
           ],
           [
            0.2222222222222222,
            "#3e4989"
           ],
           [
            0.3333333333333333,
            "#31688e"
           ],
           [
            0.4444444444444444,
            "#26828e"
           ],
           [
            0.5555555555555556,
            "#1f9e89"
           ],
           [
            0.6666666666666666,
            "#35b779"
           ],
           [
            0.7777777777777778,
            "#6ece58"
           ],
           [
            0.8888888888888888,
            "#b5de2b"
           ],
           [
            1,
            "#fde725"
           ]
          ],
          "showscale": true
         },
         "name": "",
         "type": "bar",
         "x": {
          "bdata": "AAAAAAAACEAAAAAAAAAAQAAAAAAAAPg/AAAAAAAA9D8AAAAAAADwPwAAAAAAAOg/",
          "dtype": "f8"
         },
         "y": {
          "bdata": "rn4xcPGA0z8ghOXUJx/KP9j1Y1cyY84/k24lk24lwz/4ZNV4gsnaPyseA2HvEMk/",
          "dtype": "f8"
         }
        }
       ],
       "layout": {
        "barmode": "group",
        "legend": {
         "orientation": "h",
         "x": 1,
         "xanchor": "right",
         "y": 1.02,
         "yanchor": "bottom"
        },
        "template": {
         "data": {
          "bar": [
           {
            "error_x": {
             "color": "#2a3f5f"
            },
            "error_y": {
             "color": "#2a3f5f"
            },
            "marker": {
             "line": {
              "color": "#E5ECF6",
              "width": 0.5
             },
             "pattern": {
              "fillmode": "overlay",
              "size": 10,
              "solidity": 0.2
             }
            },
            "type": "bar"
           }
          ],
          "barpolar": [
           {
            "marker": {
             "line": {
              "color": "#E5ECF6",
              "width": 0.5
             },
             "pattern": {
              "fillmode": "overlay",
              "size": 10,
              "solidity": 0.2
             }
            },
            "type": "barpolar"
           }
          ],
          "carpet": [
           {
            "aaxis": {
             "endlinecolor": "#2a3f5f",
             "gridcolor": "white",
             "linecolor": "white",
             "minorgridcolor": "white",
             "startlinecolor": "#2a3f5f"
            },
            "baxis": {
             "endlinecolor": "#2a3f5f",
             "gridcolor": "white",
             "linecolor": "white",
             "minorgridcolor": "white",
             "startlinecolor": "#2a3f5f"
            },
            "type": "carpet"
           }
          ],
          "choropleth": [
           {
            "colorbar": {
             "outlinewidth": 0,
             "ticks": ""
            },
            "type": "choropleth"
           }
          ],
          "contour": [
           {
            "colorbar": {
             "outlinewidth": 0,
             "ticks": ""
            },
            "colorscale": [
             [
              0,
              "#0d0887"
             ],
             [
              0.1111111111111111,
              "#46039f"
             ],
             [
              0.2222222222222222,
              "#7201a8"
             ],
             [
              0.3333333333333333,
              "#9c179e"
             ],
             [
              0.4444444444444444,
              "#bd3786"
             ],
             [
              0.5555555555555556,
              "#d8576b"
             ],
             [
              0.6666666666666666,
              "#ed7953"
             ],
             [
              0.7777777777777778,
              "#fb9f3a"
             ],
             [
              0.8888888888888888,
              "#fdca26"
             ],
             [
              1,
              "#f0f921"
             ]
            ],
            "type": "contour"
           }
          ],
          "contourcarpet": [
           {
            "colorbar": {
             "outlinewidth": 0,
             "ticks": ""
            },
            "type": "contourcarpet"
           }
          ],
          "heatmap": [
           {
            "colorbar": {
             "outlinewidth": 0,
             "ticks": ""
            },
            "colorscale": [
             [
              0,
              "#0d0887"
             ],
             [
              0.1111111111111111,
              "#46039f"
             ],
             [
              0.2222222222222222,
              "#7201a8"
             ],
             [
              0.3333333333333333,
              "#9c179e"
             ],
             [
              0.4444444444444444,
              "#bd3786"
             ],
             [
              0.5555555555555556,
              "#d8576b"
             ],
             [
              0.6666666666666666,
              "#ed7953"
             ],
             [
              0.7777777777777778,
              "#fb9f3a"
             ],
             [
              0.8888888888888888,
              "#fdca26"
             ],
             [
              1,
              "#f0f921"
             ]
            ],
            "type": "heatmap"
           }
          ],
          "histogram": [
           {
            "marker": {
             "pattern": {
              "fillmode": "overlay",
              "size": 10,
              "solidity": 0.2
             }
            },
            "type": "histogram"
           }
          ],
          "histogram2d": [
           {
            "colorbar": {
             "outlinewidth": 0,
             "ticks": ""
            },
            "colorscale": [
             [
              0,
              "#0d0887"
             ],
             [
              0.1111111111111111,
              "#46039f"
             ],
             [
              0.2222222222222222,
              "#7201a8"
             ],
             [
              0.3333333333333333,
              "#9c179e"
             ],
             [
              0.4444444444444444,
              "#bd3786"
             ],
             [
              0.5555555555555556,
              "#d8576b"
             ],
             [
              0.6666666666666666,
              "#ed7953"
             ],
             [
              0.7777777777777778,
              "#fb9f3a"
             ],
             [
              0.8888888888888888,
              "#fdca26"
             ],
             [
              1,
              "#f0f921"
             ]
            ],
            "type": "histogram2d"
           }
          ],
          "histogram2dcontour": [
           {
            "colorbar": {
             "outlinewidth": 0,
             "ticks": ""
            },
            "colorscale": [
             [
              0,
              "#0d0887"
             ],
             [
              0.1111111111111111,
              "#46039f"
             ],
             [
              0.2222222222222222,
              "#7201a8"
             ],
             [
              0.3333333333333333,
              "#9c179e"
             ],
             [
              0.4444444444444444,
              "#bd3786"
             ],
             [
              0.5555555555555556,
              "#d8576b"
             ],
             [
              0.6666666666666666,
              "#ed7953"
             ],
             [
              0.7777777777777778,
              "#fb9f3a"
             ],
             [
              0.8888888888888888,
              "#fdca26"
             ],
             [
              1,
              "#f0f921"
             ]
            ],
            "type": "histogram2dcontour"
           }
          ],
          "mesh3d": [
           {
            "colorbar": {
             "outlinewidth": 0,
             "ticks": ""
            },
            "type": "mesh3d"
           }
          ],
          "parcoords": [
           {
            "line": {
             "colorbar": {
              "outlinewidth": 0,
              "ticks": ""
             }
            },
            "type": "parcoords"
           }
          ],
          "pie": [
           {
            "automargin": true,
            "type": "pie"
           }
          ],
          "scatter": [
           {
            "fillpattern": {
             "fillmode": "overlay",
             "size": 10,
             "solidity": 0.2
            },
            "type": "scatter"
           }
          ],
          "scatter3d": [
           {
            "line": {
             "colorbar": {
              "outlinewidth": 0,
              "ticks": ""
             }
            },
            "marker": {
             "colorbar": {
              "outlinewidth": 0,
              "ticks": ""
             }
            },
            "type": "scatter3d"
           }
          ],
          "scattercarpet": [
           {
            "marker": {
             "colorbar": {
              "outlinewidth": 0,
              "ticks": ""
             }
            },
            "type": "scattercarpet"
           }
          ],
          "scattergeo": [
           {
            "marker": {
             "colorbar": {
              "outlinewidth": 0,
              "ticks": ""
             }
            },
            "type": "scattergeo"
           }
          ],
          "scattergl": [
           {
            "marker": {
             "colorbar": {
              "outlinewidth": 0,
              "ticks": ""
             }
            },
            "type": "scattergl"
           }
          ],
          "scattermap": [
           {
            "marker": {
             "colorbar": {
              "outlinewidth": 0,
              "ticks": ""
             }
            },
            "type": "scattermap"
           }
          ],
          "scattermapbox": [
           {
            "marker": {
             "colorbar": {
              "outlinewidth": 0,
              "ticks": ""
             }
            },
            "type": "scattermapbox"
           }
          ],
          "scatterpolar": [
           {
            "marker": {
             "colorbar": {
              "outlinewidth": 0,
              "ticks": ""
             }
            },
            "type": "scatterpolar"
           }
          ],
          "scatterpolargl": [
           {
            "marker": {
             "colorbar": {
              "outlinewidth": 0,
              "ticks": ""
             }
            },
            "type": "scatterpolargl"
           }
          ],
          "scatterternary": [
           {
            "marker": {
             "colorbar": {
              "outlinewidth": 0,
              "ticks": ""
             }
            },
            "type": "scatterternary"
           }
          ],
          "surface": [
           {
            "colorbar": {
             "outlinewidth": 0,
             "ticks": ""
            },
            "colorscale": [
             [
              0,
              "#0d0887"
             ],
             [
              0.1111111111111111,
              "#46039f"
             ],
             [
              0.2222222222222222,
              "#7201a8"
             ],
             [
              0.3333333333333333,
              "#9c179e"
             ],
             [
              0.4444444444444444,
              "#bd3786"
             ],
             [
              0.5555555555555556,
              "#d8576b"
             ],
             [
              0.6666666666666666,
              "#ed7953"
             ],
             [
              0.7777777777777778,
              "#fb9f3a"
             ],
             [
              0.8888888888888888,
              "#fdca26"
             ],
             [
              1,
              "#f0f921"
             ]
            ],
            "type": "surface"
           }
          ],
          "table": [
           {
            "cells": {
             "fill": {
              "color": "#EBF0F8"
             },
             "line": {
              "color": "white"
             }
            },
            "header": {
             "fill": {
              "color": "#C8D4E3"
             },
             "line": {
              "color": "white"
             }
            },
            "type": "table"
           }
          ]
         },
         "layout": {
          "annotationdefaults": {
           "arrowcolor": "#2a3f5f",
           "arrowhead": 0,
           "arrowwidth": 1
          },
          "autotypenumbers": "strict",
          "coloraxis": {
           "colorbar": {
            "outlinewidth": 0,
            "ticks": ""
           }
          },
          "colorscale": {
           "diverging": [
            [
             0,
             "#8e0152"
            ],
            [
             0.1,
             "#c51b7d"
            ],
            [
             0.2,
             "#de77ae"
            ],
            [
             0.3,
             "#f1b6da"
            ],
            [
             0.4,
             "#fde0ef"
            ],
            [
             0.5,
             "#f7f7f7"
            ],
            [
             0.6,
             "#e6f5d0"
            ],
            [
             0.7,
             "#b8e186"
            ],
            [
             0.8,
             "#7fbc41"
            ],
            [
             0.9,
             "#4d9221"
            ],
            [
             1,
             "#276419"
            ]
           ],
           "sequential": [
            [
             0,
             "#0d0887"
            ],
            [
             0.1111111111111111,
             "#46039f"
            ],
            [
             0.2222222222222222,
             "#7201a8"
            ],
            [
             0.3333333333333333,
             "#9c179e"
            ],
            [
             0.4444444444444444,
             "#bd3786"
            ],
            [
             0.5555555555555556,
             "#d8576b"
            ],
            [
             0.6666666666666666,
             "#ed7953"
            ],
            [
             0.7777777777777778,
             "#fb9f3a"
            ],
            [
             0.8888888888888888,
             "#fdca26"
            ],
            [
             1,
             "#f0f921"
            ]
           ],
           "sequentialminus": [
            [
             0,
             "#0d0887"
            ],
            [
             0.1111111111111111,
             "#46039f"
            ],
            [
             0.2222222222222222,
             "#7201a8"
            ],
            [
             0.3333333333333333,
             "#9c179e"
            ],
            [
             0.4444444444444444,
             "#bd3786"
            ],
            [
             0.5555555555555556,
             "#d8576b"
            ],
            [
             0.6666666666666666,
             "#ed7953"
            ],
            [
             0.7777777777777778,
             "#fb9f3a"
            ],
            [
             0.8888888888888888,
             "#fdca26"
            ],
            [
             1,
             "#f0f921"
            ]
           ]
          },
          "colorway": [
           "#636efa",
           "#EF553B",
           "#00cc96",
           "#ab63fa",
           "#FFA15A",
           "#19d3f3",
           "#FF6692",
           "#B6E880",
           "#FF97FF",
           "#FECB52"
          ],
          "font": {
           "color": "#2a3f5f"
          },
          "geo": {
           "bgcolor": "white",
           "lakecolor": "white",
           "landcolor": "#E5ECF6",
           "showlakes": true,
           "showland": true,
           "subunitcolor": "white"
          },
          "hoverlabel": {
           "align": "left"
          },
          "hovermode": "closest",
          "mapbox": {
           "style": "light"
          },
          "paper_bgcolor": "white",
          "plot_bgcolor": "#E5ECF6",
          "polar": {
           "angularaxis": {
            "gridcolor": "white",
            "linecolor": "white",
            "ticks": ""
           },
           "bgcolor": "#E5ECF6",
           "radialaxis": {
            "gridcolor": "white",
            "linecolor": "white",
            "ticks": ""
           }
          },
          "scene": {
           "xaxis": {
            "backgroundcolor": "#E5ECF6",
            "gridcolor": "white",
            "gridwidth": 2,
            "linecolor": "white",
            "showbackground": true,
            "ticks": "",
            "zerolinecolor": "white"
           },
           "yaxis": {
            "backgroundcolor": "#E5ECF6",
            "gridcolor": "white",
            "gridwidth": 2,
            "linecolor": "white",
            "showbackground": true,
            "ticks": "",
            "zerolinecolor": "white"
           },
           "zaxis": {
            "backgroundcolor": "#E5ECF6",
            "gridcolor": "white",
            "gridwidth": 2,
            "linecolor": "white",
            "showbackground": true,
            "ticks": "",
            "zerolinecolor": "white"
           }
          },
          "shapedefaults": {
           "line": {
            "color": "#2a3f5f"
           }
          },
          "ternary": {
           "aaxis": {
            "gridcolor": "white",
            "linecolor": "white",
            "ticks": ""
           },
           "baxis": {
            "gridcolor": "white",
            "linecolor": "white",
            "ticks": ""
           },
           "bgcolor": "#E5ECF6",
           "caxis": {
            "gridcolor": "white",
            "linecolor": "white",
            "ticks": ""
           }
          },
          "title": {
           "x": 0.05
          },
          "xaxis": {
           "automargin": true,
           "gridcolor": "white",
           "linecolor": "white",
           "ticks": "",
           "title": {
            "standoff": 15
           },
           "zerolinecolor": "white",
           "zerolinewidth": 2
          },
          "yaxis": {
           "automargin": true,
           "gridcolor": "white",
           "linecolor": "white",
           "ticks": "",
           "title": {
            "standoff": 15
           },
           "zerolinecolor": "white",
           "zerolinewidth": 2
          }
         }
        },
        "title": {
         "text": "Gráfico com a percentagem de vezes que cada valor de oferta teve sucesso"
        },
        "xaxis": {
         "tickmode": "array",
         "tickvals": {
          "bdata": "AAAAAAAACEAAAAAAAAAAQAAAAAAAAPg/AAAAAAAA9D8AAAAAAADwPwAAAAAAAOg/",
          "dtype": "f8"
         },
         "title": {
          "text": "valor de oferta"
         },
         "type": "category"
        },
        "yaxis": {
         "title": {
          "text": "Percentagem de vezes que cada valor de oferta teve sucesso"
         }
        }
       }
      }
     },
     "metadata": {},
     "output_type": "display_data"
    }
   ],
   "source": [
    "df_offervalue = df_offers_and_trainHistory.groupBy('offervalue').count().withColumnRenamed('count', 'Number of times an offer with this value was made').orderBy(F.desc('offervalue'))\n",
    "df_with_offervalue_With_count = df_offers_and_trainHistory.join(\n",
    "    df_offervalue,\n",
    "    on=\"offervalue\",\n",
    "    how='left'\n",
    ")\n",
    "\n",
    "df_offervalue_with_success = df_successful_offers.groupBy('offervalue').count().withColumnRenamed('count', 'Number of times an offer with this value was successful').orderBy(F.desc('offervalue'))\n",
    "df_offervalue_with_success_pandas = df_offervalue_with_success.toPandas()\n",
    "\n",
    "df_offervalue_success_percentage = df_offervalue_with_success.join(\n",
    "    df_offervalue,\n",
    "    on='offervalue',\n",
    "    how='left'\n",
    ").withColumn('Percentage of Successfull Cases', (F.col('Number of times an offer with this value was successful') / F.col('Number of times an offer with this value was made'))).orderBy(F.desc('offervalue'))\n",
    "df_offervalue_success_percentage_pandas = df_offervalue_success_percentage.toPandas()\n",
    "\n",
    "df_offervalue_pandas = df_offervalue.toPandas()\n",
    "\n",
    "# Create a figure with both bars and lines for visibility\n",
    "offervalue_fig = go.Figure()\n",
    "\n",
    "# Add bar chart\n",
    "offervalue_fig.add_trace(go.Bar(\n",
    "    x=df_offervalue_pandas['offervalue'],\n",
    "    y=df_offervalue_success_percentage_pandas['Percentage of Successfull Cases'],\n",
    "    name='',\n",
    "    marker=dict(\n",
    "        color=df_offervalue_pandas['Number of times an offer with this value was made'],  # Set color based on this array of values\n",
    "        colorscale='Viridis',  # Choose a colorscale (e.g., 'Blues', 'Reds', 'Viridis', 'Plasma')\n",
    "        showscale=True,  # Display the color bar\n",
    "        colorbar=dict(\n",
    "            title='Número de vezes que uma oferta com este valor foi feita'  # Title for the color bar\n",
    "        )\n",
    "    )\n",
    "))\n",
    "\n",
    "# Update layout\n",
    "offervalue_fig.update_layout(\n",
    "    title='Gráfico com a percentagem de vezes que cada valor de oferta teve sucesso',\n",
    "    xaxis_title='valor de oferta',\n",
    "    yaxis_title='Percentagem de vezes que cada valor de oferta teve sucesso',\n",
    "    barmode='group',\n",
    "    xaxis=dict(\n",
    "        type='category',\n",
    "        tickmode='array',\n",
    "        tickvals=df_offervalue_pandas['offervalue']\n",
    "    ),\n",
    "    legend=dict(\n",
    "        orientation=\"h\",\n",
    "        yanchor=\"bottom\",\n",
    "        y=1.02,\n",
    "        xanchor=\"right\",\n",
    "        x=1\n",
    "    )\n",
    ")\n",
    "\n",
    "# Show the plot\n",
    "offervalue_fig.show()"
   ]
  },
  {
   "cell_type": "code",
   "execution_count": 24,
   "id": "fa8a2b93",
   "metadata": {},
   "outputs": [],
   "source": [
    "from pyspark.sql.functions import to_date, col\n",
    "df_corr_category_and_category_success = df_corr.withColumn(\"repeater\", F.when(F.col(\"repeater\") == \"t\", 1).otherwise(0))\n",
    "df_corr_category_and_category_success = df_corr_category_and_category_success.withColumnRenamed('Percentage of Successfull Cases', 'Percentage of offer success')\n",
    "df_corr_category_and_category_success = df_corr_category_and_category_success.withColumn('offerdate', F.to_date(F.col('offerdate'), 'yyyy-MM-dd'))\n",
    "\n",
    "df_corr_category_and_category_success.toPandas().to_csv('data/df_corr_category_and_category_success.csv.gz', index=False, compression='gzip')\n",
    "\n",
    "# print('Complete table')\n",
    "# df_corr_category_and_category_success.orderBy(F.desc('Percentage of offer success')).show(10)\n",
    "\n",
    "# print('Table with columns to correlate')\n",
    "# df_offers_and_trainHistory.orderBy(F.desc('offer')).show(10)"
   ]
  },
  {
   "cell_type": "markdown",
   "id": "05553be0",
   "metadata": {},
   "source": [
    "# 3. Construção de modelo de aprendizagem automática"
   ]
  },
  {
   "cell_type": "markdown",
   "id": "8c753961",
   "metadata": {},
   "source": [
    "**Relevant Features**"
   ]
  },
  {
   "cell_type": "code",
   "execution_count": null,
   "id": "7769ea6a",
   "metadata": {},
   "outputs": [],
   "source": [
    "import pandas as pd\n",
    "import numpy as np\n",
    "\n",
    "# --- Placeholder for your actual DataFrame loading and initial merging ---\n",
    "# Example:\n",
    "# train_history_df = pd.read_csv('trainHistory.csv')\n",
    "# offers_df = pd.read_csv('offers.csv')\n",
    "# transactions_df = pd.read_csv('transactions.csv')\n",
    "#\n",
    "# merged_df = pd.merge(train_history_df, offers_df, on='offer', how='left')\n",
    "#\n",
    "# # Ensure datetime types\n",
    "# merged_df['offerdate'] = pd.to_datetime(merged_df['offerdate'])\n",
    "# transactions_df['date'] = pd.to_datetime(transactions_df['date'])\n",
    "#\n",
    "# # Rename columns from offers_df to avoid clashes if necessary\n",
    "# # For example, if offers_df also had 'category', 'brand', 'company'\n",
    "# merged_df.rename(columns={'category_y': 'offer_category', # Adjust if names differ\n",
    "#                           'brand_y': 'offer_brand',\n",
    "#                           'company_y': 'offer_company',\n",
    "#                           'quantity_y': 'offer_quantity_threshold'}, # Assuming 'quantity' is the threshold\n",
    "#                  inplace=True)\n",
    "# # Make sure 'offervalue' is also present from the merge.\n",
    "# # If 'quantity' from offers_df is the threshold, ensure it's named appropriately.\n",
    "# # For this code, I'll assume 'offer_category', 'offer_brand', 'offer_company',\n",
    "# # 'offervalue', and 'offer_quantity_threshold' are correctly in merged_df.\n",
    "\n",
    "# --- Feature Extraction Functions ---\n",
    "\n",
    "def get_historical_transactions(row_series, all_transactions_df):\n",
    "    \"\"\"\n",
    "    Filters transactions for a given shopper that occurred before the offer date.\n",
    "    \"\"\"\n",
    "    return all_transactions_df[\n",
    "        (all_transactions_df[\"id\"] == row_series[\"id\"])\n",
    "        & (all_transactions_df[\"date\"] < row_series[\"offerdate\"])\n",
    "    ]\n",
    "\n",
    "\n",
    "# --- Top Tier Features ---\n",
    "\n",
    "def feat_hist_spend_in_offer_category(row, transactions_df):\n",
    "    hist_trans = get_historical_transactions(row, transactions_df)\n",
    "    offer_cat_trans = hist_trans[\n",
    "        hist_trans[\"category\"] == row[\"offer_category\"]\n",
    "    ]\n",
    "    return offer_cat_trans[\"purchaseamount\"].sum()\n",
    "\n",
    "def feat_hist_trips_with_offer_category(row, transactions_df):\n",
    "    hist_trans = get_historical_transactions(row, transactions_df)\n",
    "    offer_cat_trans = hist_trans[\n",
    "        hist_trans[\"category\"] == row[\"offer_category\"]\n",
    "    ]\n",
    "    return offer_cat_trans[\"date\"].nunique()\n",
    "\n",
    "def feat_hist_days_since_last_purchase_offer_category(row, transactions_df):\n",
    "    hist_trans = get_historical_transactions(row, transactions_df)\n",
    "    offer_cat_trans = hist_trans[\n",
    "        hist_trans[\"category\"] == row[\"offer_category\"]\n",
    "    ]\n",
    "    if not offer_cat_trans.empty:\n",
    "        last_purchase_date = offer_cat_trans[\"date\"].max()\n",
    "        return (row[\"offerdate\"] - last_purchase_date).days\n",
    "    return np.nan # Or a large default value like 99999\n",
    "\n",
    "def feat_hist_has_bought_offer_brand(row, transactions_df):\n",
    "    hist_trans = get_historical_transactions(row, transactions_df)\n",
    "    brand_trans = hist_trans[hist_trans[\"brand\"] == row[\"offer_brand\"]]\n",
    "    return 1 if not brand_trans.empty else 0\n",
    "\n",
    "# `offervalue` is assumed to be already in merged_df.\n",
    "# `offer_quantity_threshold` (from offers table) is assumed to be in merged_df.\n",
    "\n",
    "# --- Strongly Recommended Features ---\n",
    "\n",
    "def feat_hist_days_since_last_overall_trip(row, transactions_df):\n",
    "    hist_trans = get_historical_transactions(row, transactions_df)\n",
    "    if not hist_trans.empty:\n",
    "        last_overall_trip_date = hist_trans[\"date\"].max()\n",
    "        return (row[\"offerdate\"] - last_overall_trip_date).days\n",
    "    return np.nan # Or a large default value\n",
    "\n",
    "def feat_hist_total_trips_shopper(row, transactions_df):\n",
    "    hist_trans = get_historical_transactions(row, transactions_df)\n",
    "    return hist_trans[\"date\"].nunique()\n",
    "\n",
    "def feat_hist_spend_on_offer_brand(row, transactions_df):\n",
    "    hist_trans = get_historical_transactions(row, transactions_df)\n",
    "    brand_trans = hist_trans[hist_trans[\"brand\"] == row[\"offer_brand\"]]\n",
    "    return brand_trans[\"purchaseamount\"].sum()\n",
    "\n",
    "def feat_hist_has_bought_offer_company(row, transactions_df):\n",
    "    hist_trans = get_historical_transactions(row, transactions_df)\n",
    "    company_trans = hist_trans[\n",
    "        hist_trans[\"company\"] == row[\"offer_company\"]\n",
    "    ]\n",
    "    return 1 if not company_trans.empty else 0\n",
    "\n",
    "# --- Feature for Proportion (depends on others) ---\n",
    "def feat_hist_total_spend_shopper(row, transactions_df):\n",
    "    hist_trans = get_historical_transactions(row, transactions_df)\n",
    "    return hist_trans[\"purchaseamount\"].sum()\n",
    "\n",
    "\n",
    "# --- Applying the functions to merged_df ---\n",
    "# Ensure your DataFrames (merged_df, transactions_df) are loaded and preprocessed.\n",
    "\n",
    "print(\"Calculating Top Tier features...\")\n",
    "merged_df[\"hist_spend_in_offer_category\"] = merged_df.apply(\n",
    "    lambda r: feat_hist_spend_in_offer_category(r, transactions_df), axis=1\n",
    ")\n",
    "merged_df[\"hist_trips_with_offer_category\"] = merged_df.apply(\n",
    "    lambda r: feat_hist_trips_with_offer_category(r, transactions_df), axis=1\n",
    ")\n",
    "merged_df[\n",
    "    \"hist_days_since_last_purchase_offer_category\"\n",
    "] = merged_df.apply(\n",
    "    lambda r: feat_hist_days_since_last_purchase_offer_category(\n",
    "        r, transactions_df\n",
    "    ),\n",
    "    axis=1,\n",
    ")\n",
    "merged_df[\"hist_has_bought_offer_brand\"] = merged_df.apply(\n",
    "    lambda r: feat_hist_has_bought_offer_brand(r, transactions_df), axis=1\n",
    ")\n",
    "# 'offervalue' and 'offer_quantity_threshold' are assumed to be already present.\n",
    "\n",
    "print(\"Calculating Strongly Recommended features...\")\n",
    "merged_df[\"hist_days_since_last_overall_trip\"] = merged_df.apply(\n",
    "    lambda r: feat_hist_days_since_last_overall_trip(r, transactions_df),\n",
    "    axis=1,\n",
    ")\n",
    "merged_df[\"hist_total_trips_shopper\"] = merged_df.apply(\n",
    "    lambda r: feat_hist_total_trips_shopper(r, transactions_df), axis=1\n",
    ")\n",
    "merged_df[\"hist_spend_on_offer_brand\"] = merged_df.apply(\n",
    "    lambda r: feat_hist_spend_on_offer_brand(r, transactions_df), axis=1\n",
    ")\n",
    "merged_df[\"hist_has_bought_offer_company\"] = merged_df.apply(\n",
    "    lambda r: feat_hist_has_bought_offer_company(r, transactions_df), axis=1\n",
    ")\n",
    "\n",
    "print(\"Calculating auxiliary feature for proportion...\")\n",
    "merged_df[\"hist_total_spend_shopper\"] = merged_df.apply(\n",
    "    lambda r: feat_hist_total_spend_shopper(r, transactions_df), axis=1\n",
    ")\n",
    "\n",
    "print(\"Calculating proportion feature...\")\n",
    "# Add a small epsilon to prevent division by zero if total spend is 0\n",
    "merged_df[\"hist_prop_spend_offer_category\"] = merged_df[\n",
    "    \"hist_spend_in_offer_category\"\n",
    "] / (merged_df[\"hist_total_spend_shopper\"] + 1e-6)\n",
    "# If hist_total_spend_shopper was 0, the proportion is 0.\n",
    "merged_df[\"hist_prop_spend_offer_category\"].fillna(0, inplace=True)\n",
    "\n",
    "\n",
    "print(\"\\n--- Feature generation complete ---\")\n",
    "print(\n",
    "    \"Sample of merged_df with new features (first 5 rows, selected columns):\"\n",
    ")\n",
    "features_to_show = [\n",
    "    \"id\",\n",
    "    \"offerdate\",\n",
    "    \"offer_category\",\n",
    "    \"offervalue\", # Top Tier\n",
    "    \"offer_quantity_threshold\", # Strongly Recommended (original name might be 'quantity')\n",
    "    \"hist_spend_in_offer_category\", # Top Tier\n",
    "    \"hist_trips_with_offer_category\", # Top Tier\n",
    "    \"hist_days_since_last_purchase_offer_category\", # Top Tier\n",
    "    \"hist_has_bought_offer_brand\", # Top Tier\n",
    "    \"hist_prop_spend_offer_category\", # Top Tier\n",
    "    \"hist_days_since_last_overall_trip\", # Strongly Recommended\n",
    "    \"hist_total_trips_shopper\", # Strongly Recommended\n",
    "    \"hist_spend_on_offer_brand\", # Strongly Recommended\n",
    "    \"hist_has_bought_offer_company\", # Strongly Recommended\n",
    "    # 'hist_total_spend_shopper' # Auxiliary\n",
    "]\n",
    "# Ensure all columns in features_to_show exist in merged_df before printing\n",
    "existing_features_to_show = [\n",
    "    col for col in features_to_show if col in merged_df.columns\n",
    "]\n",
    "print(merged_df[existing_features_to_show].head())\n"
   ]
  }
 ],
 "metadata": {
  "kernelspec": {
   "display_name": "vscode_pyspark",
   "language": "python",
   "name": "vscode_pyspark"
  },
  "language_info": {
   "codemirror_mode": {
    "name": "ipython",
    "version": 3
   },
   "file_extension": ".py",
   "mimetype": "text/x-python",
   "name": "python",
   "nbconvert_exporter": "python",
   "pygments_lexer": "ipython3",
   "version": "3.11.11"
   "codemirror_mode": {
    "name": "ipython",
    "version": 3
   },
   "file_extension": ".py",
   "mimetype": "text/x-python",
   "name": "python",
   "nbconvert_exporter": "python",
   "pygments_lexer": "ipython3",
   "version": "3.11.11"
  }
 },
 "nbformat": 4,
 "nbformat_minor": 5
}
