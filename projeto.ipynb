{
 "cells": [
  {
   "cell_type": "markdown",
   "id": "628ddb52",
   "metadata": {},
   "source": [
    "---\n",
    "# 1. Initial setup"
   ]
  },
  {
   "cell_type": "code",
   "execution_count": 2,
   "id": "8c15d241",
   "metadata": {},
   "outputs": [],
   "source": [
    "# Basic imports\n",
    "\n",
    "import json\n",
    "from pathlib import Path\n",
    "\n",
    "import pyspark\n",
    "from pyspark.sql import SparkSession\n",
    "import pyspark.sql.functions as F\n",
    "from dotenv import load_dotenv\n",
    "load_dotenv('.env')\n",
    "import os\n"
   ]
  },
  {
   "cell_type": "code",
   "execution_count": 3,
   "id": "0872c87a",
   "metadata": {},
   "outputs": [],
   "source": [
    "# Build SparkSession\n",
    "spark = SparkSession.builder.appName(\"DataPreparation\").getOrCreate()\n",
    "base_path = os.getenv('BASE_PATH')"
   ]
  },
  {
   "cell_type": "markdown",
   "id": "45177939",
   "metadata": {},
   "source": [
    "# Data ingestion\n"
   ]
  },
  {
   "cell_type": "code",
   "execution_count": 4,
   "id": "ca700b8b",
   "metadata": {},
   "outputs": [
    {
     "name": "stdout",
     "output_type": "stream",
     "text": [
      "�}ES\u0002\u0003offers.csv\u0000���n�0\f\u0005��=\u000bQ�����u�0`K� \u001d�������\u0002��Y\u0012)�^__��|��|?�����p���\\������x���=�|{������\u0017�fW�\u0016q\u0012\u0012.g�brjm�\u0015\u0018�Q7�\u0000)��u\u001d�X�t\u0006)XG\u001e&fa�O�$j9�(���׶\u0007#A��䜘\u0002�Bw��\n",
      ",\u001a\u001ed�2�\u000b3;�b4[&�\u0007\u0000̞E��\u001ff�l<�Ȉ���D�\"\u0010\u001f\u0004�\u0011�\u0013#u�\u0007��V҃��Y�@���ʎ��W;XKU�C�6�\u0000��\u001c�5j�T���g��̛�ܮA�U=@AV0',%�W\u0011��M�=Sp!��^�����9�{�h�Ȭ��o�F#F�|l�W�Yխ�X���\u001d#\n",
      "�H�l*j#����A�ø�8f\u0010\u0005���Br��Eh�\u000f%C�-\u000f��r��\u000e�\t�\u0015�+���+C���\tRL�5B�\u0001�\u0007�r�V\u0015\u0005\u0000\u0000head: cannot open '/home/jovyan/code/data/sampleSubmission.csv.gz' for reading: No such file or directory\n",
      "�.��\u0002\u0003testHistory.csv\u0000|�[�$5\f��YK!�r�c/\u0007q\u0001\u0012b�\"\u001e��\u000b�G�4��N������\u000f��?����\u001f?����o������\u001f����o�,M\u0012Wǥ����e�����!H��C�fԃ�C��������\t�C�!;/��\"\u000fxk�oԅH�K�Z�n@\u000f�E�.�\u001d D�\u0000#\u0017��k��V}�QT�4^@߀\n",
      "\u0019�+`��:\u0016�\u0007 \u0010\"׽E����B,��V��\n",
      "|\u00004���\u0014��\tPQ%�����\u0001�\u0015��^�ߧ��]Z�s��Kc\u0002h�/Ľě�\u001e�E\u001c_�p1���VG���Y9^\u001a�ᅐ\u0010�\u001b�z\u0007|\u0000��}\u0001�%\\�NJ�\u0000�\u0010��(}�1T�=�\u0001�t��\u0001\u001b_\\\u0019�p�K�J\u000b��8\u0000�|~��\u001ax�K\n",
      "�\u000b�\u0013\u001a��i�@\u001f�T\u000b���مC���5PR�%\t�\u00004���^9DzF|�n�ЦQk��\u0010\u0010�ȯ\u001d\u001aԤ]���]L���\u0013�+���#\u001bQ^\u0019��TT�E�e����1����(���n�G:�Rp�u�8�IE�\u0012X~�0�����5��,���'䪷��#Ǚa\u001a���\u0002�ն��Gζ*Y�\u000f\u0007��\u0014|\f�ɾ\u0012m+���C{\u0014�\u0012��R���A!c- E\u0005Ċ\u0003T�4��;��(��\u00154}��ߖ�n�\"Ip9F;����R�u\u0000\u0007�?:I9�̞@��\u0017<;^[��V�0\u0000\u0019�\u0014s?rG�b-��\u0014|I��\u0002�\u0017\u0018 ����\u000eO9���\u000fRF�$��\u0006���Hi�3�ߧ\u0002c�����=�L�R��`�2����\u0010�j}\u0007�3aLa��ְ��\u0003TK�\u0012�r�lq���0; �RK�\u001f��\u0018[��\u0002Н\\4�\u001b3���-'�\u0010�.p��!�m���ҁ'a�^���/�+C���<��nsK���\u0011�@\u001f���EํHI�6��\u0010E8���!\u0012���[7�G�\u0018=���\u0010����s\u001d\u0002!^��CK�ƖdV%~]T]z�E\u000e�\n",
      "����0$�m4\u0007�j�-�q�@�l��\u001c =�y�K��!����\u0017~�\u0006�\u0000Tq�I�T�ݛ!\")jۑ}!Bh�F�\u0010���\u0011�C�\n",
      "b�d�.W�:\u0000+Y�\u0015o��\u0012��\u001bRV��7�\u0012N��6\u001f�V�-RC���f�\u0001�B-��\u0001��{\u001boBA�ccF\t��\u0000��Ϡ\u0001�\u0010�\fHǗ&\u001a\u0011�Ō\u001dBՍ�h�\u0003��c\u0019�e�E~��k\t>̴(h��\u001fl�\u0016�Xf�QA�\t���\u0000\u001dV�F�5l\n",
      "\t�m/�v\u0014��.P\u0015�\\\u0003\\\u0006�B�ҎM\u000f�&%���p\u000b&wG\fQR��x��C��=y<���B3*�+�\u001b1�А-��\u0012^l\n",
      "שa�\n",
      "�~��a�ݞ\\��\u0002\"J�s�\u001eB��V�|�R�=���\u0007\u0003\"ck.8�S��=\u001b�\u0010e��qa�N@6bt����5\u001e\u0003g\u000f��e�\u001be?�T��\u00127\u001c�\u0011Q��1Du�>�\u0006(Y��\u0019\u000fQ�jK��\u0001���rf:@Q���\u001c�4s\u001f�#$ �\u001b�C�!��}�\u000b��[9�>�\u000b�t}\u0007\u001d�(�t�\u001c@���%C�ڰ܎9�\u000ek�|��#O��mO�\u0011\u0014���~�*���=������\u001f��\u0012{=�Ri믴�hQ��*��Wn\u001byB���<r~����4���7�G\u0003*%���2�.]�\u001f SMz�0K��J|ރ�\u0000�br�����V��w�\u0018�(�\u001f��l��]�����\u001c\u0010�n%\u0015D-�15r���;GвŗG\u0004�\u0001h\u001e[ۈ\u0003�FJ/�\u000e\u0000I���Te��&�]�!`\u0019�細#\u000f�N,S�\u000fp䔏�_��\u0011n��g.\u001f9�­x�\u0010�4�J9g��}kn��\u001c�}���$���}�)!}\n",
      ":��U�u@\u000f��.z��\u0017��$ʜ��8��x�^�*\f�\\J1\u0007�r�4\fP\n",
      "Y��`�h�\u00022^��\u0004��+�\u0014�쓎\u0019�]��|�2s���\u000e�\tZ�+���~M\u0015�s\u0003S^L� dH��N{���\u0002XT��b�p\u0001�g�M\u000e���F��\u0012�:U&��1ǐ�Ր3�Ҕ�\tVN=�\u0001�o&BQ��QuA��MMq��\u0010�}7���C��%��E���dA�l�������[6\u0014Tc�eR�\u0014ܱ(\u0003S�-Ov(\t��Rɒ�[��\u0011��37\u0005V��T�P.�8*����I%��7�fM5\u0016\u0014�V�0�-sWɛI������\u0000�\u0018����\u0018U\u0015塧>M]>�\\�\u0016��\u001c[��\f��]�S�bw�29�'��(Ƣ�<����R+�\u000e�\u0013�\n",
      "\u0011�i�V^TQ�\u000fJI3��5�SC(�!���L\u0000�\u0016\u0002;�ŰH���hS�8��O�F�qe�i\u0014ȗ��BtX,���B׸3P�v�8J��3Ӧ��\n",
      "����\u0002U�Oc:^�D\"4Y�\u001b\u0012�[-��\u000eWՔ�\u0011�m��P�\u0001�H�L\u0016�\u000f\\�����8!io�����]Ɖ�Մ�ƺ�\n",
      "�7��j�|��}Q�V9�p4\u0015�*srf�T���]�bJsuv\u0017� ���M9�m^P�\t�wC]L��֦��x��\\�6�\u000b\u0016��\u0013�M�!�hޔ\"4�2��[0%U\u0010\u0006��\u0016�*��\n",
      "�-���\u0001\u001b��\"Ru�wo�V8����*n�9\u0010��b�\\\\�R�[��ޘjLBsGKu�H\u001d\u001aC�/(����C��dD��\u000ff�w�+ti\u000b:%�]�\u000f{/�Ϝ�\u001dJ5c\u001e�����k�(�[}jQ %�۳�\u0016*\u0010Հ�cF@��y�\u0014D\u0004���t�/g��\u0004�Qu��n�\u001cEb�yh\u000b��\u0012\u0013��$\u000e��0�ւ��K�u��\u0005)I\tO�]C,�q\u0006N2bļR,*D�|��\u001b��֜\u000b��j�����X��x�����\u0002c�HN��\n",
      "�4��&K\u001f\u0014:�k*c;(��ԟ\u000f=��i��p7�\u001cl�xW�\u0014�05\u001b�\u000b ��w�q\u001b̴u��\u000fîu\u0019\u000ep\u0014�q�����G�u�{������\u0011�,o�5��Q��9*mS�K�;�\u00199!�y�\u0007c\u0017���\u001d\u0004�ko�]�)��(.�!&\"�\u0001\u001a��X\u0001�{���y��,��;������w(Ӳ!\u0015ѣе�����`!v΃�b��漟��6��4�<�(N?u��7\u0007k�Z\u001b\u0003hᵩ=\u000b=�Cy�\u000e��0�[(�n.&�yP��v>\u0007�W�6\u0007�\u0006�۱�d�\u0011ҳ\u001e�\u001a��\u0017Z���\\�V��V��AMz�Ҍ�a@K�<��W�}�����+����l���<�fd�\u0016�1U��1�\u0006,���8\u0003�i�P\u0005�����X��·�\u0019�\u0014��c�\f���_����%�Q3aiO���ƮlA�I��U���r\fCn��\u0003w'\u0019Κ����N\u0014\u001a�o\u0000cs���\u0013r\u0006�*�W�=e{��\n",
      "�\u0002꠰��\u0007\f\u001e\u0003�h��6#A�����H\u001d��\t[�ր\u001d��T2�\u001c��55������wZ��\u000em8*��\u001a4�~r�&�p��1�\n",
      "9e�m�Ku\u0010�����65�e�p\f+�j���&�\tb\u0007\u001f�ZZ��8��n��\u001e�\u0002Gu��zF0Gaˠ-a�P8�\u0018�T�x\u0010��'�\tx�N\u0000�n����.S�_?(:7�e\u0019\u0016�u�:�ۧD��_�浵���AiS�\u0010�i����k2\u00071զ�\u000e��m�\u0013�A�&dۈ��\u0005%v\u001f��V���Q��ߏk�\u000e\u001c\u0016\u0007���2��ٵr5�q\u0010fPG��Cm�ǖL�\u000e�a�\u000e?( �\n",
      "vLV��>�\u001c��9�I�\u00135�ٰYQ��A\u0018�x��0�\u0011�\u0018��䈫tP:�JM��V�V�\u0015�Q\u0005\u000fY�\u001e4���ߣ\u00109+��Al|�Q�z��=�\\�'\u001c\u0014�&_F\u001fT��3�4\u0002��� 2G��\u000e��*)�\u001e�-\u0013��1[h�7�A� ��~\u0007�O�a��\u0005�yA�y\u0004c�����A�Y#���\u0010\u001c\u0013a\n",
      "���!�[���a�\u0017%:�\u0006�XTY*�Y�/\u0003A���m.�v�G\u0016��U��H���\u001a�LZܾ�����b0$.�gIED:�I�Y\u001c���~QO'��X�n�|c�eᑼ�kUj\u0018kѺȑF\u0002&������Am�;N�<Of�Ud��E9�C*r��h���\u001a\u0017sk\u001e��{f\u0019���AcV|�\u0007\u000fUڷ{\u0011|��n�L\u0005�MmU��~�\u0004�=�\u000f\u0014���C����Rsk��IDS\u0016Y�����\"���R�J�=kQw\u0019Od�\u001aՉ�� ES�UD�Q�a�^X��E��W����S\u0017y�)mOZ\u0004�&\u001d�k\"��O�oƛ���J�0�龨M�xR\t926���GE��%J�BY�٢���-\u0007E6_.,*s���E%t��j\u0017�{���-g�v\u0019���>*\u001b��+�\u0000�X~�����M�K<�F�)�l2ّ�*H�s����0�j���\"\n",
      "b\u0018Pv\u0000x|%&�#�\u0016S�V�z�~��zRhܖ�����\u0007��׻�����\th7���\u0007�Γ�<dd�.\u0015I\u0017B�8\u001f\u0015\u0001�G��@}�<�(GH\\�,ǓR�t�>h��:\u0000��u\u0016�w��H8`�\u0014�2>A�ar��t7=\u000f\u0012\u00190\u000b\u0014BË�Bw`�i\u000b��\t\u000e��\u0014D\u0006��� kT���B�>� ��U\u0004\u0000\u001dX\u000f��p�\u001d\u0019W�\f\u001c�L�`hd����8�h`�\u0000 \u0006ώ����N\u0016�`j\u0016��\u0006\u000f���J\u0019�vh�֣��M�<\u0000\u0005\u0001\u0010�\u0001���ĥ�fWe&>�j��]�A�V\u0005���\\ڍ��s�\u0019�\n",
      "a��p�4Ьge�UѪ�Q�\u001d�}\u0010�*�e��\u0018D2�a.\u001az���\tɍN6t\"]1UL�\n",
      "Q\u0000�0CGM\f�\u0016mrL��z/X��˜%��\u0018�L\u0006M�\u0005�A�%г��,$J��4h�\u0004\u0001q�PH��22�b����\u001bG�1\f���p��\u001eq�Q�\u0017WPH\u000e6�)�\u001c�\t�2F�~\u0012\u0010s\u0018&\u001e\u0004��k�EM�N� �a\u0006\u000fJ}[7�9R\u001fD�\t�\u0003����&�Wu>\u0018:\u001f\f4�\u0011�i!){\u000e㠩\u001f�\u001b�\u001d{�O�t\u0013����t\u0001��)Ԝ�\n",
      "8�?&\u0003vC�\tA�\\,ʅ(Q��8��� �y�aʩ\u0004�{)�\u0017$�@J���1��\u0005�t?:\u001e~��'$==��r1)W5Ǒ��ȹ�������� �*\u0012\f�.Cy�z�\u0014f���BP���[�v�\u0017!��\u0003\u0002����i9f�� ���e9�+�\u0011��\f\u0006a��;��o��\u000f3��GWo*\u001b�|\u0010�\u0003ȸ��\t��\u0007�\n",
      "&��V\u0006���70+E�;e��5�\"2M�r\u001dg+����\u001fk\u0006_�\u0017)$ \u001d{E��x\u0015�\u0010�\u000f���d�T�T�\u0011Dc�+��xΎ��\u0011\u0002�Q>��E<�o���< \tw?\u000b)��\u001b0�\u0019�4)�on�GI?y�T��� �7�\u001f}0\u0018F)��^\tH�4�̹$��*��O�zq�Kԥ_l�\u001b,����1\u001d.V�%�tt�~v��\u0016v\u0019���n^\u001e%u]e\u000b#�\\+\fyG\"-�p�8\u0016<�\u001c,3���#M�i\u001aڠu�\t�\u0007�<�Ի�8��}v\u0004\u0010�qX\"AH�\u0019[�Bn�o\u0006�\u001dI@-��fS:\fZ\u000e\u000b��<p����.�ubj\\/t�Ev$J��B�p[)\u000e/[���y��rwi��3�<�Ҧ��\u0016\u0001Ɣ\u0015@�u�5�JV�R���a�\u0017\u001c\u0003�+l,/���\u001f�r�����\u0015�5:\u000b��3a�\\/� ཥ\u0011\u0004͟�z��g^�}��KB/�b��dƮ�\u001fxXb��\u0018n�\u0006Mo`��(8\u0001��9��ASJA3\u0011�\u001c��s>�Rߢ�\u000eHO�Z�\u001a�T\n",
      "�#�g�/=�~+O�\u001e�*B`������\u001f�C�\u001a�\u00013��q����\u000f����&�(7\u0005T�����'��C�C\u0019\u0004����\u0010@�k��e\u0015��ϔ\t#\u001b%[��\u001a\u0019�l\u000b�\u0013�I72h\"1��Q�z>g�-٪Y�\u0013k����r�Nَ`[&ڍʣS��\u0005�cg�Ð�]��<\u0010\u001a\u001e� \fZ��\u0000���B\u0000��a�#��#6=�\u001f��oy�B>isKeo�\u0010�\u001e:�H4�rT���YF�>գ��9�Qz�3�x��\n",
      "4�\u0016P�\n",
      "\u0013��i��7sR������Y��Y�q�\u0013��#�Ih%\u0005Ԡ��}�L��^�\"�M�����#�\u001aL�$\u0006Mw�S��0�+\u0007*\u000b��w�v�ښ^��\u0003�zPnx^ءN�$�\t��i��\"Q��\u0012&:\u00019\u0001��{��=��-���\u0018#�л�\u0019���>h�-\u0010_\u001d\u0015�\u0004�2_=&\u0007!��\u000e]�)3�^'�c�z�����9o^���5�\fhG��c�^��f���qC�\u001bm���׎/ɪ��a����Ø�V<HH�g�2nsdb��!Sbi���J�u��<��8�\u001et�\u001a=�R\u0010\u00039%9�j��j�9=���wčgs�3�(�\u0019��\u0005�Z\n",
      "\u0006ݑ��RO\u001a�_\u0012A�S��#���r��qOH�_�\u001a�t�^\u0010���\u001e\u0019H�.�$[����\u001d��s&�U��n�N\u0006�Y��\u0007/��\u0005u�AP\u001dd��&e���F\u001e�jo#�~Դ�\u001c�իm�\u001d��z]Ku\u0013@q�\u00182OZ@�\u001d��<p�ke�\u001b?n�[\\52�>k\u0005>H�T�\u001bPO����\u001a�?m^_�{J`a}C�E��\u000b�;���\u000by����o�[۵�Â�\u0001B\u0007I`��vڢÍ�h���ɬ����O�󽮅w\u0018ɱ\u0016\u0016\u001e�ʃ�\u001f3.\u00194y�\n",
      "9���MN<��\n"
     ]
    }
   ],
   "source": [
    "# Data to read - offers.csv\n",
    "data_dir_offers = f'{base_path}/offers.csv.gz'\n",
    "data_file_offers = data_dir_offers\n",
    "\n",
    "! head $data_file_offers\n",
    "\n",
    "# Data to read - sampleSubmission.csv\n",
    "data_dir_sampleSubmission = f'{base_path}/sampleSubmission.csv.gz'\n",
    "data_file_sampleSubmission = data_dir_sampleSubmission\n",
    "\n",
    "! head $data_file_sampleSubmission\n",
    "\n",
    "# Data to read - testHistory.csv\n",
    "data_dir_testHistory = f'{base_path}/testHistory.csv.gz'\n",
    "data_file_testHistory = data_dir_testHistory\n",
    "\n",
    "! head $data_file_testHistory\n",
    "\n",
    "# Data to read - trainHistory.csv\n",
    "data_dir_trainHistory = f'{base_path}/trainHistory.csv.gz'\n",
    "data_file_trainHistory = data_dir_trainHistory\n",
    "\n",
    "! head $data_file_trainHistory\n",
    "\n",
    "# Data to read - transactions.csv\n",
    "data_dir_transactions = f'{base_path}/transactions.csv.gz'\n",
    "data_file_transactions = data_dir_transactions\n",
    "\n",
    "! head $data_file_transactions"
   ]
  },
  {
   "cell_type": "markdown",
   "id": "e98eb77b",
   "metadata": {},
   "source": [
    "**OFFERS**"
   ]
  },
  {
   "cell_type": "code",
   "execution_count": 5,
   "id": "81340b26",
   "metadata": {},
   "outputs": [],
   "source": [
    "# Reading data - offers.csv\n",
    "df_offers = spark.read.csv(\n",
    "        data_file_offers, \n",
    "        header=True, sep=',', inferSchema=True, \n",
    "        #recursiveFileLookup=True\n",
    "    )"
   ]
  },
  {
   "cell_type": "code",
   "execution_count": 6,
   "id": "4a6fe187",
   "metadata": {},
   "outputs": [
    {
     "name": "stdout",
     "output_type": "stream",
     "text": [
      "df_offers - number of rows: 37\n",
      "root\n",
      " |-- offer: integer (nullable = true)\n",
      " |-- category: integer (nullable = true)\n",
      " |-- quantity: integer (nullable = true)\n",
      " |-- company: integer (nullable = true)\n",
      " |-- offervalue: double (nullable = true)\n",
      " |-- brand: integer (nullable = true)\n",
      "\n",
      "+-------+--------+--------+---------+----------+-----+\n",
      "|offer  |category|quantity|company  |offervalue|brand|\n",
      "+-------+--------+--------+---------+----------+-----+\n",
      "|1190530|9115    |1       |108500080|5.0       |93904|\n",
      "|1194044|9909    |1       |107127979|1.0       |6732 |\n",
      "|1197502|3203    |1       |106414464|0.75      |13474|\n",
      "|1198271|5558    |1       |107120272|1.5       |5072 |\n",
      "|1198272|5558    |1       |107120272|1.5       |5072 |\n",
      "|1198273|5558    |1       |107120272|1.5       |5072 |\n",
      "|1198274|5558    |1       |107120272|1.5       |5072 |\n",
      "|1198275|5558    |1       |107120272|1.5       |5072 |\n",
      "|1199256|4401    |1       |105100050|2.0       |13791|\n",
      "|1199258|4401    |1       |105100050|2.0       |13791|\n",
      "+-------+--------+--------+---------+----------+-----+\n",
      "only showing top 10 rows\n",
      "\n"
     ]
    }
   ],
   "source": [
    "# Checking data that has been read - offers.csv\n",
    "print(f'df_offers - number of rows: {df_offers.count()}')\n",
    "df_offers.printSchema()\n",
    "df_offers.show(10, truncate=False)"
   ]
  },
  {
   "cell_type": "markdown",
   "id": "5cb93002",
   "metadata": {},
   "source": [
    "**TEST HISTORY**"
   ]
  },
  {
   "cell_type": "code",
   "execution_count": 10,
   "id": "ef2bc485",
   "metadata": {},
   "outputs": [],
   "source": [
    "# Reading data - testHistory.csv\n",
    "df_testHistory = spark.read.csv(\n",
    "        data_file_testHistory, \n",
    "        header=True, sep=',', inferSchema=True, \n",
    "        #recursiveFileLookup=True\n",
    "    )"
   ]
  },
  {
   "cell_type": "code",
   "execution_count": null,
   "id": "fd75251f",
   "metadata": {},
   "outputs": [
    {
     "name": "stdout",
     "output_type": "stream",
     "text": [
      "df_testHistory - number of rows: 151484\n",
      "root\n",
      " |-- id: long (nullable = true)\n",
      " |-- chain: integer (nullable = true)\n",
      " |-- offer: integer (nullable = true)\n",
      " |-- market: integer (nullable = true)\n",
      " |-- offerdate: date (nullable = true)\n",
      "\n",
      "+--------+-----+-------+------+----------+\n",
      "|id      |chain|offer  |market|offerdate |\n",
      "+--------+-----+-------+------+----------+\n",
      "|12262064|95   |1219903|39    |2013-06-27|\n",
      "|12277270|95   |1221658|39    |2013-06-23|\n",
      "|12332190|95   |1213242|39    |2013-06-15|\n",
      "|12524696|4    |1221665|1     |2013-06-20|\n",
      "|13074629|14   |1221658|8     |2013-06-21|\n",
      "|13387341|14   |1221658|8     |2013-06-22|\n",
      "|13501141|4    |1203439|1     |2013-05-13|\n",
      "|13558712|15   |1203439|9     |2013-05-12|\n",
      "|13563017|14   |1221665|8     |2013-06-24|\n",
      "|13584134|14   |1221665|8     |2013-06-27|\n",
      "+--------+-----+-------+------+----------+\n",
      "only showing top 10 rows\n",
      "\n"
     ]
    }
   ],
   "source": [
    "# Checking data that has been read - testHistory.csv\n",
    "print(f'df_testHistory - number of rows: {df_testHistory.count()}')\n",
    "df_testHistory.printSchema()\n",
    "df_testHistory.show(10, truncate=False)"
   ]
  },
  {
   "cell_type": "markdown",
   "id": "08644ffa",
   "metadata": {},
   "source": [
    "**TRAIN HISTORY**"
   ]
  },
  {
   "cell_type": "code",
   "execution_count": 12,
   "id": "4aa82360",
   "metadata": {},
   "outputs": [],
   "source": [
    "# Reading data - trainHistory.csv\n",
    "df_trainHistory = spark.read.csv(\n",
    "        data_file_trainHistory, \n",
    "        header=True, sep=',', inferSchema=True, \n",
    "        #recursiveFileLookup=True\n",
    "    )"
   ]
  },
  {
   "cell_type": "code",
   "execution_count": 13,
   "id": "c23df553",
   "metadata": {},
   "outputs": [
    {
     "name": "stdout",
     "output_type": "stream",
     "text": [
      "df_trainHistory - number of rows: 160057\n",
      "root\n",
      " |-- id: long (nullable = true)\n",
      " |-- chain: integer (nullable = true)\n",
      " |-- offer: integer (nullable = true)\n",
      " |-- market: integer (nullable = true)\n",
      " |-- repeattrips: integer (nullable = true)\n",
      " |-- repeater: string (nullable = true)\n",
      " |-- offerdate: date (nullable = true)\n",
      "\n",
      "+--------+-----+-------+------+-----------+--------+----------+\n",
      "|id      |chain|offer  |market|repeattrips|repeater|offerdate |\n",
      "+--------+-----+-------+------+-----------+--------+----------+\n",
      "|86246   |205  |1208251|34    |5          |t       |2013-04-24|\n",
      "|86252   |205  |1197502|34    |16         |t       |2013-03-27|\n",
      "|12682470|18   |1197502|11    |0          |f       |2013-03-28|\n",
      "|12996040|15   |1197502|9     |0          |f       |2013-03-25|\n",
      "|13089312|15   |1204821|9     |0          |f       |2013-04-01|\n",
      "|13179265|14   |1197502|8     |0          |f       |2013-03-29|\n",
      "|13251776|15   |1200581|9     |0          |f       |2013-03-30|\n",
      "|13540129|14   |1200581|8     |0          |f       |2013-03-30|\n",
      "|13807224|4    |1204576|1     |0          |f       |2013-04-05|\n",
      "|13873775|4    |1197502|1     |0          |f       |2013-03-26|\n",
      "+--------+-----+-------+------+-----------+--------+----------+\n",
      "only showing top 10 rows\n",
      "\n"
     ]
    }
   ],
   "source": [
    "# Checking data that has been read - trainHistory.csv\n",
    "print(f'df_trainHistory - number of rows: {df_trainHistory.count()}')\n",
    "df_trainHistory.printSchema()\n",
    "df_trainHistory.show(10, truncate=False)"
   ]
  },
  {
   "cell_type": "markdown",
   "id": "879c79d5",
   "metadata": {},
   "source": [
    "**Transactions**"
   ]
  },
  {
   "cell_type": "code",
   "execution_count": 14,
   "id": "9b12683b",
   "metadata": {},
   "outputs": [],
   "source": [
    "# Reading data - transactions.csv\n",
    "df_transactions = spark.read.csv(\n",
    "        data_file_transactions, \n",
    "        header=True, sep=',', inferSchema=True, \n",
    "        #recursiveFileLookup=True\n",
    "    )"
   ]
  },
  {
   "cell_type": "code",
   "execution_count": 32,
   "id": "f1022284",
   "metadata": {},
   "outputs": [
    {
     "name": "stdout",
     "output_type": "stream",
     "text": [
      "df_transactions - number of rows: 349655789\n",
      "root\n",
      " |-- id: long (nullable = true)\n",
      " |-- chain: integer (nullable = true)\n",
      " |-- dept: integer (nullable = true)\n",
      " |-- category: integer (nullable = true)\n",
      " |-- company: long (nullable = true)\n",
      " |-- brand: integer (nullable = true)\n",
      " |-- date: date (nullable = true)\n",
      " |-- productsize: double (nullable = true)\n",
      " |-- productmeasure: string (nullable = true)\n",
      " |-- purchasequantity: integer (nullable = true)\n",
      " |-- purchaseamount: double (nullable = true)\n",
      "\n",
      "+-----+-----+----+--------+----------+-----+----------+-----------+--------------+----------------+--------------+\n",
      "|id   |chain|dept|category|company   |brand|date      |productsize|productmeasure|purchasequantity|purchaseamount|\n",
      "+-----+-----+----+--------+----------+-----+----------+-----------+--------------+----------------+--------------+\n",
      "|86246|205  |7   |707     |1078778070|12564|2012-03-02|12.0       |OZ            |1               |7.59          |\n",
      "|86246|205  |63  |6319    |107654575 |17876|2012-03-02|64.0       |OZ            |1               |1.59          |\n",
      "|86246|205  |97  |9753    |1022027929|0    |2012-03-02|1.0        |CT            |1               |5.99          |\n",
      "|86246|205  |25  |2509    |107996777 |31373|2012-03-02|16.0       |OZ            |1               |1.99          |\n",
      "|86246|205  |55  |5555    |107684070 |32094|2012-03-02|16.0       |OZ            |2               |10.38         |\n",
      "|86246|205  |97  |9753    |1021015020|0    |2012-03-02|1.0        |CT            |1               |7.8           |\n",
      "|86246|205  |99  |9909    |104538848 |15343|2012-03-02|16.0       |OZ            |1               |2.49          |\n",
      "|86246|205  |59  |5907    |102900020 |2012 |2012-03-02|16.0       |OZ            |1               |1.39          |\n",
      "|86246|205  |9   |921     |101128414 |9209 |2012-03-02|4.0        |OZ            |2               |1.5           |\n",
      "|86246|205  |73  |7344    |1068142161|20285|2012-03-02|8.0        |CT            |1               |5.79          |\n",
      "+-----+-----+----+--------+----------+-----+----------+-----------+--------------+----------------+--------------+\n",
      "only showing top 10 rows\n",
      "\n"
     ]
    }
   ],
   "source": [
    "# Checking data that has been read - transactions.csv\n",
    "print(f'df_transactions - number of rows: {df_transactions.count()}')\n",
    "_, df_transactions_sample = df_transactions.randomSplit([0.90, 0.10], seed=42)\n",
    "# df_transactions.printSchema()\n",
    "# df_transactions.show(10, truncate=False)\n",
    "df_transactions_sample.printSchema()\n",
    "df_transactions_sample.show(10, truncate=False)"
   ]
  },
  {
   "cell_type": "markdown",
   "id": "5a76cbf0",
   "metadata": {},
   "source": [
    "---\n",
    "# 2. Data Profiling"
   ]
  },
  {
   "cell_type": "markdown",
   "id": "d5ec8db1",
   "metadata": {},
   "source": [
    "**Checking duplicates**"
   ]
  },
  {
   "cell_type": "code",
   "execution_count": 16,
   "id": "92501328",
   "metadata": {},
   "outputs": [
    {
     "name": "stdout",
     "output_type": "stream",
     "text": [
      "df_offers - number of rows is 37; after dropDuplicates() applied would be 37.\n",
      "df_testHistory - number of rows is 151484; after dropDuplicates() applied would be 151484.\n",
      "df_trainHistory - number of rows is 160057; after dropDuplicates() applied would be 160057.\n"
     ]
    }
   ],
   "source": [
    "print(f'df_offers - number of rows is {df_offers.count()}; after dropDuplicates() applied would be {df_offers.dropDuplicates().count()}.')                                  # offers.csv\n",
    "# print(f'df_sampleSubmission - number of rows is {df_sampleSubmission.count()}; after dropDuplicates() applied would be {df_sampleSubmission.dropDuplicates().count()}.')    # sampleSubmission.csv\n",
    "print(f'df_testHistory - number of rows is {df_testHistory.count()}; after dropDuplicates() applied would be {df_testHistory.dropDuplicates().count()}.')                   # testHistory.csv\n",
    "print(f'df_trainHistory - number of rows is {df_trainHistory.count()}; after dropDuplicates() applied would be {df_trainHistory.dropDuplicates().count()}.')                # trainHistory.csv\n",
    "# print(f'df_transactions - number of rows is {df_transactions.count()}; after dropDuplicates() applied would be {df_transactions.dropDuplicates().count()}.')                # transactions.csv"
   ]
  },
  {
   "cell_type": "code",
   "execution_count": 18,
   "id": "789ea04c",
   "metadata": {},
   "outputs": [
    {
     "name": "stdout",
     "output_type": "stream",
     "text": [
      "df_offers - number of rows after dropna(how='any') applied would be 37.\n",
      "df_testHistory - number of rows after dropna(how='any') applied would be 151484.\n",
      "df_trainHistory - number of rows after dropna(how='any') applied would be 160057.\n"
     ]
    }
   ],
   "source": [
    "print(f'''df_offers - number of rows after dropna(how='any') applied would be {df_offers.dropna(how='any').count()}.''')                        # offers.csv\n",
    "# print(f'''df_sampleSubmission - number of rows after dropna(how='any') applied would be {df_sampleSubmission.dropna(how='any').count()}.''')    # sampleSubmission.csv\n",
    "print(f'''df_testHistory - number of rows after dropna(how='any') applied would be {df_testHistory.dropna(how='any').count()}.''')              # testHistory.csv\n",
    "print(f'''df_trainHistory - number of rows after dropna(how='any') applied would be {df_trainHistory.dropna(how='any').count()}.''')            # trainHistory.csv\n",
    "# print(f'''df_transactions - number of rows after dropna(how='any') applied would be {df_transactions.dropna(how='any').count()}.''')            # transactions.csv"
   ]
  },
  {
   "cell_type": "markdown",
   "id": "1a53f495",
   "metadata": {},
   "source": [
    "**Data profiling with YData Profiling**"
   ]
  },
  {
   "cell_type": "code",
   "execution_count": 17,
   "id": "faadfa6f",
   "metadata": {},
   "outputs": [],
   "source": [
    "# offers.csv\n",
    "from ydata_profiling import ProfileReport\n",
    "\n",
    "profile_title_offers = 'offers.csv'\n",
    "\n",
    "profile_report = ProfileReport(\n",
    "    df_offers,\n",
    "    title=profile_title_offers,\n",
    "    infer_dtypes=False,\n",
    "    interactions=None,\n",
    "    missing_diagrams=None,\n",
    "    correlations={\n",
    "        \"auto\": {\"calculate\": False},\n",
    "        \"pearson\": {\"calculate\": False},\n",
    "        \"spearman\": {\"calculate\": False},\n",
    "    },\n",
    ")"
   ]
  },
  {
   "cell_type": "code",
   "execution_count": 19,
   "id": "dec61455",
   "metadata": {},
   "outputs": [
    {
     "data": {
      "application/vnd.jupyter.widget-view+json": {
       "model_id": "40aab1809e1241cf888cd07e218b3a4d",
       "version_major": 2,
       "version_minor": 0
      },
      "text/plain": [
       "Summarize dataset:   0%|          | 0/5 [00:00<?, ?it/s]"
      ]
     },
     "metadata": {},
     "output_type": "display_data"
    },
    {
     "data": {
      "application/vnd.jupyter.widget-view+json": {
       "model_id": "f48ab3c0702546b182ef8b16f6f55794",
       "version_major": 2,
       "version_minor": 0
      },
      "text/plain": [
       "Generate report structure:   0%|          | 0/1 [00:00<?, ?it/s]"
      ]
     },
     "metadata": {},
     "output_type": "display_data"
    },
    {
     "data": {
      "application/vnd.jupyter.widget-view+json": {
       "model_id": "75fb5fbe50ab4ace943768ab32bb1cc6",
       "version_major": 2,
       "version_minor": 0
      },
      "text/plain": [
       "Render HTML:   0%|          | 0/1 [00:00<?, ?it/s]"
      ]
     },
     "metadata": {},
     "output_type": "display_data"
    },
    {
     "data": {
      "application/vnd.jupyter.widget-view+json": {
       "model_id": "8847ebe581544aedbfcb39bef549563a",
       "version_major": 2,
       "version_minor": 0
      },
      "text/plain": [
       "Export report to file:   0%|          | 0/1 [00:00<?, ?it/s]"
      ]
     },
     "metadata": {},
     "output_type": "display_data"
    },
    {
     "data": {
      "text/plain": [
       "'/home/jovyan/code/data/offers.csv.gzprofile-offers.csv.html'"
      ]
     },
     "execution_count": 19,
     "metadata": {},
     "output_type": "execute_result"
    }
   ],
   "source": [
    "# offers.csv\n",
    "profile_report_file = data_dir_offers + 'profile-' + profile_title_offers + '.html'\n",
    "profile_report.to_file(Path(profile_report_file))\n",
    "profile_report_file"
   ]
  },
  {
   "cell_type": "code",
   "execution_count": null,
   "id": "038caf8f",
   "metadata": {},
   "outputs": [],
   "source": [
    "# # sampleSubmission.csv\n",
    "# from ydata_profiling import ProfileReport\n",
    "\n",
    "# profile_title_sampleSubmission = 'sampleSubmission.csv'\n",
    "\n",
    "# profile_report = ProfileReport(\n",
    "#     df_sampleSubmission,\n",
    "#     title=profile_title_sampleSubmission,\n",
    "#     infer_dtypes=False,\n",
    "#     interactions=None,\n",
    "#     missing_diagrams=None,\n",
    "#     correlations={\n",
    "#         \"auto\": {\"calculate\": False},\n",
    "#         \"pearson\": {\"calculate\": False},\n",
    "#         \"spearman\": {\"calculate\": False},\n",
    "#     },\n",
    "# )"
   ]
  },
  {
   "cell_type": "code",
   "execution_count": 20,
   "id": "c7b5fa01",
   "metadata": {},
   "outputs": [],
   "source": [
    "# # sampleSubmission.csv\n",
    "# profile_report_file = data_dir_sampleSubmission + 'profile-' + profile_title_sampleSubmission + '.html'\n",
    "# profile_report.to_file(Path(profile_report_file))\n",
    "# profile_report_file"
   ]
  },
  {
   "cell_type": "code",
   "execution_count": 29,
   "id": "7d5150d6",
   "metadata": {},
   "outputs": [],
   "source": [
    "# testHistory.csv\n",
    "profile_title_testHistory = 'testHistory.csv'\n",
    "\n",
    "profile_report = ProfileReport(\n",
    "    df_testHistory.toPandas(),\n",
    "    title=profile_title_testHistory,\n",
    "    infer_dtypes=False,\n",
    "    interactions=None,\n",
    "    missing_diagrams=None,\n",
    "    correlations={\n",
    "        \"auto\": {\"calculate\": False},\n",
    "        \"pearson\": {\"calculate\": False},\n",
    "        \"spearman\": {\"calculate\": False},\n",
    "    },\n",
    ")"
   ]
  },
  {
   "cell_type": "code",
   "execution_count": 30,
   "id": "05626297",
   "metadata": {},
   "outputs": [
    {
     "data": {
      "application/vnd.jupyter.widget-view+json": {
       "model_id": "6245c5ca2a8e44289ffe1a6c4fea420f",
       "version_major": 2,
       "version_minor": 0
      },
      "text/plain": [
       "Summarize dataset:   0%|          | 0/5 [00:00<?, ?it/s]"
      ]
     },
     "metadata": {},
     "output_type": "display_data"
    },
    {
     "data": {
      "application/vnd.jupyter.widget-view+json": {
       "model_id": "ed53b6d6e1244fa19948c7e222f552d8",
       "version_major": 2,
       "version_minor": 0
      },
      "text/plain": [
       "Generate report structure:   0%|          | 0/1 [00:00<?, ?it/s]"
      ]
     },
     "metadata": {},
     "output_type": "display_data"
    },
    {
     "data": {
      "application/vnd.jupyter.widget-view+json": {
       "model_id": "4a2c61a4e2c44164bf4b1ed453f6c9e2",
       "version_major": 2,
       "version_minor": 0
      },
      "text/plain": [
       "Render HTML:   0%|          | 0/1 [00:00<?, ?it/s]"
      ]
     },
     "metadata": {},
     "output_type": "display_data"
    },
    {
     "data": {
      "application/vnd.jupyter.widget-view+json": {
       "model_id": "b0418791ef1e4ba78cc8de22411cf9f6",
       "version_major": 2,
       "version_minor": 0
      },
      "text/plain": [
       "Export report to file:   0%|          | 0/1 [00:00<?, ?it/s]"
      ]
     },
     "metadata": {},
     "output_type": "display_data"
    },
    {
     "data": {
      "text/plain": [
       "'/home/jovyan/code/data/testHistory.csv.gzprofile-testHistory.csv.html'"
      ]
     },
     "execution_count": 30,
     "metadata": {},
     "output_type": "execute_result"
    }
   ],
   "source": [
    "# testHistory.csv\n",
    "profile_report_file = data_dir_testHistory + 'profile-' + profile_title_testHistory + '.html'\n",
    "profile_report.to_file(Path(profile_report_file))\n",
    "profile_report_file"
   ]
  },
  {
   "cell_type": "code",
   "execution_count": null,
   "id": "50be8a3a",
   "metadata": {},
   "outputs": [],
   "source": [
    "# trainHistory.csv\n",
    "profile_title_trainHistory = 'trainHistory.csv'\n",
    "\n",
    "profile_report = ProfileReport(\n",
    "    df_trainHistory.toPandas(),\n",
    "    title=profile_title_trainHistory,\n",
    "    infer_dtypes=False,\n",
    "    interactions=None,\n",
    "    missing_diagrams=None,\n",
    "    correlations={\n",
    "        \"auto\": {\"calculate\": False},\n",
    "        \"pearson\": {\"calculate\": False},\n",
    "        \"spearman\": {\"calculate\": False},\n",
    "    },\n",
    ")"
   ]
  },
  {
   "cell_type": "code",
   "execution_count": 33,
   "id": "11923e76",
   "metadata": {},
   "outputs": [
    {
     "data": {
      "application/vnd.jupyter.widget-view+json": {
       "model_id": "4a5a0c74e00a47ab80ccb0f5344e6ec0",
       "version_major": 2,
       "version_minor": 0
      },
      "text/plain": [
       "Export report to file:   0%|          | 0/1 [00:00<?, ?it/s]"
      ]
     },
     "metadata": {},
     "output_type": "display_data"
    },
    {
     "data": {
      "text/plain": [
       "'/home/jovyan/code/data/trainHistory.csv.gzprofile-trainHistory.csv.html'"
      ]
     },
     "execution_count": 33,
     "metadata": {},
     "output_type": "execute_result"
    }
   ],
   "source": [
    "# trainHistory.csv\n",
    "profile_report_file = data_dir_trainHistory + 'profile-' + profile_title_trainHistory + '.html'\n",
    "profile_report.to_file(Path(profile_report_file))\n",
    "profile_report_file"
   ]
  },
  {
   "cell_type": "code",
   "execution_count": null,
   "id": "5e529d98",
   "metadata": {},
   "outputs": [],
   "source": [
    "# transactions.csv\n",
    "from ydata_profiling import ProfileReport\n",
    "\n",
    "profile_title_transactions = 'transactions.csv'\n",
    "\n",
    "profile_report = ProfileReport(\n",
    "    df_transactions.toPandas(),\n",
    "    title=profile_title_transactions,\n",
    "    infer_dtypes=False,\n",
    "    interactions=None,\n",
    "    missing_diagrams=None,\n",
    "    correlations={\n",
    "        \"auto\": {\"calculate\": False},\n",
    "        \"pearson\": {\"calculate\": False},\n",
    "        \"spearman\": {\"calculate\": False},\n",
    "    },\n",
    ")"
   ]
  },
  {
   "cell_type": "code",
   "execution_count": null,
   "id": "c0d0baba",
   "metadata": {},
   "outputs": [],
   "source": [
    "# transactions.csv\n",
    "profile_report_file = data_dir_transactions + 'profile-' + profile_title_transactions + '.html'\n",
    "profile_report.to_file(Path(profile_report_file))\n",
    "profile_report_file"
   ]
  },
  {
   "cell_type": "markdown",
   "id": "61aeb44a",
   "metadata": {},
   "source": [
    "# 3. Data Joining"
   ]
  },
  {
   "cell_type": "code",
   "execution_count": 34,
   "id": "a6615caf",
   "metadata": {},
   "outputs": [
    {
     "name": "stdout",
     "output_type": "stream",
     "text": [
      "+-------+--------+-----+------+----------+--------+--------+----------+----------+-----+\n",
      "|  offer|      id|chain|market| offerdate|category|quantity|   company|offervalue|brand|\n",
      "+-------+--------+-----+------+----------+--------+--------+----------+----------+-----+\n",
      "|1219903|12262064|   95|    39|2013-06-27|     799|       1|1076211171|       1.5|17286|\n",
      "|1221658|12277270|   95|    39|2013-06-23|    7205|       2| 103700030|       3.0| 4294|\n",
      "|1213242|12332190|   95|    39|2013-06-15|    5824|       1| 105190050|       2.0|26456|\n",
      "|1221665|12524696|    4|     1|2013-06-20|    7205|       1| 103700030|       1.5| 4294|\n",
      "|1221658|13074629|   14|     8|2013-06-21|    7205|       2| 103700030|       3.0| 4294|\n",
      "|1221658|13387341|   14|     8|2013-06-22|    7205|       2| 103700030|       3.0| 4294|\n",
      "|1203439|13501141|    4|     1|2013-05-13|    5122|       1| 107106878|       1.5|17311|\n",
      "|1203439|13558712|   15|     9|2013-05-12|    5122|       1| 107106878|       1.5|17311|\n",
      "|1221665|13563017|   14|     8|2013-06-24|    7205|       1| 103700030|       1.5| 4294|\n",
      "|1221665|13584134|   14|     8|2013-06-27|    7205|       1| 103700030|       1.5| 4294|\n",
      "+-------+--------+-----+------+----------+--------+--------+----------+----------+-----+\n",
      "only showing top 10 rows\n",
      "\n",
      "df_offers_and_testHistory - number of rows: 151484\n",
      "root\n",
      " |-- offer: integer (nullable = true)\n",
      " |-- id: long (nullable = true)\n",
      " |-- chain: integer (nullable = true)\n",
      " |-- market: integer (nullable = true)\n",
      " |-- offerdate: date (nullable = true)\n",
      " |-- category: integer (nullable = true)\n",
      " |-- quantity: integer (nullable = true)\n",
      " |-- company: integer (nullable = true)\n",
      " |-- offervalue: double (nullable = true)\n",
      " |-- brand: integer (nullable = true)\n",
      "\n"
     ]
    }
   ],
   "source": [
    "df_offers_and_testHistory = df_testHistory.join(\n",
    "    df_offers,\n",
    "    on=\"offer\",\n",
    "    how='left'\n",
    ")\n",
    "df_offers_and_testHistory.show(10)\n",
    "print(f'df_offers_and_testHistory - number of rows: {df_offers_and_testHistory.count()}')\n",
    "df_offers_and_testHistory.printSchema()"
   ]
  },
  {
   "cell_type": "code",
   "execution_count": null,
   "id": "0bc15b25",
   "metadata": {},
   "outputs": [],
   "source": []
  }
 ],
 "metadata": {
  "kernelspec": {
   "display_name": "vscode_pyspark",
   "language": "python",
   "name": "vscode_pyspark"
  },
  "language_info": {
   "codemirror_mode": {
    "name": "ipython",
    "version": 3
   },
   "file_extension": ".py",
   "mimetype": "text/x-python",
   "name": "python",
   "nbconvert_exporter": "python",
   "pygments_lexer": "ipython3",
   "version": "3.11.11"
  }
 },
 "nbformat": 4,
 "nbformat_minor": 5
}
