{
 "cells": [
  {
   "cell_type": "markdown",
   "id": "a45cf806",
   "metadata": {},
   "source": [
    "# Feature Engineering"
   ]
  },
  {
   "cell_type": "code",
   "execution_count": 1,
   "id": "538efa32",
   "metadata": {},
   "outputs": [],
   "source": [
    "# Basic imports\n",
    "\n",
    "import json\n",
    "from pathlib import Path\n",
    "import pyspark\n",
    "from pyspark.sql import SparkSession\n",
    "import pyspark.sql.functions as F\n",
    "from dotenv import load_dotenv\n",
    "load_dotenv('.env')\n",
    "import os\n",
    "import plotly.graph_objects as go\n",
    "\n",
    "from dotenv import load_dotenv\n",
    "import os\n",
    "from pyspark.sql.functions import col, count, sum, avg, min, datediff, to_date\n",
    "from pyspark.sql.functions import lag, datediff, avg\n",
    "from pyspark.sql.window import Window\n",
    "from pyspark.sql.functions import count, sum, avg, min, datediff, to_date\n",
    "from pyspark.sql.functions import col, count, sum, avg, min, datediff, to_date\n",
    "from pyspark.sql.functions import countDistinct\n",
    "\n"
   ]
  },
  {
   "cell_type": "code",
   "execution_count": 2,
   "id": "7fdfa30c",
   "metadata": {},
   "outputs": [],
   "source": [
    "# Build SparkSession\n",
    "spark = SparkSession.builder.appName(\"DataPreparation\").getOrCreate()\n",
    "base_path = os.getenv('BASE_PATH')"
   ]
  },
  {
   "cell_type": "code",
   "execution_count": 3,
   "id": "68c033ba",
   "metadata": {},
   "outputs": [],
   "source": [
    "# Reading data - offers.csv\n",
    "df_offers = spark.read.csv(\n",
    "        f\"{base_path}/offers.csv.gz\", \n",
    "        header=True, sep=',', inferSchema=True\n",
    "    )"
   ]
  },
  {
   "cell_type": "code",
   "execution_count": null,
   "id": "aa67a67d",
   "metadata": {},
   "outputs": [],
   "source": [
    "df_transactions = spark.read.csv(\n",
    "    f\"{base_path}/transactions.csv.gz\", \n",
    "    header=True, sep=',', inferSchema=True\n",
    ").sample(fraction=0.001, seed=42).limit(1000000)"
   ]
  },
  {
   "cell_type": "code",
   "execution_count": null,
   "id": "0b8b0548",
   "metadata": {},
   "outputs": [
    {
     "ename": "AnalysisException",
     "evalue": "[PATH_NOT_FOUND] Path does not exist: file:/home/jovyan/code/data/improved/transactions_sample.csv.",
     "output_type": "error",
     "traceback": [
      "\u001b[0;31m---------------------------------------------------------------------------\u001b[0m",
      "\u001b[0;31mAnalysisException\u001b[0m                         Traceback (most recent call last)",
      "Cell \u001b[0;32mIn[8], line 1\u001b[0m\n\u001b[0;32m----> 1\u001b[0m df_transactions_sample \u001b[38;5;241m=\u001b[39m \u001b[43mspark\u001b[49m\u001b[38;5;241;43m.\u001b[39;49m\u001b[43mread\u001b[49m\u001b[38;5;241;43m.\u001b[39;49m\u001b[43mcsv\u001b[49m\u001b[43m(\u001b[49m\n\u001b[1;32m      2\u001b[0m \u001b[43m    \u001b[49m\u001b[38;5;124;43mf\u001b[39;49m\u001b[38;5;124;43m\"\u001b[39;49m\u001b[38;5;132;43;01m{\u001b[39;49;00m\u001b[43mbase_path\u001b[49m\u001b[38;5;132;43;01m}\u001b[39;49;00m\u001b[38;5;124;43m/improved/transactions_sample.csv\u001b[39;49m\u001b[38;5;124;43m\"\u001b[39;49m\u001b[43m,\u001b[49m\u001b[43m \u001b[49m\n\u001b[1;32m      3\u001b[0m \u001b[43m    \u001b[49m\u001b[43mheader\u001b[49m\u001b[38;5;241;43m=\u001b[39;49m\u001b[38;5;28;43;01mTrue\u001b[39;49;00m\u001b[43m,\u001b[49m\u001b[43m \u001b[49m\u001b[43msep\u001b[49m\u001b[38;5;241;43m=\u001b[39;49m\u001b[38;5;124;43m'\u001b[39;49m\u001b[38;5;124;43m,\u001b[39;49m\u001b[38;5;124;43m'\u001b[39;49m\u001b[43m,\u001b[49m\u001b[43m \u001b[49m\u001b[43minferSchema\u001b[49m\u001b[38;5;241;43m=\u001b[39;49m\u001b[38;5;28;43;01mFalse\u001b[39;49;00m\n\u001b[1;32m      4\u001b[0m \u001b[43m)\u001b[49m\n",
      "File \u001b[0;32m/opt/conda/envs/vscode_pyspark/lib/python3.11/site-packages/pyspark/sql/readwriter.py:740\u001b[0m, in \u001b[0;36mDataFrameReader.csv\u001b[0;34m(self, path, schema, sep, encoding, quote, escape, comment, header, inferSchema, ignoreLeadingWhiteSpace, ignoreTrailingWhiteSpace, nullValue, nanValue, positiveInf, negativeInf, dateFormat, timestampFormat, maxColumns, maxCharsPerColumn, maxMalformedLogPerPartition, mode, columnNameOfCorruptRecord, multiLine, charToEscapeQuoteEscaping, samplingRatio, enforceSchema, emptyValue, locale, lineSep, pathGlobFilter, recursiveFileLookup, modifiedBefore, modifiedAfter, unescapedQuoteHandling)\u001b[0m\n\u001b[1;32m    738\u001b[0m \u001b[38;5;28;01mif\u001b[39;00m \u001b[38;5;28mtype\u001b[39m(path) \u001b[38;5;241m==\u001b[39m \u001b[38;5;28mlist\u001b[39m:\n\u001b[1;32m    739\u001b[0m     \u001b[38;5;28;01massert\u001b[39;00m \u001b[38;5;28mself\u001b[39m\u001b[38;5;241m.\u001b[39m_spark\u001b[38;5;241m.\u001b[39m_sc\u001b[38;5;241m.\u001b[39m_jvm \u001b[38;5;129;01mis\u001b[39;00m \u001b[38;5;129;01mnot\u001b[39;00m \u001b[38;5;28;01mNone\u001b[39;00m\n\u001b[0;32m--> 740\u001b[0m     \u001b[38;5;28;01mreturn\u001b[39;00m \u001b[38;5;28mself\u001b[39m\u001b[38;5;241m.\u001b[39m_df(\u001b[38;5;28;43mself\u001b[39;49m\u001b[38;5;241;43m.\u001b[39;49m\u001b[43m_jreader\u001b[49m\u001b[38;5;241;43m.\u001b[39;49m\u001b[43mcsv\u001b[49m\u001b[43m(\u001b[49m\u001b[38;5;28;43mself\u001b[39;49m\u001b[38;5;241;43m.\u001b[39;49m\u001b[43m_spark\u001b[49m\u001b[38;5;241;43m.\u001b[39;49m\u001b[43m_sc\u001b[49m\u001b[38;5;241;43m.\u001b[39;49m\u001b[43m_jvm\u001b[49m\u001b[38;5;241;43m.\u001b[39;49m\u001b[43mPythonUtils\u001b[49m\u001b[38;5;241;43m.\u001b[39;49m\u001b[43mtoSeq\u001b[49m\u001b[43m(\u001b[49m\u001b[43mpath\u001b[49m\u001b[43m)\u001b[49m\u001b[43m)\u001b[49m)\n\u001b[1;32m    741\u001b[0m \u001b[38;5;28;01melif\u001b[39;00m \u001b[38;5;28misinstance\u001b[39m(path, RDD):\n\u001b[1;32m    743\u001b[0m     \u001b[38;5;28;01mdef\u001b[39;00m\u001b[38;5;250m \u001b[39m\u001b[38;5;21mfunc\u001b[39m(iterator):\n",
      "File \u001b[0;32m/opt/conda/envs/vscode_pyspark/lib/python3.11/site-packages/py4j/java_gateway.py:1322\u001b[0m, in \u001b[0;36mJavaMember.__call__\u001b[0;34m(self, *args)\u001b[0m\n\u001b[1;32m   1316\u001b[0m command \u001b[38;5;241m=\u001b[39m proto\u001b[38;5;241m.\u001b[39mCALL_COMMAND_NAME \u001b[38;5;241m+\u001b[39m\\\n\u001b[1;32m   1317\u001b[0m     \u001b[38;5;28mself\u001b[39m\u001b[38;5;241m.\u001b[39mcommand_header \u001b[38;5;241m+\u001b[39m\\\n\u001b[1;32m   1318\u001b[0m     args_command \u001b[38;5;241m+\u001b[39m\\\n\u001b[1;32m   1319\u001b[0m     proto\u001b[38;5;241m.\u001b[39mEND_COMMAND_PART\n\u001b[1;32m   1321\u001b[0m answer \u001b[38;5;241m=\u001b[39m \u001b[38;5;28mself\u001b[39m\u001b[38;5;241m.\u001b[39mgateway_client\u001b[38;5;241m.\u001b[39msend_command(command)\n\u001b[0;32m-> 1322\u001b[0m return_value \u001b[38;5;241m=\u001b[39m \u001b[43mget_return_value\u001b[49m\u001b[43m(\u001b[49m\n\u001b[1;32m   1323\u001b[0m \u001b[43m    \u001b[49m\u001b[43manswer\u001b[49m\u001b[43m,\u001b[49m\u001b[43m \u001b[49m\u001b[38;5;28;43mself\u001b[39;49m\u001b[38;5;241;43m.\u001b[39;49m\u001b[43mgateway_client\u001b[49m\u001b[43m,\u001b[49m\u001b[43m \u001b[49m\u001b[38;5;28;43mself\u001b[39;49m\u001b[38;5;241;43m.\u001b[39;49m\u001b[43mtarget_id\u001b[49m\u001b[43m,\u001b[49m\u001b[43m \u001b[49m\u001b[38;5;28;43mself\u001b[39;49m\u001b[38;5;241;43m.\u001b[39;49m\u001b[43mname\u001b[49m\u001b[43m)\u001b[49m\n\u001b[1;32m   1325\u001b[0m \u001b[38;5;28;01mfor\u001b[39;00m temp_arg \u001b[38;5;129;01min\u001b[39;00m temp_args:\n\u001b[1;32m   1326\u001b[0m     \u001b[38;5;28;01mif\u001b[39;00m \u001b[38;5;28mhasattr\u001b[39m(temp_arg, \u001b[38;5;124m\"\u001b[39m\u001b[38;5;124m_detach\u001b[39m\u001b[38;5;124m\"\u001b[39m):\n",
      "File \u001b[0;32m/opt/conda/envs/vscode_pyspark/lib/python3.11/site-packages/pyspark/errors/exceptions/captured.py:185\u001b[0m, in \u001b[0;36mcapture_sql_exception.<locals>.deco\u001b[0;34m(*a, **kw)\u001b[0m\n\u001b[1;32m    181\u001b[0m converted \u001b[38;5;241m=\u001b[39m convert_exception(e\u001b[38;5;241m.\u001b[39mjava_exception)\n\u001b[1;32m    182\u001b[0m \u001b[38;5;28;01mif\u001b[39;00m \u001b[38;5;129;01mnot\u001b[39;00m \u001b[38;5;28misinstance\u001b[39m(converted, UnknownException):\n\u001b[1;32m    183\u001b[0m     \u001b[38;5;66;03m# Hide where the exception came from that shows a non-Pythonic\u001b[39;00m\n\u001b[1;32m    184\u001b[0m     \u001b[38;5;66;03m# JVM exception message.\u001b[39;00m\n\u001b[0;32m--> 185\u001b[0m     \u001b[38;5;28;01mraise\u001b[39;00m converted \u001b[38;5;28;01mfrom\u001b[39;00m\u001b[38;5;250m \u001b[39m\u001b[38;5;28;01mNone\u001b[39;00m\n\u001b[1;32m    186\u001b[0m \u001b[38;5;28;01melse\u001b[39;00m:\n\u001b[1;32m    187\u001b[0m     \u001b[38;5;28;01mraise\u001b[39;00m\n",
      "\u001b[0;31mAnalysisException\u001b[0m: [PATH_NOT_FOUND] Path does not exist: file:/home/jovyan/code/data/improved/transactions_sample.csv."
     ]
    }
   ],
   "source": [
    "df_transactions_sample = spark.read.csv(\n",
    "    f\"{base_path}/improved/transactions_sample.csv\", \n",
    "    header=True, sep=',', inferSchema=True\n",
    ")"
   ]
  },
  {
   "cell_type": "code",
   "execution_count": null,
   "id": "ff96f4c7",
   "metadata": {},
   "outputs": [],
   "source": [
    "# Reading data - trainHistory.csv\n",
    "df_trainHistory = spark.read.csv(\n",
    "        f\"{base_path}/trainHistory.csv.gz\", \n",
    "        header=True, sep=',', inferSchema=True\n",
    "    )"
   ]
  },
  {
   "cell_type": "code",
   "execution_count": null,
   "id": "0c52eaee",
   "metadata": {},
   "outputs": [],
   "source": [
    "df_customer_features = spark.read.csv(\n",
    "    f\"{base_path}/improved/customer_features.csv\", \n",
    "    header=True, sep=',', inferSchema=True\n",
    ")"
   ]
  },
  {
   "cell_type": "markdown",
   "id": "e348b47b",
   "metadata": {},
   "source": [
    "Para além do customer_features esta feature engineering serve para adicionar mais features a essa tabela."
   ]
  },
  {
   "cell_type": "code",
   "execution_count": null,
   "id": "e0790032",
   "metadata": {},
   "outputs": [],
   "source": [
    "df_transactions = df_transactions.withColumnRenamed(\"category\", \"trans_category\") \\\n",
    "                                .withColumnRenamed(\"company\", \"trans_company\") \\\n",
    "                                .withColumnRenamed(\"brand\", \"trans_brand\")\n",
    "\n",
    "## Se for preciso aqui usar a correlação que tinhas feito antes para dizer que \n",
    "## a brand e o company não são relevantes para o repeater\n",
    "df_offer_transactions = df_transactions.join(\n",
    "    df_offers.select(\"offer\", \"category\"),\n",
    "    (df_transactions.trans_category == df_offers.category),\n",
    "    \"inner\"\n",
    ").join(\n",
    "    df_trainHistory.select(\"id\", \"chain\", \"offer\", \"offerdate\"),\n",
    "    [\"id\", \"offer\", \"chain\"],  # Join on id, offer, and chain to avoid ambiguity\n",
    "    \"inner\"\n",
    ").filter(\n",
    "    to_date(\"date\") <= to_date(\"offerdate\")\n",
    ")\n",
    "\n",
    "# Step 4: Aggregate offer-specific features\n",
    "offer_features = df_offer_transactions.groupBy(\"id\").agg(\n",
    "    count(\"*\").alias(\"offer_purchase_count\"),\n",
    "    sum(\"purchaseamount\").alias(\"offer_total_spent\"),\n",
    "    avg(\"purchaseamount\").alias(\"offer_avg_spent\"),\n",
    "    min(datediff(to_date(\"offerdate\"), to_date(\"date\"))).alias(\"days_since_last_offer_purchase\")\n",
    ")\n",
    "\n",
    "# Step 5: Join with existing customer features\n",
    "df_customer_features = df_customer_features.join(\n",
    "    offer_features,\n",
    "    \"id\",\n",
    "    \"left\"\n",
    ").na.fill(0)  # Fill nulls for customers with no offer-related transactions"
   ]
  },
  {
   "cell_type": "code",
   "execution_count": null,
   "id": "8cb582e8",
   "metadata": {},
   "outputs": [],
   "source": [
    "window_spec = Window.partitionBy(\"id\").orderBy(\"date\")\n",
    "trans_with_diff = df_transactions.withColumn(\n",
    "    \"prev_date\",\n",
    "    lag(\"date\").over(window_spec)\n",
    ").withColumn(\n",
    "    \"days_diff\",\n",
    "    datediff(to_date(col(\"date\")), to_date(col(\"prev_date\")))\n",
    ")\n",
    "\n",
    "freq_features = trans_with_diff.groupBy(\"id\").agg(\n",
    "    avg(\"days_diff\").alias(\"avg_days_between_purchases\")\n",
    ")\n",
    "df_customer_features = df_customer_features.join(\n",
    "    freq_features,\n",
    "    \"id\",\n",
    "    \"left\"\n",
    ").na.fill(999)"
   ]
  },
  {
   "cell_type": "code",
   "execution_count": null,
   "id": "cf87c92d",
   "metadata": {},
   "outputs": [],
   "source": [
    "offer_value = df_trainHistory.select(\"id\", \"offer\").join(\n",
    "    df_offers.select(\"offer\", \"offervalue\"),\n",
    "    \"offer\"\n",
    ")\n",
    "df_customer_features = df_customer_features.join(\n",
    "    offer_value.select(\"id\", \"offervalue\"),\n",
    "    \"id\",\n",
    "    \"left\"\n",
    ").withColumn(\n",
    "    \"offer_value_per_transaction\",\n",
    "    col(\"offervalue\") / col(\"offer_purchase_count\")\n",
    ").na.fill(0)"
   ]
  },
  {
   "cell_type": "code",
   "execution_count": null,
   "id": "b01fd78f",
   "metadata": {},
   "outputs": [],
   "source": [
    "chain_features = df_transactions.groupBy(\"id\").agg(\n",
    "    countDistinct(\"chain\").alias(\"unique_chains\")\n",
    ")\n",
    "df_customer_features = df_customer_features.join(\n",
    "    chain_features,\n",
    "    \"id\",\n",
    "    \"left\"\n",
    ").na.fill(0)"
   ]
  },
  {
   "cell_type": "code",
   "execution_count": null,
   "id": "1f2323ac",
   "metadata": {},
   "outputs": [
    {
     "name": "stdout",
     "output_type": "stream",
     "text": [
      "+-------+------------------+---------------------+--------------------+--------------------+--------------------------+---------------------------+\n",
      "|summary|unique_chains     |offer_purchase_count |offer_total_spent   |offer_avg_spent     |avg_days_between_purchases|offer_value_per_transaction|\n",
      "+-------+------------------+---------------------+--------------------+--------------------+--------------------------+---------------------------+\n",
      "|count  |311541            |311541               |311541              |311541              |311541                    |311541                     |\n",
      "|mean   |0.5538693141512674|0.0029017047515415306|0.014571918302887791|0.013192694082457313|762.6616668467402         |0.0029271714752518246      |\n",
      "|stddev |0.4970968817692563|0.06058118879316296  |0.47635459796674195 |0.3207507011622313  |392.6921829827085         |0.05757790593524346        |\n",
      "|min    |0                 |0                    |-1.09               |-1.09               |0.0                       |0.0                        |\n",
      "|25%    |0                 |0                    |0.0                 |0.0                 |274.0                     |0.0                        |\n",
      "|50%    |1                 |0                    |0.0                 |0.0                 |999.0                     |0.0                        |\n",
      "|75%    |1                 |0                    |0.0                 |0.0                 |999.0                     |0.0                        |\n",
      "|max    |2                 |8                    |167.03999999999996  |32.94               |999.0                     |3.0                        |\n",
      "+-------+------------------+---------------------+--------------------+--------------------+--------------------------+---------------------------+\n",
      "\n"
     ]
    }
   ],
   "source": [
    "df_customer_features.select(\"unique_chains\", \"offer_purchase_count\", \"offer_total_spent\", \"offer_avg_spent\",\n",
    "                            \"avg_days_between_purchases\", \"offer_value_per_transaction\").summary().show(truncate=False)"
   ]
  },
  {
   "cell_type": "code",
   "execution_count": null,
   "id": "99cbdb45",
   "metadata": {},
   "outputs": [
    {
     "name": "stdout",
     "output_type": "stream",
     "text": [
      "root\n",
      " |-- id: long (nullable = true)\n",
      " |-- total_transactions: integer (nullable = true)\n",
      " |-- total_spent: double (nullable = false)\n",
      " |-- avg_spent: double (nullable = false)\n",
      " |-- first_purchase: date (nullable = true)\n",
      " |-- last_purchase: date (nullable = true)\n",
      " |-- unique_categories: integer (nullable = true)\n",
      " |-- unique_products: integer (nullable = true)\n",
      " |-- offer_purchase_count: long (nullable = true)\n",
      " |-- offer_total_spent: double (nullable = false)\n",
      " |-- offer_avg_spent: double (nullable = false)\n",
      " |-- days_since_last_offer_purchase: integer (nullable = true)\n",
      " |-- avg_days_between_purchases: double (nullable = false)\n",
      " |-- offervalue: double (nullable = false)\n",
      " |-- offer_value_per_transaction: double (nullable = false)\n",
      " |-- unique_chains: long (nullable = true)\n",
      "\n"
     ]
    }
   ],
   "source": [
    "df_customer_features.printSchema()\n",
    "\n",
    "# Save the improved customer features DataFrame to CSV and Parquet formats\n",
    "df_customer_features.write.csv(\n",
    "    f\"{base_path}/improved/customer_features_improved.csv\",\n",
    "    header=True,\n",
    "    mode=\"overwrite\"\n",
    ")\n",
    "\n",
    "df_customer_features.write.parquet(\n",
    "    f\"{base_path}/parquet/customer_features_improved.parquet\",\n",
    "    mode=\"overwrite\"\n",
    ")"
   ]
  }
 ],
 "metadata": {
  "kernelspec": {
   "display_name": "vscode_pyspark",
   "language": "python",
   "name": "vscode_pyspark"
  },
  "language_info": {
   "codemirror_mode": {
    "name": "ipython",
    "version": 3
   },
   "file_extension": ".py",
   "mimetype": "text/x-python",
   "name": "python",
   "nbconvert_exporter": "python",
   "pygments_lexer": "ipython3",
   "version": "3.11.11"
  }
 },
 "nbformat": 4,
 "nbformat_minor": 5
}
