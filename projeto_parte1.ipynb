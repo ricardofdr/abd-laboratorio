{
 "cells": [
  {
   "cell_type": "markdown",
   "id": "bb9dbb25",
   "metadata": {},
   "source": [
    "# 1. Data Validation"
   ]
  },
  {
   "cell_type": "code",
   "execution_count": null,
   "id": "ee68e411",
   "metadata": {},
   "outputs": [],
   "source": [
    "# Basic imports\n",
    "\n",
    "import json\n",
    "from pathlib import Path\n",
    "import pyspark\n",
    "from pyspark.sql import SparkSession\n",
    "import pyspark.sql.functions as F\n",
    "from dotenv import load_dotenv\n",
    "load_dotenv('.env')\n",
    "import os\n",
    "import plotly.graph_objects as go\n",
    "\n",
    "from dotenv import load_dotenv\n",
    "import os\n"
   ]
  },
  {
   "cell_type": "code",
   "execution_count": 15,
   "id": "4e06ac47",
   "metadata": {},
   "outputs": [],
   "source": [
    "# Build SparkSession\n",
    "spark = SparkSession.builder.appName(\"DataPreparation\").getOrCreate()\n",
    "base_path = os.getenv('BASE_PATH')\n",
    "\n"
   ]
  },
  {
   "cell_type": "markdown",
   "id": "0b1fb34b",
   "metadata": {},
   "source": [
    "## Data Ingestion"
   ]
  },
  {
   "cell_type": "code",
   "execution_count": 16,
   "id": "46511308",
   "metadata": {},
   "outputs": [
    {
     "name": "stdout",
     "output_type": "stream",
     "text": [
      "�}ES\u0002\u0003offers.csv\u0000���n�0\f\u0005��=\u000bQ�����u�0`K� \u001d�������\u0002��Y\u0012)�^__��|��|?�����p���\\������x���=�|{������\u0017�fW�\u0016q\u0012\u0012.g�brjm�\u0015\u0018�Q7�\u0000)��u\u001d�X�t\u0006)XG\u001e&fa�O�$j9�(���׶\u0007#A��䜘\u0002�Bw��\n",
      ",\u001a\u001ed�2�\u000b3;�b4[&�\u0007\u0000̞E��\u001ff�l<�Ȉ���D�\"\u0010\u001f\u0004�\u0011�\u0013#u�\u0007��V҃��Y�@���ʎ��W;XKU�C�6�\u0000��\u001c�5j�T���g��̛�ܮA�U=@AV0',%�W\u0011��M�=Sp!��^�����9�{�h�Ȭ��o�F#F�|l�W�Yխ�X���\u001d#\n",
      "fʥ�+}�p��<��\u0001�����B!�Q\u0011�E\"��p�2M�^�*0K�c�\u0002����\u0016��@@�4��e�I�Tb�����A�\u001e�Kˆ��ч�ˡɿl��PH�Υ���,�6\u001d�Yoe0�d�����\u000b4�}�\u0014��۰��c���\u0014�Z�2+�]�v�t���\u0001���l��\u0018��#9�^�\u0015G���H��2�,-\t��1{FGJ���\u0000�:�U.j)��?��\u00168z��2\u001d�:�`l�A��R\u000ez�t\u0015���>tXw��r:u�q��ݢq\fS�2�\u0000�9\u0004�,�\u0019�VF.�\u0019�RQ��Y�^6Ȟ\u000f\u0003f��Mf���\\�Y'����2\u001b�\u0002�\u001aud��#�����\"���0}B����Y��\n",
      "��%Q�Y*Չ\u000f���j�H\"����\u0011>s,w*�c�,e���+\u0000�=\u0016�<��X�b��I�\u001f�\u0007XV\u0016\u001e\u0019��Q�����:�5s��\u0016��P��exw�1ǕG����1�L����h;����êʗf�exG����V�5�\u0003X-%8�8�=�I/��@�!���\\��aK/Q86���4�&:�dt�,�ɹ�5��]�v�\tIX���l�.��b-C֭c{��L,+h��\u0000����9������\u0002;��\f;���c��\u001f۸w\u000b��Y�'3�\u0011�1����B\u001fm��\u001e�:N�Ē\t�/\u0005���\u0010�\u001e\u0015G�A-�0>ˁYƑ��\u000f�ٌK7�9f\u0013<V�-Is̲�:���\u001c��:���\n",
      "�\u0014�ޱ���1��c!|\u0003�YM\u001e\u00135X\u001a:��\u0016�:��ޚƼէ#c\u0019ff���\\����F��r��؆��Q�z$-�m��ģ�w=*�s���x��^R`ײ\u0005痍��E\u001c3lx$��X���\u0013q�T\u001ec&Z�Lw�c�-�\u0005��1�+\u001f9�%��yl��\u0005K\u001c�r��5�cu�2-�#�\u001d�}9��$Q˩\u0018�c\u0005ET.M]�e���(\u0002��*�-)\u0013�Q\u0013u�\u0010z�\u0014₞��!�.��YZ,�&���~�Rr�\u000fVˊL�1\u0001^��\t[���,g,\u001b\u001f[B�:S�m\u0003\u0010:�6Y�\fkD\u001e�t;�U\\P�8�*�ؕ�L.\u0005�r�d�8bI\u001f�q����<�\u0013\u0017T�\u0018˖��\u001c\"��-SL�2 p�>�\\f�Xˊn���V���P�q�v����X]�e \u001c�f6C�B�zIs�zL}ׂ\"�mف��$���>\u001440\u001e�y�,B�e��1�q�ײ,|�����F\f�h\u0015ԇ��n.�˙�=��\u001b�f\u0019逎��^f\u0014�Ga�X&�Z��C�̺`���¯\u001d+g�H��(7�2i1q�*���y+UJ[6���uq�\u0015\u0011\\N�����ҼM��*k\u001c�e�\u0018�YVT��\n",
      "i�#�\u0011K���c�e.ýQG��\u0006�\u001d�\u0013�$��R�\u0003�lc�,�\u0019�w\u001b%1����Ir�Bh�*&�\u001ck��LO|J�B���4\u001d\u0015��c�1�Π_0Y �5���\u0001�q\u001d\u0019l,�d/�\u0010dGeԭi��%}&�\u0018*��|��\u0002�vl������0𑕹4\fCKO�\\��m�,��\u001c�#,�c�eg�!�m\u001d\n",
      "D�\u0018͹6E�\u000b�eZpxl�`Y�d.\u0019>���n\u001b\u0018��\u001cKT\u001fg\u0010�L\u0012��\"�G�,�X>5G��e�ԗ\u001d�\u000bǇ\u000e1t�\u0018�\u001c�i�V���t������4n�\u0014C˶�c\u0017j\u0019H\u0015ri\u0019�X�ר�\u0011I��P>ת<UG\u0016�\t\u0011�0��YK�L��(\u000b�H����e�e͒�l\u001e���d��Aw�X1�\u001f\u0016\u001cB\u001e)�-to�\u001fC�Zf;e��t�h��K�G�ʽݏBg,�Ǻ�\n",
      "����9NF���C�jz�nV��.\u001dӻ�11xT�\u001f��c!��J�Q��[y�\u0019\"�X�9F��X>�GZב�=�a��`\u0019�\u0006��\u0000�ځ��B�u�dK\u0007f걺\u001fM��Ȫy$�\u001f\u001b��RQ��ţ\u001c�e�\u001f��\u001e'�}\u0019\u0018�����fzϱ��#���i�Q��G�cZz�Q�:z��\u0018�oP��l\u000f\u001c\u0019���h�r�G)\u0007�\u000e�\u000b�\u001d���\u0002ҾL��La��G�[?��ڀ����ǔ��5R|9�G��k�����VB�q�2�#��\u001a!�ǚ�c��H���tƣ��83s�E��2=��\u001e\u0019�cc��K!�8z\"��H\u001e�1��\u00158\u0012�x\f�:�\u0010��\u001e\u0019����\u001f=��F{���[���#������13�K\u0019�e\u000f��\u0013q�+xlO��\u0004#\u001eӈ�\t�r��/ɘ�e��΀\u001d�;�}��cY�\u001fS�ǎ/�1qT{��`�1L�8\u0004����RWV\u001f\u0003�9�%�Ht=����861/\u0018\u0001�:Z���6��(��V��8�9��#�8�j��/��X�|��>�lxd�_\n",
      "���/G��D��1�����cW�˞>\u0012��ʣ��S�8\u001d:�#��*�8Q��\u0000���i��\u0007MǴ`>��=N�ܭ\u001e��\u001f�ΣȎ�A�����\u001e;��+�i�~�j{,�\u0006U�z$�\u0005�\u001f{��\u0000��ppl�����q����ɥ\u0003n�c�(��\u0016�\u001d+���\u001f���#(\u0014�PtK�9����V\u0017ɫ�\u001d]\u0019!\u0001\u0012\fHY-[���\u001dK�����0�+��1\u0001��n��,�/�#��Y�ZZ\u0006͖��\u001f����\u0003��˩��\u0011��\u0019j[f�զqIe����KT�>v�|�\n",
      "\u0015��t�\u0019b�����\t���z\u0006|ְT���X�\u0018�9��s���a��ai]V\u001eg�q�]]�1 ��5kFZ�e����n�No�<�8���J�>#�6`�y�Yk�]�r�s�:�e\u0015�L�\u001a��uWe�9ٵV��ad��\u0004�a�s&��3�֌`�'<�(�>Q��l�s�n�h�zܔ�\u0011n�1�*��|���P��_\u0000���,|\u001d��3�s�l?��6�]��U���{�j�z�r�J���f�X{�}\u001d(�:\u0013�5����zZ�5s�=,\u0010\\g��3�g��3q�6�9x{�v�J�3\"k=j��i@�:]egzk]tκ-�������ۨ<�e����%�a�\\\u0017�Zw\t����\n",
      ">���s�u��Y;4�.�b�����g���3m=ɩ�*����t\u0004�\u000eˉ�S:���ɱ^��B��*;�p>�\n",
      "� �\u001c�my:V�&�i\u0005�3�� �NI��B�X�׊����\u0004�ˇ\u0002CFGˉ\u001e���\\ݍ3�\"�(y\u000bv�`�y6����=/b����aQ�e)���N��^��]��+\u0013�g�E�I���#rZޠ��<\\��=�պ�<Ì#c:��\u000b�YX���<�x^Rf��L�>owQ���O��Ξɑ��r�C��\u001c\u001ear9J^�\u0013\u001e�̔+ve�\"�lB\u0006Y�vߐ���^ʍjy< /PgƄ˕\u001c�`����ymdt�����ή�]u�h\u001b9�V���>v�l�\\H<O�<��9��@�k�}�[�Q����߾gr�S�{f�PF\fd��y#\u001cϴ�g��afir�A\u001e���]�𳔷�\u0007{=\u0015�3���S�9Ӕ8'��V�Y��,Cg�Uyݫ\u001b�A>���?�KY\u0019�\u0006�<Һ<��\"c��Ժ-��4�\u0015��d�sO̚��s7�VX�\u0019�s\u001e�gz|�2sw_�x�sۯ�\u0014��T��i��35gq��ar��ѹ�j=�:�:�,�Y\u0016�VD�\u0001>��\u001b`v&p�\n",
      "�.��\u0002\u0003testHistory.csv\u0000|�[�$5\f��YK!�r�c/\u0007q\u0001\u0012b�\"\u001e��\u000b�G�4��N������\u000f��?����\u001f?����o������\u001f����o�,M\u0012Wǥ����e�����!H��C�fԃ�C��������\t�C�!;/��\"\u000fxk�oԅH�K�Z�n@\u000f�E�.�\u001d D�\u0000#\u0017��k��V}�QT�4^@߀\n",
      "\u0019�+`��:\u0016�\u0007 \u0010\"׽E����B,��V��\n",
      "|\u00004���\u0014��\tPQ%�����\u0001�\u0015��^�ߧ��]Z�s��Kc\u0002h�/Ľě�\u001e�E\u001c_�p1���VG���Y9^\u001a�ᅐ\u0010�\u001b�z\u0007|\u0000��}\u0001�%\\�NJ�\u0000�\u0010��(}�1T�=�\u0001�t��\u0001\u001b_\\\u0019�p�K�J\u000b��8\u0000�|~��\u001ax�K\n",
      "�\u000b�\u0013\u001a��i�@\u001f�T\u000b���مC���5PR�%\t�\u00004���^9DzF|�n�ЦQk��\u0010\u0010�ȯ\u001d\u001aԤ]���]L���\u0013�+���#\u001bQ^\u0019��TT�E�e����1����(���n�G:�Rp�u�8�IE�\u0012X~�0�����5��,���'䪷��#Ǚa\u001a���\u0002�ն��Gζ*Y�\u000f\u0007��\u0014|\f�ɾ\u0012m+���C{\u0014�\u0012��R���A!c- E\u0005Ċ\u0003T�4��;��(��\u00154}��ߖ�n�\"Ip9F;����R�u\u0000\u0007�?:I9�̞@��\u0017<;^[��V�0\u0000\u0019�\u0014s?rG�b-��\u0014|I��\u0002�\u0017\u0018 ����\u000eO9���\u000fRF�$��\u0006���Hi�3�ߧ\u0002c�����=�L�R��`�2����\u0010�j}\u0007�3aLa��ְ��\u0003TK�\u0012�r�lq���0; �RK�\u001f��\u0018[��\u0002Н\\4�\u001b3���-'�\u0010�.p��!�m���ҁ'a�^���/�+C���<��nsK���\u0011�@\u001f���EํHI�6��\u0010E8���!\u0012���[7�G�\u0018=���\u0010����s\u001d\u0002!^��CK�ƖdV%~]T]z�E\u000e�\n",
      "����0$�m4\u0007�j�-�q�@�l��\u001c =�y�K��!����\u0017~�\u0006�\u0000Tq�I�T�ݛ!\")jۑ}!Bh�F�\u0010���\u0011�C�\n",
      "b�d�.W�:\u0000+Y�\u0015o��\u0012��\u001bRV��7�\u0012N��6\u001f�V�-RC���f�\u0001�B-��\u0001��{\u001boBA�ccF\t��\u0000��Ϡ\u0001�\u0010�\fHǗ&\u001a\u0011�Ō\u001dBՍ�h�\u0003��c\u0019�e�E~��k\t>̴(h��\u001fl�\u0016�Xf�QA�\t���\u0000\u001dV�F�5l\n",
      "\t�m/�v\u0014��.P\u0015�\\\u0003\\\u0006�B�ҎM\u000f�&%���p\u000b&wG\fQR��x��C��=y<���B3*�+�\u001b1�А-��\u0012^l\n",
      "שa�\n",
      "�~��a�ݞ\\��\u0002\"J�s�\u001eB��V�|�R�=���\u0007\u0003\"ck.8�S��=\u001b�\u0010e��qa�N@6bt����5\u001e\u0003g\u000f��e�\u001be?�T��\u00127\u001c�\u0011Q��1Du�>�\u0006(Y��\u0019\u000fQ�jK��\u0001���rf:@Q���\u001c�4s\u001f�#$ �\u001b�C�!��}�\u000b��[9�>�\u000b�t}\u0007\u001d�(�t�\u001c@���%C�ڰ܎9�\u000ek�|��#O��mO�\u0011\u0014���~�*���=������\u001f��\u0012{=�Ri믴�hQ��*��Wn\u001byB���<r~����4���7�G\u0003*%���2�.]�\u001f SMz�0K��J|ރ�\u0000�br�����V��w�\u0018�(�\u001f��l��]�����\u001c\u0010�n%\u0015D-�15r���;GвŗG\u0004�\u0001h\u001e[ۈ\u0003�FJ/�\u000e\u0000I���Te��&�]�!`\u0019�細#\u000f�N,S�\u000fp䔏�_��\u0011n��g.\u001f9�­x�\u0010�4�J9g��}kn��\u001c�}���$���}�)!}\n",
      ":��U�u@\u000f��.z��\u0017��$ʜ��8��x�^�*\f�\\J1\u0007�r�4\fP\n",
      "Y��`�h�\u00022^��\u0004��+�\u0014�쓎\u0019�]��|�2s���\u000e�\tZ�+���~M\u0015�s\u0003S^L� dH��N{���\u0002XT��b�p\u0001�g�M\u000e���F��\u0012�:U&��1ǐ�Ր3�Ҕ�\tVN=�\u0001�o&BQ��QuA��MMq��\u0010�}7���C��%��E���dA�l�������[6\u0014Tc�eR�\u0014ܱ(\u0003S�-Ov(\t��Rɒ�[��\u0011��37\u0005V��T�P.�8*����I%��7�fM5\u0016\u0014�V�0�-sWɛI������\u0000�\u0018����\u0018U\u0015塧>M]>�\\�\u0016��\u001c[��\f��]�S�bw�29�'��(Ƣ�<����R+�\u000e�\u0013�\n",
      "\u0011�i�V^TQ�\u000fJI3��5�SC(�!���L\u0000�\u0016\u0002;�ŰH���hS�8��O�F�qe�i\u0014ȗ��BtX,���B׸3P�v�8J��3Ӧ��\n",
      "����\u0002U�Oc:^�D\"4Y�\u001b\u0012�[-��\u000eWՔ�\u0011�m��P�\u0001�H�L\u0016�\u000f\\�����8!io�����]Ɖ�Մ�ƺ�\n",
      "�7��j�|��}Q�V9�p4\u0015�*srf�T���]�bJsuv\u0017� ���M9�m^P�\t�wC]L��֦��x��\\�6�\u000b\u0016��\u0013�M�!�hޔ\"4�2��[0%U\u0010\u0006��\u0016�*��\n",
      "�-���\u0001\u001b��\"Ru�wo�V8����*n�9\u0010��b�\\\\�R�[��ޘjLBsGKu�H\u001d\u001aC�/(����C��dD��\u000ff�w�+ti\u000b:%�]�\u000f{/�Ϝ�\u001dJ5c\u001e�����k�(�[}jQ %�۳�\u0016*\u0010Հ�cF@��y�\u0014D\u0004���t�/g��\u0004�Qu��n�\u001cEb�yh\u000b��\u0012\u0013��$\u000e��0�ւ��K�u��\u0005)I\tO�]C,�q\u0006N2bļR,*D�|��\u001b��֜\u000b��j�����X��x�����\u0002c�HN��\n",
      "�4��&K\u001f\u0014:�k*c;(��ԟ\u000f=��i��p7�\u001cl�xW�\u0014�05\u001b�\u000b ��w�q\u001b̴u��\u000fîu\u0019\u000ep\u0014�q�����G�u�{������\u0011�,o�5��Q��9*mS�K�;�\u00199!�y�\u0007c\u0017���\u001d\u0004�ko�]�)��(.�!&\"�\u0001\u001a��X\u0001�{���y��,��;������w(Ӳ!\u0015ѣе�����`!v΃�b��漟��6��4�<�(N?u��7\u0007k�Z\u001b\u0003hᵩ=\u000b=�Cy�\u000e��0�[(�n.&�yP��v>\u0007�W�6\u0007�\u0006�۱�d�\u0011ҳ\u001e�\u001a��\u0017Z���\\�V��V��AMz�Ҍ�a@K�<��W�}�����+����l���<�fd�\u0016�1U��1�\u0006,���8\u0003�i�P\u0005�����X��·�\u0019�\u0014��c�\f���_����%�Q3aiO���ƮlA�I��U���r\fCn��\u0003w'\u0019Κ����N\u0014\u001a�o\u0000cs���\u0013r\u0006�*�W�=e{��\n",
      "�\u0002꠰��\u0007\f\u001e\u0003�h��6#A�����H\u001d��\t[�ր\u001d��T2�\u001c��55������wZ��\u000em8*��\u001a4�~r�&�p��1�\n",
      "9e�m�Ku\u0010�����65�e�p\f+�j���&�\tb\u0007\u001f�ZZ��8��n��\u001e�\u0002Gu��zF0Gaˠ-a�P8�\u0018�T�x\u0010��'�\tx�N\u0000�n����.S�_?(:7�e\u0019\u0016�u�:�ۧD��_�浵���AiS�\u0010�i����k2\u00071զ�\u000e��m�\u0013�A�&dۈ��\u0005%v\u001f��V���Q��ߏk�\u000e\u001c\u0016\u0007���2��ٵr5�q\u0010fPG��Cm�ǖL�\u000e�a�\u000e?( �\n",
      "vLV��>�\u001c��9�I�\u00135�ٰYQ��A\u0018�x��0�\u0011�\u0018��䈫tP:�JM��V�V�\u0015�Q\u0005\u000fY�\u001e4���ߣ\u00109+��Al|�Q�z��=�\\�'\u001c\u0014�&_F\u001fT��3�4\u0002��� 2G��\u000e��*)�\u001e�-\u0013��1[h�7�A� ��~\u0007�O�a��\u0005�yA�y\u0004c�����A�Y#���\u0010\u001c\u0013a\n",
      "���!�[���a�\u0017%:�\u0006�XTY*�Y�/\u0003A���m.�v�G\u0016��U��H���\u001a�LZܾ�����b0$.�gIED:�I�Y\u001c���~QO'��X�n�|c�eᑼ�kUj\u0018kѺȑF\u0002&������Am�;N�<Of�Ud��E9�C*r��h���\u001a\u0017sk\u001e��{f\u0019���AcV|�\u0007\u000fUڷ{\u0011|��n�L\u0005�MmU��~�\u0004�=�\u000f\u0014���C����Rsk��IDS\u0016Y�����\"���R�J�=kQw\u0019Od�\u001aՉ�� ES�UD�Q�a�^X��E��W����S\u0017y�)mOZ\u0004�&\u001d�k\"��O�oƛ���J�0�龨M�xR\t926���GE��%J�BY�٢���-\u0007E6_.,*s���E%t��j\u0017�{���-g�v\u0019���>*\u001b��+�\u0000�X~�����M�K<�F�)�l2ّ�*H�s����0�j���\"\n",
      "b\u0018Pv\u0000x|%&�#�\u0016S�V�z�~��zRhܖ�����\u0007��׻�����\th7���\u0007�Γ�<dd�.\u0015I\u0017B�8\u001f\u0015\u0001�G��@}�<�(GH\\�,ǓR�t�>h��:\u0000��u\u0016�w��H8`�\u0014�2>A�ar��t7=\u000f\u0012\u00190\u000b\u0014BË�Bw`�i\u000b��\t\u000e��\u0014D\u0006��� kT���B�>� ��U\u0004\u0000\u001dX\u000f��p�\u001d\u0019W�\f\u001c�L�`hd����8�h`�\u0000 \u0006ώ����N\u0016�`j\u0016��\u0006\u000f���J\u0019�vh�֣��M�<\u0000\u0005\u0001\u0010�\u0001���ĥ�fWe&>�j��]�A�V\u0005���\\ڍ��s�\u0019�\n",
      "a��p�4Ьge�UѪ�Q�\u001d�}\u0010�*�e��\u0018D2�a.\u001az���\tɍN6t\"]1UL�\n",
      "Q\u0000�0CGM\f�\u0016mrL��z/X��˜%��\u0018�L\u0006M�\u0005�A�%г��,$J��4h�\u0004\u0001q�PH��22�b����\u001bG�1\f���p��\u001eq�Q�\u0017WPH\u000e6�)�\u001c�\t�2F�~\u0012\u0010s\u0018&\u001e\u0004��k�EM�N� �a\u0006\u000fJ}[7�9R\u001fD�\t�\u0003����&�Wu>\u0018:\u001f\f4�\u0011�i!){\u000e㠩\u001f�\u001b�\u001d{�O�t\u0013����t\u0001��)Ԝ�\n",
      "8�?&\u0003vC�\tA�\\,ʅ(Q��8��� �y�aʩ\u0004�{)�\u0017$�@J���1��\u0005�t?:\u001e~��'$==��r1)W5Ǒ��ȹ�������� �*\u0012\f�.Cy�z�\u0014f���BP���[�v�\u0017!��\u0003\u0002����i9f�� ���e9�+�\u0011��\f\u0006a��;��o��\u000f3��GWo*\u001b�|\u0010�\u0003ȸ��\t��\u0007�\n",
      "&��V\u0006���70+E�;e��5�\"2M�r\u001dg+����\u001fk\u0006_�\u0017)$ \u001d{E��x\u0015�\u0010�\u000f���d�T�T�\u0011Dc�+��xΎ��\u0011\u0002�Q>��E<�o���< \tw?\u000b)��\u001b0�\u0019�4)�on�GI?y�T��� �7�\u001f}0\u0018F)��^\tH�4�̹$��*��O�zq�Kԥ_l�\u001b,����1\u001d.V�%�tt�~v��\u0016v\u0019���n^\u001e%u]e\u000b#�\\+\fyG\"-�p�8\u0016<�\u001c,3���#M�i\u001aڠu�\t�\u0007�<�Ի�8��}v\u0004\u0010�qX\"AH�\u0019[�Bn�o\u0006�\u001dI@-��fS:\fZ\u000e\u000b��<p����.�ubj\\/t�Ev$J��B�p[)\u000e/[���y��rwi��3�<�Ҧ��\u0016\u0001Ɣ\u0015@�u�5�JV�R���a�\u0017\u001c\u0003�+l,/���\u001f�r�����\u0015�5:\u000b��3a�\\/� ཥ\u0011\u0004͟�z��g^�}��KB/�b��dƮ�\u001fxXb��\u0018n�\u0006Mo`��(8\u0001��9��ASJA3\u0011�\u001c��s>�Rߢ�\u000eHO�Z�\u001a�T\n",
      "�#�g�/=�~+O�\u001e�*B`������\u001f�C�\u001a�\u00013��q����\u000f����&�(7\u0005T�����'��C�C\u0019\u0004����\u0010@�k��e\u0015��ϔ\t#\u001b%[��\u001a\u0019�l\u000b�\u0013�I72h\"1��Q�z>g�-٪Y�\u0013k����r�Nَ`[&ڍʣS��\u0005�cg�Ð�]��<\u0010\u001a\u001e� \fZ��\u0000���B\u0000��a�#��#6=�\u001f��oy�B>isKeo�\u0010�\u001e:�H4�rT���YF�>գ��9�Qz�3�x��\n",
      "4�\u0016P�\n",
      "\u0013��i��7sR������Y��Y�q�\u0013��#�Ih%\u0005Ԡ��}�L��^�\"�M�����#�\u001aL�$\u0006Mw�S��0�+\u0007*\u000b��w�v�ښ^��\u0003�zPnx^ءN�$�\t��i��\"Q��\u0012&:\u00019\u0001��{��=��-���\u0018#�л�\u0019���>h�-\u0010_\u001d\u0015�\u0004�2_=&\u0007!��\u000e]�)3�^'�c�z�����9o^���5�\fhG��c�^��f���qC�\u001bm���׎/ɪ��a����Ø�V<HH�g�2nsdb��!Sbi���J�u��<��8�\u001et�\u001a=�R\u0010\u00039%9�j��j�9=���wčgs�3�(�\u0019��\u0005�Z\n",
      "\u0006ݑ��RO\u001a�_\u0012A�S��#���r��qOH�_�\u001a�t�^\u0010���\u001e\u0019H�.�$[����\u001d��s&�U��n�N\u0006�Y��\u0007/��\u0005u�AP\u001dd��&e���F\u001e�jo#�~Դ�\u001c�իm�\u001d��z]Ku\u0013@q�\u00182OZ@�\u001d��<p�ke�\u001b?n�[\\52�>k\u0005>H�T�\u001bPO����\u001a�?m^_�{J`a}C�E��\u000b�;���\u000by����o�[۵�Â�\u0001B\u0007I`��vڢÍ�h���ɬ����O�󽮅w\u0018ɱ\u0016\u0016\u001e�ʃ�\u001f3.\u00194y�\n",
      "9���MN<��\n"
     ]
    }
   ],
   "source": [
    "# Data to read - offers.csv\n",
    "data_dir_offers = f'{base_path}/offers.csv.gz'\n",
    "data_file_offers = data_dir_offers\n",
    "\n",
    "! head $data_file_offers\n",
    "\n",
    "# Data to read - sampleSubmission.csv\n",
    "data_dir_sampleSubmission = f'{base_path}/sampleSubmission.csv.gz'\n",
    "data_file_sampleSubmission = data_dir_sampleSubmission\n",
    "\n",
    "! head $data_file_sampleSubmission\n",
    "\n",
    "# Data to read - testHistory.csv\n",
    "data_dir_testHistory = f'{base_path}/testHistory.csv.gz'\n",
    "data_file_testHistory = data_dir_testHistory\n",
    "\n",
    "! head $data_file_testHistory\n",
    "\n",
    "# Data to read - trainHistory.csv\n",
    "data_dir_trainHistory = f'{base_path}/trainHistory.csv.gz'\n",
    "data_file_trainHistory = data_dir_trainHistory\n",
    "\n",
    "! head $data_file_trainHistory\n",
    "\n",
    "# Data to read - transactions.csv\n",
    "data_dir_transactions = f'{base_path}/transactions.csv.gz'\n",
    "data_file_transactions = data_dir_transactions\n",
    "\n",
    "! head $data_file_transactions;"
   ]
  },
  {
   "cell_type": "markdown",
   "id": "6b477ea5",
   "metadata": {},
   "source": [
    "OFFERS"
   ]
  },
  {
   "cell_type": "code",
   "execution_count": 17,
   "id": "da4a6c8c",
   "metadata": {},
   "outputs": [],
   "source": [
    "# Reading data - offers.csv\n",
    "df_offers = spark.read.csv(\n",
    "        data_file_offers, \n",
    "        header=True, sep=',', inferSchema=True\n",
    "    )"
   ]
  },
  {
   "cell_type": "code",
   "execution_count": 18,
   "id": "e94cda9d",
   "metadata": {},
   "outputs": [
    {
     "name": "stdout",
     "output_type": "stream",
     "text": [
      "df_offers - number of rows: 37\n",
      "root\n",
      " |-- offer: integer (nullable = true)\n",
      " |-- category: integer (nullable = true)\n",
      " |-- quantity: integer (nullable = true)\n",
      " |-- company: integer (nullable = true)\n",
      " |-- offervalue: double (nullable = true)\n",
      " |-- brand: integer (nullable = true)\n",
      "\n",
      "+-------+--------+--------+---------+----------+-----+\n",
      "|offer  |category|quantity|company  |offervalue|brand|\n",
      "+-------+--------+--------+---------+----------+-----+\n",
      "|1190530|9115    |1       |108500080|5.0       |93904|\n",
      "|1194044|9909    |1       |107127979|1.0       |6732 |\n",
      "|1197502|3203    |1       |106414464|0.75      |13474|\n",
      "|1198271|5558    |1       |107120272|1.5       |5072 |\n",
      "|1198272|5558    |1       |107120272|1.5       |5072 |\n",
      "|1198273|5558    |1       |107120272|1.5       |5072 |\n",
      "|1198274|5558    |1       |107120272|1.5       |5072 |\n",
      "|1198275|5558    |1       |107120272|1.5       |5072 |\n",
      "|1199256|4401    |1       |105100050|2.0       |13791|\n",
      "|1199258|4401    |1       |105100050|2.0       |13791|\n",
      "+-------+--------+--------+---------+----------+-----+\n",
      "only showing top 10 rows\n",
      "\n"
     ]
    }
   ],
   "source": [
    "# Checking data that has been read - testHistory.csv\n",
    "print(f'df_offers - number of rows: {df_offers.count()}')\n",
    "df_offers.printSchema()\n",
    "df_offers.show(10, truncate=False)"
   ]
  },
  {
   "cell_type": "markdown",
   "id": "275942cd",
   "metadata": {},
   "source": [
    "TESTHISTORY"
   ]
  },
  {
   "cell_type": "code",
   "execution_count": 19,
   "id": "bebed89e",
   "metadata": {},
   "outputs": [],
   "source": [
    "# Reading data - testHistory.csv\n",
    "df_testHistory = spark.read.csv(\n",
    "        data_file_testHistory, \n",
    "        header=True, sep=',', inferSchema=True\n",
    "    )"
   ]
  },
  {
   "cell_type": "code",
   "execution_count": 20,
   "id": "6205c176",
   "metadata": {},
   "outputs": [
    {
     "name": "stdout",
     "output_type": "stream",
     "text": [
      "df_testHistory - number of rows: 151484\n",
      "root\n",
      " |-- id: long (nullable = true)\n",
      " |-- chain: integer (nullable = true)\n",
      " |-- offer: integer (nullable = true)\n",
      " |-- market: integer (nullable = true)\n",
      " |-- offerdate: date (nullable = true)\n",
      "\n",
      "+--------+-----+-------+------+----------+\n",
      "|id      |chain|offer  |market|offerdate |\n",
      "+--------+-----+-------+------+----------+\n",
      "|12262064|95   |1219903|39    |2013-06-27|\n",
      "|12277270|95   |1221658|39    |2013-06-23|\n",
      "|12332190|95   |1213242|39    |2013-06-15|\n",
      "|12524696|4    |1221665|1     |2013-06-20|\n",
      "|13074629|14   |1221658|8     |2013-06-21|\n",
      "|13387341|14   |1221658|8     |2013-06-22|\n",
      "|13501141|4    |1203439|1     |2013-05-13|\n",
      "|13558712|15   |1203439|9     |2013-05-12|\n",
      "|13563017|14   |1221665|8     |2013-06-24|\n",
      "|13584134|14   |1221665|8     |2013-06-27|\n",
      "+--------+-----+-------+------+----------+\n",
      "only showing top 10 rows\n",
      "\n"
     ]
    }
   ],
   "source": [
    "# Checking data that has been read - testHistory.csv\n",
    "print(f'df_testHistory - number of rows: {df_testHistory.count()}')\n",
    "df_testHistory.printSchema()\n",
    "df_testHistory.show(10, truncate=False)"
   ]
  },
  {
   "cell_type": "markdown",
   "id": "0878f730",
   "metadata": {},
   "source": [
    "TRAINHISTORY"
   ]
  },
  {
   "cell_type": "code",
   "execution_count": 21,
   "id": "378419e1",
   "metadata": {},
   "outputs": [],
   "source": [
    "# Reading data - trainHistory.csv\n",
    "df_trainHistory = spark.read.csv(\n",
    "        data_file_trainHistory, \n",
    "        header=True, sep=',', inferSchema=True\n",
    "    )"
   ]
  },
  {
   "cell_type": "code",
   "execution_count": 22,
   "id": "a03a84a9",
   "metadata": {},
   "outputs": [
    {
     "name": "stdout",
     "output_type": "stream",
     "text": [
      "df_trainHistory - number of rows: 160057\n",
      "root\n",
      " |-- id: long (nullable = true)\n",
      " |-- chain: integer (nullable = true)\n",
      " |-- offer: integer (nullable = true)\n",
      " |-- market: integer (nullable = true)\n",
      " |-- repeattrips: integer (nullable = true)\n",
      " |-- repeater: string (nullable = true)\n",
      " |-- offerdate: date (nullable = true)\n",
      "\n",
      "+--------+-----+-------+------+-----------+--------+----------+\n",
      "|id      |chain|offer  |market|repeattrips|repeater|offerdate |\n",
      "+--------+-----+-------+------+-----------+--------+----------+\n",
      "|86246   |205  |1208251|34    |5          |t       |2013-04-24|\n",
      "|86252   |205  |1197502|34    |16         |t       |2013-03-27|\n",
      "|12682470|18   |1197502|11    |0          |f       |2013-03-28|\n",
      "|12996040|15   |1197502|9     |0          |f       |2013-03-25|\n",
      "|13089312|15   |1204821|9     |0          |f       |2013-04-01|\n",
      "|13179265|14   |1197502|8     |0          |f       |2013-03-29|\n",
      "|13251776|15   |1200581|9     |0          |f       |2013-03-30|\n",
      "|13540129|14   |1200581|8     |0          |f       |2013-03-30|\n",
      "|13807224|4    |1204576|1     |0          |f       |2013-04-05|\n",
      "|13873775|4    |1197502|1     |0          |f       |2013-03-26|\n",
      "+--------+-----+-------+------+-----------+--------+----------+\n",
      "only showing top 10 rows\n",
      "\n"
     ]
    }
   ],
   "source": [
    "# Checking data that has been read - trainHistory.csv\n",
    "print(f'df_trainHistory - number of rows: {df_trainHistory.count()}')\n",
    "df_trainHistory.printSchema()\n",
    "df_trainHistory.show(10, truncate=False)"
   ]
  },
  {
   "cell_type": "markdown",
   "id": "404ef6fe",
   "metadata": {},
   "source": [
    "TRANSACTIONS"
   ]
  },
  {
   "cell_type": "code",
   "execution_count": null,
   "id": "9af3c113",
   "metadata": {},
   "outputs": [],
   "source": [
    "df_transactions = spark.read.csv(\n",
    "    data_file_transactions, \n",
    "    header=True, sep=',', inferSchema=False\n",
    ").sample(fraction=0.001, seed=42).limit(1000000)"
   ]
  },
  {
   "cell_type": "code",
   "execution_count": 24,
   "id": "f28e512a",
   "metadata": {},
   "outputs": [
    {
     "name": "stdout",
     "output_type": "stream",
     "text": [
      "root\n",
      " |-- id: string (nullable = true)\n",
      " |-- chain: string (nullable = true)\n",
      " |-- dept: string (nullable = true)\n",
      " |-- category: string (nullable = true)\n",
      " |-- company: string (nullable = true)\n",
      " |-- brand: string (nullable = true)\n",
      " |-- date: string (nullable = true)\n",
      " |-- productsize: string (nullable = true)\n",
      " |-- productmeasure: string (nullable = true)\n",
      " |-- purchasequantity: string (nullable = true)\n",
      " |-- purchaseamount: string (nullable = true)\n",
      "\n",
      "+-----+-----+----+--------+----------+------+----------+-----------+--------------+----------------+--------------+\n",
      "|id   |chain|dept|category|company   |brand |date      |productsize|productmeasure|purchasequantity|purchaseamount|\n",
      "+-----+-----+----+--------+----------+------+----------+-----------+--------------+----------------+--------------+\n",
      "|86246|205  |99  |9908    |103338333 |33170 |2013-03-16|80         |OZ            |1               |2.29          |\n",
      "|86246|205  |58  |5823    |104470040 |13310 |2013-03-17|16         |OZ            |1               |2.99          |\n",
      "|86246|205  |64  |6407    |1085977585|58031 |2013-03-19|0.75       |LT            |2               |7.98          |\n",
      "|86246|205  |63  |6340    |101037414 |27604 |2013-03-24|6          |OZ            |1               |2.99          |\n",
      "|86246|205  |33  |3318    |107781777 |1235  |2013-03-28|3.5        |OZ            |1               |1             |\n",
      "|86246|205  |60  |6011    |101800010 |14029 |2013-04-01|16.3       |OZ            |1               |2.29          |\n",
      "|86246|205  |18  |1822    |103700030 |6236  |2013-04-03|27         |OZ            |2               |5.98          |\n",
      "|86246|205  |29  |2903    |106414464 |3342  |2013-04-10|15         |OZ            |10              |14.95         |\n",
      "|86246|205  |21  |2106    |101200010 |100402|2013-04-13|16         |OZ            |4               |3.96          |\n",
      "|86246|205  |41  |4105    |104130343 |38922 |2013-04-16|14.5       |OZ            |1               |0.89          |\n",
      "+-----+-----+----+--------+----------+------+----------+-----------+--------------+----------------+--------------+\n",
      "only showing top 10 rows\n",
      "\n"
     ]
    }
   ],
   "source": [
    "# Checking a sample of the transactions data\n",
    "# print(f'df_transactions - number of rows: {df_transactions.count()}')\n",
    "df_transactions.printSchema()\n",
    "df_transactions.show(10, truncate=False)"
   ]
  },
  {
   "cell_type": "markdown",
   "id": "ef91895c",
   "metadata": {},
   "source": [
    "## Data Validation and Profiling"
   ]
  },
  {
   "cell_type": "markdown",
   "id": "78f2cff5",
   "metadata": {},
   "source": [
    "**Checking for duplicates and nulls**"
   ]
  },
  {
   "cell_type": "code",
   "execution_count": null,
   "id": "40aa09f6",
   "metadata": {},
   "outputs": [
    {
     "name": "stdout",
     "output_type": "stream",
     "text": [
      "df_offers - number of rows is 37; after dropDuplicates() applied would be 37.\n",
      "df_testHistory - number of rows is 151484; after dropDuplicates() applied would be 151484.\n",
      "df_trainHistory - number of rows is 160057; after dropDuplicates() applied would be 160057.\n"
     ]
    },
    {
     "name": "stderr",
     "output_type": "stream",
     "text": [
      "ERROR:root:KeyboardInterrupt while sending command.\n",
      "Traceback (most recent call last):\n",
      "  File \"/opt/conda/envs/vscode_pyspark/lib/python3.11/site-packages/py4j/java_gateway.py\", line 1038, in send_command\n",
      "    response = connection.send_command(command)\n",
      "               ^^^^^^^^^^^^^^^^^^^^^^^^^^^^^^^^\n",
      "  File \"/opt/conda/envs/vscode_pyspark/lib/python3.11/site-packages/py4j/clientserver.py\", line 511, in send_command\n",
      "    answer = smart_decode(self.stream.readline()[:-1])\n",
      "                          ^^^^^^^^^^^^^^^^^^^^^^\n",
      "  File \"/opt/conda/envs/vscode_pyspark/lib/python3.11/socket.py\", line 718, in readinto\n",
      "    return self._sock.recv_into(b)\n",
      "           ^^^^^^^^^^^^^^^^^^^^^^^\n",
      "KeyboardInterrupt\n"
     ]
    },
    {
     "ename": "KeyboardInterrupt",
     "evalue": "",
     "output_type": "error",
     "traceback": [
      "\u001b[0;31m---------------------------------------------------------------------------\u001b[0m",
      "\u001b[0;31mKeyboardInterrupt\u001b[0m                         Traceback (most recent call last)",
      "Cell \u001b[0;32mIn[25], line 4\u001b[0m\n\u001b[1;32m      2\u001b[0m \u001b[38;5;28mprint\u001b[39m(\u001b[38;5;124mf\u001b[39m\u001b[38;5;124m'\u001b[39m\u001b[38;5;124mdf_testHistory - number of rows is \u001b[39m\u001b[38;5;132;01m{\u001b[39;00mdf_testHistory\u001b[38;5;241m.\u001b[39mcount()\u001b[38;5;132;01m}\u001b[39;00m\u001b[38;5;124m; after dropDuplicates() applied would be \u001b[39m\u001b[38;5;132;01m{\u001b[39;00mdf_testHistory\u001b[38;5;241m.\u001b[39mdropDuplicates()\u001b[38;5;241m.\u001b[39mcount()\u001b[38;5;132;01m}\u001b[39;00m\u001b[38;5;124m.\u001b[39m\u001b[38;5;124m'\u001b[39m)                   \u001b[38;5;66;03m# testHistory.csv\u001b[39;00m\n\u001b[1;32m      3\u001b[0m \u001b[38;5;28mprint\u001b[39m(\u001b[38;5;124mf\u001b[39m\u001b[38;5;124m'\u001b[39m\u001b[38;5;124mdf_trainHistory - number of rows is \u001b[39m\u001b[38;5;132;01m{\u001b[39;00mdf_trainHistory\u001b[38;5;241m.\u001b[39mcount()\u001b[38;5;132;01m}\u001b[39;00m\u001b[38;5;124m; after dropDuplicates() applied would be \u001b[39m\u001b[38;5;132;01m{\u001b[39;00mdf_trainHistory\u001b[38;5;241m.\u001b[39mdropDuplicates()\u001b[38;5;241m.\u001b[39mcount()\u001b[38;5;132;01m}\u001b[39;00m\u001b[38;5;124m.\u001b[39m\u001b[38;5;124m'\u001b[39m)                \u001b[38;5;66;03m# trainHistory.csv\u001b[39;00m\n\u001b[0;32m----> 4\u001b[0m \u001b[38;5;28mprint\u001b[39m(\u001b[38;5;124mf\u001b[39m\u001b[38;5;124m'\u001b[39m\u001b[38;5;124mdf_transactions - number of rows is \u001b[39m\u001b[38;5;132;01m{\u001b[39;00m\u001b[43mdf_transactions\u001b[49m\u001b[38;5;241;43m.\u001b[39;49m\u001b[43mcount\u001b[49m\u001b[43m(\u001b[49m\u001b[43m)\u001b[49m\u001b[38;5;132;01m}\u001b[39;00m\u001b[38;5;124m; after dropDuplicates() applied would be \u001b[39m\u001b[38;5;132;01m{\u001b[39;00mdf_transactions\u001b[38;5;241m.\u001b[39mdropDuplicates()\u001b[38;5;241m.\u001b[39mcount()\u001b[38;5;132;01m}\u001b[39;00m\u001b[38;5;124m.\u001b[39m\u001b[38;5;124m'\u001b[39m)                \u001b[38;5;66;03m# transactions.csv\u001b[39;00m\n",
      "File \u001b[0;32m/opt/conda/envs/vscode_pyspark/lib/python3.11/site-packages/pyspark/sql/dataframe.py:1240\u001b[0m, in \u001b[0;36mDataFrame.count\u001b[0;34m(self)\u001b[0m\n\u001b[1;32m   1217\u001b[0m \u001b[38;5;28;01mdef\u001b[39;00m\u001b[38;5;250m \u001b[39m\u001b[38;5;21mcount\u001b[39m(\u001b[38;5;28mself\u001b[39m) \u001b[38;5;241m-\u001b[39m\u001b[38;5;241m>\u001b[39m \u001b[38;5;28mint\u001b[39m:\n\u001b[1;32m   1218\u001b[0m \u001b[38;5;250m    \u001b[39m\u001b[38;5;124;03m\"\"\"Returns the number of rows in this :class:`DataFrame`.\u001b[39;00m\n\u001b[1;32m   1219\u001b[0m \n\u001b[1;32m   1220\u001b[0m \u001b[38;5;124;03m    .. versionadded:: 1.3.0\u001b[39;00m\n\u001b[0;32m   (...)\u001b[0m\n\u001b[1;32m   1238\u001b[0m \u001b[38;5;124;03m    3\u001b[39;00m\n\u001b[1;32m   1239\u001b[0m \u001b[38;5;124;03m    \"\"\"\u001b[39;00m\n\u001b[0;32m-> 1240\u001b[0m     \u001b[38;5;28;01mreturn\u001b[39;00m \u001b[38;5;28mint\u001b[39m(\u001b[38;5;28;43mself\u001b[39;49m\u001b[38;5;241;43m.\u001b[39;49m\u001b[43m_jdf\u001b[49m\u001b[38;5;241;43m.\u001b[39;49m\u001b[43mcount\u001b[49m\u001b[43m(\u001b[49m\u001b[43m)\u001b[49m)\n",
      "File \u001b[0;32m/opt/conda/envs/vscode_pyspark/lib/python3.11/site-packages/py4j/java_gateway.py:1321\u001b[0m, in \u001b[0;36mJavaMember.__call__\u001b[0;34m(self, *args)\u001b[0m\n\u001b[1;32m   1314\u001b[0m args_command, temp_args \u001b[38;5;241m=\u001b[39m \u001b[38;5;28mself\u001b[39m\u001b[38;5;241m.\u001b[39m_build_args(\u001b[38;5;241m*\u001b[39margs)\n\u001b[1;32m   1316\u001b[0m command \u001b[38;5;241m=\u001b[39m proto\u001b[38;5;241m.\u001b[39mCALL_COMMAND_NAME \u001b[38;5;241m+\u001b[39m\\\n\u001b[1;32m   1317\u001b[0m     \u001b[38;5;28mself\u001b[39m\u001b[38;5;241m.\u001b[39mcommand_header \u001b[38;5;241m+\u001b[39m\\\n\u001b[1;32m   1318\u001b[0m     args_command \u001b[38;5;241m+\u001b[39m\\\n\u001b[1;32m   1319\u001b[0m     proto\u001b[38;5;241m.\u001b[39mEND_COMMAND_PART\n\u001b[0;32m-> 1321\u001b[0m answer \u001b[38;5;241m=\u001b[39m \u001b[38;5;28;43mself\u001b[39;49m\u001b[38;5;241;43m.\u001b[39;49m\u001b[43mgateway_client\u001b[49m\u001b[38;5;241;43m.\u001b[39;49m\u001b[43msend_command\u001b[49m\u001b[43m(\u001b[49m\u001b[43mcommand\u001b[49m\u001b[43m)\u001b[49m\n\u001b[1;32m   1322\u001b[0m return_value \u001b[38;5;241m=\u001b[39m get_return_value(\n\u001b[1;32m   1323\u001b[0m     answer, \u001b[38;5;28mself\u001b[39m\u001b[38;5;241m.\u001b[39mgateway_client, \u001b[38;5;28mself\u001b[39m\u001b[38;5;241m.\u001b[39mtarget_id, \u001b[38;5;28mself\u001b[39m\u001b[38;5;241m.\u001b[39mname)\n\u001b[1;32m   1325\u001b[0m \u001b[38;5;28;01mfor\u001b[39;00m temp_arg \u001b[38;5;129;01min\u001b[39;00m temp_args:\n",
      "File \u001b[0;32m/opt/conda/envs/vscode_pyspark/lib/python3.11/site-packages/py4j/java_gateway.py:1038\u001b[0m, in \u001b[0;36mGatewayClient.send_command\u001b[0;34m(self, command, retry, binary)\u001b[0m\n\u001b[1;32m   1036\u001b[0m connection \u001b[38;5;241m=\u001b[39m \u001b[38;5;28mself\u001b[39m\u001b[38;5;241m.\u001b[39m_get_connection()\n\u001b[1;32m   1037\u001b[0m \u001b[38;5;28;01mtry\u001b[39;00m:\n\u001b[0;32m-> 1038\u001b[0m     response \u001b[38;5;241m=\u001b[39m \u001b[43mconnection\u001b[49m\u001b[38;5;241;43m.\u001b[39;49m\u001b[43msend_command\u001b[49m\u001b[43m(\u001b[49m\u001b[43mcommand\u001b[49m\u001b[43m)\u001b[49m\n\u001b[1;32m   1039\u001b[0m     \u001b[38;5;28;01mif\u001b[39;00m binary:\n\u001b[1;32m   1040\u001b[0m         \u001b[38;5;28;01mreturn\u001b[39;00m response, \u001b[38;5;28mself\u001b[39m\u001b[38;5;241m.\u001b[39m_create_connection_guard(connection)\n",
      "File \u001b[0;32m/opt/conda/envs/vscode_pyspark/lib/python3.11/site-packages/py4j/clientserver.py:511\u001b[0m, in \u001b[0;36mClientServerConnection.send_command\u001b[0;34m(self, command)\u001b[0m\n\u001b[1;32m    509\u001b[0m \u001b[38;5;28;01mtry\u001b[39;00m:\n\u001b[1;32m    510\u001b[0m     \u001b[38;5;28;01mwhile\u001b[39;00m \u001b[38;5;28;01mTrue\u001b[39;00m:\n\u001b[0;32m--> 511\u001b[0m         answer \u001b[38;5;241m=\u001b[39m smart_decode(\u001b[38;5;28mself\u001b[39m\u001b[38;5;241m.\u001b[39mstream\u001b[38;5;241m.\u001b[39mreadline()[:\u001b[38;5;241m-\u001b[39m\u001b[38;5;241m1\u001b[39m])\n\u001b[1;32m    512\u001b[0m         logger\u001b[38;5;241m.\u001b[39mdebug(\u001b[38;5;124m\"\u001b[39m\u001b[38;5;124mAnswer received: \u001b[39m\u001b[38;5;132;01m{0}\u001b[39;00m\u001b[38;5;124m\"\u001b[39m\u001b[38;5;241m.\u001b[39mformat(answer))\n\u001b[1;32m    513\u001b[0m         \u001b[38;5;66;03m# Happens when a the other end is dead. There might be an empty\u001b[39;00m\n\u001b[1;32m    514\u001b[0m         \u001b[38;5;66;03m# answer before the socket raises an error.\u001b[39;00m\n",
      "File \u001b[0;32m/opt/conda/envs/vscode_pyspark/lib/python3.11/socket.py:718\u001b[0m, in \u001b[0;36mSocketIO.readinto\u001b[0;34m(self, b)\u001b[0m\n\u001b[1;32m    716\u001b[0m \u001b[38;5;28;01mwhile\u001b[39;00m \u001b[38;5;28;01mTrue\u001b[39;00m:\n\u001b[1;32m    717\u001b[0m     \u001b[38;5;28;01mtry\u001b[39;00m:\n\u001b[0;32m--> 718\u001b[0m         \u001b[38;5;28;01mreturn\u001b[39;00m \u001b[38;5;28;43mself\u001b[39;49m\u001b[38;5;241;43m.\u001b[39;49m\u001b[43m_sock\u001b[49m\u001b[38;5;241;43m.\u001b[39;49m\u001b[43mrecv_into\u001b[49m\u001b[43m(\u001b[49m\u001b[43mb\u001b[49m\u001b[43m)\u001b[49m\n\u001b[1;32m    719\u001b[0m     \u001b[38;5;28;01mexcept\u001b[39;00m timeout:\n\u001b[1;32m    720\u001b[0m         \u001b[38;5;28mself\u001b[39m\u001b[38;5;241m.\u001b[39m_timeout_occurred \u001b[38;5;241m=\u001b[39m \u001b[38;5;28;01mTrue\u001b[39;00m\n",
      "\u001b[0;31mKeyboardInterrupt\u001b[0m: "
     ]
    }
   ],
   "source": [
    "print(f'df_offers - number of rows is {df_offers.count()}; after dropDuplicates() applied would be {df_offers.dropDuplicates().count()}.')                                  # offers.csv\n",
    "print(f'df_testHistory - number of rows is {df_testHistory.count()}; after dropDuplicates() applied would be {df_testHistory.dropDuplicates().count()}.')                   # testHistory.csv\n",
    "print(f'df_trainHistory - number of rows is {df_trainHistory.count()}; after dropDuplicates() applied would be {df_trainHistory.dropDuplicates().count()}.')                # trainHistory.csv\n",
    "# print(f'df_transactions - number of rows is {df_transactions.count()}; after dropDuplicates() applied would be {df_transactions.dropDuplicates().count()}.')                # transactions.csv"
   ]
  },
  {
   "cell_type": "code",
   "execution_count": 26,
   "id": "990b715f",
   "metadata": {},
   "outputs": [
    {
     "name": "stdout",
     "output_type": "stream",
     "text": [
      "df_offers - number of rows after dropna(how='any') applied would be 37.\n",
      "df_testHistory - number of rows after dropna(how='any') applied would be 151484.\n",
      "df_trainHistory - number of rows after dropna(how='any') applied would be 160057.\n"
     ]
    },
    {
     "name": "stderr",
     "output_type": "stream",
     "text": [
      "ERROR:root:KeyboardInterrupt while sending command.\n",
      "Traceback (most recent call last):\n",
      "  File \"/opt/conda/envs/vscode_pyspark/lib/python3.11/site-packages/py4j/java_gateway.py\", line 1038, in send_command\n",
      "    response = connection.send_command(command)\n",
      "               ^^^^^^^^^^^^^^^^^^^^^^^^^^^^^^^^\n",
      "  File \"/opt/conda/envs/vscode_pyspark/lib/python3.11/site-packages/py4j/clientserver.py\", line 511, in send_command\n",
      "    answer = smart_decode(self.stream.readline()[:-1])\n",
      "                          ^^^^^^^^^^^^^^^^^^^^^^\n",
      "  File \"/opt/conda/envs/vscode_pyspark/lib/python3.11/socket.py\", line 718, in readinto\n",
      "    return self._sock.recv_into(b)\n",
      "           ^^^^^^^^^^^^^^^^^^^^^^^\n",
      "KeyboardInterrupt\n"
     ]
    },
    {
     "ename": "KeyboardInterrupt",
     "evalue": "",
     "output_type": "error",
     "traceback": [
      "\u001b[0;31m---------------------------------------------------------------------------\u001b[0m",
      "\u001b[0;31mKeyboardInterrupt\u001b[0m                         Traceback (most recent call last)",
      "Cell \u001b[0;32mIn[26], line 4\u001b[0m\n\u001b[1;32m      2\u001b[0m \u001b[38;5;28mprint\u001b[39m(\u001b[38;5;124mf\u001b[39m\u001b[38;5;124m'''\u001b[39m\u001b[38;5;124mdf_testHistory - number of rows after dropna(how=\u001b[39m\u001b[38;5;124m'\u001b[39m\u001b[38;5;124many\u001b[39m\u001b[38;5;124m'\u001b[39m\u001b[38;5;124m) applied would be \u001b[39m\u001b[38;5;132;01m{\u001b[39;00mdf_testHistory\u001b[38;5;241m.\u001b[39mdropna(how\u001b[38;5;241m=\u001b[39m\u001b[38;5;124m'\u001b[39m\u001b[38;5;124many\u001b[39m\u001b[38;5;124m'\u001b[39m)\u001b[38;5;241m.\u001b[39mcount()\u001b[38;5;132;01m}\u001b[39;00m\u001b[38;5;124m.\u001b[39m\u001b[38;5;124m'''\u001b[39m)              \u001b[38;5;66;03m# testHistory.csv\u001b[39;00m\n\u001b[1;32m      3\u001b[0m \u001b[38;5;28mprint\u001b[39m(\u001b[38;5;124mf\u001b[39m\u001b[38;5;124m'''\u001b[39m\u001b[38;5;124mdf_trainHistory - number of rows after dropna(how=\u001b[39m\u001b[38;5;124m'\u001b[39m\u001b[38;5;124many\u001b[39m\u001b[38;5;124m'\u001b[39m\u001b[38;5;124m) applied would be \u001b[39m\u001b[38;5;132;01m{\u001b[39;00mdf_trainHistory\u001b[38;5;241m.\u001b[39mdropna(how\u001b[38;5;241m=\u001b[39m\u001b[38;5;124m'\u001b[39m\u001b[38;5;124many\u001b[39m\u001b[38;5;124m'\u001b[39m)\u001b[38;5;241m.\u001b[39mcount()\u001b[38;5;132;01m}\u001b[39;00m\u001b[38;5;124m.\u001b[39m\u001b[38;5;124m'''\u001b[39m)            \u001b[38;5;66;03m# trainHistory.csv\u001b[39;00m\n\u001b[0;32m----> 4\u001b[0m \u001b[38;5;28mprint\u001b[39m(\u001b[38;5;124mf\u001b[39m\u001b[38;5;124m'''\u001b[39m\u001b[38;5;124mdf_transactions - number of rows after dropna(how=\u001b[39m\u001b[38;5;124m'\u001b[39m\u001b[38;5;124many\u001b[39m\u001b[38;5;124m'\u001b[39m\u001b[38;5;124m) applied would be \u001b[39m\u001b[38;5;132;01m{\u001b[39;00m\u001b[43mdf_transactions\u001b[49m\u001b[38;5;241;43m.\u001b[39;49m\u001b[43mdropna\u001b[49m\u001b[43m(\u001b[49m\u001b[43mhow\u001b[49m\u001b[38;5;241;43m=\u001b[39;49m\u001b[38;5;124;43m'\u001b[39;49m\u001b[38;5;124;43many\u001b[39;49m\u001b[38;5;124;43m'\u001b[39;49m\u001b[43m)\u001b[49m\u001b[38;5;241;43m.\u001b[39;49m\u001b[43mcount\u001b[49m\u001b[43m(\u001b[49m\u001b[43m)\u001b[49m\u001b[38;5;132;01m}\u001b[39;00m\u001b[38;5;124m.\u001b[39m\u001b[38;5;124m'''\u001b[39m)            \u001b[38;5;66;03m# transactions.csv\u001b[39;00m\n",
      "File \u001b[0;32m/opt/conda/envs/vscode_pyspark/lib/python3.11/site-packages/pyspark/sql/dataframe.py:1240\u001b[0m, in \u001b[0;36mDataFrame.count\u001b[0;34m(self)\u001b[0m\n\u001b[1;32m   1217\u001b[0m \u001b[38;5;28;01mdef\u001b[39;00m\u001b[38;5;250m \u001b[39m\u001b[38;5;21mcount\u001b[39m(\u001b[38;5;28mself\u001b[39m) \u001b[38;5;241m-\u001b[39m\u001b[38;5;241m>\u001b[39m \u001b[38;5;28mint\u001b[39m:\n\u001b[1;32m   1218\u001b[0m \u001b[38;5;250m    \u001b[39m\u001b[38;5;124;03m\"\"\"Returns the number of rows in this :class:`DataFrame`.\u001b[39;00m\n\u001b[1;32m   1219\u001b[0m \n\u001b[1;32m   1220\u001b[0m \u001b[38;5;124;03m    .. versionadded:: 1.3.0\u001b[39;00m\n\u001b[0;32m   (...)\u001b[0m\n\u001b[1;32m   1238\u001b[0m \u001b[38;5;124;03m    3\u001b[39;00m\n\u001b[1;32m   1239\u001b[0m \u001b[38;5;124;03m    \"\"\"\u001b[39;00m\n\u001b[0;32m-> 1240\u001b[0m     \u001b[38;5;28;01mreturn\u001b[39;00m \u001b[38;5;28mint\u001b[39m(\u001b[38;5;28;43mself\u001b[39;49m\u001b[38;5;241;43m.\u001b[39;49m\u001b[43m_jdf\u001b[49m\u001b[38;5;241;43m.\u001b[39;49m\u001b[43mcount\u001b[49m\u001b[43m(\u001b[49m\u001b[43m)\u001b[49m)\n",
      "File \u001b[0;32m/opt/conda/envs/vscode_pyspark/lib/python3.11/site-packages/py4j/java_gateway.py:1321\u001b[0m, in \u001b[0;36mJavaMember.__call__\u001b[0;34m(self, *args)\u001b[0m\n\u001b[1;32m   1314\u001b[0m args_command, temp_args \u001b[38;5;241m=\u001b[39m \u001b[38;5;28mself\u001b[39m\u001b[38;5;241m.\u001b[39m_build_args(\u001b[38;5;241m*\u001b[39margs)\n\u001b[1;32m   1316\u001b[0m command \u001b[38;5;241m=\u001b[39m proto\u001b[38;5;241m.\u001b[39mCALL_COMMAND_NAME \u001b[38;5;241m+\u001b[39m\\\n\u001b[1;32m   1317\u001b[0m     \u001b[38;5;28mself\u001b[39m\u001b[38;5;241m.\u001b[39mcommand_header \u001b[38;5;241m+\u001b[39m\\\n\u001b[1;32m   1318\u001b[0m     args_command \u001b[38;5;241m+\u001b[39m\\\n\u001b[1;32m   1319\u001b[0m     proto\u001b[38;5;241m.\u001b[39mEND_COMMAND_PART\n\u001b[0;32m-> 1321\u001b[0m answer \u001b[38;5;241m=\u001b[39m \u001b[38;5;28;43mself\u001b[39;49m\u001b[38;5;241;43m.\u001b[39;49m\u001b[43mgateway_client\u001b[49m\u001b[38;5;241;43m.\u001b[39;49m\u001b[43msend_command\u001b[49m\u001b[43m(\u001b[49m\u001b[43mcommand\u001b[49m\u001b[43m)\u001b[49m\n\u001b[1;32m   1322\u001b[0m return_value \u001b[38;5;241m=\u001b[39m get_return_value(\n\u001b[1;32m   1323\u001b[0m     answer, \u001b[38;5;28mself\u001b[39m\u001b[38;5;241m.\u001b[39mgateway_client, \u001b[38;5;28mself\u001b[39m\u001b[38;5;241m.\u001b[39mtarget_id, \u001b[38;5;28mself\u001b[39m\u001b[38;5;241m.\u001b[39mname)\n\u001b[1;32m   1325\u001b[0m \u001b[38;5;28;01mfor\u001b[39;00m temp_arg \u001b[38;5;129;01min\u001b[39;00m temp_args:\n",
      "File \u001b[0;32m/opt/conda/envs/vscode_pyspark/lib/python3.11/site-packages/py4j/java_gateway.py:1038\u001b[0m, in \u001b[0;36mGatewayClient.send_command\u001b[0;34m(self, command, retry, binary)\u001b[0m\n\u001b[1;32m   1036\u001b[0m connection \u001b[38;5;241m=\u001b[39m \u001b[38;5;28mself\u001b[39m\u001b[38;5;241m.\u001b[39m_get_connection()\n\u001b[1;32m   1037\u001b[0m \u001b[38;5;28;01mtry\u001b[39;00m:\n\u001b[0;32m-> 1038\u001b[0m     response \u001b[38;5;241m=\u001b[39m \u001b[43mconnection\u001b[49m\u001b[38;5;241;43m.\u001b[39;49m\u001b[43msend_command\u001b[49m\u001b[43m(\u001b[49m\u001b[43mcommand\u001b[49m\u001b[43m)\u001b[49m\n\u001b[1;32m   1039\u001b[0m     \u001b[38;5;28;01mif\u001b[39;00m binary:\n\u001b[1;32m   1040\u001b[0m         \u001b[38;5;28;01mreturn\u001b[39;00m response, \u001b[38;5;28mself\u001b[39m\u001b[38;5;241m.\u001b[39m_create_connection_guard(connection)\n",
      "File \u001b[0;32m/opt/conda/envs/vscode_pyspark/lib/python3.11/site-packages/py4j/clientserver.py:511\u001b[0m, in \u001b[0;36mClientServerConnection.send_command\u001b[0;34m(self, command)\u001b[0m\n\u001b[1;32m    509\u001b[0m \u001b[38;5;28;01mtry\u001b[39;00m:\n\u001b[1;32m    510\u001b[0m     \u001b[38;5;28;01mwhile\u001b[39;00m \u001b[38;5;28;01mTrue\u001b[39;00m:\n\u001b[0;32m--> 511\u001b[0m         answer \u001b[38;5;241m=\u001b[39m smart_decode(\u001b[38;5;28mself\u001b[39m\u001b[38;5;241m.\u001b[39mstream\u001b[38;5;241m.\u001b[39mreadline()[:\u001b[38;5;241m-\u001b[39m\u001b[38;5;241m1\u001b[39m])\n\u001b[1;32m    512\u001b[0m         logger\u001b[38;5;241m.\u001b[39mdebug(\u001b[38;5;124m\"\u001b[39m\u001b[38;5;124mAnswer received: \u001b[39m\u001b[38;5;132;01m{0}\u001b[39;00m\u001b[38;5;124m\"\u001b[39m\u001b[38;5;241m.\u001b[39mformat(answer))\n\u001b[1;32m    513\u001b[0m         \u001b[38;5;66;03m# Happens when a the other end is dead. There might be an empty\u001b[39;00m\n\u001b[1;32m    514\u001b[0m         \u001b[38;5;66;03m# answer before the socket raises an error.\u001b[39;00m\n",
      "File \u001b[0;32m/opt/conda/envs/vscode_pyspark/lib/python3.11/socket.py:718\u001b[0m, in \u001b[0;36mSocketIO.readinto\u001b[0;34m(self, b)\u001b[0m\n\u001b[1;32m    716\u001b[0m \u001b[38;5;28;01mwhile\u001b[39;00m \u001b[38;5;28;01mTrue\u001b[39;00m:\n\u001b[1;32m    717\u001b[0m     \u001b[38;5;28;01mtry\u001b[39;00m:\n\u001b[0;32m--> 718\u001b[0m         \u001b[38;5;28;01mreturn\u001b[39;00m \u001b[38;5;28;43mself\u001b[39;49m\u001b[38;5;241;43m.\u001b[39;49m\u001b[43m_sock\u001b[49m\u001b[38;5;241;43m.\u001b[39;49m\u001b[43mrecv_into\u001b[49m\u001b[43m(\u001b[49m\u001b[43mb\u001b[49m\u001b[43m)\u001b[49m\n\u001b[1;32m    719\u001b[0m     \u001b[38;5;28;01mexcept\u001b[39;00m timeout:\n\u001b[1;32m    720\u001b[0m         \u001b[38;5;28mself\u001b[39m\u001b[38;5;241m.\u001b[39m_timeout_occurred \u001b[38;5;241m=\u001b[39m \u001b[38;5;28;01mTrue\u001b[39;00m\n",
      "\u001b[0;31mKeyboardInterrupt\u001b[0m: "
     ]
    }
   ],
   "source": [
    "print(f'''df_offers - number of rows after dropna(how='any') applied would be {df_offers.dropna(how='any').count()}.''')                        # offers.csv\n",
    "print(f'''df_testHistory - number of rows after dropna(how='any') applied would be {df_testHistory.dropna(how='any').count()}.''')              # testHistory.csv\n",
    "print(f'''df_trainHistory - number of rows after dropna(how='any') applied would be {df_trainHistory.dropna(how='any').count()}.''')            # trainHistory.csv\n",
    "print(f'''df_transactions - number of rows after dropna(how='any') applied would be {df_transactions.dropna(how='any').count()}.''')            # transactions.csv"
   ]
  },
  {
   "cell_type": "markdown",
   "id": "6bbc5b83",
   "metadata": {},
   "source": [
    "**Generating Html files with full report for each data**"
   ]
  },
  {
   "cell_type": "markdown",
   "id": "8568c6fb",
   "metadata": {},
   "source": [
    "OFFERS"
   ]
  },
  {
   "cell_type": "code",
   "execution_count": null,
   "id": "904c623b",
   "metadata": {},
   "outputs": [],
   "source": [
    "# offers.csv\n",
    "from ydata_profiling import ProfileReport\n",
    "\n",
    "profile_title_offers = 'offers.csv'\n",
    "\n",
    "profile_report = ProfileReport(\n",
    "    df_offers,\n",
    "    title=profile_title_offers,\n",
    "    infer_dtypes=False,\n",
    "    interactions=None,\n",
    "    missing_diagrams=None,\n",
    "    correlations={\n",
    "        \"auto\": {\"calculate\": False},\n",
    "        \"pearson\": {\"calculate\": False},\n",
    "        \"spearman\": {\"calculate\": False},\n",
    "    },\n",
    ")"
   ]
  },
  {
   "cell_type": "code",
   "execution_count": null,
   "id": "2f161c1d",
   "metadata": {},
   "outputs": [],
   "source": [
    "# offers.csv\n",
    "profile_report_file = data_dir_offers + 'profile-' + profile_title_offers + '.html'\n",
    "profile_report.to_file(Path(profile_report_file))\n",
    "profile_report_file"
   ]
  },
  {
   "cell_type": "markdown",
   "id": "9ac7c4c7",
   "metadata": {},
   "source": [
    "TESTHISTORY"
   ]
  },
  {
   "cell_type": "code",
   "execution_count": null,
   "id": "99cc4275",
   "metadata": {},
   "outputs": [],
   "source": [
    "# testHistory.csv\n",
    "profile_title_testHistory = 'testHistory.csv'\n",
    "\n",
    "profile_report = ProfileReport(\n",
    "    df_testHistory.toPandas(),\n",
    "    title=profile_title_testHistory,\n",
    "    infer_dtypes=False,\n",
    "    interactions=None,\n",
    "    missing_diagrams=None,\n",
    "    correlations={\n",
    "        \"auto\": {\"calculate\": False},\n",
    "        \"pearson\": {\"calculate\": False},\n",
    "        \"spearman\": {\"calculate\": False},\n",
    "    },\n",
    ")"
   ]
  },
  {
   "cell_type": "code",
   "execution_count": null,
   "id": "fbec241c",
   "metadata": {},
   "outputs": [],
   "source": [
    "# testHistory.csv\n",
    "profile_report_file = data_dir_testHistory + 'profile-' + profile_title_testHistory + '.html'\n",
    "profile_report.to_file(Path(profile_report_file))\n",
    "profile_report_file"
   ]
  },
  {
   "cell_type": "markdown",
   "id": "b97ccf63",
   "metadata": {},
   "source": [
    "TRAINHISTORY"
   ]
  },
  {
   "cell_type": "code",
   "execution_count": null,
   "id": "5a88ab14",
   "metadata": {},
   "outputs": [],
   "source": [
    "# trainHistory.csv\n",
    "profile_title_trainHistory = 'trainHistory.csv'\n",
    "\n",
    "profile_report = ProfileReport(\n",
    "    df_trainHistory.toPandas(),\n",
    "    title=profile_title_trainHistory,\n",
    "    infer_dtypes=False,\n",
    "    interactions=None,\n",
    "    missing_diagrams=None,\n",
    "    correlations={\n",
    "        \"auto\": {\"calculate\": False},\n",
    "        \"pearson\": {\"calculate\": False},\n",
    "        \"spearman\": {\"calculate\": False},\n",
    "    },\n",
    ")"
   ]
  },
  {
   "cell_type": "code",
   "execution_count": null,
   "id": "44be427d",
   "metadata": {},
   "outputs": [],
   "source": [
    "# trainHistory.csv\n",
    "profile_report_file = data_dir_trainHistory + 'profile-' + profile_title_trainHistory + '.html'\n",
    "profile_report.to_file(Path(profile_report_file))\n",
    "profile_report_file"
   ]
  },
  {
   "cell_type": "markdown",
   "id": "6da3d871",
   "metadata": {},
   "source": [
    "TRANSACTIONS"
   ]
  },
  {
   "cell_type": "code",
   "execution_count": null,
   "id": "74c832ce",
   "metadata": {},
   "outputs": [],
   "source": [
    "# transactions.csv\n",
    "from ydata_profiling import ProfileReport\n",
    "\n",
    "profile_title_transactions = 'transactions.csv'\n",
    "\n",
    "profile_report = ProfileReport(\n",
    "    df_transactions.toPandas(),\n",
    "    title=profile_title_transactions,\n",
    "    infer_dtypes=False,\n",
    "    interactions=None,\n",
    "    missing_diagrams=None,\n",
    "    correlations={\n",
    "        \"auto\": {\"calculate\": False},\n",
    "        \"pearson\": {\"calculate\": False},\n",
    "        \"spearman\": {\"calculate\": False},\n",
    "    },\n",
    ")"
   ]
  },
  {
   "cell_type": "code",
   "execution_count": null,
   "id": "111ebf1d",
   "metadata": {},
   "outputs": [],
   "source": [
    "# transactions.csv\n",
    "profile_report_file = data_dir_transactions + 'profile-' + profile_title_transactions + '.html'\n",
    "profile_report.to_file(Path(profile_report_file))\n",
    "profile_report_file"
   ]
  },
  {
   "cell_type": "code",
   "execution_count": null,
   "id": "5f772545",
   "metadata": {},
   "outputs": [
    {
     "ename": "FileNotFoundError",
     "evalue": "[Errno 2] No such file or directory: '/home/jovyan/code/data/acquire-valued-shoppers-challenge/transactions.csv'",
     "output_type": "error",
     "traceback": [
      "\u001b[0;31m---------------------------------------------------------------------------\u001b[0m",
      "\u001b[0;31mFileNotFoundError\u001b[0m                         Traceback (most recent call last)",
      "Cell \u001b[0;32mIn[31], line 15\u001b[0m\n\u001b[1;32m     12\u001b[0m file_handles \u001b[38;5;241m=\u001b[39m {}\n\u001b[1;32m     14\u001b[0m \u001b[38;5;28;01mtry\u001b[39;00m:\n\u001b[0;32m---> 15\u001b[0m     \u001b[38;5;28;01mwith\u001b[39;00m \u001b[38;5;28;43mopen\u001b[39;49m\u001b[43m(\u001b[49m\u001b[43minput_file\u001b[49m\u001b[43m,\u001b[49m\u001b[43m \u001b[49m\u001b[38;5;124;43m'\u001b[39;49m\u001b[38;5;124;43mr\u001b[39;49m\u001b[38;5;124;43m'\u001b[39;49m\u001b[43m,\u001b[49m\u001b[43m \u001b[49m\u001b[43mnewline\u001b[49m\u001b[38;5;241;43m=\u001b[39;49m\u001b[38;5;124;43m'\u001b[39;49m\u001b[38;5;124;43m'\u001b[39;49m\u001b[43m)\u001b[49m \u001b[38;5;28;01mas\u001b[39;00m infile:\n\u001b[1;32m     16\u001b[0m         reader \u001b[38;5;241m=\u001b[39m csv\u001b[38;5;241m.\u001b[39mreader(infile)\n\u001b[1;32m     17\u001b[0m         header \u001b[38;5;241m=\u001b[39m \u001b[38;5;28mnext\u001b[39m(reader)  \u001b[38;5;66;03m# Read header\u001b[39;00m\n",
      "File \u001b[0;32m/opt/conda/envs/vscode_pyspark/lib/python3.11/site-packages/IPython/core/interactiveshell.py:324\u001b[0m, in \u001b[0;36m_modified_open\u001b[0;34m(file, *args, **kwargs)\u001b[0m\n\u001b[1;32m    317\u001b[0m \u001b[38;5;28;01mif\u001b[39;00m file \u001b[38;5;129;01min\u001b[39;00m {\u001b[38;5;241m0\u001b[39m, \u001b[38;5;241m1\u001b[39m, \u001b[38;5;241m2\u001b[39m}:\n\u001b[1;32m    318\u001b[0m     \u001b[38;5;28;01mraise\u001b[39;00m \u001b[38;5;167;01mValueError\u001b[39;00m(\n\u001b[1;32m    319\u001b[0m         \u001b[38;5;124mf\u001b[39m\u001b[38;5;124m\"\u001b[39m\u001b[38;5;124mIPython won\u001b[39m\u001b[38;5;124m'\u001b[39m\u001b[38;5;124mt let you open fd=\u001b[39m\u001b[38;5;132;01m{\u001b[39;00mfile\u001b[38;5;132;01m}\u001b[39;00m\u001b[38;5;124m by default \u001b[39m\u001b[38;5;124m\"\u001b[39m\n\u001b[1;32m    320\u001b[0m         \u001b[38;5;124m\"\u001b[39m\u001b[38;5;124mas it is likely to crash IPython. If you know what you are doing, \u001b[39m\u001b[38;5;124m\"\u001b[39m\n\u001b[1;32m    321\u001b[0m         \u001b[38;5;124m\"\u001b[39m\u001b[38;5;124myou can use builtins\u001b[39m\u001b[38;5;124m'\u001b[39m\u001b[38;5;124m open.\u001b[39m\u001b[38;5;124m\"\u001b[39m\n\u001b[1;32m    322\u001b[0m     )\n\u001b[0;32m--> 324\u001b[0m \u001b[38;5;28;01mreturn\u001b[39;00m \u001b[43mio_open\u001b[49m\u001b[43m(\u001b[49m\u001b[43mfile\u001b[49m\u001b[43m,\u001b[49m\u001b[43m \u001b[49m\u001b[38;5;241;43m*\u001b[39;49m\u001b[43margs\u001b[49m\u001b[43m,\u001b[49m\u001b[43m \u001b[49m\u001b[38;5;241;43m*\u001b[39;49m\u001b[38;5;241;43m*\u001b[39;49m\u001b[43mkwargs\u001b[49m\u001b[43m)\u001b[49m\n",
      "\u001b[0;31mFileNotFoundError\u001b[0m: [Errno 2] No such file or directory: '/home/jovyan/code/data/acquire-valued-shoppers-challenge/transactions.csv'"
     ]
    }
   ],
   "source": [
    "import csv\n",
    "import os\n",
    "\n",
    "# Define input and output paths\n",
    "input_file = \"/data/acquire-valued-shoppers-challenge/transactions.csv\"\n",
    "output_dir = \"output_files\"\n",
    "\n",
    "# Create output directory if it doesn't exist\n",
    "os.makedirs(output_dir, exist_ok=True)\n",
    "\n",
    "# Dictionary to keep track of open files\n",
    "file_handles = {}\n",
    "\n",
    "try:\n",
    "    with open(input_file, 'r', newline='') as infile:\n",
    "        reader = csv.reader(infile)\n",
    "        header = next(reader)  # Read header\n",
    "        \n",
    "        # Process each row\n",
    "        for row in reader:\n",
    "            customer_id = row[0]  # Assume customer_id is the first column\n",
    "            output_file = os.path.join(output_dir, f\"{customer_id}.csv\")\n",
    "            \n",
    "            # Open file for this customer_id if not already open\n",
    "            if customer_id not in file_handles:\n",
    "                file_handles[customer_id] = open(output_file, 'w', newline='')\n",
    "                writer = csv.writer(file_handles[customer_id])\n",
    "                writer.writerow(header)  # Write header to new file\n",
    "            \n",
    "            # Write row to the corresponding file\n",
    "            file_handles[customer_id].write(','.join(row) + '\\n')\n",
    "\n",
    "finally:\n",
    "    # Close all open files\n",
    "    for file in file_handles.values():\n",
    "        file.close()"
   ]
  }
 ],
 "metadata": {
  "kernelspec": {
   "display_name": "vscode_pyspark",
   "language": "python",
   "name": "python3"
  },
  "language_info": {
   "codemirror_mode": {
    "name": "ipython",
    "version": 3
   },
   "file_extension": ".py",
   "mimetype": "text/x-python",
   "name": "python",
   "nbconvert_exporter": "python",
   "pygments_lexer": "ipython3",
   "version": "3.11.11"
  }
 },
 "nbformat": 4,
 "nbformat_minor": 5
}
