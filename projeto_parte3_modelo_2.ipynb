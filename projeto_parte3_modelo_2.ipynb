{
 "cells": [
  {
   "cell_type": "markdown",
   "id": "64398e33",
   "metadata": {},
   "source": [
    "# Modelo 1\n",
    "Este modelo foi treinado com o resultado do join do trainHistory com o customer_features.csv que consiste na aggregação numa tabela por cliente de métricas extraidas a partir de todos os registos de compra do cliente encontrados na tabela transactions.\n",
    "Este join foi feito usando o id e com apenas dados de ofertas feitas com o cliente a retornar.\n"
   ]
  },
  {
   "cell_type": "code",
   "execution_count": 43,
   "id": "27962b39",
   "metadata": {},
   "outputs": [],
   "source": [
    "\n",
    "# Basic imports\n",
    "\n",
    "import json\n",
    "from pathlib import Path\n",
    "import pyspark\n",
    "from pyspark.sql import SparkSession\n",
    "import pyspark.sql.functions as F\n",
    "from dotenv import load_dotenv\n",
    "load_dotenv('.env')\n",
    "import os\n",
    "import plotly.graph_objects as go\n",
    "\n",
    "from dotenv import load_dotenv\n",
    "import os\n",
    "import csv\n",
    "import os\n",
    "import datetime\n",
    "from pyspark.sql.types import StructType, StructField, StringType, IntegerType, DoubleType\n",
    "from pyspark.sql.functions import col, when, lit, to_date, datediff\n",
    "from pyspark.ml.feature import VectorAssembler\n",
    "from pyspark.ml.classification import LogisticRegression, RandomForestClassifier, GBTClassifier, LinearSVC, DecisionTreeClassifier\n",
    "from pyspark.ml.evaluation import BinaryClassificationEvaluator\n",
    "from pyspark.ml.tuning import CrossValidator, ParamGridBuilder\n",
    "from pyspark.ml.stat import Correlation\n",
    "from pyspark.ml.feature import VectorAssembler\n",
    "import plotly.express as px\n",
    "import plotly.express as px\n",
    "import pandas as pd\n"
   ]
  },
  {
   "cell_type": "code",
   "execution_count": 44,
   "id": "94af87e1",
   "metadata": {},
   "outputs": [],
   "source": [
    "# Build SparkSession\n",
    "spark = SparkSession.builder.appName(\"DataPreparation\").getOrCreate()\n",
    "base_path = os.getenv('BASE_PATH')"
   ]
  },
  {
   "cell_type": "code",
   "execution_count": 45,
   "id": "ba6d3b9d",
   "metadata": {},
   "outputs": [
    {
     "name": "stdout",
     "output_type": "stream",
     "text": [
      "Info for customer_features.csv:\n",
      "+---------+------------------+-----------+---------+--------------+-------------+-----------------+---------------+\n",
      "|       id|total_transactions|total_spent|avg_spent|first_purchase|last_purchase|unique_categories|unique_products|\n",
      "+---------+------------------+-----------+---------+--------------+-------------+-----------------+---------------+\n",
      "|100007447|              1096|    6644.88|     6.06|    2012-03-06|   2013-04-21|              235|            226|\n",
      "|100010021|               349|    1419.96|     4.07|    2012-03-12|   2013-05-12|              123|            109|\n",
      "|100012115|               118|     553.02|     4.69|    2012-03-12|   2013-04-17|               62|             54|\n",
      "|100017875|               348|     992.29|     2.85|    2012-03-04|   2013-03-16|              109|            113|\n",
      "|100022923|               617|    3771.86|     6.11|    2012-03-02|   2013-05-14|              202|            170|\n",
      "+---------+------------------+-----------+---------+--------------+-------------+-----------------+---------------+\n",
      "only showing top 5 rows\n",
      "\n",
      "root\n",
      " |-- id: long (nullable = true)\n",
      " |-- total_transactions: integer (nullable = true)\n",
      " |-- total_spent: double (nullable = true)\n",
      " |-- avg_spent: double (nullable = true)\n",
      " |-- first_purchase: date (nullable = true)\n",
      " |-- last_purchase: date (nullable = true)\n",
      " |-- unique_categories: integer (nullable = true)\n",
      " |-- unique_products: integer (nullable = true)\n",
      "\n"
     ]
    }
   ],
   "source": [
    "print(\"Info for customer_features.csv:\")\n",
    "df_customer_features = spark.read.csv(f\"{base_path}/improved/customer_features.csv\",\n",
    "                                      header=True, inferSchema=True)\n",
    "df_customer_features.show(5)\n",
    "df_customer_features.printSchema()\n"
   ]
  },
  {
   "cell_type": "code",
   "execution_count": 46,
   "id": "aa2b69b6",
   "metadata": {},
   "outputs": [],
   "source": [
    "# Set schema for trainHistory.csv\n",
    "schema_history = StructType([\n",
    "    StructField(\"id\", StringType(), True),\n",
    "    StructField(\"chain\", StringType(), True),\n",
    "    StructField(\"offer\", StringType(), True),\n",
    "    StructField(\"market\", StringType(), True),\n",
    "    StructField(\"repeattrips\", IntegerType(), True),\n",
    "    StructField(\"repeater\", StringType(), True),\n",
    "    StructField(\"offerdate\", StringType(), True)\n",
    "])\n",
    "\n",
    "df_train_history = spark.read.csv(f\"{base_path}/trainHistory.csv.gz\",\n",
    "                                   header=True, schema=schema_history)"
   ]
  },
  {
   "cell_type": "code",
   "execution_count": 47,
   "id": "76f7a3c5",
   "metadata": {},
   "outputs": [
    {
     "name": "stdout",
     "output_type": "stream",
     "text": [
      "root\n",
      " |-- id: string (nullable = true)\n",
      " |-- total_transactions: integer (nullable = true)\n",
      " |-- total_spent: double (nullable = true)\n",
      " |-- avg_spent: double (nullable = true)\n",
      " |-- unique_categories: integer (nullable = true)\n",
      " |-- unique_products: integer (nullable = true)\n",
      " |-- days_since_first_purchase: integer (nullable = true)\n",
      " |-- days_since_last_purchase: integer (nullable = true)\n",
      " |-- target: integer (nullable = false)\n",
      "\n",
      "+---------+------------------+-----------+---------+-----------------+---------------+-------------------------+------------------------+------+\n",
      "|       id|total_transactions|total_spent|avg_spent|unique_categories|unique_products|days_since_first_purchase|days_since_last_purchase|target|\n",
      "+---------+------------------+-----------+---------+-----------------+---------------+-------------------------+------------------------+------+\n",
      "|100007447|              1096|    6644.88|     6.06|              235|            226|                     4832|                    4421|     1|\n",
      "|100012115|               118|     553.02|     4.69|               62|             54|                     4826|                    4425|     1|\n",
      "|100017875|               348|     992.29|     2.85|              109|            113|                     4834|                    4457|     0|\n",
      "|100033247|              1596|    6834.73|     4.28|              265|            237|                     4834|                    4445|     0|\n",
      "|100043455|               937|    4260.72|     4.55|              191|            187|                     4824|                    4452|     0|\n",
      "+---------+------------------+-----------+---------+-----------------+---------------+-------------------------+------------------------+------+\n",
      "only showing top 5 rows\n",
      "\n"
     ]
    }
   ],
   "source": [
    "# Conversão do schema\n",
    "\n",
    "schema_features = StructType([\n",
    "    StructField(\"id\", StringType(), True),\n",
    "    StructField(\"total_transactions\", IntegerType(), True),\n",
    "    StructField(\"total_spent\", DoubleType(), True),\n",
    "    StructField(\"avg_spent\", DoubleType(), True),\n",
    "    StructField(\"first_purchase\", StringType(), True),\n",
    "    StructField(\"last_purchase\", StringType(), True),\n",
    "    StructField(\"unique_categories\", IntegerType(), True),\n",
    "    StructField(\"unique_products\", IntegerType(), True)\n",
    "])\n",
    "\n",
    "df_customer_features = spark.read.csv(f\"{base_path}/improved/customer_features.csv\",\n",
    "                                      header=True, schema=schema_features)\n",
    "\n",
    "reference_date = to_date(lit(\"2025-05-29\"))\n",
    "df_customer_features = df_customer_features.withColumn(\"days_since_first_purchase\",\n",
    "                                                       datediff(reference_date, to_date(col(\"first_purchase\")))) \\\n",
    "                                            .withColumn(\"days_since_last_purchase\",\n",
    "                                                       datediff(reference_date, to_date(col(\"last_purchase\"))))\n",
    "# Criação de data set para treino\n",
    "df_train_data = df_customer_features.join(\n",
    "    df_train_history.select(\"id\", \"repeater\"),\n",
    "    on=\"id\",\n",
    "    how='inner'\n",
    ").withColumn(\"target\", when(col(\"repeater\") == \"t\", 1).otherwise(0)) \\\n",
    "    .drop(\"repeater\", \"first_purchase\", \"last_purchase\")\n",
    "\n",
    "df_train_data_with_repeater = df_customer_features.join(\n",
    "    df_train_history.select(\"id\", \"repeater\"),\n",
    "    on=\"id\",\n",
    "    how='inner'\n",
    ").withColumn(\"repeater\", when(col(\"repeater\") == \"t\", 1).otherwise(0)) \\\n",
    "    .drop(\"first_purchase\", \"last_purchase\")\n",
    "    \n",
    "df_train_data.printSchema()\n",
    "df_train_data.show(5)"
   ]
  },
  {
   "cell_type": "code",
   "execution_count": 48,
   "id": "93c0679e",
   "metadata": {},
   "outputs": [
    {
     "name": "stdout",
     "output_type": "stream",
     "text": [
      "Computed correlations among ['total_transactions', 'total_spent', 'avg_spent', 'unique_categories', 'unique_products', 'days_since_first_purchase', 'days_since_last_purchase', 'repeater']:\n"
     ]
    },
    {
     "data": {
      "application/vnd.plotly.v1+json": {
       "config": {
        "plotlyServerURL": "https://plot.ly"
       },
       "data": [
        {
         "coloraxis": "coloraxis",
         "hovertemplate": "x: %{x}<br>y: %{y}<br>color: %{z}<extra></extra>",
         "name": "0",
         "texttemplate": "%{z:.2f}",
         "type": "heatmap",
         "x": [
          "total_transactions",
          "total_spent",
          "avg_spent",
          "unique_categories",
          "unique_products",
          "days_since_first_purchase",
          "days_since_last_purchase",
          "repeater"
         ],
         "xaxis": "x",
         "y": [
          "total_transactions",
          "total_spent",
          "avg_spent",
          "unique_categories",
          "unique_products",
          "days_since_first_purchase",
          "days_since_last_purchase",
          "repeater"
         ],
         "yaxis": "y",
         "z": {
          "bdata": "AAAAAAAA8D/Q2YtRX+LuPw8twyf44qc/yspOK2ILwT+VcuQcBhTYPykaqZ3iaJE/htdK6Vi+l7+7hAgJ6k6VP9DZi1Ff4u4/AAAAAAAA8D/tG0i6Rx+sP5N8tzNlo7I/faa6Op9H0T+XGfvfBut4P8PlhlXl8YC/LR96mtTijD8PLcMn+OKnP+0bSLpHH6w/AAAAAAAA8D+TLnrSkPK4v0OFFSyTZlA/x/WCNYpwp78RZfzxDrqlv1cPHdYPG5Y/yspOK2ILwT+TfLczZaOyP5MuetKQ8ri/AAAAAAAA8D/iRSS609XrP7Vlukj0xtA/lhW0jf/x1L+CZ0BaHqOTP5Vy5BwGFNg/faa6Op9H0T9DhRUsk2ZQP+JFJLrT1es/AAAAAAAA8D9DCq6TNpLKP+sQTYOngdK/iEYO4yPnmj8pGqmd4miRP5cZ+98G63g/x/WCNYpwp7+1ZbpI9MbQP0MKrpM2kso/AAAAAAAA8D+YGzWLYKelv9fsr1L6BZe/htdK6Vi+l7/D5YZV5fGAvxFl/PEOuqW/lhW0jf/x1L/rEE2Dp4HSv5gbNYtgp6W/AAAAAAAA8D+3kYFKXxm/v7uECAnqTpU/LR96mtTijD9XDx3WDxuWP4JnQFoeo5M/iEYO4yPnmj/X7K9S+gWXv7eRgUpfGb+/AAAAAAAA8D8=",
          "dtype": "f8",
          "shape": "8, 8"
         }
        }
       ],
       "layout": {
        "coloraxis": {
         "cmax": 1,
         "cmin": -1,
         "colorscale": [
          [
           0,
           "rgb(252, 222, 156)"
          ],
          [
           0.16666666666666666,
           "rgb(250, 164, 118)"
          ],
          [
           0.3333333333333333,
           "rgb(240, 116, 110)"
          ],
          [
           0.5,
           "rgb(227, 79, 111)"
          ],
          [
           0.6666666666666666,
           "rgb(220, 57, 119)"
          ],
          [
           0.8333333333333334,
           "rgb(185, 37, 122)"
          ],
          [
           1,
           "rgb(124, 29, 111)"
          ]
         ]
        },
        "height": 600,
        "template": {
         "data": {
          "bar": [
           {
            "error_x": {
             "color": "#2a3f5f"
            },
            "error_y": {
             "color": "#2a3f5f"
            },
            "marker": {
             "line": {
              "color": "#E5ECF6",
              "width": 0.5
             },
             "pattern": {
              "fillmode": "overlay",
              "size": 10,
              "solidity": 0.2
             }
            },
            "type": "bar"
           }
          ],
          "barpolar": [
           {
            "marker": {
             "line": {
              "color": "#E5ECF6",
              "width": 0.5
             },
             "pattern": {
              "fillmode": "overlay",
              "size": 10,
              "solidity": 0.2
             }
            },
            "type": "barpolar"
           }
          ],
          "carpet": [
           {
            "aaxis": {
             "endlinecolor": "#2a3f5f",
             "gridcolor": "white",
             "linecolor": "white",
             "minorgridcolor": "white",
             "startlinecolor": "#2a3f5f"
            },
            "baxis": {
             "endlinecolor": "#2a3f5f",
             "gridcolor": "white",
             "linecolor": "white",
             "minorgridcolor": "white",
             "startlinecolor": "#2a3f5f"
            },
            "type": "carpet"
           }
          ],
          "choropleth": [
           {
            "colorbar": {
             "outlinewidth": 0,
             "ticks": ""
            },
            "type": "choropleth"
           }
          ],
          "contour": [
           {
            "colorbar": {
             "outlinewidth": 0,
             "ticks": ""
            },
            "colorscale": [
             [
              0,
              "#0d0887"
             ],
             [
              0.1111111111111111,
              "#46039f"
             ],
             [
              0.2222222222222222,
              "#7201a8"
             ],
             [
              0.3333333333333333,
              "#9c179e"
             ],
             [
              0.4444444444444444,
              "#bd3786"
             ],
             [
              0.5555555555555556,
              "#d8576b"
             ],
             [
              0.6666666666666666,
              "#ed7953"
             ],
             [
              0.7777777777777778,
              "#fb9f3a"
             ],
             [
              0.8888888888888888,
              "#fdca26"
             ],
             [
              1,
              "#f0f921"
             ]
            ],
            "type": "contour"
           }
          ],
          "contourcarpet": [
           {
            "colorbar": {
             "outlinewidth": 0,
             "ticks": ""
            },
            "type": "contourcarpet"
           }
          ],
          "heatmap": [
           {
            "colorbar": {
             "outlinewidth": 0,
             "ticks": ""
            },
            "colorscale": [
             [
              0,
              "#0d0887"
             ],
             [
              0.1111111111111111,
              "#46039f"
             ],
             [
              0.2222222222222222,
              "#7201a8"
             ],
             [
              0.3333333333333333,
              "#9c179e"
             ],
             [
              0.4444444444444444,
              "#bd3786"
             ],
             [
              0.5555555555555556,
              "#d8576b"
             ],
             [
              0.6666666666666666,
              "#ed7953"
             ],
             [
              0.7777777777777778,
              "#fb9f3a"
             ],
             [
              0.8888888888888888,
              "#fdca26"
             ],
             [
              1,
              "#f0f921"
             ]
            ],
            "type": "heatmap"
           }
          ],
          "histogram": [
           {
            "marker": {
             "pattern": {
              "fillmode": "overlay",
              "size": 10,
              "solidity": 0.2
             }
            },
            "type": "histogram"
           }
          ],
          "histogram2d": [
           {
            "colorbar": {
             "outlinewidth": 0,
             "ticks": ""
            },
            "colorscale": [
             [
              0,
              "#0d0887"
             ],
             [
              0.1111111111111111,
              "#46039f"
             ],
             [
              0.2222222222222222,
              "#7201a8"
             ],
             [
              0.3333333333333333,
              "#9c179e"
             ],
             [
              0.4444444444444444,
              "#bd3786"
             ],
             [
              0.5555555555555556,
              "#d8576b"
             ],
             [
              0.6666666666666666,
              "#ed7953"
             ],
             [
              0.7777777777777778,
              "#fb9f3a"
             ],
             [
              0.8888888888888888,
              "#fdca26"
             ],
             [
              1,
              "#f0f921"
             ]
            ],
            "type": "histogram2d"
           }
          ],
          "histogram2dcontour": [
           {
            "colorbar": {
             "outlinewidth": 0,
             "ticks": ""
            },
            "colorscale": [
             [
              0,
              "#0d0887"
             ],
             [
              0.1111111111111111,
              "#46039f"
             ],
             [
              0.2222222222222222,
              "#7201a8"
             ],
             [
              0.3333333333333333,
              "#9c179e"
             ],
             [
              0.4444444444444444,
              "#bd3786"
             ],
             [
              0.5555555555555556,
              "#d8576b"
             ],
             [
              0.6666666666666666,
              "#ed7953"
             ],
             [
              0.7777777777777778,
              "#fb9f3a"
             ],
             [
              0.8888888888888888,
              "#fdca26"
             ],
             [
              1,
              "#f0f921"
             ]
            ],
            "type": "histogram2dcontour"
           }
          ],
          "mesh3d": [
           {
            "colorbar": {
             "outlinewidth": 0,
             "ticks": ""
            },
            "type": "mesh3d"
           }
          ],
          "parcoords": [
           {
            "line": {
             "colorbar": {
              "outlinewidth": 0,
              "ticks": ""
             }
            },
            "type": "parcoords"
           }
          ],
          "pie": [
           {
            "automargin": true,
            "type": "pie"
           }
          ],
          "scatter": [
           {
            "fillpattern": {
             "fillmode": "overlay",
             "size": 10,
             "solidity": 0.2
            },
            "type": "scatter"
           }
          ],
          "scatter3d": [
           {
            "line": {
             "colorbar": {
              "outlinewidth": 0,
              "ticks": ""
             }
            },
            "marker": {
             "colorbar": {
              "outlinewidth": 0,
              "ticks": ""
             }
            },
            "type": "scatter3d"
           }
          ],
          "scattercarpet": [
           {
            "marker": {
             "colorbar": {
              "outlinewidth": 0,
              "ticks": ""
             }
            },
            "type": "scattercarpet"
           }
          ],
          "scattergeo": [
           {
            "marker": {
             "colorbar": {
              "outlinewidth": 0,
              "ticks": ""
             }
            },
            "type": "scattergeo"
           }
          ],
          "scattergl": [
           {
            "marker": {
             "colorbar": {
              "outlinewidth": 0,
              "ticks": ""
             }
            },
            "type": "scattergl"
           }
          ],
          "scattermap": [
           {
            "marker": {
             "colorbar": {
              "outlinewidth": 0,
              "ticks": ""
             }
            },
            "type": "scattermap"
           }
          ],
          "scattermapbox": [
           {
            "marker": {
             "colorbar": {
              "outlinewidth": 0,
              "ticks": ""
             }
            },
            "type": "scattermapbox"
           }
          ],
          "scatterpolar": [
           {
            "marker": {
             "colorbar": {
              "outlinewidth": 0,
              "ticks": ""
             }
            },
            "type": "scatterpolar"
           }
          ],
          "scatterpolargl": [
           {
            "marker": {
             "colorbar": {
              "outlinewidth": 0,
              "ticks": ""
             }
            },
            "type": "scatterpolargl"
           }
          ],
          "scatterternary": [
           {
            "marker": {
             "colorbar": {
              "outlinewidth": 0,
              "ticks": ""
             }
            },
            "type": "scatterternary"
           }
          ],
          "surface": [
           {
            "colorbar": {
             "outlinewidth": 0,
             "ticks": ""
            },
            "colorscale": [
             [
              0,
              "#0d0887"
             ],
             [
              0.1111111111111111,
              "#46039f"
             ],
             [
              0.2222222222222222,
              "#7201a8"
             ],
             [
              0.3333333333333333,
              "#9c179e"
             ],
             [
              0.4444444444444444,
              "#bd3786"
             ],
             [
              0.5555555555555556,
              "#d8576b"
             ],
             [
              0.6666666666666666,
              "#ed7953"
             ],
             [
              0.7777777777777778,
              "#fb9f3a"
             ],
             [
              0.8888888888888888,
              "#fdca26"
             ],
             [
              1,
              "#f0f921"
             ]
            ],
            "type": "surface"
           }
          ],
          "table": [
           {
            "cells": {
             "fill": {
              "color": "#EBF0F8"
             },
             "line": {
              "color": "white"
             }
            },
            "header": {
             "fill": {
              "color": "#C8D4E3"
             },
             "line": {
              "color": "white"
             }
            },
            "type": "table"
           }
          ]
         },
         "layout": {
          "annotationdefaults": {
           "arrowcolor": "#2a3f5f",
           "arrowhead": 0,
           "arrowwidth": 1
          },
          "autotypenumbers": "strict",
          "coloraxis": {
           "colorbar": {
            "outlinewidth": 0,
            "ticks": ""
           }
          },
          "colorscale": {
           "diverging": [
            [
             0,
             "#8e0152"
            ],
            [
             0.1,
             "#c51b7d"
            ],
            [
             0.2,
             "#de77ae"
            ],
            [
             0.3,
             "#f1b6da"
            ],
            [
             0.4,
             "#fde0ef"
            ],
            [
             0.5,
             "#f7f7f7"
            ],
            [
             0.6,
             "#e6f5d0"
            ],
            [
             0.7,
             "#b8e186"
            ],
            [
             0.8,
             "#7fbc41"
            ],
            [
             0.9,
             "#4d9221"
            ],
            [
             1,
             "#276419"
            ]
           ],
           "sequential": [
            [
             0,
             "#0d0887"
            ],
            [
             0.1111111111111111,
             "#46039f"
            ],
            [
             0.2222222222222222,
             "#7201a8"
            ],
            [
             0.3333333333333333,
             "#9c179e"
            ],
            [
             0.4444444444444444,
             "#bd3786"
            ],
            [
             0.5555555555555556,
             "#d8576b"
            ],
            [
             0.6666666666666666,
             "#ed7953"
            ],
            [
             0.7777777777777778,
             "#fb9f3a"
            ],
            [
             0.8888888888888888,
             "#fdca26"
            ],
            [
             1,
             "#f0f921"
            ]
           ],
           "sequentialminus": [
            [
             0,
             "#0d0887"
            ],
            [
             0.1111111111111111,
             "#46039f"
            ],
            [
             0.2222222222222222,
             "#7201a8"
            ],
            [
             0.3333333333333333,
             "#9c179e"
            ],
            [
             0.4444444444444444,
             "#bd3786"
            ],
            [
             0.5555555555555556,
             "#d8576b"
            ],
            [
             0.6666666666666666,
             "#ed7953"
            ],
            [
             0.7777777777777778,
             "#fb9f3a"
            ],
            [
             0.8888888888888888,
             "#fdca26"
            ],
            [
             1,
             "#f0f921"
            ]
           ]
          },
          "colorway": [
           "#636efa",
           "#EF553B",
           "#00cc96",
           "#ab63fa",
           "#FFA15A",
           "#19d3f3",
           "#FF6692",
           "#B6E880",
           "#FF97FF",
           "#FECB52"
          ],
          "font": {
           "color": "#2a3f5f"
          },
          "geo": {
           "bgcolor": "white",
           "lakecolor": "white",
           "landcolor": "#E5ECF6",
           "showlakes": true,
           "showland": true,
           "subunitcolor": "white"
          },
          "hoverlabel": {
           "align": "left"
          },
          "hovermode": "closest",
          "mapbox": {
           "style": "light"
          },
          "paper_bgcolor": "white",
          "plot_bgcolor": "#E5ECF6",
          "polar": {
           "angularaxis": {
            "gridcolor": "white",
            "linecolor": "white",
            "ticks": ""
           },
           "bgcolor": "#E5ECF6",
           "radialaxis": {
            "gridcolor": "white",
            "linecolor": "white",
            "ticks": ""
           }
          },
          "scene": {
           "xaxis": {
            "backgroundcolor": "#E5ECF6",
            "gridcolor": "white",
            "gridwidth": 2,
            "linecolor": "white",
            "showbackground": true,
            "ticks": "",
            "zerolinecolor": "white"
           },
           "yaxis": {
            "backgroundcolor": "#E5ECF6",
            "gridcolor": "white",
            "gridwidth": 2,
            "linecolor": "white",
            "showbackground": true,
            "ticks": "",
            "zerolinecolor": "white"
           },
           "zaxis": {
            "backgroundcolor": "#E5ECF6",
            "gridcolor": "white",
            "gridwidth": 2,
            "linecolor": "white",
            "showbackground": true,
            "ticks": "",
            "zerolinecolor": "white"
           }
          },
          "shapedefaults": {
           "line": {
            "color": "#2a3f5f"
           }
          },
          "ternary": {
           "aaxis": {
            "gridcolor": "white",
            "linecolor": "white",
            "ticks": ""
           },
           "baxis": {
            "gridcolor": "white",
            "linecolor": "white",
            "ticks": ""
           },
           "bgcolor": "#E5ECF6",
           "caxis": {
            "gridcolor": "white",
            "linecolor": "white",
            "ticks": ""
           }
          },
          "title": {
           "x": 0.05
          },
          "xaxis": {
           "automargin": true,
           "gridcolor": "white",
           "linecolor": "white",
           "ticks": "",
           "title": {
            "standoff": 15
           },
           "zerolinecolor": "white",
           "zerolinewidth": 2
          },
          "yaxis": {
           "automargin": true,
           "gridcolor": "white",
           "linecolor": "white",
           "ticks": "",
           "title": {
            "standoff": 15
           },
           "zerolinecolor": "white",
           "zerolinewidth": 2
          }
         }
        },
        "title": {
         "text": "Correlations"
        },
        "width": 700,
        "xaxis": {
         "anchor": "y",
         "constrain": "domain",
         "domain": [
          0,
          1
         ],
         "scaleanchor": "y",
         "title": {
          "text": "Funcionalidades"
         }
        },
        "yaxis": {
         "anchor": "x",
         "autorange": "reversed",
         "constrain": "domain",
         "domain": [
          0,
          1
         ],
         "title": {
          "text": "Funcionalidades"
         }
        }
       }
      }
     },
     "metadata": {},
     "output_type": "display_data"
    }
   ],
   "source": [
    "cols_corr = [\"total_transactions\", \"total_spent\", \"avg_spent\",\n",
    "             \"unique_categories\", \"unique_products\", \"days_since_first_purchase\", \"days_since_last_purchase\", \"repeater\"]\n",
    "\n",
    "col_features = \"features\"\n",
    "\n",
    "assembler = VectorAssembler(inputCols=cols_corr, outputCol=col_features)\n",
    "df_features = assembler.transform(df_train_data_with_repeater).select(col_features)\n",
    "\n",
    "corr_matrix = Correlation.corr(df_features, col_features).collect()[0][0].toArray().tolist()\n",
    "\n",
    "print(f'Computed correlations among {cols_corr}:')\n",
    "fig = px.imshow(corr_matrix, title='Correlations',\n",
    "                x = cols_corr, y = cols_corr,\n",
    "                color_continuous_scale='Sunsetdark',  # Sunsetdark, RdBu_r\n",
    "                text_auto='.2f',\n",
    "                zmin=-1, zmax=1)\n",
    "fig.update_layout(\n",
    "    xaxis_title=\"Funcionalidades\",\n",
    "    yaxis_title=\"Funcionalidades\",\n",
    "    width=700,\n",
    "    height=600\n",
    ")\n",
    "fig.show()"
   ]
  },
  {
   "cell_type": "code",
   "execution_count": 49,
   "id": "57b2dcb2",
   "metadata": {},
   "outputs": [],
   "source": [
    "train, validation = df_train_data.randomSplit([0.8, 0.2], seed=42)"
   ]
  },
  {
   "cell_type": "markdown",
   "id": "23c36f9e",
   "metadata": {},
   "source": [
    "**Model Training and Evaluation**\n",
    "Para as features escolhemos usar todas as colunas exceto o id, days_since_first_purchase e o days_since_last_purchase por não se aplicar e não apresentarem correlações negativas respetivamente."
   ]
  },
  {
   "cell_type": "code",
   "execution_count": 50,
   "id": "f4b1f63c",
   "metadata": {},
   "outputs": [],
   "source": [
    "# Combinar features em um vetor\n",
    "\n",
    "feature_cols = [\n",
    "    \"total_transactions\",\n",
    "    \"total_spent\",\n",
    "    \"avg_spent\",\n",
    "    \"unique_categories\",\n",
    "    \"unique_products\"\n",
    "]\n",
    "\n",
    "assembler = VectorAssembler(inputCols=feature_cols, outputCol=\"features\")\n",
    "train_assembled = assembler.transform(train)\n",
    "validation_assembled = assembler.transform(validation)\n",
    "\n",
    "modelos = {\n",
    "    \"LogisticRegression\": LogisticRegression(labelCol=\"target\", featuresCol=\"features\"),\n",
    "    \"RandomForest\":  RandomForestClassifier(labelCol=\"target\", featuresCol=\"features\"),\n",
    "    \"GradientBoosting\": GBTClassifier(labelCol=\"target\", featuresCol=\"features\"),\n",
    "    \"LinearSVC\": LinearSVC(labelCol=\"target\", featuresCol=\"features\"),\n",
    "    \"DecisionTree\": DecisionTreeClassifier(labelCol=\"target\", featuresCol=\"features\")\n",
    "}\n",
    "evaluator = BinaryClassificationEvaluator(labelCol=\"target\", metricName=\"areaUnderROC\")\n",
    "results = {}\n",
    "detailed_results = {}\n",
    "\n",
    "def calculate_metrics(predictions):\n",
    "    \"\"\"Calculate detailed classification metrics from predictions\"\"\"\n",
    "    # Get confusion matrix components\n",
    "    confusion_matrix = predictions.groupBy('target', 'prediction').count()\n",
    "    \n",
    "    tp = confusion_matrix.filter((confusion_matrix.target == 1) & (confusion_matrix.prediction == 1)).select('count').first()\n",
    "    tn = confusion_matrix.filter((confusion_matrix.target == 0) & (confusion_matrix.prediction == 0)).select('count').first()\n",
    "    fp = confusion_matrix.filter((confusion_matrix.target == 0) & (confusion_matrix.prediction == 1)).select('count').first()\n",
    "    fn = confusion_matrix.filter((confusion_matrix.target == 1) & (confusion_matrix.prediction == 0)).select('count').first()\n",
    "    \n",
    "    # Handle None values (when category doesn't exist)\n",
    "    tp_val = tp['count'] if tp else 0\n",
    "    tn_val = tn['count'] if tn else 0\n",
    "    fp_val = fp['count'] if fp else 0\n",
    "    fn_val = fn['count'] if fn else 0\n",
    "    \n",
    "    # Calculate metrics\n",
    "    accuracy = (tp_val + tn_val) / (tp_val + tn_val + fp_val + fn_val) if (tp_val + tn_val + fp_val + fn_val) > 0 else 0\n",
    "    precision = tp_val / (tp_val + fp_val) if (tp_val + fp_val) > 0 else 0\n",
    "    recall = tp_val / (tp_val + fn_val) if (tp_val + fn_val) > 0 else 0\n",
    "    specificity = tn_val / (tn_val + fp_val) if (tn_val + fp_val) > 0 else 0\n",
    "    f1_score = 2 * (precision * recall) / (precision + recall) if (precision + recall) > 0 else 0\n",
    "    \n",
    "    return {\n",
    "        'accuracy': accuracy,\n",
    "        'precision': precision,\n",
    "        'recall': recall,\n",
    "        'specificity': specificity,\n",
    "        'f1_score': f1_score,\n",
    "        'confusion_matrix': {'TP': tp_val, 'TN': tn_val, 'FP': fp_val, 'FN': fn_val}\n",
    "    }"
   ]
  },
  {
   "cell_type": "code",
   "execution_count": 52,
   "id": "d80021c0",
   "metadata": {},
   "outputs": [
    {
     "name": "stdout",
     "output_type": "stream",
     "text": [
      "\n",
      "==================================================\n",
      "Training LogisticRegression...\n",
      "==================================================\n",
      "LogisticRegression AUC-ROC: 0.5184\n",
      "LogisticRegression Accuracy: 0.7278\n",
      "LogisticRegression Precision: 0.8750\n",
      "LogisticRegression Recall: 0.0008\n",
      "LogisticRegression Specificity: 1.0000\n",
      "LogisticRegression F1 Score: 0.0016\n",
      "\n",
      "==================================================\n",
      "Training RandomForest...\n",
      "==================================================\n",
      "RandomForest AUC-ROC: 0.5660\n",
      "RandomForest Accuracy: 0.7271\n",
      "RandomForest Precision: 0.4286\n",
      "RandomForest Recall: 0.0059\n",
      "RandomForest Specificity: 0.9971\n",
      "RandomForest F1 Score: 0.0116\n",
      "\n",
      "==================================================\n",
      "Training GradientBoosting...\n",
      "==================================================\n",
      "GradientBoosting AUC-ROC: 0.5649\n",
      "GradientBoosting Accuracy: 0.7272\n",
      "GradientBoosting Precision: 0.4434\n",
      "GradientBoosting Recall: 0.0054\n",
      "GradientBoosting Specificity: 0.9975\n",
      "GradientBoosting F1 Score: 0.0107\n",
      "\n",
      "==================================================\n",
      "Training LinearSVC...\n",
      "==================================================\n",
      "LinearSVC AUC-ROC: 0.5597\n",
      "LinearSVC Accuracy: 0.7276\n",
      "LinearSVC Precision: 0.0000\n",
      "LinearSVC Recall: 0.0000\n",
      "LinearSVC Specificity: 1.0000\n",
      "LinearSVC F1 Score: 0.0000\n",
      "\n",
      "==================================================\n",
      "Training DecisionTree...\n",
      "==================================================\n",
      "DecisionTree AUC-ROC: 0.4819\n",
      "DecisionTree Accuracy: 0.7238\n",
      "DecisionTree Precision: 0.3484\n",
      "DecisionTree Recall: 0.0160\n",
      "DecisionTree Specificity: 0.9888\n",
      "DecisionTree F1 Score: 0.0305\n",
      "Melhor modelo: RandomForest com AUC-ROC 0.5659662528697882\n"
     ]
    }
   ],
   "source": [
    "for nome, modelo in modelos.items():\n",
    "    print(f\"\\n{'='*50}\")\n",
    "    print(f\"Training {nome}...\")\n",
    "    print(f\"{'='*50}\")\n",
    "    \n",
    "    # Configurar validação cruzada\n",
    "    paramGrid = ParamGridBuilder().build()\n",
    "    if nome == \"RandomForest\":\n",
    "        paramGrid = ParamGridBuilder() \\\n",
    "            .addGrid(modelo.numTrees, [50]) \\\n",
    "            .addGrid(modelo.maxDepth, [10]) \\\n",
    "            .addGrid(modelo.seed, [42]) \\\n",
    "            .build()\n",
    "    elif nome == \"GradientBoosting\":\n",
    "        paramGrid = ParamGridBuilder() \\\n",
    "            .addGrid(modelo.maxIter, [50]) \\\n",
    "            .addGrid(modelo.maxDepth, [5]) \\\n",
    "            .addGrid(modelo.seed, [42]) \\\n",
    "            .build()\n",
    "    elif nome == \"LinearSVC\":\n",
    "        paramGrid = ParamGridBuilder() \\\n",
    "            .addGrid(modelo.maxIter, [100]) \\\n",
    "            .addGrid(modelo.regParam, [0.1]) \\\n",
    "            .build()\n",
    "    elif nome == \"DecisionTree\":\n",
    "        paramGrid = ParamGridBuilder() \\\n",
    "            .addGrid(modelo.maxDepth, [10]) \\\n",
    "            .addGrid(modelo.seed, [42]) \\\n",
    "            .build()\n",
    "    elif nome == \"LogisticRegression\":\n",
    "        paramGrid = ParamGridBuilder() \\\n",
    "            .addGrid(modelo.maxIter, [100]) \\\n",
    "            .addGrid(modelo.regParam, [0.1]) \\\n",
    "            .build()\n",
    "\n",
    "    crossval = CrossValidator(\n",
    "        estimator=modelo,\n",
    "        estimatorParamMaps=paramGrid,\n",
    "        evaluator=evaluator,\n",
    "        numFolds=3\n",
    "    )\n",
    "    \n",
    "    # Treinar modelo\n",
    "    cv_model = crossval.fit(train_assembled)\n",
    "    cv_model.save(f\"modelos_melhoria/{nome}\")\n",
    "\n",
    "    # Avaliar na validação\n",
    "    predictions = cv_model.transform(validation_assembled)\n",
    "    auc = evaluator.evaluate(predictions)\n",
    "    results[nome] = auc\n",
    "    \n",
    "    metrics = calculate_metrics(predictions)\n",
    "    detailed_results[nome] = {**metrics, 'auc_roc': auc}\n",
    "\n",
    "\n",
    "    print(f\"{nome} AUC-ROC: {auc:.4f}\")\n",
    "    print(f\"{nome} Accuracy: {metrics['accuracy']:.4f}\")\n",
    "    print(f\"{nome} Precision: {metrics['precision']:.4f}\")\n",
    "    print(f\"{nome} Recall: {metrics['recall']:.4f}\")\n",
    "    print(f\"{nome} Specificity: {metrics['specificity']:.4f}\")\n",
    "    print(f\"{nome} F1 Score: {metrics['f1_score']:.4f}\")\n",
    "\n",
    "melhor_modelo_nome = max(results, key=results.get)\n",
    "print(f\"Melhor modelo: {melhor_modelo_nome} com AUC-ROC {results[melhor_modelo_nome]}\")"
   ]
  },
  {
   "cell_type": "markdown",
   "id": "3ed00535",
   "metadata": {},
   "source": [
    "Adicionar comparação dos modelos num plot"
   ]
  },
  {
   "cell_type": "code",
   "execution_count": null,
   "id": "92e915cc",
   "metadata": {},
   "outputs": [
    {
     "data": {
      "application/vnd.plotly.v1+json": {
       "config": {
        "plotlyServerURL": "https://plot.ly"
       },
       "data": [
        {
         "hovertemplate": "Model Name=%{x}<br>AUC-ROC Score=%{y}<extra></extra>",
         "legendgroup": "RandomForest",
         "marker": {
          "color": "#636EFA",
          "pattern": {
           "shape": ""
          }
         },
         "name": "RandomForest",
         "orientation": "v",
         "showlegend": true,
         "textposition": "auto",
         "type": "bar",
         "x": [
          "RandomForest"
         ],
         "xaxis": "x",
         "y": {
          "bdata": "MzMzMzMz6z8=",
          "dtype": "f8"
         },
         "yaxis": "y"
        },
        {
         "hovertemplate": "Model Name=%{x}<br>AUC-ROC Score=%{y}<extra></extra>",
         "legendgroup": "LogisticRegression",
         "marker": {
          "color": "#EF553B",
          "pattern": {
           "shape": ""
          }
         },
         "name": "LogisticRegression",
         "orientation": "v",
         "showlegend": true,
         "textposition": "auto",
         "type": "bar",
         "x": [
          "LogisticRegression"
         ],
         "xaxis": "x",
         "y": {
          "bdata": "mpmZmZmZ6T8=",
          "dtype": "f8"
         },
         "yaxis": "y"
        },
        {
         "hovertemplate": "Model Name=%{x}<br>AUC-ROC Score=%{y}<extra></extra>",
         "legendgroup": "DecisionTree",
         "marker": {
          "color": "#00CC96",
          "pattern": {
           "shape": ""
          }
         },
         "name": "DecisionTree",
         "orientation": "v",
         "showlegend": true,
         "textposition": "auto",
         "type": "bar",
         "x": [
          "DecisionTree"
         ],
         "xaxis": "x",
         "y": {
          "bdata": "uB6F61G43j8=",
          "dtype": "f8"
         },
         "yaxis": "y"
        },
        {
         "hovertemplate": "Model Name=%{x}<br>AUC-ROC Score=%{y}<extra></extra>",
         "legendgroup": "GradientBoostedTrees",
         "marker": {
          "color": "#AB63FA",
          "pattern": {
           "shape": ""
          }
         },
         "name": "GradientBoostedTrees",
         "orientation": "v",
         "showlegend": true,
         "textposition": "auto",
         "type": "bar",
         "x": [
          "GradientBoostedTrees"
         ],
         "xaxis": "x",
         "y": {
          "bdata": "KVyPwvUo7D8=",
          "dtype": "f8"
         },
         "yaxis": "y"
        },
        {
         "hovertemplate": "Model Name=%{x}<br>AUC-ROC Score=%{y}<extra></extra>",
         "legendgroup": "LinearSVC",
         "marker": {
          "color": "#FFA15A",
          "pattern": {
           "shape": ""
          }
         },
         "name": "LinearSVC",
         "orientation": "v",
         "showlegend": true,
         "textposition": "auto",
         "type": "bar",
         "x": [
          "LinearSVC"
         ],
         "xaxis": "x",
         "y": {
          "bdata": "PQrXo3A96j8=",
          "dtype": "f8"
         },
         "yaxis": "y"
        }
       ],
       "layout": {
        "barmode": "relative",
        "legend": {
         "title": {
          "text": "Model Name"
         },
         "tracegroupgap": 0
        },
        "showlegend": false,
        "template": {
         "data": {
          "bar": [
           {
            "error_x": {
             "color": "#2a3f5f"
            },
            "error_y": {
             "color": "#2a3f5f"
            },
            "marker": {
             "line": {
              "color": "#E5ECF6",
              "width": 0.5
             },
             "pattern": {
              "fillmode": "overlay",
              "size": 10,
              "solidity": 0.2
             }
            },
            "type": "bar"
           }
          ],
          "barpolar": [
           {
            "marker": {
             "line": {
              "color": "#E5ECF6",
              "width": 0.5
             },
             "pattern": {
              "fillmode": "overlay",
              "size": 10,
              "solidity": 0.2
             }
            },
            "type": "barpolar"
           }
          ],
          "carpet": [
           {
            "aaxis": {
             "endlinecolor": "#2a3f5f",
             "gridcolor": "white",
             "linecolor": "white",
             "minorgridcolor": "white",
             "startlinecolor": "#2a3f5f"
            },
            "baxis": {
             "endlinecolor": "#2a3f5f",
             "gridcolor": "white",
             "linecolor": "white",
             "minorgridcolor": "white",
             "startlinecolor": "#2a3f5f"
            },
            "type": "carpet"
           }
          ],
          "choropleth": [
           {
            "colorbar": {
             "outlinewidth": 0,
             "ticks": ""
            },
            "type": "choropleth"
           }
          ],
          "contour": [
           {
            "colorbar": {
             "outlinewidth": 0,
             "ticks": ""
            },
            "colorscale": [
             [
              0,
              "#0d0887"
             ],
             [
              0.1111111111111111,
              "#46039f"
             ],
             [
              0.2222222222222222,
              "#7201a8"
             ],
             [
              0.3333333333333333,
              "#9c179e"
             ],
             [
              0.4444444444444444,
              "#bd3786"
             ],
             [
              0.5555555555555556,
              "#d8576b"
             ],
             [
              0.6666666666666666,
              "#ed7953"
             ],
             [
              0.7777777777777778,
              "#fb9f3a"
             ],
             [
              0.8888888888888888,
              "#fdca26"
             ],
             [
              1,
              "#f0f921"
             ]
            ],
            "type": "contour"
           }
          ],
          "contourcarpet": [
           {
            "colorbar": {
             "outlinewidth": 0,
             "ticks": ""
            },
            "type": "contourcarpet"
           }
          ],
          "heatmap": [
           {
            "colorbar": {
             "outlinewidth": 0,
             "ticks": ""
            },
            "colorscale": [
             [
              0,
              "#0d0887"
             ],
             [
              0.1111111111111111,
              "#46039f"
             ],
             [
              0.2222222222222222,
              "#7201a8"
             ],
             [
              0.3333333333333333,
              "#9c179e"
             ],
             [
              0.4444444444444444,
              "#bd3786"
             ],
             [
              0.5555555555555556,
              "#d8576b"
             ],
             [
              0.6666666666666666,
              "#ed7953"
             ],
             [
              0.7777777777777778,
              "#fb9f3a"
             ],
             [
              0.8888888888888888,
              "#fdca26"
             ],
             [
              1,
              "#f0f921"
             ]
            ],
            "type": "heatmap"
           }
          ],
          "histogram": [
           {
            "marker": {
             "pattern": {
              "fillmode": "overlay",
              "size": 10,
              "solidity": 0.2
             }
            },
            "type": "histogram"
           }
          ],
          "histogram2d": [
           {
            "colorbar": {
             "outlinewidth": 0,
             "ticks": ""
            },
            "colorscale": [
             [
              0,
              "#0d0887"
             ],
             [
              0.1111111111111111,
              "#46039f"
             ],
             [
              0.2222222222222222,
              "#7201a8"
             ],
             [
              0.3333333333333333,
              "#9c179e"
             ],
             [
              0.4444444444444444,
              "#bd3786"
             ],
             [
              0.5555555555555556,
              "#d8576b"
             ],
             [
              0.6666666666666666,
              "#ed7953"
             ],
             [
              0.7777777777777778,
              "#fb9f3a"
             ],
             [
              0.8888888888888888,
              "#fdca26"
             ],
             [
              1,
              "#f0f921"
             ]
            ],
            "type": "histogram2d"
           }
          ],
          "histogram2dcontour": [
           {
            "colorbar": {
             "outlinewidth": 0,
             "ticks": ""
            },
            "colorscale": [
             [
              0,
              "#0d0887"
             ],
             [
              0.1111111111111111,
              "#46039f"
             ],
             [
              0.2222222222222222,
              "#7201a8"
             ],
             [
              0.3333333333333333,
              "#9c179e"
             ],
             [
              0.4444444444444444,
              "#bd3786"
             ],
             [
              0.5555555555555556,
              "#d8576b"
             ],
             [
              0.6666666666666666,
              "#ed7953"
             ],
             [
              0.7777777777777778,
              "#fb9f3a"
             ],
             [
              0.8888888888888888,
              "#fdca26"
             ],
             [
              1,
              "#f0f921"
             ]
            ],
            "type": "histogram2dcontour"
           }
          ],
          "mesh3d": [
           {
            "colorbar": {
             "outlinewidth": 0,
             "ticks": ""
            },
            "type": "mesh3d"
           }
          ],
          "parcoords": [
           {
            "line": {
             "colorbar": {
              "outlinewidth": 0,
              "ticks": ""
             }
            },
            "type": "parcoords"
           }
          ],
          "pie": [
           {
            "automargin": true,
            "type": "pie"
           }
          ],
          "scatter": [
           {
            "fillpattern": {
             "fillmode": "overlay",
             "size": 10,
             "solidity": 0.2
            },
            "type": "scatter"
           }
          ],
          "scatter3d": [
           {
            "line": {
             "colorbar": {
              "outlinewidth": 0,
              "ticks": ""
             }
            },
            "marker": {
             "colorbar": {
              "outlinewidth": 0,
              "ticks": ""
             }
            },
            "type": "scatter3d"
           }
          ],
          "scattercarpet": [
           {
            "marker": {
             "colorbar": {
              "outlinewidth": 0,
              "ticks": ""
             }
            },
            "type": "scattercarpet"
           }
          ],
          "scattergeo": [
           {
            "marker": {
             "colorbar": {
              "outlinewidth": 0,
              "ticks": ""
             }
            },
            "type": "scattergeo"
           }
          ],
          "scattergl": [
           {
            "marker": {
             "colorbar": {
              "outlinewidth": 0,
              "ticks": ""
             }
            },
            "type": "scattergl"
           }
          ],
          "scattermap": [
           {
            "marker": {
             "colorbar": {
              "outlinewidth": 0,
              "ticks": ""
             }
            },
            "type": "scattermap"
           }
          ],
          "scattermapbox": [
           {
            "marker": {
             "colorbar": {
              "outlinewidth": 0,
              "ticks": ""
             }
            },
            "type": "scattermapbox"
           }
          ],
          "scatterpolar": [
           {
            "marker": {
             "colorbar": {
              "outlinewidth": 0,
              "ticks": ""
             }
            },
            "type": "scatterpolar"
           }
          ],
          "scatterpolargl": [
           {
            "marker": {
             "colorbar": {
              "outlinewidth": 0,
              "ticks": ""
             }
            },
            "type": "scatterpolargl"
           }
          ],
          "scatterternary": [
           {
            "marker": {
             "colorbar": {
              "outlinewidth": 0,
              "ticks": ""
             }
            },
            "type": "scatterternary"
           }
          ],
          "surface": [
           {
            "colorbar": {
             "outlinewidth": 0,
             "ticks": ""
            },
            "colorscale": [
             [
              0,
              "#0d0887"
             ],
             [
              0.1111111111111111,
              "#46039f"
             ],
             [
              0.2222222222222222,
              "#7201a8"
             ],
             [
              0.3333333333333333,
              "#9c179e"
             ],
             [
              0.4444444444444444,
              "#bd3786"
             ],
             [
              0.5555555555555556,
              "#d8576b"
             ],
             [
              0.6666666666666666,
              "#ed7953"
             ],
             [
              0.7777777777777778,
              "#fb9f3a"
             ],
             [
              0.8888888888888888,
              "#fdca26"
             ],
             [
              1,
              "#f0f921"
             ]
            ],
            "type": "surface"
           }
          ],
          "table": [
           {
            "cells": {
             "fill": {
              "color": "#EBF0F8"
             },
             "line": {
              "color": "white"
             }
            },
            "header": {
             "fill": {
              "color": "#C8D4E3"
             },
             "line": {
              "color": "white"
             }
            },
            "type": "table"
           }
          ]
         },
         "layout": {
          "annotationdefaults": {
           "arrowcolor": "#2a3f5f",
           "arrowhead": 0,
           "arrowwidth": 1
          },
          "autotypenumbers": "strict",
          "coloraxis": {
           "colorbar": {
            "outlinewidth": 0,
            "ticks": ""
           }
          },
          "colorscale": {
           "diverging": [
            [
             0,
             "#8e0152"
            ],
            [
             0.1,
             "#c51b7d"
            ],
            [
             0.2,
             "#de77ae"
            ],
            [
             0.3,
             "#f1b6da"
            ],
            [
             0.4,
             "#fde0ef"
            ],
            [
             0.5,
             "#f7f7f7"
            ],
            [
             0.6,
             "#e6f5d0"
            ],
            [
             0.7,
             "#b8e186"
            ],
            [
             0.8,
             "#7fbc41"
            ],
            [
             0.9,
             "#4d9221"
            ],
            [
             1,
             "#276419"
            ]
           ],
           "sequential": [
            [
             0,
             "#0d0887"
            ],
            [
             0.1111111111111111,
             "#46039f"
            ],
            [
             0.2222222222222222,
             "#7201a8"
            ],
            [
             0.3333333333333333,
             "#9c179e"
            ],
            [
             0.4444444444444444,
             "#bd3786"
            ],
            [
             0.5555555555555556,
             "#d8576b"
            ],
            [
             0.6666666666666666,
             "#ed7953"
            ],
            [
             0.7777777777777778,
             "#fb9f3a"
            ],
            [
             0.8888888888888888,
             "#fdca26"
            ],
            [
             1,
             "#f0f921"
            ]
           ],
           "sequentialminus": [
            [
             0,
             "#0d0887"
            ],
            [
             0.1111111111111111,
             "#46039f"
            ],
            [
             0.2222222222222222,
             "#7201a8"
            ],
            [
             0.3333333333333333,
             "#9c179e"
            ],
            [
             0.4444444444444444,
             "#bd3786"
            ],
            [
             0.5555555555555556,
             "#d8576b"
            ],
            [
             0.6666666666666666,
             "#ed7953"
            ],
            [
             0.7777777777777778,
             "#fb9f3a"
            ],
            [
             0.8888888888888888,
             "#fdca26"
            ],
            [
             1,
             "#f0f921"
            ]
           ]
          },
          "colorway": [
           "#636efa",
           "#EF553B",
           "#00cc96",
           "#ab63fa",
           "#FFA15A",
           "#19d3f3",
           "#FF6692",
           "#B6E880",
           "#FF97FF",
           "#FECB52"
          ],
          "font": {
           "color": "#2a3f5f"
          },
          "geo": {
           "bgcolor": "white",
           "lakecolor": "white",
           "landcolor": "#E5ECF6",
           "showlakes": true,
           "showland": true,
           "subunitcolor": "white"
          },
          "hoverlabel": {
           "align": "left"
          },
          "hovermode": "closest",
          "mapbox": {
           "style": "light"
          },
          "paper_bgcolor": "white",
          "plot_bgcolor": "#E5ECF6",
          "polar": {
           "angularaxis": {
            "gridcolor": "white",
            "linecolor": "white",
            "ticks": ""
           },
           "bgcolor": "#E5ECF6",
           "radialaxis": {
            "gridcolor": "white",
            "linecolor": "white",
            "ticks": ""
           }
          },
          "scene": {
           "xaxis": {
            "backgroundcolor": "#E5ECF6",
            "gridcolor": "white",
            "gridwidth": 2,
            "linecolor": "white",
            "showbackground": true,
            "ticks": "",
            "zerolinecolor": "white"
           },
           "yaxis": {
            "backgroundcolor": "#E5ECF6",
            "gridcolor": "white",
            "gridwidth": 2,
            "linecolor": "white",
            "showbackground": true,
            "ticks": "",
            "zerolinecolor": "white"
           },
           "zaxis": {
            "backgroundcolor": "#E5ECF6",
            "gridcolor": "white",
            "gridwidth": 2,
            "linecolor": "white",
            "showbackground": true,
            "ticks": "",
            "zerolinecolor": "white"
           }
          },
          "shapedefaults": {
           "line": {
            "color": "#2a3f5f"
           }
          },
          "ternary": {
           "aaxis": {
            "gridcolor": "white",
            "linecolor": "white",
            "ticks": ""
           },
           "baxis": {
            "gridcolor": "white",
            "linecolor": "white",
            "ticks": ""
           },
           "bgcolor": "#E5ECF6",
           "caxis": {
            "gridcolor": "white",
            "linecolor": "white",
            "ticks": ""
           }
          },
          "title": {
           "x": 0.05
          },
          "xaxis": {
           "automargin": true,
           "gridcolor": "white",
           "linecolor": "white",
           "ticks": "",
           "title": {
            "standoff": 15
           },
           "zerolinecolor": "white",
           "zerolinewidth": 2
          },
          "yaxis": {
           "automargin": true,
           "gridcolor": "white",
           "linecolor": "white",
           "ticks": "",
           "title": {
            "standoff": 15
           },
           "zerolinecolor": "white",
           "zerolinewidth": 2
          }
         }
        },
        "title": {
         "text": "Comparison of Model Performance (AUC-ROC)",
         "x": 0.5
        },
        "xaxis": {
         "anchor": "y",
         "categoryarray": [
          "RandomForest",
          "LogisticRegression",
          "DecisionTree",
          "GradientBoostedTrees",
          "LinearSVC"
         ],
         "categoryorder": "array",
         "domain": [
          0,
          1
         ],
         "title": {
          "text": "Model"
         }
        },
        "yaxis": {
         "anchor": "x",
         "domain": [
          0,
          1
         ],
         "range": [
          0,
          1
         ],
         "title": {
          "text": "AUC-ROC Score"
         }
        }
       }
      }
     },
     "metadata": {},
     "output_type": "display_data"
    }
   ],
   "source": [
    "# Extract model names and AUC-ROC scores from the results list\n",
    "# Replace these placeholder AUC-ROC values with actual values from your results\n",
    "results_data = [\n",
    "    (\"RandomForest\", 0.85, None),  # Example AUC-ROC value\n",
    "    (\"LogisticRegression\", 0.80, None),  # Example AUC-ROC value\n",
    "    (\"DecisionTree\", 0.48, None),  # Example AUC-ROC value\n",
    "    (\"GradientBoostedTrees\", 0.88, None),  # Example AUC-ROC value\n",
    "    (\"LinearSVC\", 0.82, None)  # Example AUC-ROC value (replace with your linear_svc_auc_roc)\n",
    "]\n",
    "\n",
    "# Create a DataFrame for Plotly\n",
    "data = {\n",
    "    \"Model\": [name for name, _, _ in results_data],\n",
    "    \"AUC-ROC\": [auc for _, auc, _ in results_data]\n",
    "}\n",
    "df = pd.DataFrame(data)\n",
    "\n",
    "# Create a bar chart using Plotly Express\n",
    "fig = px.bar(\n",
    "    df,\n",
    "    x=\"Model\",\n",
    "    y=\"AUC-ROC\",\n",
    "    title=\"Comparison of Model Performance (AUC-ROC)\",\n",
    "    labels={\"AUC-ROC\": \"AUC-ROC Score\", \"Model\": \"Model Name\"},\n",
    "    color=\"Model\",\n",
    "    color_discrete_sequence=px.colors.qualitative.Plotly\n",
    ")\n",
    "\n",
    "# Update layout for better readability\n",
    "fig.update_layout(\n",
    "    xaxis_title=\"Model\",\n",
    "    yaxis_title=\"AUC-ROC Score\",\n",
    "    yaxis_range=[0, 1],  # AUC-ROC scores are typically between 0 and 1\n",
    "    showlegend=False,\n",
    "    title_x=0.5\n",
    ")\n",
    "\n",
    "# Show the plot\n",
    "fig.show()"
   ]
  }
 ],
 "metadata": {
  "kernelspec": {
   "display_name": "vscode_pyspark",
   "language": "python",
   "name": "vscode_pyspark"
  },
  "language_info": {
   "codemirror_mode": {
    "name": "ipython",
    "version": 3
   },
   "file_extension": ".py",
   "mimetype": "text/x-python",
   "name": "python",
   "nbconvert_exporter": "python",
   "pygments_lexer": "ipython3",
   "version": "3.11.11"
  }
 },
 "nbformat": 4,
 "nbformat_minor": 5
}
